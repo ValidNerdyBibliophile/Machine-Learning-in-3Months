{
 "cells": [
  {
   "cell_type": "code",
   "execution_count": 1,
   "id": "detailed-delight",
   "metadata": {},
   "outputs": [],
   "source": [
    "import pandas as pd\n",
    "import numpy as np\n",
    "from sklearn.preprocessing import StandardScaler"
   ]
  },
  {
   "cell_type": "code",
   "execution_count": 2,
   "id": "forced-announcement",
   "metadata": {},
   "outputs": [
    {
     "data": {
      "text/plain": [
       "array([1. , 3. , 2.1, 3.3, 1. , 4.5, 6. ])"
      ]
     },
     "execution_count": 2,
     "metadata": {},
     "output_type": "execute_result"
    }
   ],
   "source": [
    "data = np.array([1,3,2.1,3.3,1,4.5,6])\n",
    "data"
   ]
  },
  {
   "cell_type": "code",
   "execution_count": 3,
   "id": "cellular-block",
   "metadata": {},
   "outputs": [],
   "source": [
    "mean = np.mean(data)"
   ]
  },
  {
   "cell_type": "code",
   "execution_count": 4,
   "id": "ongoing-prisoner",
   "metadata": {},
   "outputs": [],
   "source": [
    "std= np.std(data)"
   ]
  },
  {
   "cell_type": "code",
   "execution_count": 5,
   "id": "alpha-cleveland",
   "metadata": {},
   "outputs": [],
   "source": [
    "## data - mean/std"
   ]
  },
  {
   "cell_type": "code",
   "execution_count": 6,
   "id": "greater-franchise",
   "metadata": {},
   "outputs": [
    {
     "data": {
      "text/plain": [
       "array([-1.17042516,  0.00842032, -0.52206015,  0.18524715, -1.17042516,\n",
       "        0.89255444,  1.77668856])"
      ]
     },
     "execution_count": 6,
     "metadata": {},
     "output_type": "execute_result"
    }
   ],
   "source": [
    "scaled_data = (data - mean)/std\n",
    "scaled_data"
   ]
  },
  {
   "cell_type": "code",
   "execution_count": 7,
   "id": "fossil-blackjack",
   "metadata": {},
   "outputs": [
    {
     "data": {
      "text/plain": [
       "2.220446049250313e-16"
      ]
     },
     "execution_count": 7,
     "metadata": {},
     "output_type": "execute_result"
    }
   ],
   "source": [
    "np.mean(scaled_data)"
   ]
  },
  {
   "cell_type": "code",
   "execution_count": 8,
   "id": "preliminary-salvation",
   "metadata": {},
   "outputs": [
    {
     "data": {
      "text/plain": [
       "0.9999999999999999"
      ]
     },
     "execution_count": 8,
     "metadata": {},
     "output_type": "execute_result"
    }
   ],
   "source": [
    "np.std(scaled_data)"
   ]
  },
  {
   "cell_type": "markdown",
   "id": "oriented-discovery",
   "metadata": {},
   "source": [
    "### Standard Scaler"
   ]
  },
  {
   "cell_type": "code",
   "execution_count": 9,
   "id": "sublime-martin",
   "metadata": {},
   "outputs": [],
   "source": [
    "data = np.array([1,3,2.1,4.5,6.5])"
   ]
  },
  {
   "cell_type": "code",
   "execution_count": 10,
   "id": "compliant-temperature",
   "metadata": {},
   "outputs": [],
   "source": [
    "data = data.reshape(-1,1)\n",
    "s = StandardScaler()\n",
    "s.fit(data)\n",
    "sc_data = s.transform(data)"
   ]
  },
  {
   "cell_type": "code",
   "execution_count": 11,
   "id": "brutal-qualification",
   "metadata": {},
   "outputs": [
    {
     "data": {
      "text/plain": [
       "-1.7763568394002506e-16"
      ]
     },
     "execution_count": 11,
     "metadata": {},
     "output_type": "execute_result"
    }
   ],
   "source": [
    "np.mean(sc_data)"
   ]
  },
  {
   "cell_type": "code",
   "execution_count": 12,
   "id": "geographic-opera",
   "metadata": {},
   "outputs": [
    {
     "data": {
      "text/plain": [
       "1.0"
      ]
     },
     "execution_count": 12,
     "metadata": {},
     "output_type": "execute_result"
    }
   ],
   "source": [
    "np.std(sc_data)"
   ]
  },
  {
   "cell_type": "markdown",
   "id": "descending-powell",
   "metadata": {},
   "source": [
    "### MinMax Scaler"
   ]
  },
  {
   "cell_type": "code",
   "execution_count": 13,
   "id": "sticky-effectiveness",
   "metadata": {},
   "outputs": [
    {
     "data": {
      "text/plain": [
       "MinMaxScaler()"
      ]
     },
     "execution_count": 13,
     "metadata": {},
     "output_type": "execute_result"
    }
   ],
   "source": [
    "data = data.reshape(-1,1)   #column as 1 but rows can be n number\n",
    "from sklearn.preprocessing import MinMaxScaler\n",
    "m = MinMaxScaler()\n",
    "m.fit(data)"
   ]
  },
  {
   "cell_type": "code",
   "execution_count": 14,
   "id": "revolutionary-chrome",
   "metadata": {},
   "outputs": [],
   "source": [
    "mm_transformed_data = m.transform(data)"
   ]
  },
  {
   "cell_type": "code",
   "execution_count": 15,
   "id": "armed-charleston",
   "metadata": {},
   "outputs": [
    {
     "data": {
      "text/plain": [
       "0.44000000000000006"
      ]
     },
     "execution_count": 15,
     "metadata": {},
     "output_type": "execute_result"
    }
   ],
   "source": [
    "np.mean(mm_transformed_data)"
   ]
  },
  {
   "cell_type": "code",
   "execution_count": 16,
   "id": "detailed-grant",
   "metadata": {},
   "outputs": [
    {
     "data": {
      "text/plain": [
       "0.34905302824775153"
      ]
     },
     "execution_count": 16,
     "metadata": {},
     "output_type": "execute_result"
    }
   ],
   "source": [
    "np.std(mm_transformed_data)"
   ]
  },
  {
   "cell_type": "markdown",
   "id": "latter-tutorial",
   "metadata": {},
   "source": [
    "### Scaling of BodyFat dataset"
   ]
  },
  {
   "cell_type": "code",
   "execution_count": 17,
   "id": "minute-reduction",
   "metadata": {},
   "outputs": [],
   "source": [
    "data = pd.read_csv(\"bodyfat.csv\")"
   ]
  },
  {
   "cell_type": "code",
   "execution_count": 18,
   "id": "surgical-queen",
   "metadata": {},
   "outputs": [
    {
     "data": {
      "text/html": [
       "<div>\n",
       "<style scoped>\n",
       "    .dataframe tbody tr th:only-of-type {\n",
       "        vertical-align: middle;\n",
       "    }\n",
       "\n",
       "    .dataframe tbody tr th {\n",
       "        vertical-align: top;\n",
       "    }\n",
       "\n",
       "    .dataframe thead th {\n",
       "        text-align: right;\n",
       "    }\n",
       "</style>\n",
       "<table border=\"1\" class=\"dataframe\">\n",
       "  <thead>\n",
       "    <tr style=\"text-align: right;\">\n",
       "      <th></th>\n",
       "      <th>Density</th>\n",
       "      <th>bodyfat</th>\n",
       "      <th>Age</th>\n",
       "      <th>Weight</th>\n",
       "      <th>Height</th>\n",
       "      <th>Neck</th>\n",
       "      <th>Chest</th>\n",
       "      <th>Abdomen</th>\n",
       "      <th>Hip</th>\n",
       "      <th>Thigh</th>\n",
       "      <th>Knee</th>\n",
       "      <th>Ankle</th>\n",
       "      <th>Biceps</th>\n",
       "      <th>Forearm</th>\n",
       "      <th>Wrist</th>\n",
       "    </tr>\n",
       "  </thead>\n",
       "  <tbody>\n",
       "    <tr>\n",
       "      <th>0</th>\n",
       "      <td>1.0708</td>\n",
       "      <td>12.3</td>\n",
       "      <td>23</td>\n",
       "      <td>154.25</td>\n",
       "      <td>67.75</td>\n",
       "      <td>36.2</td>\n",
       "      <td>93.1</td>\n",
       "      <td>85.2</td>\n",
       "      <td>94.5</td>\n",
       "      <td>59.0</td>\n",
       "      <td>37.3</td>\n",
       "      <td>21.9</td>\n",
       "      <td>32.0</td>\n",
       "      <td>27.4</td>\n",
       "      <td>17.1</td>\n",
       "    </tr>\n",
       "    <tr>\n",
       "      <th>1</th>\n",
       "      <td>1.0853</td>\n",
       "      <td>6.1</td>\n",
       "      <td>22</td>\n",
       "      <td>173.25</td>\n",
       "      <td>72.25</td>\n",
       "      <td>38.5</td>\n",
       "      <td>93.6</td>\n",
       "      <td>83.0</td>\n",
       "      <td>98.7</td>\n",
       "      <td>58.7</td>\n",
       "      <td>37.3</td>\n",
       "      <td>23.4</td>\n",
       "      <td>30.5</td>\n",
       "      <td>28.9</td>\n",
       "      <td>18.2</td>\n",
       "    </tr>\n",
       "    <tr>\n",
       "      <th>2</th>\n",
       "      <td>1.0414</td>\n",
       "      <td>25.3</td>\n",
       "      <td>22</td>\n",
       "      <td>154.00</td>\n",
       "      <td>66.25</td>\n",
       "      <td>34.0</td>\n",
       "      <td>95.8</td>\n",
       "      <td>87.9</td>\n",
       "      <td>99.2</td>\n",
       "      <td>59.6</td>\n",
       "      <td>38.9</td>\n",
       "      <td>24.0</td>\n",
       "      <td>28.8</td>\n",
       "      <td>25.2</td>\n",
       "      <td>16.6</td>\n",
       "    </tr>\n",
       "    <tr>\n",
       "      <th>3</th>\n",
       "      <td>1.0751</td>\n",
       "      <td>10.4</td>\n",
       "      <td>26</td>\n",
       "      <td>184.75</td>\n",
       "      <td>72.25</td>\n",
       "      <td>37.4</td>\n",
       "      <td>101.8</td>\n",
       "      <td>86.4</td>\n",
       "      <td>101.2</td>\n",
       "      <td>60.1</td>\n",
       "      <td>37.3</td>\n",
       "      <td>22.8</td>\n",
       "      <td>32.4</td>\n",
       "      <td>29.4</td>\n",
       "      <td>18.2</td>\n",
       "    </tr>\n",
       "    <tr>\n",
       "      <th>4</th>\n",
       "      <td>1.0340</td>\n",
       "      <td>28.7</td>\n",
       "      <td>24</td>\n",
       "      <td>184.25</td>\n",
       "      <td>71.25</td>\n",
       "      <td>34.4</td>\n",
       "      <td>97.3</td>\n",
       "      <td>100.0</td>\n",
       "      <td>101.9</td>\n",
       "      <td>63.2</td>\n",
       "      <td>42.2</td>\n",
       "      <td>24.0</td>\n",
       "      <td>32.2</td>\n",
       "      <td>27.7</td>\n",
       "      <td>17.7</td>\n",
       "    </tr>\n",
       "  </tbody>\n",
       "</table>\n",
       "</div>"
      ],
      "text/plain": [
       "   Density  bodyfat  Age  Weight  Height  Neck  Chest  Abdomen    Hip  Thigh  \\\n",
       "0   1.0708     12.3   23  154.25   67.75  36.2   93.1     85.2   94.5   59.0   \n",
       "1   1.0853      6.1   22  173.25   72.25  38.5   93.6     83.0   98.7   58.7   \n",
       "2   1.0414     25.3   22  154.00   66.25  34.0   95.8     87.9   99.2   59.6   \n",
       "3   1.0751     10.4   26  184.75   72.25  37.4  101.8     86.4  101.2   60.1   \n",
       "4   1.0340     28.7   24  184.25   71.25  34.4   97.3    100.0  101.9   63.2   \n",
       "\n",
       "   Knee  Ankle  Biceps  Forearm  Wrist  \n",
       "0  37.3   21.9    32.0     27.4   17.1  \n",
       "1  37.3   23.4    30.5     28.9   18.2  \n",
       "2  38.9   24.0    28.8     25.2   16.6  \n",
       "3  37.3   22.8    32.4     29.4   18.2  \n",
       "4  42.2   24.0    32.2     27.7   17.7  "
      ]
     },
     "execution_count": 18,
     "metadata": {},
     "output_type": "execute_result"
    }
   ],
   "source": [
    "data.head()"
   ]
  },
  {
   "cell_type": "code",
   "execution_count": 27,
   "id": "static-agency",
   "metadata": {},
   "outputs": [],
   "source": [
    "s = StandardScaler()\n",
    "s.fit(data)\n",
    "sc_data = s.transform(data)"
   ]
  },
  {
   "cell_type": "code",
   "execution_count": 28,
   "id": "guided-chess",
   "metadata": {},
   "outputs": [
    {
     "data": {
      "text/plain": [
       "3.8769692923418165e-16"
      ]
     },
     "execution_count": 28,
     "metadata": {},
     "output_type": "execute_result"
    }
   ],
   "source": [
    "np.mean(sc_data)"
   ]
  },
  {
   "cell_type": "code",
   "execution_count": 29,
   "id": "exclusive-country",
   "metadata": {},
   "outputs": [
    {
     "data": {
      "text/plain": [
       "1.0"
      ]
     },
     "execution_count": 29,
     "metadata": {},
     "output_type": "execute_result"
    }
   ],
   "source": [
    "np.std(sc_data)"
   ]
  },
  {
   "cell_type": "code",
   "execution_count": 30,
   "id": "aggressive-quantity",
   "metadata": {},
   "outputs": [
    {
     "data": {
      "text/plain": [
       "MinMaxScaler()"
      ]
     },
     "execution_count": 30,
     "metadata": {},
     "output_type": "execute_result"
    }
   ],
   "source": [
    "m.fit(data)"
   ]
  },
  {
   "cell_type": "code",
   "execution_count": 32,
   "id": "generous-butterfly",
   "metadata": {},
   "outputs": [],
   "source": [
    "mm_data = m.fit_transform(data)"
   ]
  },
  {
   "cell_type": "code",
   "execution_count": 34,
   "id": "exposed-inflation",
   "metadata": {},
   "outputs": [
    {
     "data": {
      "text/plain": [
       "0.3961800913974409"
      ]
     },
     "execution_count": 34,
     "metadata": {},
     "output_type": "execute_result"
    }
   ],
   "source": [
    "np.mean(mm_data)"
   ]
  },
  {
   "cell_type": "code",
   "execution_count": 35,
   "id": "enormous-camera",
   "metadata": {},
   "outputs": [
    {
     "data": {
      "text/plain": [
       "0.20774142622659675"
      ]
     },
     "execution_count": 35,
     "metadata": {},
     "output_type": "execute_result"
    }
   ],
   "source": [
    "np.std(mm_data)"
   ]
  },
  {
   "cell_type": "code",
   "execution_count": null,
   "id": "distributed-fluid",
   "metadata": {},
   "outputs": [],
   "source": []
  }
 ],
 "metadata": {
  "kernelspec": {
   "display_name": "Python 3",
   "language": "python",
   "name": "python3"
  },
  "language_info": {
   "codemirror_mode": {
    "name": "ipython",
    "version": 3
   },
   "file_extension": ".py",
   "mimetype": "text/x-python",
   "name": "python",
   "nbconvert_exporter": "python",
   "pygments_lexer": "ipython3",
   "version": "3.8.8"
  }
 },
 "nbformat": 4,
 "nbformat_minor": 5
}
