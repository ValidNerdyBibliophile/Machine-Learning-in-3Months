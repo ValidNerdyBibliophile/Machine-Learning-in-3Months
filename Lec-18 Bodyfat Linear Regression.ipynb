{
 "cells": [
  {
   "cell_type": "code",
   "execution_count": 1,
   "id": "adolescent-sponsorship",
   "metadata": {},
   "outputs": [],
   "source": [
    "import pandas as pd\n",
    "import numpy as np\n",
    "import matplotlib.pyplot as plt\n",
    "from sklearn.linear_model import LinearRegression\n",
    "model=LinearRegression()"
   ]
  },
  {
   "cell_type": "code",
   "execution_count": 2,
   "id": "derived-termination",
   "metadata": {},
   "outputs": [],
   "source": [
    "data = pd.read_csv(\"Bodyfat.csv\")"
   ]
  },
  {
   "cell_type": "code",
   "execution_count": 3,
   "id": "nearby-maker",
   "metadata": {},
   "outputs": [
    {
     "data": {
      "text/html": [
       "<div>\n",
       "<style scoped>\n",
       "    .dataframe tbody tr th:only-of-type {\n",
       "        vertical-align: middle;\n",
       "    }\n",
       "\n",
       "    .dataframe tbody tr th {\n",
       "        vertical-align: top;\n",
       "    }\n",
       "\n",
       "    .dataframe thead th {\n",
       "        text-align: right;\n",
       "    }\n",
       "</style>\n",
       "<table border=\"1\" class=\"dataframe\">\n",
       "  <thead>\n",
       "    <tr style=\"text-align: right;\">\n",
       "      <th></th>\n",
       "      <th>Density</th>\n",
       "      <th>bodyfat</th>\n",
       "      <th>Age</th>\n",
       "      <th>Weight</th>\n",
       "      <th>Height</th>\n",
       "      <th>Neck</th>\n",
       "      <th>Chest</th>\n",
       "      <th>Abdomen</th>\n",
       "      <th>Hip</th>\n",
       "      <th>Thigh</th>\n",
       "      <th>Knee</th>\n",
       "      <th>Ankle</th>\n",
       "      <th>Biceps</th>\n",
       "      <th>Forearm</th>\n",
       "      <th>Wrist</th>\n",
       "    </tr>\n",
       "  </thead>\n",
       "  <tbody>\n",
       "    <tr>\n",
       "      <th>0</th>\n",
       "      <td>1.0708</td>\n",
       "      <td>12.3</td>\n",
       "      <td>23</td>\n",
       "      <td>154.25</td>\n",
       "      <td>67.75</td>\n",
       "      <td>36.2</td>\n",
       "      <td>93.1</td>\n",
       "      <td>85.2</td>\n",
       "      <td>94.5</td>\n",
       "      <td>59.0</td>\n",
       "      <td>37.3</td>\n",
       "      <td>21.9</td>\n",
       "      <td>32.0</td>\n",
       "      <td>27.4</td>\n",
       "      <td>17.1</td>\n",
       "    </tr>\n",
       "    <tr>\n",
       "      <th>1</th>\n",
       "      <td>1.0853</td>\n",
       "      <td>6.1</td>\n",
       "      <td>22</td>\n",
       "      <td>173.25</td>\n",
       "      <td>72.25</td>\n",
       "      <td>38.5</td>\n",
       "      <td>93.6</td>\n",
       "      <td>83.0</td>\n",
       "      <td>98.7</td>\n",
       "      <td>58.7</td>\n",
       "      <td>37.3</td>\n",
       "      <td>23.4</td>\n",
       "      <td>30.5</td>\n",
       "      <td>28.9</td>\n",
       "      <td>18.2</td>\n",
       "    </tr>\n",
       "    <tr>\n",
       "      <th>2</th>\n",
       "      <td>1.0414</td>\n",
       "      <td>25.3</td>\n",
       "      <td>22</td>\n",
       "      <td>154.00</td>\n",
       "      <td>66.25</td>\n",
       "      <td>34.0</td>\n",
       "      <td>95.8</td>\n",
       "      <td>87.9</td>\n",
       "      <td>99.2</td>\n",
       "      <td>59.6</td>\n",
       "      <td>38.9</td>\n",
       "      <td>24.0</td>\n",
       "      <td>28.8</td>\n",
       "      <td>25.2</td>\n",
       "      <td>16.6</td>\n",
       "    </tr>\n",
       "    <tr>\n",
       "      <th>3</th>\n",
       "      <td>1.0751</td>\n",
       "      <td>10.4</td>\n",
       "      <td>26</td>\n",
       "      <td>184.75</td>\n",
       "      <td>72.25</td>\n",
       "      <td>37.4</td>\n",
       "      <td>101.8</td>\n",
       "      <td>86.4</td>\n",
       "      <td>101.2</td>\n",
       "      <td>60.1</td>\n",
       "      <td>37.3</td>\n",
       "      <td>22.8</td>\n",
       "      <td>32.4</td>\n",
       "      <td>29.4</td>\n",
       "      <td>18.2</td>\n",
       "    </tr>\n",
       "    <tr>\n",
       "      <th>4</th>\n",
       "      <td>1.0340</td>\n",
       "      <td>28.7</td>\n",
       "      <td>24</td>\n",
       "      <td>184.25</td>\n",
       "      <td>71.25</td>\n",
       "      <td>34.4</td>\n",
       "      <td>97.3</td>\n",
       "      <td>100.0</td>\n",
       "      <td>101.9</td>\n",
       "      <td>63.2</td>\n",
       "      <td>42.2</td>\n",
       "      <td>24.0</td>\n",
       "      <td>32.2</td>\n",
       "      <td>27.7</td>\n",
       "      <td>17.7</td>\n",
       "    </tr>\n",
       "  </tbody>\n",
       "</table>\n",
       "</div>"
      ],
      "text/plain": [
       "   Density  bodyfat  Age  Weight  Height  Neck  Chest  Abdomen    Hip  Thigh  \\\n",
       "0   1.0708     12.3   23  154.25   67.75  36.2   93.1     85.2   94.5   59.0   \n",
       "1   1.0853      6.1   22  173.25   72.25  38.5   93.6     83.0   98.7   58.7   \n",
       "2   1.0414     25.3   22  154.00   66.25  34.0   95.8     87.9   99.2   59.6   \n",
       "3   1.0751     10.4   26  184.75   72.25  37.4  101.8     86.4  101.2   60.1   \n",
       "4   1.0340     28.7   24  184.25   71.25  34.4   97.3    100.0  101.9   63.2   \n",
       "\n",
       "   Knee  Ankle  Biceps  Forearm  Wrist  \n",
       "0  37.3   21.9    32.0     27.4   17.1  \n",
       "1  37.3   23.4    30.5     28.9   18.2  \n",
       "2  38.9   24.0    28.8     25.2   16.6  \n",
       "3  37.3   22.8    32.4     29.4   18.2  \n",
       "4  42.2   24.0    32.2     27.7   17.7  "
      ]
     },
     "execution_count": 3,
     "metadata": {},
     "output_type": "execute_result"
    }
   ],
   "source": [
    "data.head()"
   ]
  },
  {
   "cell_type": "code",
   "execution_count": 4,
   "id": "surprising-assessment",
   "metadata": {},
   "outputs": [],
   "source": [
    "x = data [[\"Density\"]]\n",
    "y = data[\"bodyfat\"]"
   ]
  },
  {
   "cell_type": "code",
   "execution_count": 5,
   "id": "regional-literature",
   "metadata": {},
   "outputs": [
    {
     "data": {
      "text/plain": [
       "LinearRegression()"
      ]
     },
     "execution_count": 5,
     "metadata": {},
     "output_type": "execute_result"
    }
   ],
   "source": [
    "model.fit(x,y)"
   ]
  },
  {
   "cell_type": "code",
   "execution_count": 6,
   "id": "acute-routine",
   "metadata": {},
   "outputs": [
    {
     "data": {
      "text/plain": [
       "array([12.53714495,  6.23892437, 25.30733012, 10.66939677, 28.52159442,\n",
       "       21.48496177, 19.44346958, 12.71088896,  4.19743218, 11.92904089,\n",
       "        7.23795246,  8.01980053, 21.00716573, 21.35465376, 22.26680984,\n",
       "       21.05060173, 28.82564645, 22.96178591, 16.27264129, 16.79387334,\n",
       "       19.35659757, 15.49079322, 15.88171725, 17.92320944, 14.27458511,\n",
       "        3.71963613,  8.06323653, 22.96178591,  3.76307214,  8.97539262,\n",
       "       12.18965691,  5.84800033, 12.0593489 , 21.48496177, 31.86616673,\n",
       "       38.90279938, 24.26486603, 28.26097839, 34.51576297, 32.08334675,\n",
       "       33.86422291, 32.43083478, 31.17119066, 31.6055507 ,  7.93292852,\n",
       "       14.1877131 , 11.06032081, 14.40489312, 13.84022507,  4.06712417,\n",
       "       10.45221675,  6.80359242,  8.23698055,  6.45610439,  3.93681615,\n",
       "       22.74460589, 20.52936968, 27.82661835, 31.12775466, 24.61235406,\n",
       "       26.08917819, 29.52062251, 30.34590659, 25.78512617, 31.82273072,\n",
       "       29.69436653, 21.61526978, 14.05740509,  6.49954039, 13.18868501,\n",
       "       24.22143002,  9.06226463,  8.71477659, 13.75335306, 12.0159129 ,\n",
       "       14.36145711,  8.97539262, 22.31024585, 21.65870579, 18.96567354,\n",
       "       30.99744665, 26.69728225, 18.61818551, 26.91446227, 26.87102627,\n",
       "       26.52353823, 15.14330519, 23.22240193,  8.54103258, 14.36145711,\n",
       "       20.7031137 , 18.40100549,  8.7582126 , 24.87297008,  9.19257264,\n",
       "        0.24475581,  9.8441127 , 11.58155286, 18.01008145, 22.26680984,\n",
       "       21.31121775, 20.52936968, 20.26875366, 22.44055386, 25.39420213,\n",
       "       18.18382547, 19.53034159, 18.5747495 , 17.53228541, 21.57183378,\n",
       "       19.92126563, 27.87005436, 22.17993783, 21.44152577, 26.61041024,\n",
       "       16.92418135, 20.31218966, 14.14427709, 25.74169016, 18.31413348,\n",
       "       27.73974635, 25.30733012, 14.96956117, 16.22920529, 14.01396908,\n",
       "       17.79290143, 27.08820629, 17.66259342, 20.92029372, 15.14330519,\n",
       "       18.31413348, 22.78804189, 23.65676197, 26.00230619, 24.39517404,\n",
       "       27.04477028, 21.96275781, 29.17313448, 22.39711785, 20.61624169,\n",
       "       24.95984209, 18.48787749, 23.35270994,  9.62693268, 10.53908876,\n",
       "       14.44832912, 19.40003358, 29.30344249,  5.37020429, 25.22045811,\n",
       "        9.58349667, 19.74752161, 10.36534475, 16.79387334, 21.13747374,\n",
       "       17.4888494 , 30.82370263, 10.23503673, 12.71088896, 22.57086187,\n",
       "        9.62693268, 14.92612517, 13.31899302, 15.3170492 , 27.2185143 ,\n",
       "       19.44346958, 21.91932181, 20.48593368, 35.47135506, 16.79387334,\n",
       "        3.06809607,  0.59224385, 20.65967769, 17.09792537, 25.30733012,\n",
       "       10.14816473, 13.36242902, 29.56405851, 22.57086187, 17.09792537,\n",
       "       26.48010223, -4.01197258, 11.79873288, 12.31996493, 17.79290143,\n",
       "        8.8016486 , 23.61332597, 20.52936968, 20.7031137 , 24.43861004,\n",
       "       11.66842487, 37.20879522, 16.18576928, 24.65579006, 22.8749139 ,\n",
       "       25.43763813, 22.09306583, 17.96664545,  6.76015641, 23.22240193,\n",
       "       12.49370894, 22.26680984, 28.52159442,  6.19548836, 34.21171094,\n",
       "       16.79387334, 32.43083478, 32.25709076,  9.80067669, 11.06032081,\n",
       "        7.28138846, 27.08820629, 19.70408561, 18.92223753, 19.70408561,\n",
       "       45.46163598, 13.84022507,  7.7157485 , 24.48204605, 15.23017719,\n",
       "       12.62401695, 25.95887018, 11.75529687,  5.32676828, 11.14719282,\n",
       "       12.75432497, 15.05643318, 25.13358611, 15.18674119, 17.18479737,\n",
       "       10.9300128 , 16.3595133 , 15.66453723, 26.61041024, 25.78512617,\n",
       "       18.83536553, 24.87297008, 27.13164229, 12.66745296, 29.56405851,\n",
       "       17.27166938, 34.29858295, 30.08529056, 32.17021875, 28.78221044,\n",
       "       15.44735721, 29.91154655, 11.32093683, 33.03893883, 29.04282647,\n",
       "       25.95887018, 31.51867869])"
      ]
     },
     "execution_count": 6,
     "metadata": {},
     "output_type": "execute_result"
    }
   ],
   "source": [
    "ypred = model.predict(x)\n",
    "ypred"
   ]
  },
  {
   "cell_type": "code",
   "execution_count": 7,
   "id": "pediatric-routine",
   "metadata": {},
   "outputs": [
    {
     "name": "stdout",
     "output_type": "stream",
     "text": [
      "Y intercept\n"
     ]
    },
    {
     "data": {
      "text/plain": [
       "477.64987579349366"
      ]
     },
     "execution_count": 7,
     "metadata": {},
     "output_type": "execute_result"
    }
   ],
   "source": [
    "print(\"Y intercept\")\n",
    "model.intercept_"
   ]
  },
  {
   "cell_type": "code",
   "execution_count": 8,
   "id": "annoying-bible",
   "metadata": {},
   "outputs": [
    {
     "name": "stdout",
     "output_type": "stream",
     "text": [
      "slope\n"
     ]
    },
    {
     "data": {
      "text/plain": [
       "array([-434.36004001])"
      ]
     },
     "execution_count": 8,
     "metadata": {},
     "output_type": "execute_result"
    }
   ],
   "source": [
    "print(\"slope\")\n",
    "model.coef_"
   ]
  },
  {
   "cell_type": "code",
   "execution_count": 9,
   "id": "beneficial-princeton",
   "metadata": {},
   "outputs": [
    {
     "data": {
      "text/plain": [
       "[<matplotlib.lines.Line2D at 0x27e03ba2b80>]"
      ]
     },
     "execution_count": 9,
     "metadata": {},
     "output_type": "execute_result"
    },
    {
     "data": {
      "image/png": "[encoded data removed]",
      "text/plain": [
       "<Figure size 432x288 with 1 Axes>"
      ]
     },
     "metadata": {
      "needs_background": "light"
     },
     "output_type": "display_data"
    }
   ],
   "source": [
    "plt.scatter(x,y)\n",
    "plt.plot(x,ypred,color = \"r\",marker = \"o\")"
   ]
  },
  {
   "cell_type": "code",
   "execution_count": 10,
   "id": "cooked-ballet",
   "metadata": {},
   "outputs": [],
   "source": [
    "from sklearn.model_selection import train_test_split\n",
    "xtrain,xtest,ytrain,ytest = train_test_split(x , y , test_size = 0.2)"
   ]
  },
  {
   "cell_type": "code",
   "execution_count": 11,
   "id": "colonial-renewal",
   "metadata": {},
   "outputs": [
    {
     "data": {
      "text/plain": [
       "LinearRegression()"
      ]
     },
     "execution_count": 11,
     "metadata": {},
     "output_type": "execute_result"
    }
   ],
   "source": [
    "from sklearn.linear_model import LinearRegression\n",
    "model = LinearRegression()\n",
    "model.fit(xtrain,ytrain)"
   ]
  },
  {
   "cell_type": "code",
   "execution_count": 12,
   "id": "freelance-affiliation",
   "metadata": {},
   "outputs": [],
   "source": [
    "ypred = model.predict(xtest)"
   ]
  },
  {
   "cell_type": "code",
   "execution_count": 13,
   "id": "assisted-baltimore",
   "metadata": {},
   "outputs": [
    {
     "data": {
      "text/html": [
       "<div>\n",
       "<style scoped>\n",
       "    .dataframe tbody tr th:only-of-type {\n",
       "        vertical-align: middle;\n",
       "    }\n",
       "\n",
       "    .dataframe tbody tr th {\n",
       "        vertical-align: top;\n",
       "    }\n",
       "\n",
       "    .dataframe thead th {\n",
       "        text-align: right;\n",
       "    }\n",
       "</style>\n",
       "<table border=\"1\" class=\"dataframe\">\n",
       "  <thead>\n",
       "    <tr style=\"text-align: right;\">\n",
       "      <th></th>\n",
       "      <th>Actual</th>\n",
       "      <th>Predicted</th>\n",
       "    </tr>\n",
       "  </thead>\n",
       "  <tbody>\n",
       "    <tr>\n",
       "      <th>143</th>\n",
       "      <td>9.4</td>\n",
       "      <td>9.705826</td>\n",
       "    </tr>\n",
       "    <tr>\n",
       "      <th>117</th>\n",
       "      <td>13.9</td>\n",
       "      <td>14.192833</td>\n",
       "    </tr>\n",
       "    <tr>\n",
       "      <th>73</th>\n",
       "      <td>13.5</td>\n",
       "      <td>13.804534</td>\n",
       "    </tr>\n",
       "    <tr>\n",
       "      <th>8</th>\n",
       "      <td>4.1</td>\n",
       "      <td>4.312788</td>\n",
       "    </tr>\n",
       "    <tr>\n",
       "      <th>45</th>\n",
       "      <td>13.9</td>\n",
       "      <td>14.235977</td>\n",
       "    </tr>\n",
       "    <tr>\n",
       "      <th>195</th>\n",
       "      <td>25.5</td>\n",
       "      <td>25.410351</td>\n",
       "    </tr>\n",
       "    <tr>\n",
       "      <th>72</th>\n",
       "      <td>8.5</td>\n",
       "      <td>8.799795</td>\n",
       "    </tr>\n",
       "    <tr>\n",
       "      <th>38</th>\n",
       "      <td>35.2</td>\n",
       "      <td>34.427510</td>\n",
       "    </tr>\n",
       "    <tr>\n",
       "      <th>16</th>\n",
       "      <td>29.0</td>\n",
       "      <td>28.775607</td>\n",
       "    </tr>\n",
       "    <tr>\n",
       "      <th>184</th>\n",
       "      <td>17.5</td>\n",
       "      <td>17.816954</td>\n",
       "    </tr>\n",
       "    <tr>\n",
       "      <th>186</th>\n",
       "      <td>23.6</td>\n",
       "      <td>23.598290</td>\n",
       "    </tr>\n",
       "    <tr>\n",
       "      <th>135</th>\n",
       "      <td>27.1</td>\n",
       "      <td>27.006690</td>\n",
       "    </tr>\n",
       "    <tr>\n",
       "      <th>229</th>\n",
       "      <td>17.0</td>\n",
       "      <td>17.212934</td>\n",
       "    </tr>\n",
       "    <tr>\n",
       "      <th>159</th>\n",
       "      <td>22.5</td>\n",
       "      <td>22.562827</td>\n",
       "    </tr>\n",
       "    <tr>\n",
       "      <th>11</th>\n",
       "      <td>7.8</td>\n",
       "      <td>8.109486</td>\n",
       "    </tr>\n",
       "    <tr>\n",
       "      <th>197</th>\n",
       "      <td>17.7</td>\n",
       "      <td>17.989531</td>\n",
       "    </tr>\n",
       "    <tr>\n",
       "      <th>70</th>\n",
       "      <td>24.3</td>\n",
       "      <td>24.202311</td>\n",
       "    </tr>\n",
       "    <tr>\n",
       "      <th>223</th>\n",
       "      <td>5.2</td>\n",
       "      <td>5.434540</td>\n",
       "    </tr>\n",
       "    <tr>\n",
       "      <th>65</th>\n",
       "      <td>30.0</td>\n",
       "      <td>29.638493</td>\n",
       "    </tr>\n",
       "    <tr>\n",
       "      <th>175</th>\n",
       "      <td>9.9</td>\n",
       "      <td>10.223557</td>\n",
       "    </tr>\n",
       "    <tr>\n",
       "      <th>155</th>\n",
       "      <td>17.3</td>\n",
       "      <td>17.514944</td>\n",
       "    </tr>\n",
       "    <tr>\n",
       "      <th>52</th>\n",
       "      <td>8.0</td>\n",
       "      <td>8.325208</td>\n",
       "    </tr>\n",
       "    <tr>\n",
       "      <th>226</th>\n",
       "      <td>14.8</td>\n",
       "      <td>15.098863</td>\n",
       "    </tr>\n",
       "    <tr>\n",
       "      <th>185</th>\n",
       "      <td>8.6</td>\n",
       "      <td>8.886084</td>\n",
       "    </tr>\n",
       "    <tr>\n",
       "      <th>157</th>\n",
       "      <td>10.0</td>\n",
       "      <td>10.309846</td>\n",
       "    </tr>\n",
       "    <tr>\n",
       "      <th>167</th>\n",
       "      <td>20.3</td>\n",
       "      <td>20.491901</td>\n",
       "    </tr>\n",
       "    <tr>\n",
       "      <th>60</th>\n",
       "      <td>26.1</td>\n",
       "      <td>26.057516</td>\n",
       "    </tr>\n",
       "    <tr>\n",
       "      <th>51</th>\n",
       "      <td>6.6</td>\n",
       "      <td>6.901446</td>\n",
       "    </tr>\n",
       "    <tr>\n",
       "      <th>242</th>\n",
       "      <td>30.4</td>\n",
       "      <td>30.026791</td>\n",
       "    </tr>\n",
       "    <tr>\n",
       "      <th>108</th>\n",
       "      <td>17.3</td>\n",
       "      <td>17.558088</td>\n",
       "    </tr>\n",
       "    <tr>\n",
       "      <th>232</th>\n",
       "      <td>15.4</td>\n",
       "      <td>15.702883</td>\n",
       "    </tr>\n",
       "    <tr>\n",
       "      <th>76</th>\n",
       "      <td>8.8</td>\n",
       "      <td>9.058661</td>\n",
       "    </tr>\n",
       "    <tr>\n",
       "      <th>205</th>\n",
       "      <td>16.6</td>\n",
       "      <td>16.824635</td>\n",
       "    </tr>\n",
       "    <tr>\n",
       "      <th>236</th>\n",
       "      <td>24.8</td>\n",
       "      <td>24.849475</td>\n",
       "    </tr>\n",
       "    <tr>\n",
       "      <th>68</th>\n",
       "      <td>6.3</td>\n",
       "      <td>6.599436</td>\n",
       "    </tr>\n",
       "    <tr>\n",
       "      <th>249</th>\n",
       "      <td>29.3</td>\n",
       "      <td>28.991328</td>\n",
       "    </tr>\n",
       "    <tr>\n",
       "      <th>239</th>\n",
       "      <td>29.9</td>\n",
       "      <td>29.509060</td>\n",
       "    </tr>\n",
       "    <tr>\n",
       "      <th>58</th>\n",
       "      <td>31.5</td>\n",
       "      <td>31.062254</td>\n",
       "    </tr>\n",
       "    <tr>\n",
       "      <th>106</th>\n",
       "      <td>19.3</td>\n",
       "      <td>19.542726</td>\n",
       "    </tr>\n",
       "    <tr>\n",
       "      <th>250</th>\n",
       "      <td>26.0</td>\n",
       "      <td>25.928083</td>\n",
       "    </tr>\n",
       "    <tr>\n",
       "      <th>165</th>\n",
       "      <td>19.2</td>\n",
       "      <td>19.456438</td>\n",
       "    </tr>\n",
       "    <tr>\n",
       "      <th>160</th>\n",
       "      <td>9.4</td>\n",
       "      <td>9.705826</td>\n",
       "    </tr>\n",
       "    <tr>\n",
       "      <th>133</th>\n",
       "      <td>26.1</td>\n",
       "      <td>25.971227</td>\n",
       "    </tr>\n",
       "    <tr>\n",
       "      <th>40</th>\n",
       "      <td>34.5</td>\n",
       "      <td>33.780345</td>\n",
       "    </tr>\n",
       "    <tr>\n",
       "      <th>50</th>\n",
       "      <td>10.2</td>\n",
       "      <td>10.525567</td>\n",
       "    </tr>\n",
       "    <tr>\n",
       "      <th>83</th>\n",
       "      <td>27.0</td>\n",
       "      <td>26.877257</td>\n",
       "    </tr>\n",
       "    <tr>\n",
       "      <th>192</th>\n",
       "      <td>15.9</td>\n",
       "      <td>16.220615</td>\n",
       "    </tr>\n",
       "    <tr>\n",
       "      <th>142</th>\n",
       "      <td>23.3</td>\n",
       "      <td>23.339425</td>\n",
       "    </tr>\n",
       "    <tr>\n",
       "      <th>71</th>\n",
       "      <td>8.8</td>\n",
       "      <td>9.144950</td>\n",
       "    </tr>\n",
       "    <tr>\n",
       "      <th>2</th>\n",
       "      <td>25.3</td>\n",
       "      <td>25.280918</td>\n",
       "    </tr>\n",
       "    <tr>\n",
       "      <th>248</th>\n",
       "      <td>33.6</td>\n",
       "      <td>32.960604</td>\n",
       "    </tr>\n",
       "  </tbody>\n",
       "</table>\n",
       "</div>"
      ],
      "text/plain": [
       "     Actual  Predicted\n",
       "143     9.4   9.705826\n",
       "117    13.9  14.192833\n",
       "73     13.5  13.804534\n",
       "8       4.1   4.312788\n",
       "45     13.9  14.235977\n",
       "195    25.5  25.410351\n",
       "72      8.5   8.799795\n",
       "38     35.2  34.427510\n",
       "16     29.0  28.775607\n",
       "184    17.5  17.816954\n",
       "186    23.6  23.598290\n",
       "135    27.1  27.006690\n",
       "229    17.0  17.212934\n",
       "159    22.5  22.562827\n",
       "11      7.8   8.109486\n",
       "197    17.7  17.989531\n",
       "70     24.3  24.202311\n",
       "223     5.2   5.434540\n",
       "65     30.0  29.638493\n",
       "175     9.9  10.223557\n",
       "155    17.3  17.514944\n",
       "52      8.0   8.325208\n",
       "226    14.8  15.098863\n",
       "185     8.6   8.886084\n",
       "157    10.0  10.309846\n",
       "167    20.3  20.491901\n",
       "60     26.1  26.057516\n",
       "51      6.6   6.901446\n",
       "242    30.4  30.026791\n",
       "108    17.3  17.558088\n",
       "232    15.4  15.702883\n",
       "76      8.8   9.058661\n",
       "205    16.6  16.824635\n",
       "236    24.8  24.849475\n",
       "68      6.3   6.599436\n",
       "249    29.3  28.991328\n",
       "239    29.9  29.509060\n",
       "58     31.5  31.062254\n",
       "106    19.3  19.542726\n",
       "250    26.0  25.928083\n",
       "165    19.2  19.456438\n",
       "160     9.4   9.705826\n",
       "133    26.1  25.971227\n",
       "40     34.5  33.780345\n",
       "50     10.2  10.525567\n",
       "83     27.0  26.877257\n",
       "192    15.9  16.220615\n",
       "142    23.3  23.339425\n",
       "71      8.8   9.144950\n",
       "2      25.3  25.280918\n",
       "248    33.6  32.960604"
      ]
     },
     "execution_count": 13,
     "metadata": {},
     "output_type": "execute_result"
    }
   ],
   "source": [
    "data1 = pd.DataFrame({\"Actual\":ytest,\"Predicted\":ypred})\n",
    "data1"
   ]
  },
  {
   "cell_type": "code",
   "execution_count": 14,
   "id": "undefined-cemetery",
   "metadata": {},
   "outputs": [
    {
     "name": "stdout",
     "output_type": "stream",
     "text": [
      "Value of R square:  0.9690819983848525\n",
      "Y Intercept 474.58566834579295\n",
      "Slope  [-431.4430096]\n"
     ]
    }
   ],
   "source": [
    "print(\"Value of R square: \", model.score(xtrain,ytrain))\n",
    "print(\"Y Intercept\", model.intercept_)\n",
    "print(\"Slope \", model.coef_)"
   ]
  },
  {
   "cell_type": "code",
   "execution_count": 15,
   "id": "animated-player",
   "metadata": {},
   "outputs": [
    {
     "data": {
      "text/plain": [
       "[<matplotlib.lines.Line2D at 0x27e03c9f8b0>]"
      ]
     },
     "execution_count": 15,
     "metadata": {},
     "output_type": "execute_result"
    },
    {
     "data": {
      "image/png": "[encoded data removed]",
      "text/plain": [
       "<Figure size 432x288 with 1 Axes>"
      ]
     },
     "metadata": {
      "needs_background": "light"
     },
     "output_type": "display_data"
    }
   ],
   "source": [
    "plt.scatter(xtrain,ytrain)\n",
    "plt.plot(xtest,ypred,color = \"r\",marker = \"o\")"
   ]
  },
  {
   "cell_type": "code",
   "execution_count": null,
   "id": "difficult-reply",
   "metadata": {},
   "outputs": [],
   "source": []
  }
 ],
 "metadata": {
  "kernelspec": {
   "display_name": "Python 3",
   "language": "python",
   "name": "python3"
  },
  "language_info": {
   "codemirror_mode": {
    "name": "ipython",
    "version": 3
   },
   "file_extension": ".py",
   "mimetype": "text/x-python",
   "name": "python",
   "nbconvert_exporter": "python",
   "pygments_lexer": "ipython3",
   "version": "3.8.8"
  }
 },
 "nbformat": 4,
 "nbformat_minor": 5
}
