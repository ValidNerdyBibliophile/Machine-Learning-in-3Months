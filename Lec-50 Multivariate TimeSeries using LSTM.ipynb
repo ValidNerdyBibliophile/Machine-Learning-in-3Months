{
 "cells": [
  {
   "cell_type": "code",
   "execution_count": 1,
   "id": "3dc50c4c",
   "metadata": {},
   "outputs": [],
   "source": [
    "import pandas as pd\n",
    "import numpy as np\n",
    "import matplotlib.pyplot as plt"
   ]
  },
  {
   "cell_type": "code",
   "execution_count": 2,
   "id": "072b6ecd",
   "metadata": {},
   "outputs": [],
   "source": [
    "col_1 = np.array([10,20,30,40,50,60,70,80,90])\n",
    "col_2 = np.array([15,25,35,45,55,65,75,85,95])"
   ]
  },
  {
   "cell_type": "code",
   "execution_count": 3,
   "id": "264f965e",
   "metadata": {},
   "outputs": [],
   "source": [
    "out = []\n",
    "for i in range(len(col_1)):\n",
    "    out.append(col_1[i]+col_2[i])\n",
    "out_col = np.array(out)"
   ]
  },
  {
   "cell_type": "code",
   "execution_count": 4,
   "id": "0fa596d2",
   "metadata": {},
   "outputs": [],
   "source": [
    "out_col = np.array([col_1[i]+col_2[i] for i in range(len(col_1))])"
   ]
  },
  {
   "cell_type": "code",
   "execution_count": 5,
   "id": "0198f169",
   "metadata": {},
   "outputs": [
    {
     "data": {
      "text/plain": [
       "array([ 25,  45,  65,  85, 105, 125, 145, 165, 185])"
      ]
     },
     "execution_count": 5,
     "metadata": {},
     "output_type": "execute_result"
    }
   ],
   "source": [
    "out_col"
   ]
  },
  {
   "cell_type": "code",
   "execution_count": 8,
   "id": "c466bb91",
   "metadata": {},
   "outputs": [],
   "source": [
    "#converting ek ek column mei\n",
    "col_1 = col_1.reshape(len(col_1),1)\n",
    "col_2 = col_2.reshape(len(col_2),1)\n",
    "out_col = out_col.reshape(len(out_col),1)"
   ]
  },
  {
   "cell_type": "code",
   "execution_count": 9,
   "id": "7fa608ec",
   "metadata": {},
   "outputs": [],
   "source": [
    "data = np.hstack((col_1,col_2,out_col))"
   ]
  },
  {
   "cell_type": "code",
   "execution_count": 10,
   "id": "3ba3bc13",
   "metadata": {},
   "outputs": [
    {
     "data": {
      "text/plain": [
       "array([[ 10,  15,  25],\n",
       "       [ 20,  25,  45],\n",
       "       [ 30,  35,  65],\n",
       "       [ 40,  45,  85],\n",
       "       [ 50,  55, 105],\n",
       "       [ 60,  65, 125],\n",
       "       [ 70,  75, 145],\n",
       "       [ 80,  85, 165],\n",
       "       [ 90,  95, 185]])"
      ]
     },
     "execution_count": 10,
     "metadata": {},
     "output_type": "execute_result"
    }
   ],
   "source": [
    "data"
   ]
  },
  {
   "cell_type": "code",
   "execution_count": 17,
   "id": "effba85e",
   "metadata": {},
   "outputs": [],
   "source": [
    "# coverting into features and target data\n",
    "def feature_transform(n_steps, data):\n",
    "    x = []\n",
    "    y = []\n",
    "    for i in range(n_steps,len(data)+1):\n",
    "        x.append(data[i-n_steps:i,:-1]) #last value chodh k sahbhi values lene hai \n",
    "        y.append(data[i-1,-1])\n",
    "    return np.array(x), np.array(y)"
   ]
  },
  {
   "cell_type": "code",
   "execution_count": 18,
   "id": "813e8266",
   "metadata": {},
   "outputs": [],
   "source": [
    "n_steps = 3\n",
    "x,y = feature_transform(n_steps,data)"
   ]
  },
  {
   "cell_type": "code",
   "execution_count": 20,
   "id": "c3eff9db",
   "metadata": {},
   "outputs": [
    {
     "data": {
      "text/plain": [
       "array([[[10, 15],\n",
       "        [20, 25],\n",
       "        [30, 35]],\n",
       "\n",
       "       [[20, 25],\n",
       "        [30, 35],\n",
       "        [40, 45]],\n",
       "\n",
       "       [[30, 35],\n",
       "        [40, 45],\n",
       "        [50, 55]],\n",
       "\n",
       "       [[40, 45],\n",
       "        [50, 55],\n",
       "        [60, 65]],\n",
       "\n",
       "       [[50, 55],\n",
       "        [60, 65],\n",
       "        [70, 75]],\n",
       "\n",
       "       [[60, 65],\n",
       "        [70, 75],\n",
       "        [80, 85]],\n",
       "\n",
       "       [[70, 75],\n",
       "        [80, 85],\n",
       "        [90, 95]]])"
      ]
     },
     "execution_count": 20,
     "metadata": {},
     "output_type": "execute_result"
    }
   ],
   "source": [
    "x"
   ]
  },
  {
   "cell_type": "code",
   "execution_count": 21,
   "id": "b9c9a72c",
   "metadata": {},
   "outputs": [
    {
     "data": {
      "text/plain": [
       "array([ 65,  85, 105, 125, 145, 165, 185])"
      ]
     },
     "execution_count": 21,
     "metadata": {},
     "output_type": "execute_result"
    }
   ],
   "source": [
    "y"
   ]
  },
  {
   "cell_type": "code",
   "execution_count": 22,
   "id": "bf29cc28",
   "metadata": {},
   "outputs": [],
   "source": [
    "from keras.layers import LSTM, Dense\n",
    "from keras.models import Sequential"
   ]
  },
  {
   "cell_type": "code",
   "execution_count": 23,
   "id": "4e123c07",
   "metadata": {},
   "outputs": [
    {
     "data": {
      "text/plain": [
       "(7, 3, 2)"
      ]
     },
     "execution_count": 23,
     "metadata": {},
     "output_type": "execute_result"
    }
   ],
   "source": [
    "x.shape"
   ]
  },
  {
   "cell_type": "code",
   "execution_count": 25,
   "id": "2dd9a7cd",
   "metadata": {},
   "outputs": [],
   "source": [
    "model = Sequential()\n",
    "model.add(LSTM(50, activation = \"relu\", input_shape = (n_steps,x.shape[2])))\n",
    "model.add(Dense(1))\n",
    "model.compile(optimizer = \"adam\",loss = \"mean_squared_error\")"
   ]
  },
  {
   "cell_type": "code",
   "execution_count": 26,
   "id": "d698d6e8",
   "metadata": {},
   "outputs": [
    {
     "name": "stdout",
     "output_type": "stream",
     "text": [
      "Epoch 1/100\n",
      "1/1 [==============================] - 2s 2s/step - loss: 18241.2676\n",
      "Epoch 2/100\n",
      "1/1 [==============================] - 0s 8ms/step - loss: 17681.8730\n",
      "Epoch 3/100\n",
      "1/1 [==============================] - 0s 7ms/step - loss: 17157.1465\n",
      "Epoch 4/100\n",
      "1/1 [==============================] - 0s 6ms/step - loss: 16674.2129\n",
      "Epoch 5/100\n",
      "1/1 [==============================] - 0s 7ms/step - loss: 16224.1357\n",
      "Epoch 6/100\n",
      "1/1 [==============================] - 0s 7ms/step - loss: 15789.3701\n",
      "Epoch 7/100\n",
      "1/1 [==============================] - 0s 7ms/step - loss: 15349.1396\n",
      "Epoch 8/100\n",
      "1/1 [==============================] - 0s 8ms/step - loss: 14883.2705\n",
      "Epoch 9/100\n",
      "1/1 [==============================] - 0s 8ms/step - loss: 14377.8594\n",
      "Epoch 10/100\n",
      "1/1 [==============================] - 0s 5ms/step - loss: 13841.1348\n",
      "Epoch 11/100\n",
      "1/1 [==============================] - 0s 8ms/step - loss: 13306.4844\n",
      "Epoch 12/100\n",
      "1/1 [==============================] - 0s 5ms/step - loss: 12799.1084\n",
      "Epoch 13/100\n",
      "1/1 [==============================] - 0s 7ms/step - loss: 12312.7422\n",
      "Epoch 14/100\n",
      "1/1 [==============================] - 0s 9ms/step - loss: 11833.2764\n",
      "Epoch 15/100\n",
      "1/1 [==============================] - 0s 6ms/step - loss: 11353.0840\n",
      "Epoch 16/100\n",
      "1/1 [==============================] - 0s 7ms/step - loss: 10873.8193\n",
      "Epoch 17/100\n",
      "1/1 [==============================] - 0s 6ms/step - loss: 10404.8926\n",
      "Epoch 18/100\n",
      "1/1 [==============================] - 0s 7ms/step - loss: 9957.8301\n",
      "Epoch 19/100\n",
      "1/1 [==============================] - 0s 6ms/step - loss: 9541.4189\n",
      "Epoch 20/100\n",
      "1/1 [==============================] - 0s 5ms/step - loss: 9157.7246\n",
      "Epoch 21/100\n",
      "1/1 [==============================] - 0s 7ms/step - loss: 8798.2432\n",
      "Epoch 22/100\n",
      "1/1 [==============================] - 0s 6ms/step - loss: 8456.1250\n",
      "Epoch 23/100\n",
      "1/1 [==============================] - 0s 7ms/step - loss: 8124.8828\n",
      "Epoch 24/100\n",
      "1/1 [==============================] - 0s 7ms/step - loss: 7798.4536\n",
      "Epoch 25/100\n",
      "1/1 [==============================] - 0s 5ms/step - loss: 7472.0166\n",
      "Epoch 26/100\n",
      "1/1 [==============================] - 0s 7ms/step - loss: 7142.5391\n",
      "Epoch 27/100\n",
      "1/1 [==============================] - 0s 5ms/step - loss: 6809.7026\n",
      "Epoch 28/100\n",
      "1/1 [==============================] - 0s 7ms/step - loss: 6474.4287\n",
      "Epoch 29/100\n",
      "1/1 [==============================] - 0s 8ms/step - loss: 6135.8647\n",
      "Epoch 30/100\n",
      "1/1 [==============================] - 0s 7ms/step - loss: 5789.7861\n",
      "Epoch 31/100\n",
      "1/1 [==============================] - 0s 7ms/step - loss: 5430.7666\n",
      "Epoch 32/100\n",
      "1/1 [==============================] - 0s 9ms/step - loss: 5056.5029\n",
      "Epoch 33/100\n",
      "1/1 [==============================] - 0s 7ms/step - loss: 4672.9038\n",
      "Epoch 34/100\n",
      "1/1 [==============================] - 0s 7ms/step - loss: 4292.6860\n",
      "Epoch 35/100\n",
      "1/1 [==============================] - 0s 7ms/step - loss: 3926.4604\n",
      "Epoch 36/100\n",
      "1/1 [==============================] - 0s 11ms/step - loss: 3577.7739\n",
      "Epoch 37/100\n",
      "1/1 [==============================] - 0s 7ms/step - loss: 3246.1306\n",
      "Epoch 38/100\n",
      "1/1 [==============================] - 0s 7ms/step - loss: 2929.9141\n",
      "Epoch 39/100\n",
      "1/1 [==============================] - 0s 6ms/step - loss: 2627.1570\n",
      "Epoch 40/100\n",
      "1/1 [==============================] - 0s 8ms/step - loss: 2336.2893\n",
      "Epoch 41/100\n",
      "1/1 [==============================] - 0s 5ms/step - loss: 2057.6526\n",
      "Epoch 42/100\n",
      "1/1 [==============================] - 0s 8ms/step - loss: 1793.7201\n",
      "Epoch 43/100\n",
      "1/1 [==============================] - 0s 6ms/step - loss: 1546.7040\n",
      "Epoch 44/100\n",
      "1/1 [==============================] - 0s 7ms/step - loss: 1316.8389\n",
      "Epoch 45/100\n",
      "1/1 [==============================] - 0s 7ms/step - loss: 1103.2401\n",
      "Epoch 46/100\n",
      "1/1 [==============================] - 0s 6ms/step - loss: 905.0835\n",
      "Epoch 47/100\n",
      "1/1 [==============================] - 0s 5ms/step - loss: 722.1148\n",
      "Epoch 48/100\n",
      "1/1 [==============================] - 0s 5ms/step - loss: 556.4333\n",
      "Epoch 49/100\n",
      "1/1 [==============================] - 0s 7ms/step - loss: 414.3516\n",
      "Epoch 50/100\n",
      "1/1 [==============================] - 0s 6ms/step - loss: 300.9181\n",
      "Epoch 51/100\n",
      "1/1 [==============================] - 0s 8ms/step - loss: 215.1924\n",
      "Epoch 52/100\n",
      "1/1 [==============================] - 0s 6ms/step - loss: 156.5542\n",
      "Epoch 53/100\n",
      "1/1 [==============================] - 0s 4ms/step - loss: 130.1293\n",
      "Epoch 54/100\n",
      "1/1 [==============================] - 0s 9ms/step - loss: 136.2721\n",
      "Epoch 55/100\n",
      "1/1 [==============================] - 0s 5ms/step - loss: 157.9491\n",
      "Epoch 56/100\n",
      "1/1 [==============================] - 0s 5ms/step - loss: 182.6403\n",
      "Epoch 57/100\n",
      "1/1 [==============================] - 0s 5ms/step - loss: 201.1095\n",
      "Epoch 58/100\n",
      "1/1 [==============================] - 0s 5ms/step - loss: 206.9240\n",
      "Epoch 59/100\n",
      "1/1 [==============================] - 0s 5ms/step - loss: 201.6477\n",
      "Epoch 60/100\n",
      "1/1 [==============================] - 0s 6ms/step - loss: 194.3186\n",
      "Epoch 61/100\n",
      "1/1 [==============================] - 0s 6ms/step - loss: 189.3481\n",
      "Epoch 62/100\n",
      "1/1 [==============================] - 0s 8ms/step - loss: 184.2103\n",
      "Epoch 63/100\n",
      "1/1 [==============================] - 0s 5ms/step - loss: 177.4275\n",
      "Epoch 64/100\n",
      "1/1 [==============================] - 0s 6ms/step - loss: 168.8847\n",
      "Epoch 65/100\n",
      "1/1 [==============================] - 0s 5ms/step - loss: 158.8793\n",
      "Epoch 66/100\n",
      "1/1 [==============================] - 0s 8ms/step - loss: 147.7408\n",
      "Epoch 67/100\n",
      "1/1 [==============================] - 0s 5ms/step - loss: 135.8972\n",
      "Epoch 68/100\n",
      "1/1 [==============================] - 0s 5ms/step - loss: 123.9862\n",
      "Epoch 69/100\n",
      "1/1 [==============================] - 0s 4ms/step - loss: 112.6139\n",
      "Epoch 70/100\n",
      "1/1 [==============================] - 0s 5ms/step - loss: 102.1763\n",
      "Epoch 71/100\n",
      "1/1 [==============================] - 0s 5ms/step - loss: 92.8348\n",
      "Epoch 72/100\n",
      "1/1 [==============================] - 0s 5ms/step - loss: 84.5827\n",
      "Epoch 73/100\n",
      "1/1 [==============================] - 0s 5ms/step - loss: 77.3161\n",
      "Epoch 74/100\n",
      "1/1 [==============================] - 0s 5ms/step - loss: 70.8714\n",
      "Epoch 75/100\n",
      "1/1 [==============================] - 0s 5ms/step - loss: 65.0426\n",
      "Epoch 76/100\n",
      "1/1 [==============================] - 0s 5ms/step - loss: 59.6199\n",
      "Epoch 77/100\n",
      "1/1 [==============================] - 0s 5ms/step - loss: 54.4367\n",
      "Epoch 78/100\n",
      "1/1 [==============================] - 0s 6ms/step - loss: 49.4548\n",
      "Epoch 79/100\n",
      "1/1 [==============================] - 0s 7ms/step - loss: 44.7630\n",
      "Epoch 80/100\n",
      "1/1 [==============================] - 0s 7ms/step - loss: 40.2715\n",
      "Epoch 81/100\n",
      "1/1 [==============================] - 0s 4ms/step - loss: 35.7638\n",
      "Epoch 82/100\n",
      "1/1 [==============================] - 0s 6ms/step - loss: 31.2353\n",
      "Epoch 83/100\n",
      "1/1 [==============================] - 0s 7ms/step - loss: 26.8523\n",
      "Epoch 84/100\n",
      "1/1 [==============================] - 0s 6ms/step - loss: 22.7779\n",
      "Epoch 85/100\n",
      "1/1 [==============================] - 0s 4ms/step - loss: 19.0532\n",
      "Epoch 86/100\n",
      "1/1 [==============================] - 0s 5ms/step - loss: 15.7002\n",
      "Epoch 87/100\n",
      "1/1 [==============================] - 0s 7ms/step - loss: 12.8086\n",
      "Epoch 88/100\n",
      "1/1 [==============================] - 0s 5ms/step - loss: 10.5021\n",
      "Epoch 89/100\n",
      "1/1 [==============================] - 0s 6ms/step - loss: 8.7192\n",
      "Epoch 90/100\n",
      "1/1 [==============================] - 0s 6ms/step - loss: 7.3030\n",
      "Epoch 91/100\n",
      "1/1 [==============================] - 0s 6ms/step - loss: 6.2019\n",
      "Epoch 92/100\n",
      "1/1 [==============================] - 0s 9ms/step - loss: 5.4317\n",
      "Epoch 93/100\n",
      "1/1 [==============================] - 0s 5ms/step - loss: 4.9588\n",
      "Epoch 94/100\n",
      "1/1 [==============================] - 0s 5ms/step - loss: 4.6643\n",
      "Epoch 95/100\n",
      "1/1 [==============================] - 0s 6ms/step - loss: 4.4436\n",
      "Epoch 96/100\n",
      "1/1 [==============================] - 0s 5ms/step - loss: 4.2587\n",
      "Epoch 97/100\n",
      "1/1 [==============================] - 0s 10ms/step - loss: 4.0855\n",
      "Epoch 98/100\n",
      "1/1 [==============================] - 0s 5ms/step - loss: 3.8739\n",
      "Epoch 99/100\n",
      "1/1 [==============================] - 0s 7ms/step - loss: 3.5897\n",
      "Epoch 100/100\n",
      "1/1 [==============================] - 0s 6ms/step - loss: 3.2571\n"
     ]
    }
   ],
   "source": [
    "#training\n",
    "history = model.fit(x,y,epochs = 100)"
   ]
  },
  {
   "cell_type": "code",
   "execution_count": 28,
   "id": "f257f66a",
   "metadata": {},
   "outputs": [
    {
     "data": {
      "text/plain": [
       "(3, 2)"
      ]
     },
     "execution_count": 28,
     "metadata": {},
     "output_type": "execute_result"
    }
   ],
   "source": [
    "#testing\n",
    "xtest = np.array([[80,85],[90,95],[100,105]])\n",
    "xtest.shape"
   ]
  },
  {
   "cell_type": "code",
   "execution_count": 30,
   "id": "53664b46",
   "metadata": {},
   "outputs": [
    {
     "data": {
      "text/plain": [
       "(1, 3, 2)"
      ]
     },
     "execution_count": 30,
     "metadata": {},
     "output_type": "execute_result"
    }
   ],
   "source": [
    "xtest = xtest.reshape(1,n_steps,2)\n",
    "xtest.shape"
   ]
  },
  {
   "cell_type": "code",
   "execution_count": 32,
   "id": "13ed5b9b",
   "metadata": {},
   "outputs": [
    {
     "data": {
      "text/plain": [
       "array([[208.30563]], dtype=float32)"
      ]
     },
     "execution_count": 32,
     "metadata": {},
     "output_type": "execute_result"
    }
   ],
   "source": [
    "ypred = model.predict(xtest)\n",
    "ypred"
   ]
  },
  {
   "cell_type": "code",
   "execution_count": null,
   "id": "7d734a8f",
   "metadata": {},
   "outputs": [],
   "source": []
  }
 ],
 "metadata": {
  "kernelspec": {
   "display_name": "Python 3",
   "language": "python",
   "name": "python3"
  },
  "language_info": {
   "codemirror_mode": {
    "name": "ipython",
    "version": 3
   },
   "file_extension": ".py",
   "mimetype": "text/x-python",
   "name": "python",
   "nbconvert_exporter": "python",
   "pygments_lexer": "ipython3",
   "version": "3.8.8"
  }
 },
 "nbformat": 4,
 "nbformat_minor": 5
}
