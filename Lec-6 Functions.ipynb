{
 "cells": [
  {
   "cell_type": "code",
   "execution_count": 1,
   "metadata": {},
   "outputs": [
    {
     "name": "stdout",
     "output_type": "stream",
     "text": [
      "Enter first number: 4\n",
      "Enter second number: 5\n",
      "1.Add\n",
      "2.Subtract\n",
      "3.Multiply\n",
      "4.Divide\n",
      "Enter Your Choice: 1\n",
      "4.0 + 5.0 = 9.0\n",
      "Enter Your Choice: 5\n",
      "Invalid Choice\n"
     ]
    }
   ],
   "source": [
    "def add(x, y):\n",
    "    return x + y\n",
    "\n",
    "def subtract(x, y):\n",
    "    return x - y\n",
    "\n",
    "def multiply(x, y):\n",
    "    return x * y\n",
    "\n",
    "def divide(x, y):\n",
    "    return x / y\n",
    "\n",
    "num1 = float(input(\"Enter first number: \"))\n",
    "num2 = float(input(\"Enter second number: \"))\n",
    "    \n",
    "print(\"1.Add\")\n",
    "print(\"2.Subtract\")\n",
    "print(\"3.Multiply\")\n",
    "print(\"4.Divide\")\n",
    "choice = 0\n",
    "while (choice < 5):\n",
    "    choice = int(input(\"Enter Your Choice: \"))\n",
    "    if(choice == 1):\n",
    "        print(num1, \"+\", num2, \"=\", add(num1, num2))\n",
    "    elif(choice == 2):\n",
    "        print(num1, \"-\", num2, \"=\", subtract(num1, num2))\n",
    "    elif(choice == 3):\n",
    "        print(num1, \"*\", num2, \"=\", multiply(num1, num2))\n",
    "    elif(choice == 4):\n",
    "        if(num2 == 0):\n",
    "            print(\"Cannot Divide a value by 0\")\n",
    "        else:\n",
    "            print(num1, \"/\", num2, \"=\", divide(num1, num2))\n",
    "    else:\n",
    "        print(\"Invalid Choice\")"
   ]
  },
  {
   "cell_type": "markdown",
   "metadata": {},
   "source": [
    "### Function with multiple arguments\n",
    "\n",
    "###### def myfun(*arg):\n",
    "       for i in arg:\n",
    "         print(i)*\n",
    "###### myfun(1,2,3,4,5,6.7,8,9,10)"
   ]
  },
  {
   "cell_type": "code",
   "execution_count": 2,
   "metadata": {},
   "outputs": [
    {
     "name": "stdout",
     "output_type": "stream",
     "text": [
      "1\n",
      "2\n",
      "3\n",
      "4\n",
      "5\n",
      "6\n",
      "7\n",
      "8\n",
      "9\n",
      "10\n"
     ]
    }
   ],
   "source": [
    "def myfun(*arg):\n",
    "       for i in arg:\n",
    "            print(i)\n",
    "myfun(1,2,3,4,5,6,7,8,9,10)"
   ]
  },
  {
   "cell_type": "markdown",
   "metadata": {},
   "source": [
    "### Function with keyword arguments\n",
    "\n",
    "#### def myfun(**kwargs):"
   ]
  },
  {
   "cell_type": "code",
   "execution_count": 4,
   "metadata": {},
   "outputs": [
    {
     "name": "stdout",
     "output_type": "stream",
     "text": [
      "Winnie\n"
     ]
    }
   ],
   "source": [
    "def myfunc(**kwargs):\n",
    "    print(kwargs[\"name\"])\n",
    "myfunc(name = \"Winnie\")\n"
   ]
  },
  {
   "cell_type": "code",
   "execution_count": 5,
   "metadata": {},
   "outputs": [
    {
     "name": "stdout",
     "output_type": "stream",
     "text": [
      "1\n",
      "Winnie\n",
      "97\n"
     ]
    }
   ],
   "source": [
    "def myfunc(**kwargs):\n",
    "    print(kwargs[\"id\"])\n",
    "    print(kwargs[\"name\"])\n",
    "    print(kwargs[\"marks\"])\n",
    "myfunc(id = 1, name = \"Winnie\", marks = 97)\n"
   ]
  },
  {
   "cell_type": "markdown",
   "metadata": {},
   "source": [
    "### Anonomous Function/Lambda Function\n",
    "\n",
    "###### lambda args : expression\n",
    "\n",
    "- Returns only 1 value\n",
    "- U can have n no of arguments but only 1 expression"
   ]
  },
  {
   "cell_type": "code",
   "execution_count": 6,
   "metadata": {},
   "outputs": [
    {
     "name": "stdout",
     "output_type": "stream",
     "text": [
      "11\n"
     ]
    }
   ],
   "source": [
    "x = lambda a,b : a+b\n",
    "print(x(6,5))"
   ]
  },
  {
   "cell_type": "code",
   "execution_count": 11,
   "metadata": {},
   "outputs": [
    {
     "name": "stdout",
     "output_type": "stream",
     "text": [
      "9801\n"
     ]
    }
   ],
   "source": [
    "y = lambda a : a*a\n",
    "print(y(99))"
   ]
  },
  {
   "cell_type": "markdown",
   "metadata": {},
   "source": [
    "#### Applications and Methods"
   ]
  },
  {
   "cell_type": "markdown",
   "metadata": {},
   "source": [
    "### filter\n",
    "\n",
    "##### *two parameters => (func,list)*\n",
    "\n",
    "Criteria matched = True, Function result True, Then only will give an output!\n",
    "\n",
    "- If True Then Only Will Go To The Output\n"
   ]
  },
  {
   "cell_type": "code",
   "execution_count": 13,
   "metadata": {},
   "outputs": [
    {
     "name": "stdout",
     "output_type": "stream",
     "text": [
      "[2, 6, 8, 4, 10, 12]\n"
     ]
    }
   ],
   "source": [
    "res = list(filter(lambda a : a%2 == 0, [1,2,5,6,8,4,10,12] ))\n",
    "print(res)"
   ]
  },
  {
   "cell_type": "markdown",
   "metadata": {},
   "source": [
    "### Filter () for normal functions"
   ]
  },
  {
   "cell_type": "code",
   "execution_count": 15,
   "metadata": {},
   "outputs": [
    {
     "name": "stdout",
     "output_type": "stream",
     "text": [
      "[24, 56, 78]\n"
     ]
    }
   ],
   "source": [
    "def check(a):\n",
    "    if a%2 == 0:\n",
    "        return True\n",
    "    else:\n",
    "        return False\n",
    "res = list(filter(check,[1,24,56,43,21,78,77,99,1,55,]))\n",
    "print(res)"
   ]
  },
  {
   "cell_type": "markdown",
   "metadata": {},
   "source": [
    "## Map()"
   ]
  },
  {
   "cell_type": "markdown",
   "metadata": {},
   "source": [
    "- takes 2 paramters\n",
    "- func, list"
   ]
  },
  {
   "cell_type": "code",
   "execution_count": 16,
   "metadata": {},
   "outputs": [
    {
     "name": "stdout",
     "output_type": "stream",
     "text": [
      "[1, 4, 9, 16, 25, 36, 49, 64, 81, 100]\n"
     ]
    }
   ],
   "source": [
    "res = list(map(lambda x:x*x ,[1,2,3,4,5,6,7,8,9,10]))\n",
    "print(res)"
   ]
  },
  {
   "cell_type": "code",
   "execution_count": 22,
   "metadata": {},
   "outputs": [
    {
     "name": "stdout",
     "output_type": "stream",
     "text": [
      "[1, 4, 9, 16, 25]\n"
     ]
    }
   ],
   "source": [
    "def sq(a):\n",
    "    return a*a\n",
    "res = list(map(sq,[1,2,3,4,5]))\n",
    "print(res)"
   ]
  },
  {
   "cell_type": "code",
   "execution_count": null,
   "metadata": {},
   "outputs": [],
   "source": []
  }
 ],
 "metadata": {
  "kernelspec": {
   "display_name": "Python 3",
   "language": "python",
   "name": "python3"
  },
  "language_info": {
   "codemirror_mode": {
    "name": "ipython",
    "version": 3
   },
   "file_extension": ".py",
   "mimetype": "text/x-python",
   "name": "python",
   "nbconvert_exporter": "python",
   "pygments_lexer": "ipython3",
   "version": "3.8.8"
  }
 },
 "nbformat": 4,
 "nbformat_minor": 4
}
