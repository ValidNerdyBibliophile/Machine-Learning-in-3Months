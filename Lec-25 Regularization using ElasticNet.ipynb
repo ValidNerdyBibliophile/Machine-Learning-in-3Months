{
 "cells": [
  {
   "cell_type": "markdown",
   "id": "guided-saver",
   "metadata": {},
   "source": [
    "Optimization -> overcome the problem of overfitting\n",
    "Ridge -> L2 Normalization alpha to reduce the coefficients."
   ]
  },
  {
   "cell_type": "markdown",
   "id": "vocal-manner",
   "metadata": {},
   "source": [
    "### best alpha, Elastic Net, ElasticNetCv"
   ]
  },
  {
   "cell_type": "code",
   "execution_count": 1,
   "id": "shared-handy",
   "metadata": {},
   "outputs": [],
   "source": [
    "from sklearn.linear_model import ElasticNet\n",
    "\n",
    "import pandas as pd\n",
    "import numpy as np\n",
    "import matplotlib.pyplot as plt\n",
    "from sklearn.datasets import load_boston\n",
    "from sklearn.metrics import mean_squared_error"
   ]
  },
  {
   "cell_type": "code",
   "execution_count": 2,
   "id": "horizontal-laser",
   "metadata": {},
   "outputs": [],
   "source": [
    "data = load_boston()"
   ]
  },
  {
   "cell_type": "code",
   "execution_count": 3,
   "id": "interracial-excitement",
   "metadata": {},
   "outputs": [],
   "source": [
    "x = data.data\n",
    "y = data.target"
   ]
  },
  {
   "cell_type": "code",
   "execution_count": 4,
   "id": "neither-complement",
   "metadata": {},
   "outputs": [],
   "source": [
    "#split the data\n",
    "\n",
    "from sklearn.model_selection import train_test_split"
   ]
  },
  {
   "cell_type": "code",
   "execution_count": 5,
   "id": "smaller-secretariat",
   "metadata": {},
   "outputs": [],
   "source": [
    "xtrain,xtest,ytrain,ytest = train_test_split(x,y ,test_size = 0.2)"
   ]
  },
  {
   "cell_type": "code",
   "execution_count": 6,
   "id": "cordless-graph",
   "metadata": {},
   "outputs": [
    {
     "data": {
      "text/plain": [
       "((404, 13), (404,))"
      ]
     },
     "execution_count": 6,
     "metadata": {},
     "output_type": "execute_result"
    }
   ],
   "source": [
    "xtrain.shape,ytrain.shape"
   ]
  },
  {
   "cell_type": "code",
   "execution_count": 7,
   "id": "enabling-trinity",
   "metadata": {},
   "outputs": [
    {
     "data": {
      "text/plain": [
       "((102, 13), (102,))"
      ]
     },
     "execution_count": 7,
     "metadata": {},
     "output_type": "execute_result"
    }
   ],
   "source": [
    "xtest.shape,ytest.shape"
   ]
  },
  {
   "cell_type": "code",
   "execution_count": 8,
   "id": "scheduled-saver",
   "metadata": {},
   "outputs": [],
   "source": [
    "#list of alphas\n",
    "\n",
    "alpha = [0.001, 0.0001, 0.1, 0.01, 0.3, 0.5, 0.7, 1]"
   ]
  },
  {
   "cell_type": "code",
   "execution_count": 9,
   "id": "missing-relaxation",
   "metadata": {},
   "outputs": [
    {
     "name": "stdout",
     "output_type": "stream",
     "text": [
      "For Alpha:  0.001 R Square is:  0.7403882874469548 MSE is:  21.916305546670102 RMSE is:  4.681485399600228\n",
      "For Alpha:  0.0001 R Square is:  0.7406393296766047 MSE is:  21.895112673066603 RMSE is:  4.6792213746591\n",
      "For Alpha:  0.1 R Square is:  0.7256797684938825 MSE is:  23.157992188403018 RMSE is:  4.812275157179088\n",
      "For Alpha:  0.01 R Square is:  0.7356440082946996 MSE is:  22.316815486984442 RMSE is:  4.724067684420328\n",
      "For Alpha:  0.3 R Square is:  0.7148037598752911 MSE is:  24.076140008735138 RMSE is:  4.9067443390434695\n",
      "For Alpha:  0.5 R Square is:  0.7056176997612844 MSE is:  24.85162312638344 RMSE is:  4.985140231365959\n",
      "For Alpha:  0.7 R Square is:  0.697335342418664 MSE is:  25.55081605717421 RMSE is:  5.054781504395042\n",
      "For Alpha:  1 R Square is:  0.6861018474345026 MSE is:  26.499142717819627 RMSE is:  5.147731803213881\n"
     ]
    }
   ],
   "source": [
    "for i in alpha:\n",
    "    model = ElasticNet(alpha = i).fit(x,y)\n",
    "    rscore = model.score(x,y)\n",
    "    ypred = model.predict(x)\n",
    "    mse = mean_squared_error(y,ypred)\n",
    "    print(\"For Alpha: \",i,\"R Square is: \",rscore,\"MSE is: \",mse,\"RMSE is: \",np.sqrt(mse))"
   ]
  },
  {
   "cell_type": "markdown",
   "id": "quarterly-aggregate",
   "metadata": {},
   "source": [
    "#####  0.001 is the choen alpha in order to avoid overfitting"
   ]
  },
  {
   "cell_type": "code",
   "execution_count": 10,
   "id": "arabic-costa",
   "metadata": {},
   "outputs": [],
   "source": [
    "model_tr = ElasticNet(alpha =  0.001).fit(xtrain,ytrain)"
   ]
  },
  {
   "cell_type": "code",
   "execution_count": 11,
   "id": "optimum-earthquake",
   "metadata": {},
   "outputs": [],
   "source": [
    "ypred = model_tr.predict(xtest)"
   ]
  },
  {
   "cell_type": "code",
   "execution_count": 12,
   "id": "fuzzy-yield",
   "metadata": {},
   "outputs": [
    {
     "data": {
      "text/plain": [
       "0.7920410109442257"
      ]
     },
     "execution_count": 12,
     "metadata": {},
     "output_type": "execute_result"
    }
   ],
   "source": [
    "model_tr.score(xtest,ytest) #rscore"
   ]
  },
  {
   "cell_type": "code",
   "execution_count": 13,
   "id": "mobile-disclosure",
   "metadata": {},
   "outputs": [
    {
     "data": {
      "text/plain": [
       "15.7660897420605"
      ]
     },
     "execution_count": 13,
     "metadata": {},
     "output_type": "execute_result"
    }
   ],
   "source": [
    "mean_squared_error(ytest,ypred)"
   ]
  },
  {
   "cell_type": "code",
   "execution_count": 14,
   "id": "anonymous-browser",
   "metadata": {},
   "outputs": [
    {
     "data": {
      "text/plain": [
       "3.9706535661098035"
      ]
     },
     "execution_count": 14,
     "metadata": {},
     "output_type": "execute_result"
    }
   ],
   "source": [
    "np.sqrt(mean_squared_error(ytest,ypred))"
   ]
  },
  {
   "cell_type": "code",
   "execution_count": 15,
   "id": "offshore-namibia",
   "metadata": {},
   "outputs": [
    {
     "data": {
      "text/plain": [
       "<matplotlib.legend.Legend at 0x212bb0fcf70>"
      ]
     },
     "execution_count": 15,
     "metadata": {},
     "output_type": "execute_result"
    },
    {
     "data": {
      "image/png": "[encoded data removed]",
      "text/plain": [
       "<Figure size 432x288 with 1 Axes>"
      ]
     },
     "metadata": {
      "needs_background": "light"
     },
     "output_type": "display_data"
    }
   ],
   "source": [
    "plt.scatter(range(xtest.shape[0]),ytest, label = \"Actual\")\n",
    "plt.plot(range(xtest.shape[0]),ypred, color =\"r\", label =\"Predicted\")\n",
    "plt.legend()"
   ]
  },
  {
   "cell_type": "code",
   "execution_count": 16,
   "id": "adapted-flush",
   "metadata": {},
   "outputs": [
    {
     "name": "stdout",
     "output_type": "stream",
     "text": [
      "Help on function train_test_split in module sklearn.model_selection._split:\n",
      "\n",
      "train_test_split(*arrays, test_size=None, train_size=None, random_state=None, shuffle=True, stratify=None)\n",
      "    Split arrays or matrices into random train and test subsets\n",
      "    \n",
      "    Quick utility that wraps input validation and\n",
      "    ``next(ShuffleSplit().split(X, y))`` and application to input data\n",
      "    into a single call for splitting (and optionally subsampling) data in a\n",
      "    oneliner.\n",
      "    \n",
      "    Read more in the :ref:`User Guide <cross_validation>`.\n",
      "    \n",
      "    Parameters\n",
      "    ----------\n",
      "    *arrays : sequence of indexables with same length / shape[0]\n",
      "        Allowed inputs are lists, numpy arrays, scipy-sparse\n",
      "        matrices or pandas dataframes.\n",
      "    \n",
      "    test_size : float or int, default=None\n",
      "        If float, should be between 0.0 and 1.0 and represent the proportion\n",
      "        of the dataset to include in the test split. If int, represents the\n",
      "        absolute number of test samples. If None, the value is set to the\n",
      "        complement of the train size. If ``train_size`` is also None, it will\n",
      "        be set to 0.25.\n",
      "    \n",
      "    train_size : float or int, default=None\n",
      "        If float, should be between 0.0 and 1.0 and represent the\n",
      "        proportion of the dataset to include in the train split. If\n",
      "        int, represents the absolute number of train samples. If None,\n",
      "        the value is automatically set to the complement of the test size.\n",
      "    \n",
      "    random_state : int, RandomState instance or None, default=None\n",
      "        Controls the shuffling applied to the data before applying the split.\n",
      "        Pass an int for reproducible output across multiple function calls.\n",
      "        See :term:`Glossary <random_state>`.\n",
      "    \n",
      "    \n",
      "    shuffle : bool, default=True\n",
      "        Whether or not to shuffle the data before splitting. If shuffle=False\n",
      "        then stratify must be None.\n",
      "    \n",
      "    stratify : array-like, default=None\n",
      "        If not None, data is split in a stratified fashion, using this as\n",
      "        the class labels.\n",
      "        Read more in the :ref:`User Guide <stratification>`.\n",
      "    \n",
      "    Returns\n",
      "    -------\n",
      "    splitting : list, length=2 * len(arrays)\n",
      "        List containing train-test split of inputs.\n",
      "    \n",
      "        .. versionadded:: 0.16\n",
      "            If the input is sparse, the output will be a\n",
      "            ``scipy.sparse.csr_matrix``. Else, output type is the same as the\n",
      "            input type.\n",
      "    \n",
      "    Examples\n",
      "    --------\n",
      "    >>> import numpy as np\n",
      "    >>> from sklearn.model_selection import train_test_split\n",
      "    >>> X, y = np.arange(10).reshape((5, 2)), range(5)\n",
      "    >>> X\n",
      "    array([[0, 1],\n",
      "           [2, 3],\n",
      "           [4, 5],\n",
      "           [6, 7],\n",
      "           [8, 9]])\n",
      "    >>> list(y)\n",
      "    [0, 1, 2, 3, 4]\n",
      "    \n",
      "    >>> X_train, X_test, y_train, y_test = train_test_split(\n",
      "    ...     X, y, test_size=0.33, random_state=42)\n",
      "    ...\n",
      "    >>> X_train\n",
      "    array([[4, 5],\n",
      "           [0, 1],\n",
      "           [6, 7]])\n",
      "    >>> y_train\n",
      "    [2, 0, 3]\n",
      "    >>> X_test\n",
      "    array([[2, 3],\n",
      "           [8, 9]])\n",
      "    >>> y_test\n",
      "    [1, 4]\n",
      "    \n",
      "    >>> train_test_split(y, shuffle=False)\n",
      "    [[0, 1, 2], [3, 4]]\n",
      "\n"
     ]
    }
   ],
   "source": [
    "help(train_test_split)"
   ]
  },
  {
   "cell_type": "code",
   "execution_count": 17,
   "id": "bearing-happiness",
   "metadata": {},
   "outputs": [],
   "source": [
    "from sklearn.linear_model import ElasticNetCV"
   ]
  },
  {
   "cell_type": "code",
   "execution_count": 27,
   "id": "disciplinary-algorithm",
   "metadata": {},
   "outputs": [],
   "source": [
    "model_cv = ElasticNetCV(alphas = alpha, cv = 5)\n",
    "model_cv.fit(xtrain,ytrain)\n",
    "ypred = model_cv.predict(xtest)\n",
    "rscore = model_cv.score(xtest,ytest)\n",
    "mse = mean_squared_error(ytest,ypred)"
   ]
  },
  {
   "cell_type": "code",
   "execution_count": 28,
   "id": "hourly-healing",
   "metadata": {},
   "outputs": [
    {
     "data": {
      "text/plain": [
       "(0.7920410109442257, 15.7660897420605)"
      ]
     },
     "execution_count": 28,
     "metadata": {},
     "output_type": "execute_result"
    }
   ],
   "source": [
    "rscore,mse"
   ]
  },
  {
   "cell_type": "code",
   "execution_count": 30,
   "id": "greek-collectible",
   "metadata": {},
   "outputs": [
    {
     "data": {
      "text/plain": [
       "0.001"
      ]
     },
     "execution_count": 30,
     "metadata": {},
     "output_type": "execute_result"
    }
   ],
   "source": [
    "model_cv.alpha_"
   ]
  },
  {
   "cell_type": "code",
   "execution_count": null,
   "id": "falling-space",
   "metadata": {},
   "outputs": [],
   "source": []
  }
 ],
 "metadata": {
  "kernelspec": {
   "display_name": "Python 3",
   "language": "python",
   "name": "python3"
  },
  "language_info": {
   "codemirror_mode": {
    "name": "ipython",
    "version": 3
   },
   "file_extension": ".py",
   "mimetype": "text/x-python",
   "name": "python",
   "nbconvert_exporter": "python",
   "pygments_lexer": "ipython3",
   "version": "3.8.8"
  }
 },
 "nbformat": 4,
 "nbformat_minor": 5
}
