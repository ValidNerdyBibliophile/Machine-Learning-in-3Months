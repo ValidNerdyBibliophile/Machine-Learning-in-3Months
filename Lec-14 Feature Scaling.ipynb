{
 "cells": [
  {
   "cell_type": "markdown",
   "id": "square-garden",
   "metadata": {},
   "source": [
    "## Feature Scaling\n",
    "- Rescaling\n",
    "- Standardization"
   ]
  },
  {
   "cell_type": "markdown",
   "id": "expensive-valve",
   "metadata": {},
   "source": [
    "### Rescaling (min-max normalization) \n",
    "\n",
    "- for [0,1]\n",
    "    - X-Xmin/Xmax-Xmin \n",
    "- for [a,b]\n",
    "    - df(X-Xmin) * (b-a)/ Xmax - Xmin"
   ]
  },
  {
   "cell_type": "code",
   "execution_count": 1,
   "id": "devoted-singer",
   "metadata": {},
   "outputs": [],
   "source": [
    "import numpy as np\n",
    "import pandas as pd"
   ]
  },
  {
   "cell_type": "code",
   "execution_count": 2,
   "id": "civilian-kelly",
   "metadata": {},
   "outputs": [],
   "source": [
    "data = np.array([1,3,3,5,6,4,7,5,2])"
   ]
  },
  {
   "cell_type": "code",
   "execution_count": 3,
   "id": "authorized-examination",
   "metadata": {},
   "outputs": [
    {
     "data": {
      "text/plain": [
       "array([1, 3, 3, 5, 6, 4, 7, 5, 2])"
      ]
     },
     "execution_count": 3,
     "metadata": {},
     "output_type": "execute_result"
    }
   ],
   "source": [
    "data"
   ]
  },
  {
   "cell_type": "code",
   "execution_count": 4,
   "id": "excited-fight",
   "metadata": {},
   "outputs": [],
   "source": [
    "dmin = np.min(data)"
   ]
  },
  {
   "cell_type": "code",
   "execution_count": 5,
   "id": "imported-colors",
   "metadata": {},
   "outputs": [],
   "source": [
    "dmax = np.max(data)"
   ]
  },
  {
   "cell_type": "markdown",
   "id": "compact-delay",
   "metadata": {},
   "source": [
    "###### For [0,1]"
   ]
  },
  {
   "cell_type": "code",
   "execution_count": 6,
   "id": "august-sweden",
   "metadata": {
    "scrolled": true
   },
   "outputs": [
    {
     "data": {
      "text/plain": [
       "array([0.        , 0.33333333, 0.33333333, 0.66666667, 0.83333333,\n",
       "       0.5       , 1.        , 0.66666667, 0.16666667])"
      ]
     },
     "execution_count": 6,
     "metadata": {},
     "output_type": "execute_result"
    }
   ],
   "source": [
    "(data - dmin)/(dmax - dmin)"
   ]
  },
  {
   "cell_type": "code",
   "execution_count": 7,
   "id": "assigned-giving",
   "metadata": {},
   "outputs": [
    {
     "data": {
      "text/plain": [
       "MinMaxScaler()"
      ]
     },
     "execution_count": 7,
     "metadata": {},
     "output_type": "execute_result"
    }
   ],
   "source": [
    "data = data.reshape(-1,1)   #column as 1 but rows can be n number\n",
    "from sklearn.preprocessing import MinMaxScaler\n",
    "m = MinMaxScaler()\n",
    "m.fit(data)"
   ]
  },
  {
   "cell_type": "code",
   "execution_count": 8,
   "id": "decreased-progress",
   "metadata": {
    "scrolled": true
   },
   "outputs": [
    {
     "data": {
      "text/plain": [
       "array([[0.        ],\n",
       "       [0.33333333],\n",
       "       [0.33333333],\n",
       "       [0.66666667],\n",
       "       [0.83333333],\n",
       "       [0.5       ],\n",
       "       [1.        ],\n",
       "       [0.66666667],\n",
       "       [0.16666667]])"
      ]
     },
     "execution_count": 8,
     "metadata": {},
     "output_type": "execute_result"
    }
   ],
   "source": [
    "m.transform(data)"
   ]
  },
  {
   "cell_type": "markdown",
   "id": "increased-franchise",
   "metadata": {},
   "source": [
    "###### For [a,b]"
   ]
  },
  {
   "cell_type": "code",
   "execution_count": 9,
   "id": "exclusive-fields",
   "metadata": {},
   "outputs": [
    {
     "data": {
      "text/plain": [
       "array([[ 4.6],\n",
       "       [ 6.6],\n",
       "       [ 6.6],\n",
       "       [ 8.6],\n",
       "       [ 9.6],\n",
       "       [ 7.6],\n",
       "       [10.6],\n",
       "       [ 8.6],\n",
       "       [ 5.6]])"
      ]
     },
     "execution_count": 9,
     "metadata": {},
     "output_type": "execute_result"
    }
   ],
   "source": [
    "a = 4.6\n",
    "b = 10.6\n",
    "#a + (data-dmin)* (b-a)/(dmax - dmin)\n",
    "\n",
    "a + (data-dmin)* (b-a)/(dmax - dmin)"
   ]
  },
  {
   "cell_type": "code",
   "execution_count": 10,
   "id": "vietnamese-settle",
   "metadata": {},
   "outputs": [],
   "source": [
    "data = data.reshape(-1,1)"
   ]
  },
  {
   "cell_type": "code",
   "execution_count": 11,
   "id": "plain-powder",
   "metadata": {},
   "outputs": [],
   "source": [
    "from sklearn.preprocessing import MinMaxScaler\n",
    "m = MinMaxScaler(feature_range = (a,b))"
   ]
  },
  {
   "cell_type": "code",
   "execution_count": 12,
   "id": "extra-economics",
   "metadata": {},
   "outputs": [
    {
     "data": {
      "text/plain": [
       "MinMaxScaler(feature_range=(4.6, 10.6))"
      ]
     },
     "execution_count": 12,
     "metadata": {},
     "output_type": "execute_result"
    }
   ],
   "source": [
    "m.fit(data)"
   ]
  },
  {
   "cell_type": "code",
   "execution_count": 13,
   "id": "african-alcohol",
   "metadata": {},
   "outputs": [
    {
     "data": {
      "text/plain": [
       "array([[ 4.6],\n",
       "       [ 6.6],\n",
       "       [ 6.6],\n",
       "       [ 8.6],\n",
       "       [ 9.6],\n",
       "       [ 7.6],\n",
       "       [10.6],\n",
       "       [ 8.6],\n",
       "       [ 5.6]])"
      ]
     },
     "execution_count": 13,
     "metadata": {},
     "output_type": "execute_result"
    }
   ],
   "source": [
    "m.transform(data)"
   ]
  },
  {
   "cell_type": "code",
   "execution_count": 14,
   "id": "occasional-health",
   "metadata": {},
   "outputs": [],
   "source": [
    "import seaborn as sns"
   ]
  },
  {
   "cell_type": "code",
   "execution_count": 15,
   "id": "painful-distance",
   "metadata": {},
   "outputs": [],
   "source": [
    "iris_df = sns.load_dataset(\"iris\")"
   ]
  },
  {
   "cell_type": "code",
   "execution_count": 16,
   "id": "fifteen-mandate",
   "metadata": {},
   "outputs": [
    {
     "data": {
      "text/html": [
       "<div>\n",
       "<style scoped>\n",
       "    .dataframe tbody tr th:only-of-type {\n",
       "        vertical-align: middle;\n",
       "    }\n",
       "\n",
       "    .dataframe tbody tr th {\n",
       "        vertical-align: top;\n",
       "    }\n",
       "\n",
       "    .dataframe thead th {\n",
       "        text-align: right;\n",
       "    }\n",
       "</style>\n",
       "<table border=\"1\" class=\"dataframe\">\n",
       "  <thead>\n",
       "    <tr style=\"text-align: right;\">\n",
       "      <th></th>\n",
       "      <th>sepal_length</th>\n",
       "      <th>sepal_width</th>\n",
       "      <th>petal_length</th>\n",
       "      <th>petal_width</th>\n",
       "      <th>species</th>\n",
       "    </tr>\n",
       "  </thead>\n",
       "  <tbody>\n",
       "    <tr>\n",
       "      <th>0</th>\n",
       "      <td>5.1</td>\n",
       "      <td>3.5</td>\n",
       "      <td>1.4</td>\n",
       "      <td>0.2</td>\n",
       "      <td>setosa</td>\n",
       "    </tr>\n",
       "    <tr>\n",
       "      <th>1</th>\n",
       "      <td>4.9</td>\n",
       "      <td>3.0</td>\n",
       "      <td>1.4</td>\n",
       "      <td>0.2</td>\n",
       "      <td>setosa</td>\n",
       "    </tr>\n",
       "    <tr>\n",
       "      <th>2</th>\n",
       "      <td>4.7</td>\n",
       "      <td>3.2</td>\n",
       "      <td>1.3</td>\n",
       "      <td>0.2</td>\n",
       "      <td>setosa</td>\n",
       "    </tr>\n",
       "    <tr>\n",
       "      <th>3</th>\n",
       "      <td>4.6</td>\n",
       "      <td>3.1</td>\n",
       "      <td>1.5</td>\n",
       "      <td>0.2</td>\n",
       "      <td>setosa</td>\n",
       "    </tr>\n",
       "    <tr>\n",
       "      <th>4</th>\n",
       "      <td>5.0</td>\n",
       "      <td>3.6</td>\n",
       "      <td>1.4</td>\n",
       "      <td>0.2</td>\n",
       "      <td>setosa</td>\n",
       "    </tr>\n",
       "  </tbody>\n",
       "</table>\n",
       "</div>"
      ],
      "text/plain": [
       "   sepal_length  sepal_width  petal_length  petal_width species\n",
       "0           5.1          3.5           1.4          0.2  setosa\n",
       "1           4.9          3.0           1.4          0.2  setosa\n",
       "2           4.7          3.2           1.3          0.2  setosa\n",
       "3           4.6          3.1           1.5          0.2  setosa\n",
       "4           5.0          3.6           1.4          0.2  setosa"
      ]
     },
     "execution_count": 16,
     "metadata": {},
     "output_type": "execute_result"
    }
   ],
   "source": [
    "iris_df.head()"
   ]
  },
  {
   "cell_type": "code",
   "execution_count": 17,
   "id": "developmental-mayor",
   "metadata": {},
   "outputs": [
    {
     "data": {
      "text/plain": [
       "<AxesSubplot:xlabel='sepal_length'>"
      ]
     },
     "execution_count": 17,
     "metadata": {},
     "output_type": "execute_result"
    },
    {
     "data": {
      "image/png": "[encoded data removed]",
      "text/plain": [
       "<Figure size 432x288 with 1 Axes>"
      ]
     },
     "metadata": {
      "needs_background": "light"
     },
     "output_type": "display_data"
    }
   ],
   "source": [
    "sns.boxplot(x = \"sepal_length\", data = iris_df)"
   ]
  },
  {
   "cell_type": "code",
   "execution_count": 18,
   "id": "dried-ecuador",
   "metadata": {},
   "outputs": [
    {
     "data": {
      "text/plain": [
       "<AxesSubplot:xlabel='sepal_width'>"
      ]
     },
     "execution_count": 18,
     "metadata": {},
     "output_type": "execute_result"
    },
    {
     "data": {
      "image/png": "[encoded data removed]",
      "text/plain": [
       "<Figure size 432x288 with 1 Axes>"
      ]
     },
     "metadata": {
      "needs_background": "light"
     },
     "output_type": "display_data"
    }
   ],
   "source": [
    "sns.boxplot(x = \"sepal_width\", data = iris_df)"
   ]
  },
  {
   "cell_type": "code",
   "execution_count": 19,
   "id": "honey-benjamin",
   "metadata": {},
   "outputs": [
    {
     "data": {
      "text/plain": [
       "<AxesSubplot:xlabel='petal_length'>"
      ]
     },
     "execution_count": 19,
     "metadata": {},
     "output_type": "execute_result"
    },
    {
     "data": {
      "image/png": "[encoded data removed]",
      "text/plain": [
       "<Figure size 432x288 with 1 Axes>"
      ]
     },
     "metadata": {
      "needs_background": "light"
     },
     "output_type": "display_data"
    }
   ],
   "source": [
    "sns.boxplot(x = \"petal_length\", data = iris_df)"
   ]
  },
  {
   "cell_type": "code",
   "execution_count": 20,
   "id": "empirical-swift",
   "metadata": {},
   "outputs": [
    {
     "data": {
      "text/plain": [
       "<AxesSubplot:xlabel='petal_width'>"
      ]
     },
     "execution_count": 20,
     "metadata": {},
     "output_type": "execute_result"
    },
    {
     "data": {
      "image/png": "[encoded data removed]",
      "text/plain": [
       "<Figure size 432x288 with 1 Axes>"
      ]
     },
     "metadata": {
      "needs_background": "light"
     },
     "output_type": "display_data"
    }
   ],
   "source": [
    "sns.boxplot(x = \"petal_width\", data = iris_df)"
   ]
  },
  {
   "cell_type": "code",
   "execution_count": 21,
   "id": "encouraging-tourist",
   "metadata": {},
   "outputs": [
    {
     "data": {
      "text/plain": [
       "4.3"
      ]
     },
     "execution_count": 21,
     "metadata": {},
     "output_type": "execute_result"
    }
   ],
   "source": [
    "sepallen_min = iris_df[\"sepal_length\"].min()\n",
    "sepallen_min"
   ]
  },
  {
   "cell_type": "code",
   "execution_count": 22,
   "id": "understood-calcium",
   "metadata": {},
   "outputs": [
    {
     "data": {
      "text/plain": [
       "7.9"
      ]
     },
     "execution_count": 22,
     "metadata": {},
     "output_type": "execute_result"
    }
   ],
   "source": [
    "sepallen_max= iris_df[\"sepal_length\"].max()\n",
    "sepallen_max"
   ]
  },
  {
   "cell_type": "code",
   "execution_count": 23,
   "id": "imposed-computer",
   "metadata": {},
   "outputs": [
    {
     "data": {
      "text/plain": [
       "2.0"
      ]
     },
     "execution_count": 23,
     "metadata": {},
     "output_type": "execute_result"
    }
   ],
   "source": [
    "sepalwid_min = iris_df[\"sepal_width\"].min()\n",
    "sepalwid_min"
   ]
  },
  {
   "cell_type": "code",
   "execution_count": 24,
   "id": "pursuant-vertical",
   "metadata": {},
   "outputs": [
    {
     "data": {
      "text/plain": [
       "4.4"
      ]
     },
     "execution_count": 24,
     "metadata": {},
     "output_type": "execute_result"
    }
   ],
   "source": [
    "sepalwid_max = iris_df[\"sepal_width\"].max()\n",
    "sepalwid_max"
   ]
  },
  {
   "cell_type": "code",
   "execution_count": 25,
   "id": "planned-dance",
   "metadata": {},
   "outputs": [
    {
     "data": {
      "text/plain": [
       "1.0"
      ]
     },
     "execution_count": 25,
     "metadata": {},
     "output_type": "execute_result"
    }
   ],
   "source": [
    "petallen_min = iris_df[\"petal_length\"].min()\n",
    "petallen_min"
   ]
  },
  {
   "cell_type": "code",
   "execution_count": 26,
   "id": "central-diary",
   "metadata": {},
   "outputs": [
    {
     "data": {
      "text/plain": [
       "6.9"
      ]
     },
     "execution_count": 26,
     "metadata": {},
     "output_type": "execute_result"
    }
   ],
   "source": [
    "petallen_max = iris_df[\"petal_length\"].max()\n",
    "petallen_max"
   ]
  },
  {
   "cell_type": "code",
   "execution_count": 27,
   "id": "increasing-vector",
   "metadata": {},
   "outputs": [
    {
     "data": {
      "text/plain": [
       "0.1"
      ]
     },
     "execution_count": 27,
     "metadata": {},
     "output_type": "execute_result"
    }
   ],
   "source": [
    "petalwid_min = iris_df[\"petal_width\"].min()\n",
    "petalwid_min"
   ]
  },
  {
   "cell_type": "code",
   "execution_count": 28,
   "id": "experienced-complaint",
   "metadata": {},
   "outputs": [
    {
     "data": {
      "text/plain": [
       "2.5"
      ]
     },
     "execution_count": 28,
     "metadata": {},
     "output_type": "execute_result"
    }
   ],
   "source": [
    "petalwid_max = iris_df[\"petal_width\"].max()\n",
    "petalwid_max"
   ]
  },
  {
   "cell_type": "markdown",
   "id": "missing-slovakia",
   "metadata": {},
   "source": [
    "### Scaling"
   ]
  },
  {
   "cell_type": "code",
   "execution_count": 29,
   "id": "dominican-harris",
   "metadata": {},
   "outputs": [],
   "source": [
    "iris_df.drop(\"species\", axis = 1, inplace = True)"
   ]
  },
  {
   "cell_type": "markdown",
   "id": "recent-malta",
   "metadata": {},
   "source": [
    "### Sepal_Length"
   ]
  },
  {
   "cell_type": "code",
   "execution_count": 30,
   "id": "critical-calculation",
   "metadata": {},
   "outputs": [
    {
     "data": {
      "text/html": [
       "<div>\n",
       "<style scoped>\n",
       "    .dataframe tbody tr th:only-of-type {\n",
       "        vertical-align: middle;\n",
       "    }\n",
       "\n",
       "    .dataframe tbody tr th {\n",
       "        vertical-align: top;\n",
       "    }\n",
       "\n",
       "    .dataframe thead th {\n",
       "        text-align: right;\n",
       "    }\n",
       "</style>\n",
       "<table border=\"1\" class=\"dataframe\">\n",
       "  <thead>\n",
       "    <tr style=\"text-align: right;\">\n",
       "      <th></th>\n",
       "      <th>sepal_length</th>\n",
       "      <th>sepal_width</th>\n",
       "      <th>petal_length</th>\n",
       "      <th>petal_width</th>\n",
       "    </tr>\n",
       "  </thead>\n",
       "  <tbody>\n",
       "    <tr>\n",
       "      <th>0</th>\n",
       "      <td>5.411111</td>\n",
       "      <td>4.788889</td>\n",
       "      <td>3.972222</td>\n",
       "      <td>3.505556</td>\n",
       "    </tr>\n",
       "    <tr>\n",
       "      <th>1</th>\n",
       "      <td>5.333333</td>\n",
       "      <td>4.594444</td>\n",
       "      <td>3.972222</td>\n",
       "      <td>3.505556</td>\n",
       "    </tr>\n",
       "    <tr>\n",
       "      <th>2</th>\n",
       "      <td>5.255556</td>\n",
       "      <td>4.672222</td>\n",
       "      <td>3.933333</td>\n",
       "      <td>3.505556</td>\n",
       "    </tr>\n",
       "    <tr>\n",
       "      <th>3</th>\n",
       "      <td>5.216667</td>\n",
       "      <td>4.633333</td>\n",
       "      <td>4.011111</td>\n",
       "      <td>3.505556</td>\n",
       "    </tr>\n",
       "    <tr>\n",
       "      <th>4</th>\n",
       "      <td>5.372222</td>\n",
       "      <td>4.827778</td>\n",
       "      <td>3.972222</td>\n",
       "      <td>3.505556</td>\n",
       "    </tr>\n",
       "    <tr>\n",
       "      <th>...</th>\n",
       "      <td>...</td>\n",
       "      <td>...</td>\n",
       "      <td>...</td>\n",
       "      <td>...</td>\n",
       "    </tr>\n",
       "    <tr>\n",
       "      <th>145</th>\n",
       "      <td>6.033333</td>\n",
       "      <td>4.594444</td>\n",
       "      <td>5.450000</td>\n",
       "      <td>4.322222</td>\n",
       "    </tr>\n",
       "    <tr>\n",
       "      <th>146</th>\n",
       "      <td>5.877778</td>\n",
       "      <td>4.400000</td>\n",
       "      <td>5.372222</td>\n",
       "      <td>4.166667</td>\n",
       "    </tr>\n",
       "    <tr>\n",
       "      <th>147</th>\n",
       "      <td>5.955556</td>\n",
       "      <td>4.594444</td>\n",
       "      <td>5.450000</td>\n",
       "      <td>4.205556</td>\n",
       "    </tr>\n",
       "    <tr>\n",
       "      <th>148</th>\n",
       "      <td>5.838889</td>\n",
       "      <td>4.750000</td>\n",
       "      <td>5.527778</td>\n",
       "      <td>4.322222</td>\n",
       "    </tr>\n",
       "    <tr>\n",
       "      <th>149</th>\n",
       "      <td>5.722222</td>\n",
       "      <td>4.594444</td>\n",
       "      <td>5.411111</td>\n",
       "      <td>4.127778</td>\n",
       "    </tr>\n",
       "  </tbody>\n",
       "</table>\n",
       "<p>150 rows × 4 columns</p>\n",
       "</div>"
      ],
      "text/plain": [
       "     sepal_length  sepal_width  petal_length  petal_width\n",
       "0        5.411111     4.788889      3.972222     3.505556\n",
       "1        5.333333     4.594444      3.972222     3.505556\n",
       "2        5.255556     4.672222      3.933333     3.505556\n",
       "3        5.216667     4.633333      4.011111     3.505556\n",
       "4        5.372222     4.827778      3.972222     3.505556\n",
       "..            ...          ...           ...          ...\n",
       "145      6.033333     4.594444      5.450000     4.322222\n",
       "146      5.877778     4.400000      5.372222     4.166667\n",
       "147      5.955556     4.594444      5.450000     4.205556\n",
       "148      5.838889     4.750000      5.527778     4.322222\n",
       "149      5.722222     4.594444      5.411111     4.127778\n",
       "\n",
       "[150 rows x 4 columns]"
      ]
     },
     "execution_count": 30,
     "metadata": {},
     "output_type": "execute_result"
    }
   ],
   "source": [
    "#Scaling Sepal_Length\n",
    "a = 5.1\n",
    "b = 6.5\n",
    "a + (iris_df - sepallen_min) * (b-a)/(sepallen_max - sepallen_min)"
   ]
  },
  {
   "cell_type": "code",
   "execution_count": 31,
   "id": "interim-history",
   "metadata": {},
   "outputs": [],
   "source": [
    "from sklearn.preprocessing import MinMaxScaler"
   ]
  },
  {
   "cell_type": "code",
   "execution_count": 32,
   "id": "earned-immunology",
   "metadata": {},
   "outputs": [],
   "source": [
    "m = MinMaxScaler(feature_range=(a,b))"
   ]
  },
  {
   "cell_type": "code",
   "execution_count": 33,
   "id": "sound-gateway",
   "metadata": {},
   "outputs": [
    {
     "data": {
      "text/plain": [
       "MinMaxScaler(feature_range=(5.1, 6.5))"
      ]
     },
     "execution_count": 33,
     "metadata": {},
     "output_type": "execute_result"
    }
   ],
   "source": [
    "m.fit(iris_df)"
   ]
  },
  {
   "cell_type": "code",
   "execution_count": 34,
   "id": "familiar-forestry",
   "metadata": {},
   "outputs": [
    {
     "data": {
      "text/plain": [
       "array([[5.41111111, 5.975     , 5.19491525, 5.15833333],\n",
       "       [5.33333333, 5.68333333, 5.19491525, 5.15833333],\n",
       "       [5.25555556, 5.8       , 5.17118644, 5.15833333],\n",
       "       [5.21666667, 5.74166667, 5.21864407, 5.15833333],\n",
       "       [5.37222222, 6.03333333, 5.19491525, 5.15833333],\n",
       "       [5.52777778, 6.20833333, 5.26610169, 5.275     ],\n",
       "       [5.21666667, 5.91666667, 5.19491525, 5.21666667],\n",
       "       [5.37222222, 5.91666667, 5.21864407, 5.15833333],\n",
       "       [5.13888889, 5.625     , 5.19491525, 5.15833333],\n",
       "       [5.33333333, 5.74166667, 5.21864407, 5.1       ],\n",
       "       [5.52777778, 6.09166667, 5.21864407, 5.15833333],\n",
       "       [5.29444444, 5.91666667, 5.24237288, 5.15833333],\n",
       "       [5.29444444, 5.68333333, 5.19491525, 5.1       ],\n",
       "       [5.1       , 5.68333333, 5.12372881, 5.1       ],\n",
       "       [5.68333333, 6.26666667, 5.14745763, 5.15833333],\n",
       "       [5.64444444, 6.5       , 5.21864407, 5.275     ],\n",
       "       [5.52777778, 6.20833333, 5.17118644, 5.275     ],\n",
       "       [5.41111111, 5.975     , 5.19491525, 5.21666667],\n",
       "       [5.64444444, 6.15      , 5.26610169, 5.21666667],\n",
       "       [5.41111111, 6.15      , 5.21864407, 5.21666667],\n",
       "       [5.52777778, 5.91666667, 5.26610169, 5.15833333],\n",
       "       [5.41111111, 6.09166667, 5.21864407, 5.275     ],\n",
       "       [5.21666667, 6.03333333, 5.1       , 5.15833333],\n",
       "       [5.41111111, 5.85833333, 5.26610169, 5.33333333],\n",
       "       [5.29444444, 5.91666667, 5.31355932, 5.15833333],\n",
       "       [5.37222222, 5.68333333, 5.24237288, 5.15833333],\n",
       "       [5.37222222, 5.91666667, 5.24237288, 5.275     ],\n",
       "       [5.45      , 5.975     , 5.21864407, 5.15833333],\n",
       "       [5.45      , 5.91666667, 5.19491525, 5.15833333],\n",
       "       [5.25555556, 5.8       , 5.24237288, 5.15833333],\n",
       "       [5.29444444, 5.74166667, 5.24237288, 5.15833333],\n",
       "       [5.52777778, 5.91666667, 5.21864407, 5.275     ],\n",
       "       [5.45      , 6.325     , 5.21864407, 5.1       ],\n",
       "       [5.56666667, 6.38333333, 5.19491525, 5.15833333],\n",
       "       [5.33333333, 5.74166667, 5.21864407, 5.15833333],\n",
       "       [5.37222222, 5.8       , 5.14745763, 5.15833333],\n",
       "       [5.56666667, 5.975     , 5.17118644, 5.15833333],\n",
       "       [5.33333333, 6.03333333, 5.19491525, 5.1       ],\n",
       "       [5.13888889, 5.68333333, 5.17118644, 5.15833333],\n",
       "       [5.41111111, 5.91666667, 5.21864407, 5.15833333],\n",
       "       [5.37222222, 5.975     , 5.17118644, 5.21666667],\n",
       "       [5.17777778, 5.275     , 5.17118644, 5.21666667],\n",
       "       [5.13888889, 5.8       , 5.17118644, 5.15833333],\n",
       "       [5.37222222, 5.975     , 5.24237288, 5.39166667],\n",
       "       [5.41111111, 6.15      , 5.31355932, 5.275     ],\n",
       "       [5.29444444, 5.68333333, 5.19491525, 5.21666667],\n",
       "       [5.41111111, 6.15      , 5.24237288, 5.15833333],\n",
       "       [5.21666667, 5.8       , 5.19491525, 5.15833333],\n",
       "       [5.48888889, 6.09166667, 5.21864407, 5.15833333],\n",
       "       [5.37222222, 5.85833333, 5.19491525, 5.15833333],\n",
       "       [6.15      , 5.8       , 5.9779661 , 5.85833333],\n",
       "       [5.91666667, 5.8       , 5.93050847, 5.91666667],\n",
       "       [6.11111111, 5.74166667, 6.02542373, 5.91666667],\n",
       "       [5.56666667, 5.275     , 5.81186441, 5.8       ],\n",
       "       [5.95555556, 5.56666667, 5.95423729, 5.91666667],\n",
       "       [5.64444444, 5.56666667, 5.93050847, 5.8       ],\n",
       "       [5.87777778, 5.85833333, 5.9779661 , 5.975     ],\n",
       "       [5.33333333, 5.33333333, 5.64576271, 5.625     ],\n",
       "       [5.99444444, 5.625     , 5.95423729, 5.8       ],\n",
       "       [5.45      , 5.50833333, 5.78813559, 5.85833333],\n",
       "       [5.37222222, 5.1       , 5.69322034, 5.625     ],\n",
       "       [5.72222222, 5.68333333, 5.85932203, 5.91666667],\n",
       "       [5.76111111, 5.21666667, 5.81186441, 5.625     ],\n",
       "       [5.8       , 5.625     , 5.9779661 , 5.85833333],\n",
       "       [5.60555556, 5.625     , 5.71694915, 5.8       ],\n",
       "       [6.03333333, 5.74166667, 5.90677966, 5.85833333],\n",
       "       [5.60555556, 5.68333333, 5.93050847, 5.91666667],\n",
       "       [5.68333333, 5.50833333, 5.83559322, 5.625     ],\n",
       "       [5.83888889, 5.21666667, 5.93050847, 5.91666667],\n",
       "       [5.60555556, 5.39166667, 5.78813559, 5.68333333],\n",
       "       [5.72222222, 5.8       , 6.00169492, 6.09166667],\n",
       "       [5.8       , 5.56666667, 5.81186441, 5.8       ],\n",
       "       [5.87777778, 5.39166667, 6.02542373, 5.91666667],\n",
       "       [5.8       , 5.56666667, 5.9779661 , 5.74166667],\n",
       "       [5.91666667, 5.625     , 5.88305085, 5.8       ],\n",
       "       [5.99444444, 5.68333333, 5.90677966, 5.85833333],\n",
       "       [6.07222222, 5.56666667, 6.00169492, 5.85833333],\n",
       "       [6.03333333, 5.68333333, 6.04915254, 6.03333333],\n",
       "       [5.76111111, 5.625     , 5.93050847, 5.91666667],\n",
       "       [5.64444444, 5.45      , 5.69322034, 5.625     ],\n",
       "       [5.56666667, 5.33333333, 5.76440678, 5.68333333],\n",
       "       [5.56666667, 5.33333333, 5.74067797, 5.625     ],\n",
       "       [5.68333333, 5.50833333, 5.78813559, 5.74166667],\n",
       "       [5.76111111, 5.50833333, 6.07288136, 5.975     ],\n",
       "       [5.52777778, 5.68333333, 5.93050847, 5.91666667],\n",
       "       [5.76111111, 5.91666667, 5.93050847, 5.975     ],\n",
       "       [6.03333333, 5.74166667, 5.9779661 , 5.91666667],\n",
       "       [5.87777778, 5.275     , 5.90677966, 5.8       ],\n",
       "       [5.60555556, 5.68333333, 5.83559322, 5.8       ],\n",
       "       [5.56666667, 5.39166667, 5.81186441, 5.8       ],\n",
       "       [5.56666667, 5.45      , 5.90677966, 5.74166667],\n",
       "       [5.8       , 5.68333333, 5.95423729, 5.85833333],\n",
       "       [5.68333333, 5.45      , 5.81186441, 5.74166667],\n",
       "       [5.37222222, 5.275     , 5.64576271, 5.625     ],\n",
       "       [5.60555556, 5.50833333, 5.85932203, 5.8       ],\n",
       "       [5.64444444, 5.68333333, 5.85932203, 5.74166667],\n",
       "       [5.64444444, 5.625     , 5.85932203, 5.8       ],\n",
       "       [5.83888889, 5.625     , 5.88305085, 5.8       ],\n",
       "       [5.41111111, 5.39166667, 5.57457627, 5.68333333],\n",
       "       [5.64444444, 5.56666667, 5.83559322, 5.8       ],\n",
       "       [5.87777778, 5.85833333, 6.28644068, 6.5       ],\n",
       "       [5.68333333, 5.50833333, 6.07288136, 6.15      ],\n",
       "       [6.18888889, 5.68333333, 6.26271186, 6.26666667],\n",
       "       [5.87777778, 5.625     , 6.19152542, 6.09166667],\n",
       "       [5.95555556, 5.68333333, 6.23898305, 6.325     ],\n",
       "       [6.38333333, 5.68333333, 6.42881356, 6.26666667],\n",
       "       [5.33333333, 5.39166667, 5.93050847, 6.03333333],\n",
       "       [6.26666667, 5.625     , 6.35762712, 6.09166667],\n",
       "       [6.03333333, 5.39166667, 6.23898305, 6.09166667],\n",
       "       [6.22777778, 6.03333333, 6.31016949, 6.5       ],\n",
       "       [5.95555556, 5.8       , 6.07288136, 6.20833333],\n",
       "       [5.91666667, 5.50833333, 6.12033898, 6.15      ],\n",
       "       [6.07222222, 5.68333333, 6.16779661, 6.26666667],\n",
       "       [5.64444444, 5.39166667, 6.04915254, 6.20833333],\n",
       "       [5.68333333, 5.56666667, 6.07288136, 6.44166667],\n",
       "       [5.91666667, 5.8       , 6.12033898, 6.38333333],\n",
       "       [5.95555556, 5.68333333, 6.16779661, 6.09166667],\n",
       "       [6.42222222, 6.15      , 6.45254237, 6.325     ],\n",
       "       [6.42222222, 5.45      , 6.5       , 6.38333333],\n",
       "       [5.76111111, 5.21666667, 6.04915254, 5.91666667],\n",
       "       [6.11111111, 5.8       , 6.21525424, 6.38333333],\n",
       "       [5.60555556, 5.56666667, 6.02542373, 6.20833333],\n",
       "       [6.42222222, 5.56666667, 6.45254237, 6.20833333],\n",
       "       [5.87777778, 5.50833333, 6.02542373, 6.09166667],\n",
       "       [6.03333333, 5.85833333, 6.21525424, 6.26666667],\n",
       "       [6.22777778, 5.8       , 6.28644068, 6.09166667],\n",
       "       [5.83888889, 5.56666667, 6.00169492, 6.09166667],\n",
       "       [5.8       , 5.68333333, 6.02542373, 6.09166667],\n",
       "       [5.91666667, 5.56666667, 6.19152542, 6.26666667],\n",
       "       [6.22777778, 5.68333333, 6.23898305, 5.975     ],\n",
       "       [6.30555556, 5.56666667, 6.31016949, 6.15      ],\n",
       "       [6.5       , 6.15      , 6.38135593, 6.20833333],\n",
       "       [5.91666667, 5.56666667, 6.19152542, 6.325     ],\n",
       "       [5.87777778, 5.56666667, 6.07288136, 5.91666667],\n",
       "       [5.8       , 5.45      , 6.19152542, 5.85833333],\n",
       "       [6.42222222, 5.68333333, 6.31016949, 6.38333333],\n",
       "       [5.87777778, 5.91666667, 6.19152542, 6.44166667],\n",
       "       [5.91666667, 5.74166667, 6.16779661, 6.09166667],\n",
       "       [5.76111111, 5.68333333, 6.00169492, 6.09166667],\n",
       "       [6.11111111, 5.74166667, 6.1440678 , 6.26666667],\n",
       "       [6.03333333, 5.74166667, 6.19152542, 6.44166667],\n",
       "       [6.11111111, 5.74166667, 6.07288136, 6.38333333],\n",
       "       [5.68333333, 5.50833333, 6.07288136, 6.15      ],\n",
       "       [6.07222222, 5.8       , 6.26271186, 6.38333333],\n",
       "       [6.03333333, 5.85833333, 6.21525424, 6.5       ],\n",
       "       [6.03333333, 5.68333333, 6.09661017, 6.38333333],\n",
       "       [5.87777778, 5.39166667, 6.04915254, 6.15      ],\n",
       "       [5.95555556, 5.68333333, 6.09661017, 6.20833333],\n",
       "       [5.83888889, 5.91666667, 6.1440678 , 6.38333333],\n",
       "       [5.72222222, 5.68333333, 6.07288136, 6.09166667]])"
      ]
     },
     "execution_count": 34,
     "metadata": {},
     "output_type": "execute_result"
    }
   ],
   "source": [
    "m.transform(iris_df)"
   ]
  },
  {
   "cell_type": "markdown",
   "id": "outer-volume",
   "metadata": {},
   "source": [
    "### Sepal Width"
   ]
  },
  {
   "cell_type": "code",
   "execution_count": 35,
   "id": "confirmed-capture",
   "metadata": {},
   "outputs": [
    {
     "data": {
      "text/plain": [
       "array([[2.93333333, 3.175     , 2.84067797, 2.825     ],\n",
       "       [2.9       , 3.05      , 2.84067797, 2.825     ],\n",
       "       [2.86666667, 3.1       , 2.83050847, 2.825     ],\n",
       "       [2.85      , 3.075     , 2.85084746, 2.825     ],\n",
       "       [2.91666667, 3.2       , 2.84067797, 2.825     ],\n",
       "       [2.98333333, 3.275     , 2.87118644, 2.875     ],\n",
       "       [2.85      , 3.15      , 2.84067797, 2.85      ],\n",
       "       [2.91666667, 3.15      , 2.85084746, 2.825     ],\n",
       "       [2.81666667, 3.025     , 2.84067797, 2.825     ],\n",
       "       [2.9       , 3.075     , 2.85084746, 2.8       ],\n",
       "       [2.98333333, 3.225     , 2.85084746, 2.825     ],\n",
       "       [2.88333333, 3.15      , 2.86101695, 2.825     ],\n",
       "       [2.88333333, 3.05      , 2.84067797, 2.8       ],\n",
       "       [2.8       , 3.05      , 2.81016949, 2.8       ],\n",
       "       [3.05      , 3.3       , 2.82033898, 2.825     ],\n",
       "       [3.03333333, 3.4       , 2.85084746, 2.875     ],\n",
       "       [2.98333333, 3.275     , 2.83050847, 2.875     ],\n",
       "       [2.93333333, 3.175     , 2.84067797, 2.85      ],\n",
       "       [3.03333333, 3.25      , 2.87118644, 2.85      ],\n",
       "       [2.93333333, 3.25      , 2.85084746, 2.85      ],\n",
       "       [2.98333333, 3.15      , 2.87118644, 2.825     ],\n",
       "       [2.93333333, 3.225     , 2.85084746, 2.875     ],\n",
       "       [2.85      , 3.2       , 2.8       , 2.825     ],\n",
       "       [2.93333333, 3.125     , 2.87118644, 2.9       ],\n",
       "       [2.88333333, 3.15      , 2.89152542, 2.825     ],\n",
       "       [2.91666667, 3.05      , 2.86101695, 2.825     ],\n",
       "       [2.91666667, 3.15      , 2.86101695, 2.875     ],\n",
       "       [2.95      , 3.175     , 2.85084746, 2.825     ],\n",
       "       [2.95      , 3.15      , 2.84067797, 2.825     ],\n",
       "       [2.86666667, 3.1       , 2.86101695, 2.825     ],\n",
       "       [2.88333333, 3.075     , 2.86101695, 2.825     ],\n",
       "       [2.98333333, 3.15      , 2.85084746, 2.875     ],\n",
       "       [2.95      , 3.325     , 2.85084746, 2.8       ],\n",
       "       [3.        , 3.35      , 2.84067797, 2.825     ],\n",
       "       [2.9       , 3.075     , 2.85084746, 2.825     ],\n",
       "       [2.91666667, 3.1       , 2.82033898, 2.825     ],\n",
       "       [3.        , 3.175     , 2.83050847, 2.825     ],\n",
       "       [2.9       , 3.2       , 2.84067797, 2.8       ],\n",
       "       [2.81666667, 3.05      , 2.83050847, 2.825     ],\n",
       "       [2.93333333, 3.15      , 2.85084746, 2.825     ],\n",
       "       [2.91666667, 3.175     , 2.83050847, 2.85      ],\n",
       "       [2.83333333, 2.875     , 2.83050847, 2.85      ],\n",
       "       [2.81666667, 3.1       , 2.83050847, 2.825     ],\n",
       "       [2.91666667, 3.175     , 2.86101695, 2.925     ],\n",
       "       [2.93333333, 3.25      , 2.89152542, 2.875     ],\n",
       "       [2.88333333, 3.05      , 2.84067797, 2.85      ],\n",
       "       [2.93333333, 3.25      , 2.86101695, 2.825     ],\n",
       "       [2.85      , 3.1       , 2.84067797, 2.825     ],\n",
       "       [2.96666667, 3.225     , 2.85084746, 2.825     ],\n",
       "       [2.91666667, 3.125     , 2.84067797, 2.825     ],\n",
       "       [3.25      , 3.1       , 3.17627119, 3.125     ],\n",
       "       [3.15      , 3.1       , 3.1559322 , 3.15      ],\n",
       "       [3.23333333, 3.075     , 3.19661017, 3.15      ],\n",
       "       [3.        , 2.875     , 3.10508475, 3.1       ],\n",
       "       [3.16666667, 3.        , 3.16610169, 3.15      ],\n",
       "       [3.03333333, 3.        , 3.1559322 , 3.1       ],\n",
       "       [3.13333333, 3.125     , 3.17627119, 3.175     ],\n",
       "       [2.9       , 2.9       , 3.03389831, 3.025     ],\n",
       "       [3.18333333, 3.025     , 3.16610169, 3.1       ],\n",
       "       [2.95      , 2.975     , 3.09491525, 3.125     ],\n",
       "       [2.91666667, 2.8       , 3.05423729, 3.025     ],\n",
       "       [3.06666667, 3.05      , 3.12542373, 3.15      ],\n",
       "       [3.08333333, 2.85      , 3.10508475, 3.025     ],\n",
       "       [3.1       , 3.025     , 3.17627119, 3.125     ],\n",
       "       [3.01666667, 3.025     , 3.06440678, 3.1       ],\n",
       "       [3.2       , 3.075     , 3.14576271, 3.125     ],\n",
       "       [3.01666667, 3.05      , 3.1559322 , 3.15      ],\n",
       "       [3.05      , 2.975     , 3.11525424, 3.025     ],\n",
       "       [3.11666667, 2.85      , 3.1559322 , 3.15      ],\n",
       "       [3.01666667, 2.925     , 3.09491525, 3.05      ],\n",
       "       [3.06666667, 3.1       , 3.18644068, 3.225     ],\n",
       "       [3.1       , 3.        , 3.10508475, 3.1       ],\n",
       "       [3.13333333, 2.925     , 3.19661017, 3.15      ],\n",
       "       [3.1       , 3.        , 3.17627119, 3.075     ],\n",
       "       [3.15      , 3.025     , 3.13559322, 3.1       ],\n",
       "       [3.18333333, 3.05      , 3.14576271, 3.125     ],\n",
       "       [3.21666667, 3.        , 3.18644068, 3.125     ],\n",
       "       [3.2       , 3.05      , 3.20677966, 3.2       ],\n",
       "       [3.08333333, 3.025     , 3.1559322 , 3.15      ],\n",
       "       [3.03333333, 2.95      , 3.05423729, 3.025     ],\n",
       "       [3.        , 2.9       , 3.08474576, 3.05      ],\n",
       "       [3.        , 2.9       , 3.07457627, 3.025     ],\n",
       "       [3.05      , 2.975     , 3.09491525, 3.075     ],\n",
       "       [3.08333333, 2.975     , 3.21694915, 3.175     ],\n",
       "       [2.98333333, 3.05      , 3.1559322 , 3.15      ],\n",
       "       [3.08333333, 3.15      , 3.1559322 , 3.175     ],\n",
       "       [3.2       , 3.075     , 3.17627119, 3.15      ],\n",
       "       [3.13333333, 2.875     , 3.14576271, 3.1       ],\n",
       "       [3.01666667, 3.05      , 3.11525424, 3.1       ],\n",
       "       [3.        , 2.925     , 3.10508475, 3.1       ],\n",
       "       [3.        , 2.95      , 3.14576271, 3.075     ],\n",
       "       [3.1       , 3.05      , 3.16610169, 3.125     ],\n",
       "       [3.05      , 2.95      , 3.10508475, 3.075     ],\n",
       "       [2.91666667, 2.875     , 3.03389831, 3.025     ],\n",
       "       [3.01666667, 2.975     , 3.12542373, 3.1       ],\n",
       "       [3.03333333, 3.05      , 3.12542373, 3.075     ],\n",
       "       [3.03333333, 3.025     , 3.12542373, 3.1       ],\n",
       "       [3.11666667, 3.025     , 3.13559322, 3.1       ],\n",
       "       [2.93333333, 2.925     , 3.00338983, 3.05      ],\n",
       "       [3.03333333, 3.        , 3.11525424, 3.1       ],\n",
       "       [3.13333333, 3.125     , 3.30847458, 3.4       ],\n",
       "       [3.05      , 2.975     , 3.21694915, 3.25      ],\n",
       "       [3.26666667, 3.05      , 3.29830508, 3.3       ],\n",
       "       [3.13333333, 3.025     , 3.26779661, 3.225     ],\n",
       "       [3.16666667, 3.05      , 3.28813559, 3.325     ],\n",
       "       [3.35      , 3.05      , 3.36949153, 3.3       ],\n",
       "       [2.9       , 2.925     , 3.1559322 , 3.2       ],\n",
       "       [3.3       , 3.025     , 3.33898305, 3.225     ],\n",
       "       [3.2       , 2.925     , 3.28813559, 3.225     ],\n",
       "       [3.28333333, 3.2       , 3.31864407, 3.4       ],\n",
       "       [3.16666667, 3.1       , 3.21694915, 3.275     ],\n",
       "       [3.15      , 2.975     , 3.23728814, 3.25      ],\n",
       "       [3.21666667, 3.05      , 3.25762712, 3.3       ],\n",
       "       [3.03333333, 2.925     , 3.20677966, 3.275     ],\n",
       "       [3.05      , 3.        , 3.21694915, 3.375     ],\n",
       "       [3.15      , 3.1       , 3.23728814, 3.35      ],\n",
       "       [3.16666667, 3.05      , 3.25762712, 3.225     ],\n",
       "       [3.36666667, 3.25      , 3.37966102, 3.325     ],\n",
       "       [3.36666667, 2.95      , 3.4       , 3.35      ],\n",
       "       [3.08333333, 2.85      , 3.20677966, 3.15      ],\n",
       "       [3.23333333, 3.1       , 3.2779661 , 3.35      ],\n",
       "       [3.01666667, 3.        , 3.19661017, 3.275     ],\n",
       "       [3.36666667, 3.        , 3.37966102, 3.275     ],\n",
       "       [3.13333333, 2.975     , 3.19661017, 3.225     ],\n",
       "       [3.2       , 3.125     , 3.2779661 , 3.3       ],\n",
       "       [3.28333333, 3.1       , 3.30847458, 3.225     ],\n",
       "       [3.11666667, 3.        , 3.18644068, 3.225     ],\n",
       "       [3.1       , 3.05      , 3.19661017, 3.225     ],\n",
       "       [3.15      , 3.        , 3.26779661, 3.3       ],\n",
       "       [3.28333333, 3.05      , 3.28813559, 3.175     ],\n",
       "       [3.31666667, 3.        , 3.31864407, 3.25      ],\n",
       "       [3.4       , 3.25      , 3.34915254, 3.275     ],\n",
       "       [3.15      , 3.        , 3.26779661, 3.325     ],\n",
       "       [3.13333333, 3.        , 3.21694915, 3.15      ],\n",
       "       [3.1       , 2.95      , 3.26779661, 3.125     ],\n",
       "       [3.36666667, 3.05      , 3.31864407, 3.35      ],\n",
       "       [3.13333333, 3.15      , 3.26779661, 3.375     ],\n",
       "       [3.15      , 3.075     , 3.25762712, 3.225     ],\n",
       "       [3.08333333, 3.05      , 3.18644068, 3.225     ],\n",
       "       [3.23333333, 3.075     , 3.24745763, 3.3       ],\n",
       "       [3.2       , 3.075     , 3.26779661, 3.375     ],\n",
       "       [3.23333333, 3.075     , 3.21694915, 3.35      ],\n",
       "       [3.05      , 2.975     , 3.21694915, 3.25      ],\n",
       "       [3.21666667, 3.1       , 3.29830508, 3.35      ],\n",
       "       [3.2       , 3.125     , 3.2779661 , 3.4       ],\n",
       "       [3.2       , 3.05      , 3.22711864, 3.35      ],\n",
       "       [3.13333333, 2.925     , 3.20677966, 3.25      ],\n",
       "       [3.16666667, 3.05      , 3.22711864, 3.275     ],\n",
       "       [3.11666667, 3.15      , 3.24745763, 3.35      ],\n",
       "       [3.06666667, 3.05      , 3.21694915, 3.225     ]])"
      ]
     },
     "execution_count": 35,
     "metadata": {},
     "output_type": "execute_result"
    }
   ],
   "source": [
    "a=2.8\n",
    "b=3.4\n",
    "a + (iris_df - sepalwid_min) * (b-a)/(sepalwid_max - sepalwid_min)\n",
    "m = MinMaxScaler(feature_range=(a,b))\n",
    "m.fit(iris_df)\n",
    "m.transform(iris_df)"
   ]
  },
  {
   "cell_type": "markdown",
   "id": "protected-strip",
   "metadata": {},
   "source": [
    "### Petal_Length"
   ]
  },
  {
   "cell_type": "code",
   "execution_count": 36,
   "id": "applied-bailey",
   "metadata": {},
   "outputs": [
    {
     "data": {
      "text/plain": [
       "array([[2.6       , 4.05      , 2.0440678 , 1.95      ],\n",
       "       [2.4       , 3.3       , 2.0440678 , 1.95      ],\n",
       "       [2.2       , 3.6       , 1.98305085, 1.95      ],\n",
       "       [2.1       , 3.45      , 2.10508475, 1.95      ],\n",
       "       [2.5       , 4.2       , 2.0440678 , 1.95      ],\n",
       "       [2.9       , 4.65      , 2.22711864, 2.25      ],\n",
       "       [2.1       , 3.9       , 2.0440678 , 2.1       ],\n",
       "       [2.5       , 3.9       , 2.10508475, 1.95      ],\n",
       "       [1.9       , 3.15      , 2.0440678 , 1.95      ],\n",
       "       [2.4       , 3.45      , 2.10508475, 1.8       ],\n",
       "       [2.9       , 4.35      , 2.10508475, 1.95      ],\n",
       "       [2.3       , 3.9       , 2.16610169, 1.95      ],\n",
       "       [2.3       , 3.3       , 2.0440678 , 1.8       ],\n",
       "       [1.8       , 3.3       , 1.86101695, 1.8       ],\n",
       "       [3.3       , 4.8       , 1.9220339 , 1.95      ],\n",
       "       [3.2       , 5.4       , 2.10508475, 2.25      ],\n",
       "       [2.9       , 4.65      , 1.98305085, 2.25      ],\n",
       "       [2.6       , 4.05      , 2.0440678 , 2.1       ],\n",
       "       [3.2       , 4.5       , 2.22711864, 2.1       ],\n",
       "       [2.6       , 4.5       , 2.10508475, 2.1       ],\n",
       "       [2.9       , 3.9       , 2.22711864, 1.95      ],\n",
       "       [2.6       , 4.35      , 2.10508475, 2.25      ],\n",
       "       [2.1       , 4.2       , 1.8       , 1.95      ],\n",
       "       [2.6       , 3.75      , 2.22711864, 2.4       ],\n",
       "       [2.3       , 3.9       , 2.34915254, 1.95      ],\n",
       "       [2.5       , 3.3       , 2.16610169, 1.95      ],\n",
       "       [2.5       , 3.9       , 2.16610169, 2.25      ],\n",
       "       [2.7       , 4.05      , 2.10508475, 1.95      ],\n",
       "       [2.7       , 3.9       , 2.0440678 , 1.95      ],\n",
       "       [2.2       , 3.6       , 2.16610169, 1.95      ],\n",
       "       [2.3       , 3.45      , 2.16610169, 1.95      ],\n",
       "       [2.9       , 3.9       , 2.10508475, 2.25      ],\n",
       "       [2.7       , 4.95      , 2.10508475, 1.8       ],\n",
       "       [3.        , 5.1       , 2.0440678 , 1.95      ],\n",
       "       [2.4       , 3.45      , 2.10508475, 1.95      ],\n",
       "       [2.5       , 3.6       , 1.9220339 , 1.95      ],\n",
       "       [3.        , 4.05      , 1.98305085, 1.95      ],\n",
       "       [2.4       , 4.2       , 2.0440678 , 1.8       ],\n",
       "       [1.9       , 3.3       , 1.98305085, 1.95      ],\n",
       "       [2.6       , 3.9       , 2.10508475, 1.95      ],\n",
       "       [2.5       , 4.05      , 1.98305085, 2.1       ],\n",
       "       [2.        , 2.25      , 1.98305085, 2.1       ],\n",
       "       [1.9       , 3.6       , 1.98305085, 1.95      ],\n",
       "       [2.5       , 4.05      , 2.16610169, 2.55      ],\n",
       "       [2.6       , 4.5       , 2.34915254, 2.25      ],\n",
       "       [2.3       , 3.3       , 2.0440678 , 2.1       ],\n",
       "       [2.6       , 4.5       , 2.16610169, 1.95      ],\n",
       "       [2.1       , 3.6       , 2.0440678 , 1.95      ],\n",
       "       [2.8       , 4.35      , 2.10508475, 1.95      ],\n",
       "       [2.5       , 3.75      , 2.0440678 , 1.95      ],\n",
       "       [4.5       , 3.6       , 4.05762712, 3.75      ],\n",
       "       [3.9       , 3.6       , 3.93559322, 3.9       ],\n",
       "       [4.4       , 3.45      , 4.17966102, 3.9       ],\n",
       "       [3.        , 2.25      , 3.63050847, 3.6       ],\n",
       "       [4.        , 3.        , 3.99661017, 3.9       ],\n",
       "       [3.2       , 3.        , 3.93559322, 3.6       ],\n",
       "       [3.8       , 3.75      , 4.05762712, 4.05      ],\n",
       "       [2.4       , 2.4       , 3.20338983, 3.15      ],\n",
       "       [4.1       , 3.15      , 3.99661017, 3.6       ],\n",
       "       [2.7       , 2.85      , 3.56949153, 3.75      ],\n",
       "       [2.5       , 1.8       , 3.32542373, 3.15      ],\n",
       "       [3.4       , 3.3       , 3.75254237, 3.9       ],\n",
       "       [3.5       , 2.1       , 3.63050847, 3.15      ],\n",
       "       [3.6       , 3.15      , 4.05762712, 3.75      ],\n",
       "       [3.1       , 3.15      , 3.38644068, 3.6       ],\n",
       "       [4.2       , 3.45      , 3.87457627, 3.75      ],\n",
       "       [3.1       , 3.3       , 3.93559322, 3.9       ],\n",
       "       [3.3       , 2.85      , 3.69152542, 3.15      ],\n",
       "       [3.7       , 2.1       , 3.93559322, 3.9       ],\n",
       "       [3.1       , 2.55      , 3.56949153, 3.3       ],\n",
       "       [3.4       , 3.6       , 4.11864407, 4.35      ],\n",
       "       [3.6       , 3.        , 3.63050847, 3.6       ],\n",
       "       [3.8       , 2.55      , 4.17966102, 3.9       ],\n",
       "       [3.6       , 3.        , 4.05762712, 3.45      ],\n",
       "       [3.9       , 3.15      , 3.81355932, 3.6       ],\n",
       "       [4.1       , 3.3       , 3.87457627, 3.75      ],\n",
       "       [4.3       , 3.        , 4.11864407, 3.75      ],\n",
       "       [4.2       , 3.3       , 4.24067797, 4.2       ],\n",
       "       [3.5       , 3.15      , 3.93559322, 3.9       ],\n",
       "       [3.2       , 2.7       , 3.32542373, 3.15      ],\n",
       "       [3.        , 2.4       , 3.50847458, 3.3       ],\n",
       "       [3.        , 2.4       , 3.44745763, 3.15      ],\n",
       "       [3.3       , 2.85      , 3.56949153, 3.45      ],\n",
       "       [3.5       , 2.85      , 4.30169492, 4.05      ],\n",
       "       [2.9       , 3.3       , 3.93559322, 3.9       ],\n",
       "       [3.5       , 3.9       , 3.93559322, 4.05      ],\n",
       "       [4.2       , 3.45      , 4.05762712, 3.9       ],\n",
       "       [3.8       , 2.25      , 3.87457627, 3.6       ],\n",
       "       [3.1       , 3.3       , 3.69152542, 3.6       ],\n",
       "       [3.        , 2.55      , 3.63050847, 3.6       ],\n",
       "       [3.        , 2.7       , 3.87457627, 3.45      ],\n",
       "       [3.6       , 3.3       , 3.99661017, 3.75      ],\n",
       "       [3.3       , 2.7       , 3.63050847, 3.45      ],\n",
       "       [2.5       , 2.25      , 3.20338983, 3.15      ],\n",
       "       [3.1       , 2.85      , 3.75254237, 3.6       ],\n",
       "       [3.2       , 3.3       , 3.75254237, 3.45      ],\n",
       "       [3.2       , 3.15      , 3.75254237, 3.6       ],\n",
       "       [3.7       , 3.15      , 3.81355932, 3.6       ],\n",
       "       [2.6       , 2.55      , 3.02033898, 3.3       ],\n",
       "       [3.2       , 3.        , 3.69152542, 3.6       ],\n",
       "       [3.8       , 3.75      , 4.85084746, 5.4       ],\n",
       "       [3.3       , 2.85      , 4.30169492, 4.5       ],\n",
       "       [4.6       , 3.3       , 4.78983051, 4.8       ],\n",
       "       [3.8       , 3.15      , 4.60677966, 4.35      ],\n",
       "       [4.        , 3.3       , 4.72881356, 4.95      ],\n",
       "       [5.1       , 3.3       , 5.21694915, 4.8       ],\n",
       "       [2.4       , 2.55      , 3.93559322, 4.2       ],\n",
       "       [4.8       , 3.15      , 5.03389831, 4.35      ],\n",
       "       [4.2       , 2.55      , 4.72881356, 4.35      ],\n",
       "       [4.7       , 4.2       , 4.91186441, 5.4       ],\n",
       "       [4.        , 3.6       , 4.30169492, 4.65      ],\n",
       "       [3.9       , 2.85      , 4.42372881, 4.5       ],\n",
       "       [4.3       , 3.3       , 4.54576271, 4.8       ],\n",
       "       [3.2       , 2.55      , 4.24067797, 4.65      ],\n",
       "       [3.3       , 3.        , 4.30169492, 5.25      ],\n",
       "       [3.9       , 3.6       , 4.42372881, 5.1       ],\n",
       "       [4.        , 3.3       , 4.54576271, 4.35      ],\n",
       "       [5.2       , 4.5       , 5.2779661 , 4.95      ],\n",
       "       [5.2       , 2.7       , 5.4       , 5.1       ],\n",
       "       [3.5       , 2.1       , 4.24067797, 3.9       ],\n",
       "       [4.4       , 3.6       , 4.66779661, 5.1       ],\n",
       "       [3.1       , 3.        , 4.17966102, 4.65      ],\n",
       "       [5.2       , 3.        , 5.2779661 , 4.65      ],\n",
       "       [3.8       , 2.85      , 4.17966102, 4.35      ],\n",
       "       [4.2       , 3.75      , 4.66779661, 4.8       ],\n",
       "       [4.7       , 3.6       , 4.85084746, 4.35      ],\n",
       "       [3.7       , 3.        , 4.11864407, 4.35      ],\n",
       "       [3.6       , 3.3       , 4.17966102, 4.35      ],\n",
       "       [3.9       , 3.        , 4.60677966, 4.8       ],\n",
       "       [4.7       , 3.3       , 4.72881356, 4.05      ],\n",
       "       [4.9       , 3.        , 4.91186441, 4.5       ],\n",
       "       [5.4       , 4.5       , 5.09491525, 4.65      ],\n",
       "       [3.9       , 3.        , 4.60677966, 4.95      ],\n",
       "       [3.8       , 3.        , 4.30169492, 3.9       ],\n",
       "       [3.6       , 2.7       , 4.60677966, 3.75      ],\n",
       "       [5.2       , 3.3       , 4.91186441, 5.1       ],\n",
       "       [3.8       , 3.9       , 4.60677966, 5.25      ],\n",
       "       [3.9       , 3.45      , 4.54576271, 4.35      ],\n",
       "       [3.5       , 3.3       , 4.11864407, 4.35      ],\n",
       "       [4.4       , 3.45      , 4.48474576, 4.8       ],\n",
       "       [4.2       , 3.45      , 4.60677966, 5.25      ],\n",
       "       [4.4       , 3.45      , 4.30169492, 5.1       ],\n",
       "       [3.3       , 2.85      , 4.30169492, 4.5       ],\n",
       "       [4.3       , 3.6       , 4.78983051, 5.1       ],\n",
       "       [4.2       , 3.75      , 4.66779661, 5.4       ],\n",
       "       [4.2       , 3.3       , 4.36271186, 5.1       ],\n",
       "       [3.8       , 2.55      , 4.24067797, 4.5       ],\n",
       "       [4.        , 3.3       , 4.36271186, 4.65      ],\n",
       "       [3.7       , 3.9       , 4.48474576, 5.1       ],\n",
       "       [3.4       , 3.3       , 4.30169492, 4.35      ]])"
      ]
     },
     "execution_count": 36,
     "metadata": {},
     "output_type": "execute_result"
    }
   ],
   "source": [
    "a=1.8\n",
    "b=5.4\n",
    "a + (iris_df - petallen_min) * (b-a)/(petallen_max - petallen_min)\n",
    "m = MinMaxScaler(feature_range=(a,b))\n",
    "m.fit(iris_df)\n",
    "m.transform(iris_df)"
   ]
  },
  {
   "cell_type": "markdown",
   "id": "aggressive-upgrade",
   "metadata": {},
   "source": [
    "### Petal_Width"
   ]
  },
  {
   "cell_type": "code",
   "execution_count": 37,
   "id": "outer-floor",
   "metadata": {},
   "outputs": [
    {
     "data": {
      "text/plain": [
       "array([[0.63333333, 1.2375    , 0.40169492, 0.3625    ],\n",
       "       [0.55      , 0.925     , 0.40169492, 0.3625    ],\n",
       "       [0.46666667, 1.05      , 0.37627119, 0.3625    ],\n",
       "       [0.425     , 0.9875    , 0.42711864, 0.3625    ],\n",
       "       [0.59166667, 1.3       , 0.40169492, 0.3625    ],\n",
       "       [0.75833333, 1.4875    , 0.4779661 , 0.4875    ],\n",
       "       [0.425     , 1.175     , 0.40169492, 0.425     ],\n",
       "       [0.59166667, 1.175     , 0.42711864, 0.3625    ],\n",
       "       [0.34166667, 0.8625    , 0.40169492, 0.3625    ],\n",
       "       [0.55      , 0.9875    , 0.42711864, 0.3       ],\n",
       "       [0.75833333, 1.3625    , 0.42711864, 0.3625    ],\n",
       "       [0.50833333, 1.175     , 0.45254237, 0.3625    ],\n",
       "       [0.50833333, 0.925     , 0.40169492, 0.3       ],\n",
       "       [0.3       , 0.925     , 0.32542373, 0.3       ],\n",
       "       [0.925     , 1.55      , 0.35084746, 0.3625    ],\n",
       "       [0.88333333, 1.8       , 0.42711864, 0.4875    ],\n",
       "       [0.75833333, 1.4875    , 0.37627119, 0.4875    ],\n",
       "       [0.63333333, 1.2375    , 0.40169492, 0.425     ],\n",
       "       [0.88333333, 1.425     , 0.4779661 , 0.425     ],\n",
       "       [0.63333333, 1.425     , 0.42711864, 0.425     ],\n",
       "       [0.75833333, 1.175     , 0.4779661 , 0.3625    ],\n",
       "       [0.63333333, 1.3625    , 0.42711864, 0.4875    ],\n",
       "       [0.425     , 1.3       , 0.3       , 0.3625    ],\n",
       "       [0.63333333, 1.1125    , 0.4779661 , 0.55      ],\n",
       "       [0.50833333, 1.175     , 0.52881356, 0.3625    ],\n",
       "       [0.59166667, 0.925     , 0.45254237, 0.3625    ],\n",
       "       [0.59166667, 1.175     , 0.45254237, 0.4875    ],\n",
       "       [0.675     , 1.2375    , 0.42711864, 0.3625    ],\n",
       "       [0.675     , 1.175     , 0.40169492, 0.3625    ],\n",
       "       [0.46666667, 1.05      , 0.45254237, 0.3625    ],\n",
       "       [0.50833333, 0.9875    , 0.45254237, 0.3625    ],\n",
       "       [0.75833333, 1.175     , 0.42711864, 0.4875    ],\n",
       "       [0.675     , 1.6125    , 0.42711864, 0.3       ],\n",
       "       [0.8       , 1.675     , 0.40169492, 0.3625    ],\n",
       "       [0.55      , 0.9875    , 0.42711864, 0.3625    ],\n",
       "       [0.59166667, 1.05      , 0.35084746, 0.3625    ],\n",
       "       [0.8       , 1.2375    , 0.37627119, 0.3625    ],\n",
       "       [0.55      , 1.3       , 0.40169492, 0.3       ],\n",
       "       [0.34166667, 0.925     , 0.37627119, 0.3625    ],\n",
       "       [0.63333333, 1.175     , 0.42711864, 0.3625    ],\n",
       "       [0.59166667, 1.2375    , 0.37627119, 0.425     ],\n",
       "       [0.38333333, 0.4875    , 0.37627119, 0.425     ],\n",
       "       [0.34166667, 1.05      , 0.37627119, 0.3625    ],\n",
       "       [0.59166667, 1.2375    , 0.45254237, 0.6125    ],\n",
       "       [0.63333333, 1.425     , 0.52881356, 0.4875    ],\n",
       "       [0.50833333, 0.925     , 0.40169492, 0.425     ],\n",
       "       [0.63333333, 1.425     , 0.45254237, 0.3625    ],\n",
       "       [0.425     , 1.05      , 0.40169492, 0.3625    ],\n",
       "       [0.71666667, 1.3625    , 0.42711864, 0.3625    ],\n",
       "       [0.59166667, 1.1125    , 0.40169492, 0.3625    ],\n",
       "       [1.425     , 1.05      , 1.24067797, 1.1125    ],\n",
       "       [1.175     , 1.05      , 1.18983051, 1.175     ],\n",
       "       [1.38333333, 0.9875    , 1.29152542, 1.175     ],\n",
       "       [0.8       , 0.4875    , 1.06271186, 1.05      ],\n",
       "       [1.21666667, 0.8       , 1.21525424, 1.175     ],\n",
       "       [0.88333333, 0.8       , 1.18983051, 1.05      ],\n",
       "       [1.13333333, 1.1125    , 1.24067797, 1.2375    ],\n",
       "       [0.55      , 0.55      , 0.88474576, 0.8625    ],\n",
       "       [1.25833333, 0.8625    , 1.21525424, 1.05      ],\n",
       "       [0.675     , 0.7375    , 1.03728814, 1.1125    ],\n",
       "       [0.59166667, 0.3       , 0.93559322, 0.8625    ],\n",
       "       [0.96666667, 0.925     , 1.11355932, 1.175     ],\n",
       "       [1.00833333, 0.425     , 1.06271186, 0.8625    ],\n",
       "       [1.05      , 0.8625    , 1.24067797, 1.1125    ],\n",
       "       [0.84166667, 0.8625    , 0.96101695, 1.05      ],\n",
       "       [1.3       , 0.9875    , 1.16440678, 1.1125    ],\n",
       "       [0.84166667, 0.925     , 1.18983051, 1.175     ],\n",
       "       [0.925     , 0.7375    , 1.08813559, 0.8625    ],\n",
       "       [1.09166667, 0.425     , 1.18983051, 1.175     ],\n",
       "       [0.84166667, 0.6125    , 1.03728814, 0.925     ],\n",
       "       [0.96666667, 1.05      , 1.26610169, 1.3625    ],\n",
       "       [1.05      , 0.8       , 1.06271186, 1.05      ],\n",
       "       [1.13333333, 0.6125    , 1.29152542, 1.175     ],\n",
       "       [1.05      , 0.8       , 1.24067797, 0.9875    ],\n",
       "       [1.175     , 0.8625    , 1.13898305, 1.05      ],\n",
       "       [1.25833333, 0.925     , 1.16440678, 1.1125    ],\n",
       "       [1.34166667, 0.8       , 1.26610169, 1.1125    ],\n",
       "       [1.3       , 0.925     , 1.31694915, 1.3       ],\n",
       "       [1.00833333, 0.8625    , 1.18983051, 1.175     ],\n",
       "       [0.88333333, 0.675     , 0.93559322, 0.8625    ],\n",
       "       [0.8       , 0.55      , 1.01186441, 0.925     ],\n",
       "       [0.8       , 0.55      , 0.98644068, 0.8625    ],\n",
       "       [0.925     , 0.7375    , 1.03728814, 0.9875    ],\n",
       "       [1.00833333, 0.7375    , 1.34237288, 1.2375    ],\n",
       "       [0.75833333, 0.925     , 1.18983051, 1.175     ],\n",
       "       [1.00833333, 1.175     , 1.18983051, 1.2375    ],\n",
       "       [1.3       , 0.9875    , 1.24067797, 1.175     ],\n",
       "       [1.13333333, 0.4875    , 1.16440678, 1.05      ],\n",
       "       [0.84166667, 0.925     , 1.08813559, 1.05      ],\n",
       "       [0.8       , 0.6125    , 1.06271186, 1.05      ],\n",
       "       [0.8       , 0.675     , 1.16440678, 0.9875    ],\n",
       "       [1.05      , 0.925     , 1.21525424, 1.1125    ],\n",
       "       [0.925     , 0.675     , 1.06271186, 0.9875    ],\n",
       "       [0.59166667, 0.4875    , 0.88474576, 0.8625    ],\n",
       "       [0.84166667, 0.7375    , 1.11355932, 1.05      ],\n",
       "       [0.88333333, 0.925     , 1.11355932, 0.9875    ],\n",
       "       [0.88333333, 0.8625    , 1.11355932, 1.05      ],\n",
       "       [1.09166667, 0.8625    , 1.13898305, 1.05      ],\n",
       "       [0.63333333, 0.6125    , 0.80847458, 0.925     ],\n",
       "       [0.88333333, 0.8       , 1.08813559, 1.05      ],\n",
       "       [1.13333333, 1.1125    , 1.57118644, 1.8       ],\n",
       "       [0.925     , 0.7375    , 1.34237288, 1.425     ],\n",
       "       [1.46666667, 0.925     , 1.54576271, 1.55      ],\n",
       "       [1.13333333, 0.8625    , 1.46949153, 1.3625    ],\n",
       "       [1.21666667, 0.925     , 1.52033898, 1.6125    ],\n",
       "       [1.675     , 0.925     , 1.72372881, 1.55      ],\n",
       "       [0.55      , 0.6125    , 1.18983051, 1.3       ],\n",
       "       [1.55      , 0.8625    , 1.64745763, 1.3625    ],\n",
       "       [1.3       , 0.6125    , 1.52033898, 1.3625    ],\n",
       "       [1.50833333, 1.3       , 1.59661017, 1.8       ],\n",
       "       [1.21666667, 1.05      , 1.34237288, 1.4875    ],\n",
       "       [1.175     , 0.7375    , 1.39322034, 1.425     ],\n",
       "       [1.34166667, 0.925     , 1.4440678 , 1.55      ],\n",
       "       [0.88333333, 0.6125    , 1.31694915, 1.4875    ],\n",
       "       [0.925     , 0.8       , 1.34237288, 1.7375    ],\n",
       "       [1.175     , 1.05      , 1.39322034, 1.675     ],\n",
       "       [1.21666667, 0.925     , 1.4440678 , 1.3625    ],\n",
       "       [1.71666667, 1.425     , 1.74915254, 1.6125    ],\n",
       "       [1.71666667, 0.675     , 1.8       , 1.675     ],\n",
       "       [1.00833333, 0.425     , 1.31694915, 1.175     ],\n",
       "       [1.38333333, 1.05      , 1.49491525, 1.675     ],\n",
       "       [0.84166667, 0.8       , 1.29152542, 1.4875    ],\n",
       "       [1.71666667, 0.8       , 1.74915254, 1.4875    ],\n",
       "       [1.13333333, 0.7375    , 1.29152542, 1.3625    ],\n",
       "       [1.3       , 1.1125    , 1.49491525, 1.55      ],\n",
       "       [1.50833333, 1.05      , 1.57118644, 1.3625    ],\n",
       "       [1.09166667, 0.8       , 1.26610169, 1.3625    ],\n",
       "       [1.05      , 0.925     , 1.29152542, 1.3625    ],\n",
       "       [1.175     , 0.8       , 1.46949153, 1.55      ],\n",
       "       [1.50833333, 0.925     , 1.52033898, 1.2375    ],\n",
       "       [1.59166667, 0.8       , 1.59661017, 1.425     ],\n",
       "       [1.8       , 1.425     , 1.67288136, 1.4875    ],\n",
       "       [1.175     , 0.8       , 1.46949153, 1.6125    ],\n",
       "       [1.13333333, 0.8       , 1.34237288, 1.175     ],\n",
       "       [1.05      , 0.675     , 1.46949153, 1.1125    ],\n",
       "       [1.71666667, 0.925     , 1.59661017, 1.675     ],\n",
       "       [1.13333333, 1.175     , 1.46949153, 1.7375    ],\n",
       "       [1.175     , 0.9875    , 1.4440678 , 1.3625    ],\n",
       "       [1.00833333, 0.925     , 1.26610169, 1.3625    ],\n",
       "       [1.38333333, 0.9875    , 1.41864407, 1.55      ],\n",
       "       [1.3       , 0.9875    , 1.46949153, 1.7375    ],\n",
       "       [1.38333333, 0.9875    , 1.34237288, 1.675     ],\n",
       "       [0.925     , 0.7375    , 1.34237288, 1.425     ],\n",
       "       [1.34166667, 1.05      , 1.54576271, 1.675     ],\n",
       "       [1.3       , 1.1125    , 1.49491525, 1.8       ],\n",
       "       [1.3       , 0.925     , 1.36779661, 1.675     ],\n",
       "       [1.13333333, 0.6125    , 1.31694915, 1.425     ],\n",
       "       [1.21666667, 0.925     , 1.36779661, 1.4875    ],\n",
       "       [1.09166667, 1.175     , 1.41864407, 1.675     ],\n",
       "       [0.96666667, 0.925     , 1.34237288, 1.3625    ]])"
      ]
     },
     "execution_count": 37,
     "metadata": {},
     "output_type": "execute_result"
    }
   ],
   "source": [
    "a=0.3\n",
    "b=1.8\n",
    "a + (iris_df - petalwid_min) * (b-a)/(petalwid_max - petalwid_min)\n",
    "m = MinMaxScaler(feature_range=(a,b))\n",
    "m.fit(iris_df)\n",
    "m.transform(iris_df)"
   ]
  },
  {
   "cell_type": "markdown",
   "id": "descending-entertainment",
   "metadata": {},
   "source": [
    "### fit_transform()"
   ]
  },
  {
   "cell_type": "code",
   "execution_count": 39,
   "id": "healthy-refund",
   "metadata": {},
   "outputs": [
    {
     "data": {
      "text/plain": [
       "array([[0.63333333, 1.2375    , 0.40169492, 0.3625    ],\n",
       "       [0.55      , 0.925     , 0.40169492, 0.3625    ],\n",
       "       [0.46666667, 1.05      , 0.37627119, 0.3625    ],\n",
       "       [0.425     , 0.9875    , 0.42711864, 0.3625    ],\n",
       "       [0.59166667, 1.3       , 0.40169492, 0.3625    ],\n",
       "       [0.75833333, 1.4875    , 0.4779661 , 0.4875    ],\n",
       "       [0.425     , 1.175     , 0.40169492, 0.425     ],\n",
       "       [0.59166667, 1.175     , 0.42711864, 0.3625    ],\n",
       "       [0.34166667, 0.8625    , 0.40169492, 0.3625    ],\n",
       "       [0.55      , 0.9875    , 0.42711864, 0.3       ],\n",
       "       [0.75833333, 1.3625    , 0.42711864, 0.3625    ],\n",
       "       [0.50833333, 1.175     , 0.45254237, 0.3625    ],\n",
       "       [0.50833333, 0.925     , 0.40169492, 0.3       ],\n",
       "       [0.3       , 0.925     , 0.32542373, 0.3       ],\n",
       "       [0.925     , 1.55      , 0.35084746, 0.3625    ],\n",
       "       [0.88333333, 1.8       , 0.42711864, 0.4875    ],\n",
       "       [0.75833333, 1.4875    , 0.37627119, 0.4875    ],\n",
       "       [0.63333333, 1.2375    , 0.40169492, 0.425     ],\n",
       "       [0.88333333, 1.425     , 0.4779661 , 0.425     ],\n",
       "       [0.63333333, 1.425     , 0.42711864, 0.425     ],\n",
       "       [0.75833333, 1.175     , 0.4779661 , 0.3625    ],\n",
       "       [0.63333333, 1.3625    , 0.42711864, 0.4875    ],\n",
       "       [0.425     , 1.3       , 0.3       , 0.3625    ],\n",
       "       [0.63333333, 1.1125    , 0.4779661 , 0.55      ],\n",
       "       [0.50833333, 1.175     , 0.52881356, 0.3625    ],\n",
       "       [0.59166667, 0.925     , 0.45254237, 0.3625    ],\n",
       "       [0.59166667, 1.175     , 0.45254237, 0.4875    ],\n",
       "       [0.675     , 1.2375    , 0.42711864, 0.3625    ],\n",
       "       [0.675     , 1.175     , 0.40169492, 0.3625    ],\n",
       "       [0.46666667, 1.05      , 0.45254237, 0.3625    ],\n",
       "       [0.50833333, 0.9875    , 0.45254237, 0.3625    ],\n",
       "       [0.75833333, 1.175     , 0.42711864, 0.4875    ],\n",
       "       [0.675     , 1.6125    , 0.42711864, 0.3       ],\n",
       "       [0.8       , 1.675     , 0.40169492, 0.3625    ],\n",
       "       [0.55      , 0.9875    , 0.42711864, 0.3625    ],\n",
       "       [0.59166667, 1.05      , 0.35084746, 0.3625    ],\n",
       "       [0.8       , 1.2375    , 0.37627119, 0.3625    ],\n",
       "       [0.55      , 1.3       , 0.40169492, 0.3       ],\n",
       "       [0.34166667, 0.925     , 0.37627119, 0.3625    ],\n",
       "       [0.63333333, 1.175     , 0.42711864, 0.3625    ],\n",
       "       [0.59166667, 1.2375    , 0.37627119, 0.425     ],\n",
       "       [0.38333333, 0.4875    , 0.37627119, 0.425     ],\n",
       "       [0.34166667, 1.05      , 0.37627119, 0.3625    ],\n",
       "       [0.59166667, 1.2375    , 0.45254237, 0.6125    ],\n",
       "       [0.63333333, 1.425     , 0.52881356, 0.4875    ],\n",
       "       [0.50833333, 0.925     , 0.40169492, 0.425     ],\n",
       "       [0.63333333, 1.425     , 0.45254237, 0.3625    ],\n",
       "       [0.425     , 1.05      , 0.40169492, 0.3625    ],\n",
       "       [0.71666667, 1.3625    , 0.42711864, 0.3625    ],\n",
       "       [0.59166667, 1.1125    , 0.40169492, 0.3625    ],\n",
       "       [1.425     , 1.05      , 1.24067797, 1.1125    ],\n",
       "       [1.175     , 1.05      , 1.18983051, 1.175     ],\n",
       "       [1.38333333, 0.9875    , 1.29152542, 1.175     ],\n",
       "       [0.8       , 0.4875    , 1.06271186, 1.05      ],\n",
       "       [1.21666667, 0.8       , 1.21525424, 1.175     ],\n",
       "       [0.88333333, 0.8       , 1.18983051, 1.05      ],\n",
       "       [1.13333333, 1.1125    , 1.24067797, 1.2375    ],\n",
       "       [0.55      , 0.55      , 0.88474576, 0.8625    ],\n",
       "       [1.25833333, 0.8625    , 1.21525424, 1.05      ],\n",
       "       [0.675     , 0.7375    , 1.03728814, 1.1125    ],\n",
       "       [0.59166667, 0.3       , 0.93559322, 0.8625    ],\n",
       "       [0.96666667, 0.925     , 1.11355932, 1.175     ],\n",
       "       [1.00833333, 0.425     , 1.06271186, 0.8625    ],\n",
       "       [1.05      , 0.8625    , 1.24067797, 1.1125    ],\n",
       "       [0.84166667, 0.8625    , 0.96101695, 1.05      ],\n",
       "       [1.3       , 0.9875    , 1.16440678, 1.1125    ],\n",
       "       [0.84166667, 0.925     , 1.18983051, 1.175     ],\n",
       "       [0.925     , 0.7375    , 1.08813559, 0.8625    ],\n",
       "       [1.09166667, 0.425     , 1.18983051, 1.175     ],\n",
       "       [0.84166667, 0.6125    , 1.03728814, 0.925     ],\n",
       "       [0.96666667, 1.05      , 1.26610169, 1.3625    ],\n",
       "       [1.05      , 0.8       , 1.06271186, 1.05      ],\n",
       "       [1.13333333, 0.6125    , 1.29152542, 1.175     ],\n",
       "       [1.05      , 0.8       , 1.24067797, 0.9875    ],\n",
       "       [1.175     , 0.8625    , 1.13898305, 1.05      ],\n",
       "       [1.25833333, 0.925     , 1.16440678, 1.1125    ],\n",
       "       [1.34166667, 0.8       , 1.26610169, 1.1125    ],\n",
       "       [1.3       , 0.925     , 1.31694915, 1.3       ],\n",
       "       [1.00833333, 0.8625    , 1.18983051, 1.175     ],\n",
       "       [0.88333333, 0.675     , 0.93559322, 0.8625    ],\n",
       "       [0.8       , 0.55      , 1.01186441, 0.925     ],\n",
       "       [0.8       , 0.55      , 0.98644068, 0.8625    ],\n",
       "       [0.925     , 0.7375    , 1.03728814, 0.9875    ],\n",
       "       [1.00833333, 0.7375    , 1.34237288, 1.2375    ],\n",
       "       [0.75833333, 0.925     , 1.18983051, 1.175     ],\n",
       "       [1.00833333, 1.175     , 1.18983051, 1.2375    ],\n",
       "       [1.3       , 0.9875    , 1.24067797, 1.175     ],\n",
       "       [1.13333333, 0.4875    , 1.16440678, 1.05      ],\n",
       "       [0.84166667, 0.925     , 1.08813559, 1.05      ],\n",
       "       [0.8       , 0.6125    , 1.06271186, 1.05      ],\n",
       "       [0.8       , 0.675     , 1.16440678, 0.9875    ],\n",
       "       [1.05      , 0.925     , 1.21525424, 1.1125    ],\n",
       "       [0.925     , 0.675     , 1.06271186, 0.9875    ],\n",
       "       [0.59166667, 0.4875    , 0.88474576, 0.8625    ],\n",
       "       [0.84166667, 0.7375    , 1.11355932, 1.05      ],\n",
       "       [0.88333333, 0.925     , 1.11355932, 0.9875    ],\n",
       "       [0.88333333, 0.8625    , 1.11355932, 1.05      ],\n",
       "       [1.09166667, 0.8625    , 1.13898305, 1.05      ],\n",
       "       [0.63333333, 0.6125    , 0.80847458, 0.925     ],\n",
       "       [0.88333333, 0.8       , 1.08813559, 1.05      ],\n",
       "       [1.13333333, 1.1125    , 1.57118644, 1.8       ],\n",
       "       [0.925     , 0.7375    , 1.34237288, 1.425     ],\n",
       "       [1.46666667, 0.925     , 1.54576271, 1.55      ],\n",
       "       [1.13333333, 0.8625    , 1.46949153, 1.3625    ],\n",
       "       [1.21666667, 0.925     , 1.52033898, 1.6125    ],\n",
       "       [1.675     , 0.925     , 1.72372881, 1.55      ],\n",
       "       [0.55      , 0.6125    , 1.18983051, 1.3       ],\n",
       "       [1.55      , 0.8625    , 1.64745763, 1.3625    ],\n",
       "       [1.3       , 0.6125    , 1.52033898, 1.3625    ],\n",
       "       [1.50833333, 1.3       , 1.59661017, 1.8       ],\n",
       "       [1.21666667, 1.05      , 1.34237288, 1.4875    ],\n",
       "       [1.175     , 0.7375    , 1.39322034, 1.425     ],\n",
       "       [1.34166667, 0.925     , 1.4440678 , 1.55      ],\n",
       "       [0.88333333, 0.6125    , 1.31694915, 1.4875    ],\n",
       "       [0.925     , 0.8       , 1.34237288, 1.7375    ],\n",
       "       [1.175     , 1.05      , 1.39322034, 1.675     ],\n",
       "       [1.21666667, 0.925     , 1.4440678 , 1.3625    ],\n",
       "       [1.71666667, 1.425     , 1.74915254, 1.6125    ],\n",
       "       [1.71666667, 0.675     , 1.8       , 1.675     ],\n",
       "       [1.00833333, 0.425     , 1.31694915, 1.175     ],\n",
       "       [1.38333333, 1.05      , 1.49491525, 1.675     ],\n",
       "       [0.84166667, 0.8       , 1.29152542, 1.4875    ],\n",
       "       [1.71666667, 0.8       , 1.74915254, 1.4875    ],\n",
       "       [1.13333333, 0.7375    , 1.29152542, 1.3625    ],\n",
       "       [1.3       , 1.1125    , 1.49491525, 1.55      ],\n",
       "       [1.50833333, 1.05      , 1.57118644, 1.3625    ],\n",
       "       [1.09166667, 0.8       , 1.26610169, 1.3625    ],\n",
       "       [1.05      , 0.925     , 1.29152542, 1.3625    ],\n",
       "       [1.175     , 0.8       , 1.46949153, 1.55      ],\n",
       "       [1.50833333, 0.925     , 1.52033898, 1.2375    ],\n",
       "       [1.59166667, 0.8       , 1.59661017, 1.425     ],\n",
       "       [1.8       , 1.425     , 1.67288136, 1.4875    ],\n",
       "       [1.175     , 0.8       , 1.46949153, 1.6125    ],\n",
       "       [1.13333333, 0.8       , 1.34237288, 1.175     ],\n",
       "       [1.05      , 0.675     , 1.46949153, 1.1125    ],\n",
       "       [1.71666667, 0.925     , 1.59661017, 1.675     ],\n",
       "       [1.13333333, 1.175     , 1.46949153, 1.7375    ],\n",
       "       [1.175     , 0.9875    , 1.4440678 , 1.3625    ],\n",
       "       [1.00833333, 0.925     , 1.26610169, 1.3625    ],\n",
       "       [1.38333333, 0.9875    , 1.41864407, 1.55      ],\n",
       "       [1.3       , 0.9875    , 1.46949153, 1.7375    ],\n",
       "       [1.38333333, 0.9875    , 1.34237288, 1.675     ],\n",
       "       [0.925     , 0.7375    , 1.34237288, 1.425     ],\n",
       "       [1.34166667, 1.05      , 1.54576271, 1.675     ],\n",
       "       [1.3       , 1.1125    , 1.49491525, 1.8       ],\n",
       "       [1.3       , 0.925     , 1.36779661, 1.675     ],\n",
       "       [1.13333333, 0.6125    , 1.31694915, 1.425     ],\n",
       "       [1.21666667, 0.925     , 1.36779661, 1.4875    ],\n",
       "       [1.09166667, 1.175     , 1.41864407, 1.675     ],\n",
       "       [0.96666667, 0.925     , 1.34237288, 1.3625    ]])"
      ]
     },
     "execution_count": 39,
     "metadata": {},
     "output_type": "execute_result"
    }
   ],
   "source": [
    "scale_df = m.fit_transform(iris_df)\n",
    "scale_df"
   ]
  },
  {
   "cell_type": "code",
   "execution_count": null,
   "id": "convinced-cleveland",
   "metadata": {},
   "outputs": [],
   "source": []
  }
 ],
 "metadata": {
  "kernelspec": {
   "display_name": "Python 3",
   "language": "python",
   "name": "python3"
  },
  "language_info": {
   "codemirror_mode": {
    "name": "ipython",
    "version": 3
   },
   "file_extension": ".py",
   "mimetype": "text/x-python",
   "name": "python",
   "nbconvert_exporter": "python",
   "pygments_lexer": "ipython3",
   "version": "3.8.8"
  }
 },
 "nbformat": 4,
 "nbformat_minor": 5
}
