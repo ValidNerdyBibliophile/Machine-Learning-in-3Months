{
 "cells": [
  {
   "cell_type": "code",
   "execution_count": 10,
   "metadata": {
    "id": "Op-6tenCufLK"
   },
   "outputs": [],
   "source": [
    "import pandas as pd\n",
    "import numpy as np\n",
    "import matplotlib.pyplot as plt"
   ]
  },
  {
   "cell_type": "code",
   "execution_count": 25,
   "metadata": {
    "id": "ZjrLIXJOvFmL"
   },
   "outputs": [],
   "source": [
    "df = pd.read_csv('/content/Google_Stock_Price_Train.csv',parse_dates = ['Date'],index_col = 'Date')"
   ]
  },
  {
   "cell_type": "code",
   "execution_count": 26,
   "metadata": {
    "colab": {
     "base_uri": "https://localhost:8080/",
     "height": 235
    },
    "id": "RtVDMHEYC33r",
    "outputId": "99ce9a06-000c-4c68-8b58-66f665e41118"
   },
   "outputs": [
    {
     "data": {
      "text/html": [
       "<div>\n",
       "<style scoped>\n",
       "    .dataframe tbody tr th:only-of-type {\n",
       "        vertical-align: middle;\n",
       "    }\n",
       "\n",
       "    .dataframe tbody tr th {\n",
       "        vertical-align: top;\n",
       "    }\n",
       "\n",
       "    .dataframe thead th {\n",
       "        text-align: right;\n",
       "    }\n",
       "</style>\n",
       "<table border=\"1\" class=\"dataframe\">\n",
       "  <thead>\n",
       "    <tr style=\"text-align: right;\">\n",
       "      <th></th>\n",
       "      <th>Open</th>\n",
       "      <th>Close</th>\n",
       "      <th>Low</th>\n",
       "      <th>High</th>\n",
       "      <th>Volume</th>\n",
       "    </tr>\n",
       "    <tr>\n",
       "      <th>Date</th>\n",
       "      <th></th>\n",
       "      <th></th>\n",
       "      <th></th>\n",
       "      <th></th>\n",
       "      <th></th>\n",
       "    </tr>\n",
       "  </thead>\n",
       "  <tbody>\n",
       "    <tr>\n",
       "      <th>2012-01-03</th>\n",
       "      <td>325.25</td>\n",
       "      <td>663.59</td>\n",
       "      <td>324.97</td>\n",
       "      <td>332.83</td>\n",
       "      <td>73,80,500</td>\n",
       "    </tr>\n",
       "    <tr>\n",
       "      <th>2012-01-04</th>\n",
       "      <td>331.27</td>\n",
       "      <td>666.45</td>\n",
       "      <td>329.08</td>\n",
       "      <td>333.87</td>\n",
       "      <td>57,49,400</td>\n",
       "    </tr>\n",
       "    <tr>\n",
       "      <th>2012-01-05</th>\n",
       "      <td>329.83</td>\n",
       "      <td>657.21</td>\n",
       "      <td>326.89</td>\n",
       "      <td>330.75</td>\n",
       "      <td>65,90,300</td>\n",
       "    </tr>\n",
       "    <tr>\n",
       "      <th>2012-01-06</th>\n",
       "      <td>328.34</td>\n",
       "      <td>648.24</td>\n",
       "      <td>323.68</td>\n",
       "      <td>328.77</td>\n",
       "      <td>54,05,900</td>\n",
       "    </tr>\n",
       "    <tr>\n",
       "      <th>2012-01-09</th>\n",
       "      <td>322.04</td>\n",
       "      <td>620.76</td>\n",
       "      <td>309.46</td>\n",
       "      <td>322.29</td>\n",
       "      <td>1,16,88,800</td>\n",
       "    </tr>\n",
       "  </tbody>\n",
       "</table>\n",
       "</div>"
      ],
      "text/plain": [
       "              Open   Close     Low    High       Volume\n",
       "Date                                                   \n",
       "2012-01-03  325.25  663.59  324.97  332.83    73,80,500\n",
       "2012-01-04  331.27  666.45  329.08  333.87    57,49,400\n",
       "2012-01-05  329.83  657.21  326.89  330.75    65,90,300\n",
       "2012-01-06  328.34  648.24  323.68  328.77    54,05,900\n",
       "2012-01-09  322.04  620.76  309.46  322.29  1,16,88,800"
      ]
     },
     "execution_count": 26,
     "metadata": {
      "tags": []
     },
     "output_type": "execute_result"
    }
   ],
   "source": [
    "df.head()"
   ]
  },
  {
   "cell_type": "code",
   "execution_count": 40,
   "metadata": {
    "id": "cFSejNrYDCm8"
   },
   "outputs": [],
   "source": [
    "xtrain = df[['Open']]"
   ]
  },
  {
   "cell_type": "code",
   "execution_count": 41,
   "metadata": {
    "colab": {
     "base_uri": "https://localhost:8080/"
    },
    "id": "8DPgYcrDDI7Y",
    "outputId": "ca49963e-7a7d-49e1-979a-ef648393cbce"
   },
   "outputs": [
    {
     "data": {
      "text/plain": [
       "(1258, 1)"
      ]
     },
     "execution_count": 41,
     "metadata": {
      "tags": []
     },
     "output_type": "execute_result"
    }
   ],
   "source": [
    "from sklearn.preprocessing import MinMaxScaler\n",
    "sc = MinMaxScaler()\n",
    "sc_xtrain = sc.fit_transform(xtrain)\n",
    "sc_xtrain.shape"
   ]
  },
  {
   "cell_type": "code",
   "execution_count": 42,
   "metadata": {
    "id": "p3nf9hXWDjd5"
   },
   "outputs": [],
   "source": [
    "def feature_selection(n_steps,data):\n",
    "  x = []\n",
    "  y = []\n",
    "  for i in range(n_steps,len(data)):\n",
    "    x.append(data[i-n_steps:i,0])\n",
    "    y.append(data[i,0])\n",
    "  return np.array(x),np.array(y)\n"
   ]
  },
  {
   "cell_type": "code",
   "execution_count": 43,
   "metadata": {
    "id": "t_vMeUphL5Av"
   },
   "outputs": [],
   "source": [
    "n_steps = 12\n",
    "x_train,y_train = feature_selection(n_steps,sc_xtrain)"
   ]
  },
  {
   "cell_type": "code",
   "execution_count": 44,
   "metadata": {
    "colab": {
     "base_uri": "https://localhost:8080/"
    },
    "id": "ZAprgMgHMEFs",
    "outputId": "b83254fc-f819-49d1-fc5e-7c781c1f1041"
   },
   "outputs": [
    {
     "data": {
      "text/plain": [
       "((1246, 12), (1246,))"
      ]
     },
     "execution_count": 44,
     "metadata": {
      "tags": []
     },
     "output_type": "execute_result"
    }
   ],
   "source": [
    "x_train.shape,y_train.shape"
   ]
  },
  {
   "cell_type": "code",
   "execution_count": 45,
   "metadata": {
    "colab": {
     "base_uri": "https://localhost:8080/"
    },
    "id": "Frt1Kto9MI6r",
    "outputId": "4ac58844-e8ac-42b7-a761-9af64655503e"
   },
   "outputs": [
    {
     "data": {
      "text/plain": [
       "array([[[0.08581368],\n",
       "        [0.09701243],\n",
       "        [0.09433366],\n",
       "        ...,\n",
       "        [0.06639259],\n",
       "        [0.0614257 ],\n",
       "        [0.07474514]],\n",
       "\n",
       "       [[0.09701243],\n",
       "        [0.09433366],\n",
       "        [0.09156187],\n",
       "        ...,\n",
       "        [0.0614257 ],\n",
       "        [0.07474514],\n",
       "        [0.02797827]],\n",
       "\n",
       "       [[0.09433366],\n",
       "        [0.09156187],\n",
       "        [0.07984225],\n",
       "        ...,\n",
       "        [0.07474514],\n",
       "        [0.02797827],\n",
       "        [0.02379269]],\n",
       "\n",
       "       ...,\n",
       "\n",
       "       [[0.93176576],\n",
       "        [0.94114145],\n",
       "        [0.95762334],\n",
       "        ...,\n",
       "        [0.95475854],\n",
       "        [0.95204256],\n",
       "        [0.95163331]],\n",
       "\n",
       "       [[0.94114145],\n",
       "        [0.95762334],\n",
       "        [0.96413424],\n",
       "        ...,\n",
       "        [0.95204256],\n",
       "        [0.95163331],\n",
       "        [0.95725128]],\n",
       "\n",
       "       [[0.95762334],\n",
       "        [0.96413424],\n",
       "        [0.96402262],\n",
       "        ...,\n",
       "        [0.95163331],\n",
       "        [0.95725128],\n",
       "        [0.93796041]]])"
      ]
     },
     "execution_count": 45,
     "metadata": {
      "tags": []
     },
     "output_type": "execute_result"
    }
   ],
   "source": [
    "x_train = x_train.reshape((x_train.shape[0],x_train.shape[1],1))#row,column,feature\n",
    "x_train"
   ]
  },
  {
   "cell_type": "code",
   "execution_count": 46,
   "metadata": {
    "colab": {
     "base_uri": "https://localhost:8080/"
    },
    "id": "EXtu7yInM8Mu",
    "outputId": "c3230cab-aeb4-4ace-bd8d-eebb4c61c4d8"
   },
   "outputs": [
    {
     "data": {
      "text/plain": [
       "array([0.02797827, 0.02379269, 0.02409033, ..., 0.95725128, 0.93796041,\n",
       "       0.93688146])"
      ]
     },
     "execution_count": 46,
     "metadata": {
      "tags": []
     },
     "output_type": "execute_result"
    }
   ],
   "source": [
    "x_train = x_train.reshape((x_train.shape[0],x_train.shape[1],1))#row,column,feature\n",
    "x_train"
   ]
  },
  {
   "cell_type": "code",
   "execution_count": 47,
   "metadata": {
    "colab": {
     "base_uri": "https://localhost:8080/"
    },
    "id": "bM91GRmxNAoz",
    "outputId": "3dfea170-c71f-4396-aa21-ec392539778e"
   },
   "outputs": [
    {
     "name": "stdout",
     "output_type": "stream",
     "text": [
      "Model: \"sequential\"\n",
      "_________________________________________________________________\n",
      "Layer (type)                 Output Shape              Param #   \n",
      "=================================================================\n",
      "lstm (LSTM)                  (None, 50)                10400     \n",
      "_________________________________________________________________\n",
      "dense (Dense)                (None, 1)                 51        \n",
      "=================================================================\n",
      "Total params: 10,451\n",
      "Trainable params: 10,451\n",
      "Non-trainable params: 0\n",
      "_________________________________________________________________\n"
     ]
    }
   ],
   "source": [
    "from keras.layers import Dense,LSTM\n",
    "from keras.models import Sequential\n",
    "model = Sequential()\n",
    "model.add(LSTM(50,activation = 'relu',input_shape = (n_steps,1)))\n",
    "model.add(Dense(1))\n",
    "model.compile(optimizer = 'adam',loss = 'mean_squared_error')\n",
    "model.summary()"
   ]
  },
  {
   "cell_type": "code",
   "execution_count": 57,
   "metadata": {
    "colab": {
     "base_uri": "https://localhost:8080/"
    },
    "id": "Z8nAXmlyPC08",
    "outputId": "ce4c1450-7ea0-4833-9aa4-e5aa57af7f5e"
   },
   "outputs": [
    {
     "name": "stdout",
     "output_type": "stream",
     "text": [
      "Epoch 1/100\n",
      "125/125 [==============================] - 2s 5ms/step - loss: 0.1040\n",
      "Epoch 2/100\n",
      "125/125 [==============================] - 1s 6ms/step - loss: 0.0010\n",
      "Epoch 3/100\n",
      "125/125 [==============================] - 1s 6ms/step - loss: 7.2681e-04\n",
      "Epoch 4/100\n",
      "125/125 [==============================] - 1s 6ms/step - loss: 6.7284e-04\n",
      "Epoch 5/100\n",
      "125/125 [==============================] - 1s 5ms/step - loss: 5.8269e-04\n",
      "Epoch 6/100\n",
      "125/125 [==============================] - 1s 5ms/step - loss: 6.6424e-04\n",
      "Epoch 7/100\n",
      "125/125 [==============================] - 1s 5ms/step - loss: 6.7499e-04\n",
      "Epoch 8/100\n",
      "125/125 [==============================] - 1s 5ms/step - loss: 6.1892e-04\n",
      "Epoch 9/100\n",
      "125/125 [==============================] - 1s 5ms/step - loss: 7.1770e-04\n",
      "Epoch 10/100\n",
      "125/125 [==============================] - 1s 5ms/step - loss: 5.7157e-04\n",
      "Epoch 11/100\n",
      "125/125 [==============================] - 1s 5ms/step - loss: 5.7794e-04\n",
      "Epoch 12/100\n",
      "125/125 [==============================] - 1s 5ms/step - loss: 5.1421e-04\n",
      "Epoch 13/100\n",
      "125/125 [==============================] - 1s 5ms/step - loss: 4.3313e-04\n",
      "Epoch 14/100\n",
      "125/125 [==============================] - 1s 5ms/step - loss: 4.6523e-04\n",
      "Epoch 15/100\n",
      "125/125 [==============================] - 1s 5ms/step - loss: 4.4839e-04\n",
      "Epoch 16/100\n",
      "125/125 [==============================] - 1s 5ms/step - loss: 4.4551e-04\n",
      "Epoch 17/100\n",
      "125/125 [==============================] - 1s 5ms/step - loss: 4.5297e-04\n",
      "Epoch 18/100\n",
      "125/125 [==============================] - 1s 5ms/step - loss: 4.3333e-04\n",
      "Epoch 19/100\n",
      "125/125 [==============================] - 1s 5ms/step - loss: 4.2104e-04\n",
      "Epoch 20/100\n",
      "125/125 [==============================] - 1s 5ms/step - loss: 4.0615e-04\n",
      "Epoch 21/100\n",
      "125/125 [==============================] - 1s 5ms/step - loss: 3.8893e-04\n",
      "Epoch 22/100\n",
      "125/125 [==============================] - 1s 5ms/step - loss: 4.2872e-04\n",
      "Epoch 23/100\n",
      "125/125 [==============================] - 1s 5ms/step - loss: 3.7334e-04\n",
      "Epoch 24/100\n",
      "125/125 [==============================] - 1s 5ms/step - loss: 3.9136e-04\n",
      "Epoch 25/100\n",
      "125/125 [==============================] - 1s 5ms/step - loss: 3.5154e-04\n",
      "Epoch 26/100\n",
      "125/125 [==============================] - 1s 5ms/step - loss: 3.5660e-04\n",
      "Epoch 27/100\n",
      "125/125 [==============================] - 1s 5ms/step - loss: 4.5043e-04\n",
      "Epoch 28/100\n",
      "125/125 [==============================] - 1s 5ms/step - loss: 3.3667e-04\n",
      "Epoch 29/100\n",
      "125/125 [==============================] - 1s 5ms/step - loss: 3.3727e-04\n",
      "Epoch 30/100\n",
      "125/125 [==============================] - 1s 5ms/step - loss: 3.1963e-04\n",
      "Epoch 31/100\n",
      "125/125 [==============================] - 1s 5ms/step - loss: 3.2668e-04\n",
      "Epoch 32/100\n",
      "125/125 [==============================] - 1s 5ms/step - loss: 3.3397e-04\n",
      "Epoch 33/100\n",
      "125/125 [==============================] - 1s 5ms/step - loss: 3.3791e-04\n",
      "Epoch 34/100\n",
      "125/125 [==============================] - 1s 5ms/step - loss: 3.3467e-04\n",
      "Epoch 35/100\n",
      "125/125 [==============================] - 1s 5ms/step - loss: 4.0800e-04\n",
      "Epoch 36/100\n",
      "125/125 [==============================] - 1s 5ms/step - loss: 3.3470e-04\n",
      "Epoch 37/100\n",
      "125/125 [==============================] - 1s 5ms/step - loss: 2.9156e-04\n",
      "Epoch 38/100\n",
      "125/125 [==============================] - 1s 5ms/step - loss: 2.8991e-04\n",
      "Epoch 39/100\n",
      "125/125 [==============================] - 1s 5ms/step - loss: 2.8533e-04\n",
      "Epoch 40/100\n",
      "125/125 [==============================] - 1s 5ms/step - loss: 3.1452e-04\n",
      "Epoch 41/100\n",
      "125/125 [==============================] - 1s 5ms/step - loss: 3.1736e-04\n",
      "Epoch 42/100\n",
      "125/125 [==============================] - 1s 5ms/step - loss: 3.2690e-04\n",
      "Epoch 43/100\n",
      "125/125 [==============================] - 1s 5ms/step - loss: 3.6372e-04\n",
      "Epoch 44/100\n",
      "125/125 [==============================] - 1s 5ms/step - loss: 3.6058e-04\n",
      "Epoch 45/100\n",
      "125/125 [==============================] - 1s 5ms/step - loss: 3.0821e-04\n",
      "Epoch 46/100\n",
      "125/125 [==============================] - 1s 5ms/step - loss: 2.6311e-04\n",
      "Epoch 47/100\n",
      "125/125 [==============================] - 1s 5ms/step - loss: 4.4979e-04\n",
      "Epoch 48/100\n",
      "125/125 [==============================] - 1s 5ms/step - loss: 3.2818e-04\n",
      "Epoch 49/100\n",
      "125/125 [==============================] - 1s 5ms/step - loss: 2.9883e-04\n",
      "Epoch 50/100\n",
      "125/125 [==============================] - 1s 5ms/step - loss: 3.1899e-04\n",
      "Epoch 51/100\n",
      "125/125 [==============================] - 1s 5ms/step - loss: 2.4561e-04\n",
      "Epoch 52/100\n",
      "125/125 [==============================] - 1s 5ms/step - loss: 2.5555e-04\n",
      "Epoch 53/100\n",
      "125/125 [==============================] - 1s 5ms/step - loss: 2.4310e-04\n",
      "Epoch 54/100\n",
      "125/125 [==============================] - 1s 5ms/step - loss: 3.5023e-04\n",
      "Epoch 55/100\n",
      "125/125 [==============================] - 1s 5ms/step - loss: 3.0118e-04\n",
      "Epoch 56/100\n",
      "125/125 [==============================] - 1s 5ms/step - loss: 2.7014e-04\n",
      "Epoch 57/100\n",
      "125/125 [==============================] - 1s 5ms/step - loss: 2.7714e-04\n",
      "Epoch 58/100\n",
      "125/125 [==============================] - 1s 5ms/step - loss: 2.8447e-04\n",
      "Epoch 59/100\n",
      "125/125 [==============================] - 1s 5ms/step - loss: 2.6649e-04\n",
      "Epoch 60/100\n",
      "125/125 [==============================] - 1s 5ms/step - loss: 2.4579e-04\n",
      "Epoch 61/100\n",
      "125/125 [==============================] - 1s 5ms/step - loss: 2.8134e-04\n",
      "Epoch 62/100\n",
      "125/125 [==============================] - 1s 5ms/step - loss: 2.9205e-04\n",
      "Epoch 63/100\n",
      "125/125 [==============================] - 1s 5ms/step - loss: 2.7480e-04\n",
      "Epoch 64/100\n",
      "125/125 [==============================] - 1s 5ms/step - loss: 3.2542e-04\n",
      "Epoch 65/100\n",
      "125/125 [==============================] - 1s 6ms/step - loss: 3.3856e-04\n",
      "Epoch 66/100\n",
      "125/125 [==============================] - 1s 5ms/step - loss: 2.6597e-04\n",
      "Epoch 67/100\n",
      "125/125 [==============================] - 1s 5ms/step - loss: 2.6297e-04\n",
      "Epoch 68/100\n",
      "125/125 [==============================] - 1s 5ms/step - loss: 2.9761e-04\n",
      "Epoch 69/100\n",
      "125/125 [==============================] - 1s 5ms/step - loss: 2.9436e-04\n",
      "Epoch 70/100\n",
      "125/125 [==============================] - 1s 5ms/step - loss: 2.7134e-04\n",
      "Epoch 71/100\n",
      "125/125 [==============================] - 1s 5ms/step - loss: 2.6297e-04\n",
      "Epoch 72/100\n",
      "125/125 [==============================] - 1s 5ms/step - loss: 3.8034e-04\n",
      "Epoch 73/100\n",
      "125/125 [==============================] - 1s 5ms/step - loss: 2.6208e-04\n",
      "Epoch 74/100\n",
      "125/125 [==============================] - 1s 5ms/step - loss: 3.9086e-04\n",
      "Epoch 75/100\n",
      "125/125 [==============================] - 1s 5ms/step - loss: 2.8790e-04\n",
      "Epoch 76/100\n",
      "125/125 [==============================] - 1s 5ms/step - loss: 2.6870e-04\n",
      "Epoch 77/100\n",
      "125/125 [==============================] - 1s 5ms/step - loss: 2.6290e-04\n",
      "Epoch 78/100\n",
      "125/125 [==============================] - 1s 5ms/step - loss: 2.1247e-04\n",
      "Epoch 79/100\n",
      "125/125 [==============================] - 1s 5ms/step - loss: 2.6731e-04\n",
      "Epoch 80/100\n",
      "125/125 [==============================] - 1s 5ms/step - loss: 2.9021e-04\n",
      "Epoch 81/100\n",
      "125/125 [==============================] - 1s 5ms/step - loss: 3.2739e-04\n",
      "Epoch 82/100\n",
      "125/125 [==============================] - 1s 5ms/step - loss: 3.6536e-04\n",
      "Epoch 83/100\n",
      "125/125 [==============================] - 1s 6ms/step - loss: 2.9784e-04\n",
      "Epoch 84/100\n",
      "125/125 [==============================] - 1s 5ms/step - loss: 3.3815e-04\n",
      "Epoch 85/100\n",
      "125/125 [==============================] - 1s 5ms/step - loss: 3.1278e-04\n",
      "Epoch 86/100\n",
      "125/125 [==============================] - 1s 5ms/step - loss: 3.1792e-04\n",
      "Epoch 87/100\n",
      "125/125 [==============================] - 1s 5ms/step - loss: 2.4748e-04\n",
      "Epoch 88/100\n",
      "125/125 [==============================] - 1s 5ms/step - loss: 3.6509e-04\n",
      "Epoch 89/100\n",
      "125/125 [==============================] - 1s 5ms/step - loss: 2.7527e-04\n",
      "Epoch 90/100\n",
      "125/125 [==============================] - 1s 6ms/step - loss: 2.3752e-04\n",
      "Epoch 91/100\n",
      "125/125 [==============================] - 1s 5ms/step - loss: 2.6120e-04\n",
      "Epoch 92/100\n",
      "125/125 [==============================] - 1s 5ms/step - loss: 3.8869e-04\n",
      "Epoch 93/100\n",
      "125/125 [==============================] - 1s 5ms/step - loss: 3.2894e-04\n",
      "Epoch 94/100\n",
      "125/125 [==============================] - 1s 6ms/step - loss: 3.1332e-04\n",
      "Epoch 95/100\n",
      "125/125 [==============================] - 1s 5ms/step - loss: 2.7718e-04\n",
      "Epoch 96/100\n",
      "125/125 [==============================] - 1s 5ms/step - loss: 2.2690e-04\n",
      "Epoch 97/100\n",
      "125/125 [==============================] - 1s 6ms/step - loss: 3.1904e-04\n",
      "Epoch 98/100\n",
      "125/125 [==============================] - 1s 5ms/step - loss: 2.7546e-04\n",
      "Epoch 99/100\n",
      "125/125 [==============================] - 1s 6ms/step - loss: 2.2977e-04\n",
      "Epoch 100/100\n",
      "125/125 [==============================] - 1s 5ms/step - loss: 2.4850e-04\n"
     ]
    }
   ],
   "source": [
    "history = model.fit(x_train,y_train,epochs = 100,batch_size = 10)"
   ]
  },
  {
   "cell_type": "code",
   "execution_count": 58,
   "metadata": {
    "colab": {
     "base_uri": "https://localhost:8080/",
     "height": 282
    },
    "id": "SWEbwr7aPayP",
    "outputId": "7d09d998-de74-4af7-d9d0-d9721c0265a9"
   },
   "outputs": [
    {
     "data": {
      "text/plain": [
       "[<matplotlib.lines.Line2D at 0x7f4b63513690>]"
      ]
     },
     "execution_count": 58,
     "metadata": {
      "tags": []
     },
     "output_type": "execute_result"
    },
    {
     "data": {
      "image/png": "[encoded data removed]",
      "text/plain": [
       "<Figure size 432x288 with 1 Axes>"
      ]
     },
     "metadata": {
      "needs_background": "light",
      "tags": []
     },
     "output_type": "display_data"
    }
   ],
   "source": [
    "plt.plot(history.history['loss'])"
   ]
  },
  {
   "cell_type": "code",
   "execution_count": 72,
   "metadata": {
    "colab": {
     "base_uri": "https://localhost:8080/",
     "height": 204
    },
    "id": "ir4oPOHUOa3w",
    "outputId": "7aafc72a-01ee-4c11-b119-4e322e06955d"
   },
   "outputs": [
    {
     "data": {
      "text/html": [
       "<div>\n",
       "<style scoped>\n",
       "    .dataframe tbody tr th:only-of-type {\n",
       "        vertical-align: middle;\n",
       "    }\n",
       "\n",
       "    .dataframe tbody tr th {\n",
       "        vertical-align: top;\n",
       "    }\n",
       "\n",
       "    .dataframe thead th {\n",
       "        text-align: right;\n",
       "    }\n",
       "</style>\n",
       "<table border=\"1\" class=\"dataframe\">\n",
       "  <thead>\n",
       "    <tr style=\"text-align: right;\">\n",
       "      <th></th>\n",
       "      <th>Date</th>\n",
       "      <th>Open</th>\n",
       "      <th>High</th>\n",
       "      <th>Low</th>\n",
       "      <th>Close</th>\n",
       "      <th>Volume</th>\n",
       "    </tr>\n",
       "  </thead>\n",
       "  <tbody>\n",
       "    <tr>\n",
       "      <th>0</th>\n",
       "      <td>01-03-2017</td>\n",
       "      <td>778.81</td>\n",
       "      <td>789.63</td>\n",
       "      <td>775.80</td>\n",
       "      <td>786.14</td>\n",
       "      <td>16,57,300</td>\n",
       "    </tr>\n",
       "    <tr>\n",
       "      <th>1</th>\n",
       "      <td>01-04-2017</td>\n",
       "      <td>788.36</td>\n",
       "      <td>791.34</td>\n",
       "      <td>783.16</td>\n",
       "      <td>786.90</td>\n",
       "      <td>10,73,000</td>\n",
       "    </tr>\n",
       "    <tr>\n",
       "      <th>2</th>\n",
       "      <td>01-05-2017</td>\n",
       "      <td>786.08</td>\n",
       "      <td>794.48</td>\n",
       "      <td>785.02</td>\n",
       "      <td>794.02</td>\n",
       "      <td>13,35,200</td>\n",
       "    </tr>\n",
       "    <tr>\n",
       "      <th>3</th>\n",
       "      <td>01-06-2017</td>\n",
       "      <td>795.26</td>\n",
       "      <td>807.90</td>\n",
       "      <td>792.20</td>\n",
       "      <td>806.15</td>\n",
       "      <td>16,40,200</td>\n",
       "    </tr>\n",
       "    <tr>\n",
       "      <th>4</th>\n",
       "      <td>01-09-2017</td>\n",
       "      <td>806.40</td>\n",
       "      <td>809.97</td>\n",
       "      <td>802.83</td>\n",
       "      <td>806.65</td>\n",
       "      <td>12,72,400</td>\n",
       "    </tr>\n",
       "  </tbody>\n",
       "</table>\n",
       "</div>"
      ],
      "text/plain": [
       "         Date    Open    High     Low   Close     Volume\n",
       "0  01-03-2017  778.81  789.63  775.80  786.14  16,57,300\n",
       "1  01-04-2017  788.36  791.34  783.16  786.90  10,73,000\n",
       "2  01-05-2017  786.08  794.48  785.02  794.02  13,35,200\n",
       "3  01-06-2017  795.26  807.90  792.20  806.15  16,40,200\n",
       "4  01-09-2017  806.40  809.97  802.83  806.65  12,72,400"
      ]
     },
     "execution_count": 72,
     "metadata": {
      "tags": []
     },
     "output_type": "execute_result"
    }
   ],
   "source": [
    "test = pd.read_csv('/content/Google_Stock_Price_Test.csv')\n",
    "test.head()"
   ]
  },
  {
   "cell_type": "code",
   "execution_count": 73,
   "metadata": {
    "id": "zLciWIQVOivE"
   },
   "outputs": [],
   "source": [
    "xtest = test[['Open']]"
   ]
  },
  {
   "cell_type": "code",
   "execution_count": 74,
   "metadata": {
    "id": "YWvpxyxCOnqN"
   },
   "outputs": [],
   "source": [
    "sc_xtest = sc.fit_transform(xtest)"
   ]
  },
  {
   "cell_type": "code",
   "execution_count": 75,
   "metadata": {
    "id": "bv7gprEWOyaC"
   },
   "outputs": [],
   "source": [
    "x_test,y_test = feature_selection(n_steps,sc_xtest)"
   ]
  },
  {
   "cell_type": "code",
   "execution_count": 76,
   "metadata": {
    "id": "sxqyj5kyO1V9"
   },
   "outputs": [],
   "source": [
    "x_test = x_test.reshape((x_test.shape[0],x_test.shape[1],1))\n"
   ]
  },
  {
   "cell_type": "code",
   "execution_count": 77,
   "metadata": {
    "id": "PMeUqPiVQLNS"
   },
   "outputs": [],
   "source": [
    "y_pred = model.predict(x_test)"
   ]
  },
  {
   "cell_type": "code",
   "execution_count": 78,
   "metadata": {
    "id": "beyTZ3_EQUhu"
   },
   "outputs": [],
   "source": [
    "prediction = sc.inverse_transform(y_pred)"
   ]
  },
  {
   "cell_type": "code",
   "execution_count": 79,
   "metadata": {
    "colab": {
     "base_uri": "https://localhost:8080/"
    },
    "id": "XvAPCyyDQZv4",
    "outputId": "54d8d0d7-3362-4156-81a7-27d243a33f25"
   },
   "outputs": [
    {
     "data": {
      "text/plain": [
       "array([[805.54517],\n",
       "       [807.18005],\n",
       "       [807.76306],\n",
       "       [817.30597],\n",
       "       [824.12415],\n",
       "       [830.4268 ],\n",
       "       [832.3713 ],\n",
       "       [814.01526]], dtype=float32)"
      ]
     },
     "execution_count": 79,
     "metadata": {
      "tags": []
     },
     "output_type": "execute_result"
    }
   ],
   "source": [
    "prediction"
   ]
  },
  {
   "cell_type": "code",
   "execution_count": 80,
   "metadata": {
    "colab": {
     "base_uri": "https://localhost:8080/"
    },
    "id": "xiRVhAYfQcGU",
    "outputId": "437c6086-d2fa-47dd-cb71-94bd16259d26"
   },
   "outputs": [
    {
     "data": {
      "text/plain": [
       "array([0.47627119, 0.4820339 , 0.73711864, 0.86118644, 1.        ,\n",
       "       0.94745763, 0.60762712, 0.3059322 ])"
      ]
     },
     "execution_count": 80,
     "metadata": {
      "tags": []
     },
     "output_type": "execute_result"
    }
   ],
   "source": [
    "y_test"
   ]
  },
  {
   "cell_type": "code",
   "execution_count": 82,
   "metadata": {
    "colab": {
     "base_uri": "https://localhost:8080/"
    },
    "id": "EkMdnkm_QhWg",
    "outputId": "8e7b69c5-7669-4791-c5f0-078e25bb4622"
   },
   "outputs": [
    {
     "data": {
      "text/plain": [
       "array([[806.91],\n",
       "       [807.25],\n",
       "       [822.3 ],\n",
       "       [829.62],\n",
       "       [837.81],\n",
       "       [834.71],\n",
       "       [814.66],\n",
       "       [796.86]])"
      ]
     },
     "execution_count": 82,
     "metadata": {
      "tags": []
     },
     "output_type": "execute_result"
    }
   ],
   "source": [
    "y_test_actual = sc.inverse_transform(y_test.reshape(-1,1))\n",
    "y_test_actual"
   ]
  },
  {
   "cell_type": "code",
   "execution_count": 85,
   "metadata": {
    "colab": {
     "base_uri": "https://localhost:8080/"
    },
    "id": "86F0mCutQnOZ",
    "outputId": "d606f3de-6224-49ef-bb1e-307d3f1d27d1"
   },
   "outputs": [
    {
     "name": "stdout",
     "output_type": "stream",
     "text": [
      "mse 147.3082605120083\n",
      "RMSE 12.137061444682907\n",
      "r2_score 0.22321061788860197\n"
     ]
    }
   ],
   "source": [
    "from sklearn.metrics import r2_score,mean_squared_error\n",
    "print('mse',mean_squared_error(y_test_actual,prediction))\n",
    "print('RMSE',np.sqrt(mean_squared_error(y_test_actual,prediction)))\n",
    "print('r2_score',r2_score(y_test_actual,prediction))\n"
   ]
  },
  {
   "cell_type": "code",
   "execution_count": null,
   "metadata": {
    "id": "_GvpzQs9Rc9X"
   },
   "outputs": [],
   "source": []
  }
 ],
 "metadata": {
  "colab": {
   "name": "google_stock_LSTM.ipynb",
   "provenance": []
  },
  "kernelspec": {
   "display_name": "Python 3",
   "language": "python",
   "name": "python3"
  },
  "language_info": {
   "codemirror_mode": {
    "name": "ipython",
    "version": 3
   },
   "file_extension": ".py",
   "mimetype": "text/x-python",
   "name": "python",
   "nbconvert_exporter": "python",
   "pygments_lexer": "ipython3",
   "version": "3.8.8"
  }
 },
 "nbformat": 4,
 "nbformat_minor": 1
}
