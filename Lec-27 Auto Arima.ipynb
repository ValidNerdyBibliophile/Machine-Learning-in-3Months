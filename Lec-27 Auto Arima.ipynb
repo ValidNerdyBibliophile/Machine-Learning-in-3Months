{
 "cells": [
  {
   "cell_type": "code",
   "execution_count": 1,
   "id": "packed-integrity",
   "metadata": {},
   "outputs": [
    {
     "name": "stdout",
     "output_type": "stream",
     "text": [
      "Requirement already satisfied: pmdarima in c:\\users\\tejas\\anaconda3\\lib\\site-packages (1.8.0)Note: you may need to restart the kernel to use updated packages.\n",
      "Requirement already satisfied: joblib>=0.11 in c:\\users\\tejas\\anaconda3\\lib\\site-packages (from pmdarima) (1.0.1)\n",
      "Requirement already satisfied: Cython<0.29.18,>=0.29 in c:\\users\\tejas\\anaconda3\\lib\\site-packages (from pmdarima) (0.29.17)\n",
      "Requirement already satisfied: statsmodels!=0.12.0,>=0.11 in c:\\users\\tejas\\anaconda3\\lib\\site-packages (from pmdarima) (0.12.2)\n",
      "Requirement already satisfied: pandas>=0.19 in c:\\users\\tejas\\anaconda3\\lib\\site-packages (from pmdarima) (1.2.3)\n",
      "Requirement already satisfied: numpy>=1.17.3 in c:\\users\\tejas\\anaconda3\\lib\\site-packages (from pmdarima) (1.19.2)\n",
      "Requirement already satisfied: scikit-learn>=0.22 in c:\\users\\tejas\\anaconda3\\lib\\site-packages (from pmdarima) (0.24.1)\n",
      "Requirement already satisfied: setuptools!=50.0.0,>=38.6.0 in c:\\users\\tejas\\anaconda3\\lib\\site-packages (from pmdarima) (52.0.0.post20210125)\n",
      "Requirement already satisfied: urllib3 in c:\\users\\tejas\\anaconda3\\lib\\site-packages (from pmdarima) (1.26.4)\n",
      "Requirement already satisfied: scipy>=1.3.2 in c:\\users\\tejas\\anaconda3\\lib\\site-packages (from pmdarima) (1.6.2)\n",
      "Requirement already satisfied: pytz>=2017.3 in c:\\users\\tejas\\anaconda3\\lib\\site-packages (from pandas>=0.19->pmdarima) (2021.1)\n",
      "Requirement already satisfied: python-dateutil>=2.7.3 in c:\\users\\tejas\\anaconda3\\lib\\site-packages (from pandas>=0.19->pmdarima) (2.8.1)\n",
      "Requirement already satisfied: six>=1.5 in c:\\users\\tejas\\anaconda3\\lib\\site-packages (from python-dateutil>=2.7.3->pandas>=0.19->pmdarima) (1.15.0)\n",
      "Requirement already satisfied: threadpoolctl>=2.0.0 in c:\\users\\tejas\\anaconda3\\lib\\site-packages (from scikit-learn>=0.22->pmdarima) (2.1.0)\n",
      "Requirement already satisfied: patsy>=0.5 in c:\\users\\tejas\\anaconda3\\lib\\site-packages (from statsmodels!=0.12.0,>=0.11->pmdarima) (0.5.1)\n",
      "\n"
     ]
    }
   ],
   "source": [
    "pip install pmdarima"
   ]
  },
  {
   "cell_type": "code",
   "execution_count": 2,
   "id": "strong-collector",
   "metadata": {},
   "outputs": [],
   "source": [
    "import numpy as np\n",
    "import pandas as pd\n",
    "import seaborn as sns\n",
    "import matplotlib.pyplot as plt"
   ]
  },
  {
   "cell_type": "code",
   "execution_count": 3,
   "id": "greek-colony",
   "metadata": {},
   "outputs": [],
   "source": [
    "data = pd.read_csv(\"DailyTemps.csv\", parse_dates = [\"DATE\"])"
   ]
  },
  {
   "cell_type": "code",
   "execution_count": 4,
   "id": "polish-death",
   "metadata": {},
   "outputs": [
    {
     "data": {
      "text/html": [
       "<div>\n",
       "<style scoped>\n",
       "    .dataframe tbody tr th:only-of-type {\n",
       "        vertical-align: middle;\n",
       "    }\n",
       "\n",
       "    .dataframe tbody tr th {\n",
       "        vertical-align: top;\n",
       "    }\n",
       "\n",
       "    .dataframe thead th {\n",
       "        text-align: right;\n",
       "    }\n",
       "</style>\n",
       "<table border=\"1\" class=\"dataframe\">\n",
       "  <thead>\n",
       "    <tr style=\"text-align: right;\">\n",
       "      <th></th>\n",
       "      <th>DATE</th>\n",
       "      <th>MinTemp</th>\n",
       "      <th>MaxTemp</th>\n",
       "      <th>AvgTemp</th>\n",
       "      <th>Sunrise</th>\n",
       "      <th>Sunset</th>\n",
       "    </tr>\n",
       "  </thead>\n",
       "  <tbody>\n",
       "    <tr>\n",
       "      <th>0</th>\n",
       "      <td>2014-01-01</td>\n",
       "      <td>33.0</td>\n",
       "      <td>46.0</td>\n",
       "      <td>40.0</td>\n",
       "      <td>657</td>\n",
       "      <td>1756</td>\n",
       "    </tr>\n",
       "    <tr>\n",
       "      <th>1</th>\n",
       "      <td>2014-01-02</td>\n",
       "      <td>35.0</td>\n",
       "      <td>50.0</td>\n",
       "      <td>43.0</td>\n",
       "      <td>657</td>\n",
       "      <td>1756</td>\n",
       "    </tr>\n",
       "    <tr>\n",
       "      <th>2</th>\n",
       "      <td>2014-01-03</td>\n",
       "      <td>36.0</td>\n",
       "      <td>45.0</td>\n",
       "      <td>41.0</td>\n",
       "      <td>657</td>\n",
       "      <td>1757</td>\n",
       "    </tr>\n",
       "    <tr>\n",
       "      <th>3</th>\n",
       "      <td>2014-01-04</td>\n",
       "      <td>32.0</td>\n",
       "      <td>41.0</td>\n",
       "      <td>37.0</td>\n",
       "      <td>658</td>\n",
       "      <td>1757</td>\n",
       "    </tr>\n",
       "    <tr>\n",
       "      <th>4</th>\n",
       "      <td>2014-01-05</td>\n",
       "      <td>24.0</td>\n",
       "      <td>38.0</td>\n",
       "      <td>31.0</td>\n",
       "      <td>658</td>\n",
       "      <td>1758</td>\n",
       "    </tr>\n",
       "  </tbody>\n",
       "</table>\n",
       "</div>"
      ],
      "text/plain": [
       "        DATE  MinTemp  MaxTemp  AvgTemp  Sunrise  Sunset\n",
       "0 2014-01-01     33.0     46.0     40.0      657    1756\n",
       "1 2014-01-02     35.0     50.0     43.0      657    1756\n",
       "2 2014-01-03     36.0     45.0     41.0      657    1757\n",
       "3 2014-01-04     32.0     41.0     37.0      658    1757\n",
       "4 2014-01-05     24.0     38.0     31.0      658    1758"
      ]
     },
     "execution_count": 4,
     "metadata": {},
     "output_type": "execute_result"
    }
   ],
   "source": [
    "data.head()"
   ]
  },
  {
   "cell_type": "code",
   "execution_count": 5,
   "id": "retained-community",
   "metadata": {},
   "outputs": [
    {
     "data": {
      "text/plain": [
       "<AxesSubplot:>"
      ]
     },
     "execution_count": 5,
     "metadata": {},
     "output_type": "execute_result"
    },
    {
     "data": {
      "image/png": "[encoded data removed]",
      "text/plain": [
       "<Figure size 432x288 with 1 Axes>"
      ]
     },
     "metadata": {
      "needs_background": "light"
     },
     "output_type": "display_data"
    }
   ],
   "source": [
    "data[\"AvgTemp\"].plot()"
   ]
  },
  {
   "cell_type": "code",
   "execution_count": 6,
   "id": "harmful-simon",
   "metadata": {},
   "outputs": [],
   "source": [
    "from statsmodels.tsa.stattools import adfuller"
   ]
  },
  {
   "cell_type": "code",
   "execution_count": 7,
   "id": "prescribed-lotus",
   "metadata": {},
   "outputs": [
    {
     "name": "stdout",
     "output_type": "stream",
     "text": [
      "Stationary\n"
     ]
    }
   ],
   "source": [
    "res = adfuller(data[\"AvgTemp\"].dropna())\n",
    "pval = res[0]\n",
    "if pval > 0.05:\n",
    "    print(\"Not Stationary\")\n",
    "else:\n",
    "    print(\"Stationary\")"
   ]
  },
  {
   "cell_type": "code",
   "execution_count": 8,
   "id": "partial-locator",
   "metadata": {},
   "outputs": [],
   "source": [
    "from pmdarima import auto_arima"
   ]
  },
  {
   "cell_type": "code",
   "execution_count": 9,
   "id": "adaptive-thesis",
   "metadata": {},
   "outputs": [],
   "source": [
    "auto_model = auto_arima(data[\"AvgTemp\"].dropna(), Trace = True)"
   ]
  },
  {
   "cell_type": "code",
   "execution_count": 10,
   "id": "pharmaceutical-blind",
   "metadata": {},
   "outputs": [
    {
     "data": {
      "text/html": [
       "<table class=\"simpletable\">\n",
       "<caption>SARIMAX Results</caption>\n",
       "<tr>\n",
       "  <th>Dep. Variable:</th>           <td>y</td>        <th>  No. Observations:  </th>   <td>1821</td>   \n",
       "</tr>\n",
       "<tr>\n",
       "  <th>Model:</th>           <td>SARIMAX(1, 0, 5)</td> <th>  Log Likelihood     </th> <td>-4139.659</td>\n",
       "</tr>\n",
       "<tr>\n",
       "  <th>Date:</th>            <td>Fri, 09 Apr 2021</td> <th>  AIC                </th> <td>8295.317</td> \n",
       "</tr>\n",
       "<tr>\n",
       "  <th>Time:</th>                <td>12:11:18</td>     <th>  BIC                </th> <td>8339.374</td> \n",
       "</tr>\n",
       "<tr>\n",
       "  <th>Sample:</th>                  <td>0</td>        <th>  HQIC               </th> <td>8311.571</td> \n",
       "</tr>\n",
       "<tr>\n",
       "  <th></th>                      <td> - 1821</td>     <th>                     </th>     <td> </td>    \n",
       "</tr>\n",
       "<tr>\n",
       "  <th>Covariance Type:</th>        <td>opg</td>       <th>                     </th>     <td> </td>    \n",
       "</tr>\n",
       "</table>\n",
       "<table class=\"simpletable\">\n",
       "<tr>\n",
       "      <td></td>         <th>coef</th>     <th>std err</th>      <th>z</th>      <th>P>|z|</th>  <th>[0.025</th>    <th>0.975]</th>  \n",
       "</tr>\n",
       "<tr>\n",
       "  <th>intercept</th> <td>    1.2806</td> <td>    0.379</td> <td>    3.377</td> <td> 0.001</td> <td>    0.537</td> <td>    2.024</td>\n",
       "</tr>\n",
       "<tr>\n",
       "  <th>ar.L1</th>     <td>    0.9724</td> <td>    0.008</td> <td>  118.924</td> <td> 0.000</td> <td>    0.956</td> <td>    0.988</td>\n",
       "</tr>\n",
       "<tr>\n",
       "  <th>ma.L1</th>     <td>   -0.1261</td> <td>    0.024</td> <td>   -5.283</td> <td> 0.000</td> <td>   -0.173</td> <td>   -0.079</td>\n",
       "</tr>\n",
       "<tr>\n",
       "  <th>ma.L2</th>     <td>   -0.2194</td> <td>    0.024</td> <td>   -9.021</td> <td> 0.000</td> <td>   -0.267</td> <td>   -0.172</td>\n",
       "</tr>\n",
       "<tr>\n",
       "  <th>ma.L3</th>     <td>   -0.2015</td> <td>    0.024</td> <td>   -8.374</td> <td> 0.000</td> <td>   -0.249</td> <td>   -0.154</td>\n",
       "</tr>\n",
       "<tr>\n",
       "  <th>ma.L4</th>     <td>   -0.1352</td> <td>    0.023</td> <td>   -5.906</td> <td> 0.000</td> <td>   -0.180</td> <td>   -0.090</td>\n",
       "</tr>\n",
       "<tr>\n",
       "  <th>ma.L5</th>     <td>   -0.0493</td> <td>    0.024</td> <td>   -2.011</td> <td> 0.044</td> <td>   -0.097</td> <td>   -0.001</td>\n",
       "</tr>\n",
       "<tr>\n",
       "  <th>sigma2</th>    <td>    5.5157</td> <td>    0.173</td> <td>   31.847</td> <td> 0.000</td> <td>    5.176</td> <td>    5.855</td>\n",
       "</tr>\n",
       "</table>\n",
       "<table class=\"simpletable\">\n",
       "<tr>\n",
       "  <th>Ljung-Box (L1) (Q):</th>     <td>0.01</td> <th>  Jarque-Bera (JB):  </th> <td>20.90</td>\n",
       "</tr>\n",
       "<tr>\n",
       "  <th>Prob(Q):</th>                <td>0.94</td> <th>  Prob(JB):          </th> <td>0.00</td> \n",
       "</tr>\n",
       "<tr>\n",
       "  <th>Heteroskedasticity (H):</th> <td>0.81</td> <th>  Skew:              </th> <td>-0.17</td>\n",
       "</tr>\n",
       "<tr>\n",
       "  <th>Prob(H) (two-sided):</th>    <td>0.01</td> <th>  Kurtosis:          </th> <td>3.39</td> \n",
       "</tr>\n",
       "</table><br/><br/>Warnings:<br/>[1] Covariance matrix calculated using the outer product of gradients (complex-step)."
      ],
      "text/plain": [
       "<class 'statsmodels.iolib.summary.Summary'>\n",
       "\"\"\"\n",
       "                               SARIMAX Results                                \n",
       "==============================================================================\n",
       "Dep. Variable:                      y   No. Observations:                 1821\n",
       "Model:               SARIMAX(1, 0, 5)   Log Likelihood               -4139.659\n",
       "Date:                Fri, 09 Apr 2021   AIC                           8295.317\n",
       "Time:                        12:11:18   BIC                           8339.374\n",
       "Sample:                             0   HQIC                          8311.571\n",
       "                               - 1821                                         \n",
       "Covariance Type:                  opg                                         \n",
       "==============================================================================\n",
       "                 coef    std err          z      P>|z|      [0.025      0.975]\n",
       "------------------------------------------------------------------------------\n",
       "intercept      1.2806      0.379      3.377      0.001       0.537       2.024\n",
       "ar.L1          0.9724      0.008    118.924      0.000       0.956       0.988\n",
       "ma.L1         -0.1261      0.024     -5.283      0.000      -0.173      -0.079\n",
       "ma.L2         -0.2194      0.024     -9.021      0.000      -0.267      -0.172\n",
       "ma.L3         -0.2015      0.024     -8.374      0.000      -0.249      -0.154\n",
       "ma.L4         -0.1352      0.023     -5.906      0.000      -0.180      -0.090\n",
       "ma.L5         -0.0493      0.024     -2.011      0.044      -0.097      -0.001\n",
       "sigma2         5.5157      0.173     31.847      0.000       5.176       5.855\n",
       "===================================================================================\n",
       "Ljung-Box (L1) (Q):                   0.01   Jarque-Bera (JB):                20.90\n",
       "Prob(Q):                              0.94   Prob(JB):                         0.00\n",
       "Heteroskedasticity (H):               0.81   Skew:                            -0.17\n",
       "Prob(H) (two-sided):                  0.01   Kurtosis:                         3.39\n",
       "===================================================================================\n",
       "\n",
       "Warnings:\n",
       "[1] Covariance matrix calculated using the outer product of gradients (complex-step).\n",
       "\"\"\""
      ]
     },
     "execution_count": 10,
     "metadata": {},
     "output_type": "execute_result"
    }
   ],
   "source": [
    "#p=1, d=0, q= 5\n",
    "\n",
    "auto_model.summary()"
   ]
  },
  {
   "cell_type": "code",
   "execution_count": 11,
   "id": "satisfied-discretion",
   "metadata": {},
   "outputs": [],
   "source": [
    "from statsmodels.tsa.arima_model import ARIMA"
   ]
  },
  {
   "cell_type": "code",
   "execution_count": 12,
   "id": "educational-thanks",
   "metadata": {},
   "outputs": [],
   "source": [
    "x = data[\"AvgTemp\"].dropna()"
   ]
  },
  {
   "cell_type": "code",
   "execution_count": 13,
   "id": "obvious-valentine",
   "metadata": {},
   "outputs": [
    {
     "data": {
      "text/plain": [
       "0    40.0\n",
       "1    43.0\n",
       "2    41.0\n",
       "3    37.0\n",
       "4    31.0\n",
       "Name: AvgTemp, dtype: float64"
      ]
     },
     "execution_count": 13,
     "metadata": {},
     "output_type": "execute_result"
    }
   ],
   "source": [
    "x.head()"
   ]
  },
  {
   "cell_type": "code",
   "execution_count": 14,
   "id": "spanish-house",
   "metadata": {},
   "outputs": [
    {
     "data": {
      "text/plain": [
       "(1821,)"
      ]
     },
     "execution_count": 14,
     "metadata": {},
     "output_type": "execute_result"
    }
   ],
   "source": [
    "x.shape"
   ]
  },
  {
   "cell_type": "code",
   "execution_count": 15,
   "id": "fatal-franchise",
   "metadata": {},
   "outputs": [
    {
     "data": {
      "text/plain": [
       "1274"
      ]
     },
     "execution_count": 15,
     "metadata": {},
     "output_type": "execute_result"
    }
   ],
   "source": [
    "data_len = int(0.7 * (len(x)))\n",
    "data_len "
   ]
  },
  {
   "cell_type": "code",
   "execution_count": 16,
   "id": "vanilla-parallel",
   "metadata": {},
   "outputs": [],
   "source": [
    "train = x[:data_len]"
   ]
  },
  {
   "cell_type": "code",
   "execution_count": 17,
   "id": "amino-century",
   "metadata": {},
   "outputs": [],
   "source": [
    "test = x[data_len:]"
   ]
  },
  {
   "cell_type": "code",
   "execution_count": 18,
   "id": "industrial-toner",
   "metadata": {},
   "outputs": [
    {
     "data": {
      "text/plain": [
       "<AxesSubplot:>"
      ]
     },
     "execution_count": 18,
     "metadata": {},
     "output_type": "execute_result"
    },
    {
     "data": {
      "image/png": "[encoded data removed]",
      "text/plain": [
       "<Figure size 432x288 with 1 Axes>"
      ]
     },
     "metadata": {
      "needs_background": "light"
     },
     "output_type": "display_data"
    }
   ],
   "source": [
    "train.plot()\n",
    "test.plot()"
   ]
  },
  {
   "cell_type": "code",
   "execution_count": 19,
   "id": "amended-television",
   "metadata": {},
   "outputs": [
    {
     "name": "stderr",
     "output_type": "stream",
     "text": [
      "C:\\Users\\tejas\\anaconda3\\lib\\site-packages\\statsmodels\\tsa\\arima_model.py:472: FutureWarning: \n",
      "statsmodels.tsa.arima_model.ARMA and statsmodels.tsa.arima_model.ARIMA have\n",
      "been deprecated in favor of statsmodels.tsa.arima.model.ARIMA (note the .\n",
      "between arima and model) and\n",
      "statsmodels.tsa.SARIMAX. These will be removed after the 0.12 release.\n",
      "\n",
      "statsmodels.tsa.arima.model.ARIMA makes use of the statespace framework and\n",
      "is both well tested and maintained.\n",
      "\n",
      "To silence this warning and continue using ARMA and ARIMA until they are\n",
      "removed, use:\n",
      "\n",
      "import warnings\n",
      "warnings.filterwarnings('ignore', 'statsmodels.tsa.arima_model.ARMA',\n",
      "                        FutureWarning)\n",
      "warnings.filterwarnings('ignore', 'statsmodels.tsa.arima_model.ARIMA',\n",
      "                        FutureWarning)\n",
      "\n",
      "  warnings.warn(ARIMA_DEPRECATION_WARN, FutureWarning)\n",
      "C:\\Users\\tejas\\anaconda3\\lib\\site-packages\\statsmodels\\tsa\\base\\tsa_model.py:578: ValueWarning: An unsupported index was provided and will be ignored when e.g. forecasting.\n",
      "  warnings.warn('An unsupported index was provided and will be'\n"
     ]
    },
    {
     "data": {
      "text/html": [
       "<table class=\"simpletable\">\n",
       "<caption>ARMA Model Results</caption>\n",
       "<tr>\n",
       "  <th>Dep. Variable:</th>      <td>AvgTemp</td>     <th>  No. Observations:  </th>   <td>1274</td>   \n",
       "</tr>\n",
       "<tr>\n",
       "  <th>Model:</th>            <td>ARMA(1, 5)</td>    <th>  Log Likelihood     </th> <td>-2925.613</td>\n",
       "</tr>\n",
       "<tr>\n",
       "  <th>Method:</th>             <td>css-mle</td>     <th>  S.D. of innovations</th>   <td>2.403</td>  \n",
       "</tr>\n",
       "<tr>\n",
       "  <th>Date:</th>          <td>Fri, 09 Apr 2021</td> <th>  AIC                </th> <td>5867.226</td> \n",
       "</tr>\n",
       "<tr>\n",
       "  <th>Time:</th>              <td>12:11:20</td>     <th>  BIC                </th> <td>5908.425</td> \n",
       "</tr>\n",
       "<tr>\n",
       "  <th>Sample:</th>                <td>0</td>        <th>  HQIC               </th> <td>5882.700</td> \n",
       "</tr>\n",
       "<tr>\n",
       "  <th></th>                       <td> </td>        <th>                     </th>     <td> </td>    \n",
       "</tr>\n",
       "</table>\n",
       "<table class=\"simpletable\">\n",
       "<tr>\n",
       "        <td></td>           <th>coef</th>     <th>std err</th>      <th>z</th>      <th>P>|z|</th>  <th>[0.025</th>    <th>0.975]</th>  \n",
       "</tr>\n",
       "<tr>\n",
       "  <th>const</th>         <td>   46.8145</td> <td>    0.880</td> <td>   53.185</td> <td> 0.000</td> <td>   45.089</td> <td>   48.540</td>\n",
       "</tr>\n",
       "<tr>\n",
       "  <th>ar.L1.AvgTemp</th> <td>    0.9847</td> <td>    0.010</td> <td>  101.110</td> <td> 0.000</td> <td>    0.966</td> <td>    1.004</td>\n",
       "</tr>\n",
       "<tr>\n",
       "  <th>ma.L1.AvgTemp</th> <td>   -0.1195</td> <td>    0.030</td> <td>   -3.981</td> <td> 0.000</td> <td>   -0.178</td> <td>   -0.061</td>\n",
       "</tr>\n",
       "<tr>\n",
       "  <th>ma.L2.AvgTemp</th> <td>   -0.2444</td> <td>    0.030</td> <td>   -8.222</td> <td> 0.000</td> <td>   -0.303</td> <td>   -0.186</td>\n",
       "</tr>\n",
       "<tr>\n",
       "  <th>ma.L3.AvgTemp</th> <td>   -0.2093</td> <td>    0.031</td> <td>   -6.646</td> <td> 0.000</td> <td>   -0.271</td> <td>   -0.148</td>\n",
       "</tr>\n",
       "<tr>\n",
       "  <th>ma.L4.AvgTemp</th> <td>   -0.1543</td> <td>    0.029</td> <td>   -5.295</td> <td> 0.000</td> <td>   -0.211</td> <td>   -0.097</td>\n",
       "</tr>\n",
       "<tr>\n",
       "  <th>ma.L5.AvgTemp</th> <td>   -0.0642</td> <td>    0.030</td> <td>   -2.146</td> <td> 0.032</td> <td>   -0.123</td> <td>   -0.006</td>\n",
       "</tr>\n",
       "</table>\n",
       "<table class=\"simpletable\">\n",
       "<caption>Roots</caption>\n",
       "<tr>\n",
       "    <td></td>   <th>            Real</th>  <th>         Imaginary</th> <th>         Modulus</th>  <th>        Frequency</th>\n",
       "</tr>\n",
       "<tr>\n",
       "  <th>AR.1</th> <td>           1.0156</td> <td>          +0.0000j</td> <td>           1.0156</td> <td>           0.0000</td>\n",
       "</tr>\n",
       "<tr>\n",
       "  <th>MA.1</th> <td>           1.0869</td> <td>          -0.0000j</td> <td>           1.0869</td> <td>          -0.0000</td>\n",
       "</tr>\n",
       "<tr>\n",
       "  <th>MA.2</th> <td>           0.0795</td> <td>          -1.8236j</td> <td>           1.8253</td> <td>          -0.2431</td>\n",
       "</tr>\n",
       "<tr>\n",
       "  <th>MA.3</th> <td>           0.0795</td> <td>          +1.8236j</td> <td>           1.8253</td> <td>           0.2431</td>\n",
       "</tr>\n",
       "<tr>\n",
       "  <th>MA.4</th> <td>          -1.8245</td> <td>          -0.9864j</td> <td>           2.0740</td> <td>          -0.4211</td>\n",
       "</tr>\n",
       "<tr>\n",
       "  <th>MA.5</th> <td>          -1.8245</td> <td>          +0.9864j</td> <td>           2.0740</td> <td>           0.4211</td>\n",
       "</tr>\n",
       "</table>"
      ],
      "text/plain": [
       "<class 'statsmodels.iolib.summary.Summary'>\n",
       "\"\"\"\n",
       "                              ARMA Model Results                              \n",
       "==============================================================================\n",
       "Dep. Variable:                AvgTemp   No. Observations:                 1274\n",
       "Model:                     ARMA(1, 5)   Log Likelihood               -2925.613\n",
       "Method:                       css-mle   S.D. of innovations              2.403\n",
       "Date:                Fri, 09 Apr 2021   AIC                           5867.226\n",
       "Time:                        12:11:20   BIC                           5908.425\n",
       "Sample:                             0   HQIC                          5882.700\n",
       "                                                                              \n",
       "=================================================================================\n",
       "                    coef    std err          z      P>|z|      [0.025      0.975]\n",
       "---------------------------------------------------------------------------------\n",
       "const            46.8145      0.880     53.185      0.000      45.089      48.540\n",
       "ar.L1.AvgTemp     0.9847      0.010    101.110      0.000       0.966       1.004\n",
       "ma.L1.AvgTemp    -0.1195      0.030     -3.981      0.000      -0.178      -0.061\n",
       "ma.L2.AvgTemp    -0.2444      0.030     -8.222      0.000      -0.303      -0.186\n",
       "ma.L3.AvgTemp    -0.2093      0.031     -6.646      0.000      -0.271      -0.148\n",
       "ma.L4.AvgTemp    -0.1543      0.029     -5.295      0.000      -0.211      -0.097\n",
       "ma.L5.AvgTemp    -0.0642      0.030     -2.146      0.032      -0.123      -0.006\n",
       "                                    Roots                                    \n",
       "=============================================================================\n",
       "                  Real          Imaginary           Modulus         Frequency\n",
       "-----------------------------------------------------------------------------\n",
       "AR.1            1.0156           +0.0000j            1.0156            0.0000\n",
       "MA.1            1.0869           -0.0000j            1.0869           -0.0000\n",
       "MA.2            0.0795           -1.8236j            1.8253           -0.2431\n",
       "MA.3            0.0795           +1.8236j            1.8253            0.2431\n",
       "MA.4           -1.8245           -0.9864j            2.0740           -0.4211\n",
       "MA.5           -1.8245           +0.9864j            2.0740            0.4211\n",
       "-----------------------------------------------------------------------------\n",
       "\"\"\""
      ]
     },
     "execution_count": 19,
     "metadata": {},
     "output_type": "execute_result"
    }
   ],
   "source": [
    "model = ARIMA(train, order =(1,0,5))\n",
    "model_fit = model.fit()\n",
    "model_fit.summary()"
   ]
  },
  {
   "cell_type": "code",
   "execution_count": 20,
   "id": "danish-success",
   "metadata": {},
   "outputs": [],
   "source": [
    "ypred_train = model_fit.predict()"
   ]
  },
  {
   "cell_type": "code",
   "execution_count": 21,
   "id": "later-puzzle",
   "metadata": {},
   "outputs": [
    {
     "data": {
      "text/plain": [
       "0       46.814467\n",
       "1       41.249203\n",
       "2       44.081099\n",
       "3       41.765682\n",
       "4       38.299520\n",
       "          ...    \n",
       "1272    50.417288\n",
       "1273    50.834084\n",
       "1274    53.379281\n",
       "1275    48.717820\n",
       "1276    51.998486\n",
       "Length: 1274, dtype: float64"
      ]
     },
     "execution_count": 21,
     "metadata": {},
     "output_type": "execute_result"
    }
   ],
   "source": [
    "ypred_train"
   ]
  },
  {
   "cell_type": "code",
   "execution_count": 22,
   "id": "latin-nightlife",
   "metadata": {},
   "outputs": [
    {
     "name": "stderr",
     "output_type": "stream",
     "text": [
      "C:\\Users\\tejas\\anaconda3\\lib\\site-packages\\statsmodels\\tsa\\base\\tsa_model.py:376: ValueWarning: No supported index is available. Prediction results will be given with an integer index beginning at `start`.\n",
      "  warnings.warn('No supported index is available.'\n"
     ]
    }
   ],
   "source": [
    "ypred_test = model_fit.predict(start = len(train), end = (len(x)-1))"
   ]
  },
  {
   "cell_type": "code",
   "execution_count": 23,
   "id": "beneficial-expert",
   "metadata": {},
   "outputs": [],
   "source": [
    "from sklearn.metrics import mean_absolute_error, mean_squared_error, r2_score"
   ]
  },
  {
   "cell_type": "code",
   "execution_count": 24,
   "id": "native-chaos",
   "metadata": {},
   "outputs": [
    {
     "name": "stdout",
     "output_type": "stream",
     "text": [
      "MAE 3.1982551347655717\n",
      "MSE 16.20050113660318\n",
      "RMAE 1.7883666108395033\n"
     ]
    }
   ],
   "source": [
    "print(\"MAE\",mean_absolute_error(test,ypred_test))\n",
    "print(\"MSE\",mean_squared_error(test,ypred_test))\n",
    "print(\"RMAE\",np.sqrt(mean_absolute_error(test,ypred_test)))"
   ]
  },
  {
   "cell_type": "code",
   "execution_count": 25,
   "id": "afraid-sydney",
   "metadata": {},
   "outputs": [
    {
     "data": {
      "text/plain": [
       "1274    52.373910\n",
       "1275    51.829286\n",
       "1276    51.317598\n",
       "1277    50.883345\n",
       "1278    50.756657\n",
       "          ...    \n",
       "1816    46.815433\n",
       "1817    46.815418\n",
       "1818    46.815404\n",
       "1819    46.815389\n",
       "1820    46.815375\n",
       "Length: 547, dtype: float64"
      ]
     },
     "execution_count": 25,
     "metadata": {},
     "output_type": "execute_result"
    }
   ],
   "source": [
    "ypred_test"
   ]
  },
  {
   "cell_type": "code",
   "execution_count": 26,
   "id": "detailed-builder",
   "metadata": {},
   "outputs": [
    {
     "data": {
      "text/plain": [
       "1277    49.0\n",
       "1278    47.0\n",
       "1279    51.0\n",
       "1280    48.0\n",
       "1281    48.0\n",
       "        ... \n",
       "1820    40.0\n",
       "1821    39.0\n",
       "1822    40.0\n",
       "1823    42.0\n",
       "1824    46.0\n",
       "Name: AvgTemp, Length: 547, dtype: float64"
      ]
     },
     "execution_count": 26,
     "metadata": {},
     "output_type": "execute_result"
    }
   ],
   "source": [
    "test"
   ]
  },
  {
   "cell_type": "code",
   "execution_count": 27,
   "id": "rental-growth",
   "metadata": {},
   "outputs": [
    {
     "data": {
      "text/plain": [
       "('2017-07-01', '2018-12-30')"
      ]
     },
     "execution_count": 27,
     "metadata": {},
     "output_type": "execute_result"
    }
   ],
   "source": [
    "\"2017-07-01\",\"2018-12-30\"  #test data start date and end date"
   ]
  },
  {
   "cell_type": "code",
   "execution_count": 28,
   "id": "domestic-radio",
   "metadata": {},
   "outputs": [],
   "source": [
    "test_dates =pd.date_range(start = '2017-07-01', end =  '2018-12-29') #0.7"
   ]
  },
  {
   "cell_type": "code",
   "execution_count": 29,
   "id": "intellectual-acting",
   "metadata": {},
   "outputs": [
    {
     "data": {
      "text/plain": [
       "DatetimeIndex(['2017-07-01', '2017-07-02', '2017-07-03', '2017-07-04',\n",
       "               '2017-07-05', '2017-07-06', '2017-07-07', '2017-07-08',\n",
       "               '2017-07-09', '2017-07-10',\n",
       "               ...\n",
       "               '2018-12-20', '2018-12-21', '2018-12-22', '2018-12-23',\n",
       "               '2018-12-24', '2018-12-25', '2018-12-26', '2018-12-27',\n",
       "               '2018-12-28', '2018-12-29'],\n",
       "              dtype='datetime64[ns]', length=547, freq='D')"
      ]
     },
     "execution_count": 29,
     "metadata": {},
     "output_type": "execute_result"
    }
   ],
   "source": [
    "test_dates"
   ]
  },
  {
   "cell_type": "code",
   "execution_count": 30,
   "id": "french-location",
   "metadata": {},
   "outputs": [],
   "source": [
    "ypred_test.index = test_dates"
   ]
  },
  {
   "cell_type": "code",
   "execution_count": 31,
   "id": "abroad-cedar",
   "metadata": {},
   "outputs": [
    {
     "data": {
      "text/plain": [
       "2017-07-01    52.373910\n",
       "2017-07-02    51.829286\n",
       "2017-07-03    51.317598\n",
       "2017-07-04    50.883345\n",
       "2017-07-05    50.756657\n",
       "Freq: D, dtype: float64"
      ]
     },
     "execution_count": 31,
     "metadata": {},
     "output_type": "execute_result"
    }
   ],
   "source": [
    "ypred_test.head()"
   ]
  },
  {
   "cell_type": "code",
   "execution_count": 32,
   "id": "behavioral-saint",
   "metadata": {},
   "outputs": [
    {
     "data": {
      "text/plain": [
       "[<matplotlib.lines.Line2D at 0x173e85cd940>]"
      ]
     },
     "execution_count": 32,
     "metadata": {},
     "output_type": "execute_result"
    },
    {
     "data": {
      "image/png": "[encoded data removed]",
      "text/plain": [
       "<Figure size 432x288 with 1 Axes>"
      ]
     },
     "metadata": {
      "needs_background": "light"
     },
     "output_type": "display_data"
    }
   ],
   "source": [
    "plt.plot(test)\n",
    "plt.plot(ypred_test)"
   ]
  },
  {
   "cell_type": "code",
   "execution_count": 33,
   "id": "fifteen-movement",
   "metadata": {},
   "outputs": [
    {
     "data": {
      "text/plain": [
       "DatetimeIndex(['2018-12-30', '2018-12-31', '2019-01-01', '2019-01-02',\n",
       "               '2019-01-03', '2019-01-04', '2019-01-05', '2019-01-06',\n",
       "               '2019-01-07', '2019-01-08', '2019-01-09', '2019-01-10',\n",
       "               '2019-01-11', '2019-01-12', '2019-01-13', '2019-01-14',\n",
       "               '2019-01-15', '2019-01-16', '2019-01-17', '2019-01-18',\n",
       "               '2019-01-19', '2019-01-20', '2019-01-21', '2019-01-22',\n",
       "               '2019-01-23', '2019-01-24', '2019-01-25', '2019-01-26',\n",
       "               '2019-01-27', '2019-01-28'],\n",
       "              dtype='datetime64[ns]', freq='D')"
      ]
     },
     "execution_count": 33,
     "metadata": {},
     "output_type": "execute_result"
    }
   ],
   "source": [
    "new_date_range = pd.date_range(start = \"2018-12-30\", end = \"2019-01-28\")\n",
    "new_date_range"
   ]
  },
  {
   "cell_type": "code",
   "execution_count": 34,
   "id": "arbitrary-communication",
   "metadata": {},
   "outputs": [
    {
     "name": "stderr",
     "output_type": "stream",
     "text": [
      "C:\\Users\\tejas\\anaconda3\\lib\\site-packages\\statsmodels\\tsa\\arima_model.py:472: FutureWarning: \n",
      "statsmodels.tsa.arima_model.ARMA and statsmodels.tsa.arima_model.ARIMA have\n",
      "been deprecated in favor of statsmodels.tsa.arima.model.ARIMA (note the .\n",
      "between arima and model) and\n",
      "statsmodels.tsa.SARIMAX. These will be removed after the 0.12 release.\n",
      "\n",
      "statsmodels.tsa.arima.model.ARIMA makes use of the statespace framework and\n",
      "is both well tested and maintained.\n",
      "\n",
      "To silence this warning and continue using ARMA and ARIMA until they are\n",
      "removed, use:\n",
      "\n",
      "import warnings\n",
      "warnings.filterwarnings('ignore', 'statsmodels.tsa.arima_model.ARMA',\n",
      "                        FutureWarning)\n",
      "warnings.filterwarnings('ignore', 'statsmodels.tsa.arima_model.ARIMA',\n",
      "                        FutureWarning)\n",
      "\n",
      "  warnings.warn(ARIMA_DEPRECATION_WARN, FutureWarning)\n",
      "C:\\Users\\tejas\\anaconda3\\lib\\site-packages\\statsmodels\\tsa\\base\\tsa_model.py:578: ValueWarning: An unsupported index was provided and will be ignored when e.g. forecasting.\n",
      "  warnings.warn('An unsupported index was provided and will be'\n"
     ]
    }
   ],
   "source": [
    "model = ARIMA (x, order = (1,0,5))\n",
    "model_fit = model.fit()"
   ]
  },
  {
   "cell_type": "code",
   "execution_count": 37,
   "id": "controlling-copying",
   "metadata": {
    "scrolled": true
   },
   "outputs": [
    {
     "name": "stderr",
     "output_type": "stream",
     "text": [
      "C:\\Users\\tejas\\anaconda3\\lib\\site-packages\\statsmodels\\tsa\\base\\tsa_model.py:376: ValueWarning: No supported index is available. Prediction results will be given with an integer index beginning at `start`.\n",
      "  warnings.warn('No supported index is available.'\n"
     ]
    }
   ],
   "source": [
    "new_pred = model_fit.predict(start = len(x), end = len(x)+29)"
   ]
  },
  {
   "cell_type": "code",
   "execution_count": 38,
   "id": "historic-addition",
   "metadata": {},
   "outputs": [
    {
     "data": {
      "text/plain": [
       "(30, 30)"
      ]
     },
     "execution_count": 38,
     "metadata": {},
     "output_type": "execute_result"
    }
   ],
   "source": [
    "len(new_pred),len(new_date_range)"
   ]
  },
  {
   "cell_type": "code",
   "execution_count": 39,
   "id": "outstanding-davis",
   "metadata": {},
   "outputs": [],
   "source": [
    "new_pred.Index = new_date_range"
   ]
  },
  {
   "cell_type": "code",
   "execution_count": 40,
   "id": "academic-simpson",
   "metadata": {},
   "outputs": [
    {
     "data": {
      "text/plain": [
       "1821    46.418067\n",
       "1822    46.113788\n",
       "1823    45.617779\n",
       "1824    45.249564\n",
       "1825    45.116994\n",
       "1826    45.136781\n",
       "1827    45.156291\n",
       "1828    45.175528\n",
       "1829    45.194495\n",
       "1830    45.213196\n",
       "1831    45.231636\n",
       "1832    45.249817\n",
       "1833    45.267743\n",
       "1834    45.285418\n",
       "1835    45.302846\n",
       "1836    45.320030\n",
       "1837    45.336972\n",
       "1838    45.353678\n",
       "1839    45.370149\n",
       "1840    45.386390\n",
       "1841    45.402403\n",
       "1842    45.418191\n",
       "1843    45.433759\n",
       "1844    45.449108\n",
       "1845    45.464243\n",
       "1846    45.479165\n",
       "1847    45.493879\n",
       "1848    45.508386\n",
       "1849    45.522690\n",
       "1850    45.536793\n",
       "dtype: float64"
      ]
     },
     "execution_count": 40,
     "metadata": {},
     "output_type": "execute_result"
    }
   ],
   "source": [
    "new_pred"
   ]
  },
  {
   "cell_type": "code",
   "execution_count": null,
   "id": "expressed-garlic",
   "metadata": {},
   "outputs": [],
   "source": []
  }
 ],
 "metadata": {
  "kernelspec": {
   "display_name": "Python 3",
   "language": "python",
   "name": "python3"
  },
  "language_info": {
   "codemirror_mode": {
    "name": "ipython",
    "version": 3
   },
   "file_extension": ".py",
   "mimetype": "text/x-python",
   "name": "python",
   "nbconvert_exporter": "python",
   "pygments_lexer": "ipython3",
   "version": "3.8.8"
  }
 },
 "nbformat": 4,
 "nbformat_minor": 5
}
