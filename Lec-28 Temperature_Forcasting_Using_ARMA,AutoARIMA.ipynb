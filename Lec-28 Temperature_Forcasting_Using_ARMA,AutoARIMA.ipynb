{
 "cells": [
  {
   "cell_type": "code",
   "execution_count": 1,
   "metadata": {
    "id": "mLJ6wcjXl8jn"
   },
   "outputs": [],
   "source": [
    "import pandas as pd \n",
    "import numpy as np\n",
    "import matplotlib.pyplot as plt\n",
    "import seaborn as sns"
   ]
  },
  {
   "cell_type": "code",
   "execution_count": 2,
   "metadata": {
    "colab": {
     "base_uri": "https://localhost:8080/"
    },
    "id": "r0GVTT-lnkEU",
    "outputId": "a7777270-ed8e-43ab-87c3-b9ddc2ab3a96"
   },
   "outputs": [
    {
     "name": "stdout",
     "output_type": "stream",
     "text": [
      "Collecting pmdarima\n",
      "  Downloading pmdarima-1.8.2-cp38-cp38-win_amd64.whl (596 kB)\n",
      "Requirement already satisfied: statsmodels!=0.12.0,>=0.11 in c:\\users\\tejas\\anaconda3\\lib\\site-packages (from pmdarima) (0.12.2)\n",
      "Requirement already satisfied: Cython!=0.29.18,>=0.29 in c:\\users\\tejas\\anaconda3\\lib\\site-packages (from pmdarima) (0.29.22)\n",
      "Requirement already satisfied: pandas>=0.19 in c:\\users\\tejas\\anaconda3\\lib\\site-packages (from pmdarima) (1.2.3)\n",
      "Requirement already satisfied: scipy>=1.3.2 in c:\\users\\tejas\\anaconda3\\lib\\site-packages (from pmdarima) (1.6.2)\n",
      "Requirement already satisfied: setuptools!=50.0.0,>=38.6.0 in c:\\users\\tejas\\anaconda3\\lib\\site-packages (from pmdarima) (52.0.0.post20210125)\n",
      "Requirement already satisfied: scikit-learn>=0.22 in c:\\users\\tejas\\anaconda3\\lib\\site-packages (from pmdarima) (0.24.1)\n",
      "Requirement already satisfied: urllib3 in c:\\users\\tejas\\anaconda3\\lib\\site-packages (from pmdarima) (1.26.4)\n",
      "Requirement already satisfied: numpy~=1.19.0 in c:\\users\\tejas\\anaconda3\\lib\\site-packages (from pmdarima) (1.19.2)\n",
      "Requirement already satisfied: joblib>=0.11 in c:\\users\\tejas\\anaconda3\\lib\\site-packages (from pmdarima) (1.0.1)\n",
      "Requirement already satisfied: pytz>=2017.3 in c:\\users\\tejas\\anaconda3\\lib\\site-packages (from pandas>=0.19->pmdarima) (2021.1)\n",
      "Requirement already satisfied: python-dateutil>=2.7.3 in c:\\users\\tejas\\anaconda3\\lib\\site-packages (from pandas>=0.19->pmdarima) (2.8.1)\n",
      "Requirement already satisfied: six>=1.5 in c:\\users\\tejas\\anaconda3\\lib\\site-packages (from python-dateutil>=2.7.3->pandas>=0.19->pmdarima) (1.15.0)\n",
      "Requirement already satisfied: threadpoolctl>=2.0.0 in c:\\users\\tejas\\anaconda3\\lib\\site-packages (from scikit-learn>=0.22->pmdarima) (2.1.0)\n",
      "Requirement already satisfied: patsy>=0.5 in c:\\users\\tejas\\anaconda3\\lib\\site-packages (from statsmodels!=0.12.0,>=0.11->pmdarima) (0.5.1)\n",
      "Installing collected packages: pmdarima\n",
      "Successfully installed pmdarima-1.8.2\n",
      "Note: you may need to restart the kernel to use updated packages.\n"
     ]
    }
   ],
   "source": [
    "pip install pmdarima"
   ]
  },
  {
   "cell_type": "code",
   "execution_count": 4,
   "metadata": {
    "id": "O2EXSrdOvmzE"
   },
   "outputs": [],
   "source": [
    "df=pd.read_csv(\"DailyTemps.csv\",parse_dates=[\"DATE\"],index_col=\"DATE\")"
   ]
  },
  {
   "cell_type": "code",
   "execution_count": 5,
   "metadata": {
    "colab": {
     "base_uri": "https://localhost:8080/",
     "height": 237
    },
    "id": "NJQDTGRtwHmC",
    "outputId": "0e59e1c7-e7c7-4def-dfd2-9617adae4fd9"
   },
   "outputs": [
    {
     "data": {
      "text/html": [
       "<div>\n",
       "<style scoped>\n",
       "    .dataframe tbody tr th:only-of-type {\n",
       "        vertical-align: middle;\n",
       "    }\n",
       "\n",
       "    .dataframe tbody tr th {\n",
       "        vertical-align: top;\n",
       "    }\n",
       "\n",
       "    .dataframe thead th {\n",
       "        text-align: right;\n",
       "    }\n",
       "</style>\n",
       "<table border=\"1\" class=\"dataframe\">\n",
       "  <thead>\n",
       "    <tr style=\"text-align: right;\">\n",
       "      <th></th>\n",
       "      <th>MinTemp</th>\n",
       "      <th>MaxTemp</th>\n",
       "      <th>AvgTemp</th>\n",
       "      <th>Sunrise</th>\n",
       "      <th>Sunset</th>\n",
       "    </tr>\n",
       "    <tr>\n",
       "      <th>DATE</th>\n",
       "      <th></th>\n",
       "      <th></th>\n",
       "      <th></th>\n",
       "      <th></th>\n",
       "      <th></th>\n",
       "    </tr>\n",
       "  </thead>\n",
       "  <tbody>\n",
       "    <tr>\n",
       "      <th>2014-01-01</th>\n",
       "      <td>33.0</td>\n",
       "      <td>46.0</td>\n",
       "      <td>40.0</td>\n",
       "      <td>657</td>\n",
       "      <td>1756</td>\n",
       "    </tr>\n",
       "    <tr>\n",
       "      <th>2014-01-02</th>\n",
       "      <td>35.0</td>\n",
       "      <td>50.0</td>\n",
       "      <td>43.0</td>\n",
       "      <td>657</td>\n",
       "      <td>1756</td>\n",
       "    </tr>\n",
       "    <tr>\n",
       "      <th>2014-01-03</th>\n",
       "      <td>36.0</td>\n",
       "      <td>45.0</td>\n",
       "      <td>41.0</td>\n",
       "      <td>657</td>\n",
       "      <td>1757</td>\n",
       "    </tr>\n",
       "    <tr>\n",
       "      <th>2014-01-04</th>\n",
       "      <td>32.0</td>\n",
       "      <td>41.0</td>\n",
       "      <td>37.0</td>\n",
       "      <td>658</td>\n",
       "      <td>1757</td>\n",
       "    </tr>\n",
       "    <tr>\n",
       "      <th>2014-01-05</th>\n",
       "      <td>24.0</td>\n",
       "      <td>38.0</td>\n",
       "      <td>31.0</td>\n",
       "      <td>658</td>\n",
       "      <td>1758</td>\n",
       "    </tr>\n",
       "  </tbody>\n",
       "</table>\n",
       "</div>"
      ],
      "text/plain": [
       "            MinTemp  MaxTemp  AvgTemp  Sunrise  Sunset\n",
       "DATE                                                  \n",
       "2014-01-01     33.0     46.0     40.0      657    1756\n",
       "2014-01-02     35.0     50.0     43.0      657    1756\n",
       "2014-01-03     36.0     45.0     41.0      657    1757\n",
       "2014-01-04     32.0     41.0     37.0      658    1757\n",
       "2014-01-05     24.0     38.0     31.0      658    1758"
      ]
     },
     "execution_count": 5,
     "metadata": {},
     "output_type": "execute_result"
    }
   ],
   "source": [
    "df.head()"
   ]
  },
  {
   "cell_type": "code",
   "execution_count": 6,
   "metadata": {
    "colab": {
     "base_uri": "https://localhost:8080/",
     "height": 298
    },
    "id": "EhBUWHrjwJdi",
    "outputId": "e14f1097-342b-4eb1-cc6a-fd60cc6ae597"
   },
   "outputs": [
    {
     "data": {
      "text/plain": [
       "<AxesSubplot:xlabel='DATE'>"
      ]
     },
     "execution_count": 6,
     "metadata": {},
     "output_type": "execute_result"
    },
    {
     "data": {
      "image/png": "[encoded data removed]",
      "text/plain": [
       "<Figure size 432x288 with 1 Axes>"
      ]
     },
     "metadata": {
      "needs_background": "light"
     },
     "output_type": "display_data"
    }
   ],
   "source": [
    "df[\"AvgTemp\"].plot()"
   ]
  },
  {
   "cell_type": "code",
   "execution_count": 7,
   "metadata": {
    "colab": {
     "base_uri": "https://localhost:8080/"
    },
    "id": "91EGskt9wjjp",
    "outputId": "b70c5e3c-cae3-43ae-fb2f-d18d4949c841"
   },
   "outputs": [
    {
     "data": {
      "text/plain": [
       "MinTemp    4\n",
       "MaxTemp    4\n",
       "AvgTemp    4\n",
       "Sunrise    0\n",
       "Sunset     0\n",
       "dtype: int64"
      ]
     },
     "execution_count": 7,
     "metadata": {},
     "output_type": "execute_result"
    }
   ],
   "source": [
    "df.isna().sum()"
   ]
  },
  {
   "cell_type": "code",
   "execution_count": 8,
   "metadata": {
    "id": "_Ym_DyKxwoN5"
   },
   "outputs": [],
   "source": [
    "df=df.dropna()"
   ]
  },
  {
   "cell_type": "code",
   "execution_count": 9,
   "metadata": {
    "colab": {
     "base_uri": "https://localhost:8080/"
    },
    "id": "myZfpETTwrXx",
    "outputId": "57203c21-8eed-430d-f735-1c9bff8e6924"
   },
   "outputs": [
    {
     "name": "stdout",
     "output_type": "stream",
     "text": [
      "Stationary\n"
     ]
    }
   ],
   "source": [
    "from statsmodels.tsa.stattools import adfuller\n",
    "res=adfuller(df.AvgTemp)\n",
    "pval=res[1]\n",
    "if pval>0.05:\n",
    "  print(\"Not Stationary\")\n",
    "else:\n",
    "  print(\"Stationary\")"
   ]
  },
  {
   "cell_type": "code",
   "execution_count": 10,
   "metadata": {
    "colab": {
     "base_uri": "https://localhost:8080/",
     "height": 497
    },
    "id": "gTHtHshNw8YP",
    "outputId": "f7c6822d-9219-4431-bac8-76b39d26a273"
   },
   "outputs": [],
   "source": [
    "from pmdarima import auto_arima"
   ]
  },
  {
   "cell_type": "code",
   "execution_count": 11,
   "metadata": {
    "colab": {
     "base_uri": "https://localhost:8080/"
    },
    "id": "6VI9u5EQxhDP",
    "outputId": "370b7bc5-0d72-4b4d-9e54-c9a30ba1c78a"
   },
   "outputs": [
    {
     "name": "stdout",
     "output_type": "stream",
     "text": [
      "Performing stepwise search to minimize aic\n",
      " ARIMA(2,0,2)(0,0,0)[0] intercept   : AIC=8344.708, Time=3.61 sec\n",
      " ARIMA(0,0,0)(0,0,0)[0] intercept   : AIC=10347.755, Time=0.04 sec\n",
      " ARIMA(1,0,0)(0,0,0)[0] intercept   : AIC=8365.701, Time=0.26 sec\n",
      " ARIMA(0,0,1)(0,0,0)[0] intercept   : AIC=9136.225, Time=0.36 sec\n",
      " ARIMA(0,0,0)(0,0,0)[0]             : AIC=19192.139, Time=0.03 sec\n",
      " ARIMA(1,0,2)(0,0,0)[0] intercept   : AIC=8355.947, Time=1.95 sec\n",
      " ARIMA(2,0,1)(0,0,0)[0] intercept   : AIC=8356.308, Time=2.24 sec\n",
      " ARIMA(3,0,2)(0,0,0)[0] intercept   : AIC=8347.317, Time=3.22 sec\n",
      " ARIMA(2,0,3)(0,0,0)[0] intercept   : AIC=8317.614, Time=3.17 sec\n",
      " ARIMA(1,0,3)(0,0,0)[0] intercept   : AIC=8330.188, Time=3.28 sec\n",
      " ARIMA(3,0,3)(0,0,0)[0] intercept   : AIC=8310.081, Time=4.02 sec\n",
      " ARIMA(4,0,3)(0,0,0)[0] intercept   : AIC=8332.161, Time=4.26 sec\n",
      " ARIMA(3,0,4)(0,0,0)[0] intercept   : AIC=8317.633, Time=4.61 sec\n",
      " ARIMA(2,0,4)(0,0,0)[0] intercept   : AIC=8305.109, Time=4.40 sec\n",
      " ARIMA(1,0,4)(0,0,0)[0] intercept   : AIC=8296.684, Time=3.65 sec\n",
      " ARIMA(0,0,4)(0,0,0)[0] intercept   : AIC=8455.435, Time=1.15 sec\n",
      " ARIMA(1,0,5)(0,0,0)[0] intercept   : AIC=8295.317, Time=4.18 sec\n",
      " ARIMA(0,0,5)(0,0,0)[0] intercept   : AIC=8419.091, Time=1.33 sec\n",
      " ARIMA(2,0,5)(0,0,0)[0] intercept   : AIC=8302.687, Time=5.28 sec\n",
      " ARIMA(1,0,5)(0,0,0)[0]             : AIC=8304.533, Time=0.54 sec\n",
      "\n",
      "Best model:  ARIMA(1,0,5)(0,0,0)[0] intercept\n",
      "Total fit time: 51.739 seconds\n"
     ]
    }
   ],
   "source": [
    "auto_model=auto_arima(df[\"AvgTemp\"],trace=True)"
   ]
  },
  {
   "cell_type": "code",
   "execution_count": 12,
   "metadata": {
    "colab": {
     "base_uri": "https://localhost:8080/",
     "height": 537
    },
    "id": "TNmPmIH_xr06",
    "outputId": "b605bb12-c0fc-4f32-b137-342d7e8f3987"
   },
   "outputs": [
    {
     "data": {
      "text/html": [
       "<table class=\"simpletable\">\n",
       "<caption>SARIMAX Results</caption>\n",
       "<tr>\n",
       "  <th>Dep. Variable:</th>           <td>y</td>        <th>  No. Observations:  </th>   <td>1821</td>   \n",
       "</tr>\n",
       "<tr>\n",
       "  <th>Model:</th>           <td>SARIMAX(1, 0, 5)</td> <th>  Log Likelihood     </th> <td>-4139.659</td>\n",
       "</tr>\n",
       "<tr>\n",
       "  <th>Date:</th>            <td>Fri, 23 Apr 2021</td> <th>  AIC                </th> <td>8295.317</td> \n",
       "</tr>\n",
       "<tr>\n",
       "  <th>Time:</th>                <td>12:39:34</td>     <th>  BIC                </th> <td>8339.374</td> \n",
       "</tr>\n",
       "<tr>\n",
       "  <th>Sample:</th>                  <td>0</td>        <th>  HQIC               </th> <td>8311.571</td> \n",
       "</tr>\n",
       "<tr>\n",
       "  <th></th>                      <td> - 1821</td>     <th>                     </th>     <td> </td>    \n",
       "</tr>\n",
       "<tr>\n",
       "  <th>Covariance Type:</th>        <td>opg</td>       <th>                     </th>     <td> </td>    \n",
       "</tr>\n",
       "</table>\n",
       "<table class=\"simpletable\">\n",
       "<tr>\n",
       "      <td></td>         <th>coef</th>     <th>std err</th>      <th>z</th>      <th>P>|z|</th>  <th>[0.025</th>    <th>0.975]</th>  \n",
       "</tr>\n",
       "<tr>\n",
       "  <th>intercept</th> <td>    1.2806</td> <td>    0.379</td> <td>    3.377</td> <td> 0.001</td> <td>    0.537</td> <td>    2.024</td>\n",
       "</tr>\n",
       "<tr>\n",
       "  <th>ar.L1</th>     <td>    0.9724</td> <td>    0.008</td> <td>  118.924</td> <td> 0.000</td> <td>    0.956</td> <td>    0.988</td>\n",
       "</tr>\n",
       "<tr>\n",
       "  <th>ma.L1</th>     <td>   -0.1261</td> <td>    0.024</td> <td>   -5.283</td> <td> 0.000</td> <td>   -0.173</td> <td>   -0.079</td>\n",
       "</tr>\n",
       "<tr>\n",
       "  <th>ma.L2</th>     <td>   -0.2194</td> <td>    0.024</td> <td>   -9.021</td> <td> 0.000</td> <td>   -0.267</td> <td>   -0.172</td>\n",
       "</tr>\n",
       "<tr>\n",
       "  <th>ma.L3</th>     <td>   -0.2015</td> <td>    0.024</td> <td>   -8.374</td> <td> 0.000</td> <td>   -0.249</td> <td>   -0.154</td>\n",
       "</tr>\n",
       "<tr>\n",
       "  <th>ma.L4</th>     <td>   -0.1352</td> <td>    0.023</td> <td>   -5.906</td> <td> 0.000</td> <td>   -0.180</td> <td>   -0.090</td>\n",
       "</tr>\n",
       "<tr>\n",
       "  <th>ma.L5</th>     <td>   -0.0493</td> <td>    0.024</td> <td>   -2.011</td> <td> 0.044</td> <td>   -0.097</td> <td>   -0.001</td>\n",
       "</tr>\n",
       "<tr>\n",
       "  <th>sigma2</th>    <td>    5.5157</td> <td>    0.173</td> <td>   31.847</td> <td> 0.000</td> <td>    5.176</td> <td>    5.855</td>\n",
       "</tr>\n",
       "</table>\n",
       "<table class=\"simpletable\">\n",
       "<tr>\n",
       "  <th>Ljung-Box (L1) (Q):</th>     <td>0.01</td> <th>  Jarque-Bera (JB):  </th> <td>20.90</td>\n",
       "</tr>\n",
       "<tr>\n",
       "  <th>Prob(Q):</th>                <td>0.94</td> <th>  Prob(JB):          </th> <td>0.00</td> \n",
       "</tr>\n",
       "<tr>\n",
       "  <th>Heteroskedasticity (H):</th> <td>0.81</td> <th>  Skew:              </th> <td>-0.17</td>\n",
       "</tr>\n",
       "<tr>\n",
       "  <th>Prob(H) (two-sided):</th>    <td>0.01</td> <th>  Kurtosis:          </th> <td>3.39</td> \n",
       "</tr>\n",
       "</table><br/><br/>Warnings:<br/>[1] Covariance matrix calculated using the outer product of gradients (complex-step)."
      ],
      "text/plain": [
       "<class 'statsmodels.iolib.summary.Summary'>\n",
       "\"\"\"\n",
       "                               SARIMAX Results                                \n",
       "==============================================================================\n",
       "Dep. Variable:                      y   No. Observations:                 1821\n",
       "Model:               SARIMAX(1, 0, 5)   Log Likelihood               -4139.659\n",
       "Date:                Fri, 23 Apr 2021   AIC                           8295.317\n",
       "Time:                        12:39:34   BIC                           8339.374\n",
       "Sample:                             0   HQIC                          8311.571\n",
       "                               - 1821                                         \n",
       "Covariance Type:                  opg                                         \n",
       "==============================================================================\n",
       "                 coef    std err          z      P>|z|      [0.025      0.975]\n",
       "------------------------------------------------------------------------------\n",
       "intercept      1.2806      0.379      3.377      0.001       0.537       2.024\n",
       "ar.L1          0.9724      0.008    118.924      0.000       0.956       0.988\n",
       "ma.L1         -0.1261      0.024     -5.283      0.000      -0.173      -0.079\n",
       "ma.L2         -0.2194      0.024     -9.021      0.000      -0.267      -0.172\n",
       "ma.L3         -0.2015      0.024     -8.374      0.000      -0.249      -0.154\n",
       "ma.L4         -0.1352      0.023     -5.906      0.000      -0.180      -0.090\n",
       "ma.L5         -0.0493      0.024     -2.011      0.044      -0.097      -0.001\n",
       "sigma2         5.5157      0.173     31.847      0.000       5.176       5.855\n",
       "===================================================================================\n",
       "Ljung-Box (L1) (Q):                   0.01   Jarque-Bera (JB):                20.90\n",
       "Prob(Q):                              0.94   Prob(JB):                         0.00\n",
       "Heteroskedasticity (H):               0.81   Skew:                            -0.17\n",
       "Prob(H) (two-sided):                  0.01   Kurtosis:                         3.39\n",
       "===================================================================================\n",
       "\n",
       "Warnings:\n",
       "[1] Covariance matrix calculated using the outer product of gradients (complex-step).\n",
       "\"\"\""
      ]
     },
     "execution_count": 12,
     "metadata": {},
     "output_type": "execute_result"
    }
   ],
   "source": [
    "auto_model.summary()"
   ]
  },
  {
   "cell_type": "code",
   "execution_count": 13,
   "metadata": {
    "id": "4NankqZByHsj"
   },
   "outputs": [],
   "source": [
    "X=df[\"AvgTemp\"]"
   ]
  },
  {
   "cell_type": "code",
   "execution_count": 14,
   "metadata": {
    "colab": {
     "base_uri": "https://localhost:8080/"
    },
    "id": "i4n_-18Z2U1R",
    "outputId": "ab1b87ec-8d88-42fa-d3a5-484d41b7f3b5"
   },
   "outputs": [
    {
     "data": {
      "text/plain": [
       "1821"
      ]
     },
     "execution_count": 14,
     "metadata": {},
     "output_type": "execute_result"
    }
   ],
   "source": [
    "len(X)"
   ]
  },
  {
   "cell_type": "code",
   "execution_count": 15,
   "metadata": {
    "id": "iyREMzG52dHi"
   },
   "outputs": [],
   "source": [
    "train_len=int(0.8*len(X))"
   ]
  },
  {
   "cell_type": "code",
   "execution_count": 16,
   "metadata": {
    "colab": {
     "base_uri": "https://localhost:8080/"
    },
    "id": "fxEd2YvY2lpT",
    "outputId": "3046ab4d-85d7-4379-9b35-08bdc849a0a3"
   },
   "outputs": [
    {
     "data": {
      "text/plain": [
       "1456"
      ]
     },
     "execution_count": 16,
     "metadata": {},
     "output_type": "execute_result"
    }
   ],
   "source": [
    "train=X[:train_len]\n",
    "len(train)"
   ]
  },
  {
   "cell_type": "code",
   "execution_count": 17,
   "metadata": {
    "id": "OOBAf3CJ212g"
   },
   "outputs": [],
   "source": [
    "#train.head()"
   ]
  },
  {
   "cell_type": "code",
   "execution_count": 18,
   "metadata": {
    "colab": {
     "base_uri": "https://localhost:8080/"
    },
    "id": "VhzcF3Pj28_N",
    "outputId": "5696c092-df51-4510-95b5-baf2f9010337"
   },
   "outputs": [
    {
     "data": {
      "text/plain": [
       "365"
      ]
     },
     "execution_count": 18,
     "metadata": {},
     "output_type": "execute_result"
    }
   ],
   "source": [
    "test=X[train_len:]\n",
    "len(test)"
   ]
  },
  {
   "cell_type": "code",
   "execution_count": 19,
   "metadata": {
    "colab": {
     "base_uri": "https://localhost:8080/"
    },
    "id": "sbXPIDFl3Jg2",
    "outputId": "0e81b1e6-5f47-4d94-d12e-cde5cb6f08b9"
   },
   "outputs": [
    {
     "data": {
      "text/plain": [
       "1821"
      ]
     },
     "execution_count": 19,
     "metadata": {},
     "output_type": "execute_result"
    }
   ],
   "source": [
    "1456+365"
   ]
  },
  {
   "cell_type": "code",
   "execution_count": 20,
   "metadata": {
    "colab": {
     "base_uri": "https://localhost:8080/",
     "height": 923
    },
    "id": "yXKjJ4oU3Rmi",
    "outputId": "2fab0699-e4df-4ecb-bda1-5f3d418e912c"
   },
   "outputs": [
    {
     "name": "stderr",
     "output_type": "stream",
     "text": [
      "C:\\Users\\tejas\\Anaconda3\\lib\\site-packages\\statsmodels\\tsa\\arima_model.py:472: FutureWarning: \n",
      "statsmodels.tsa.arima_model.ARMA and statsmodels.tsa.arima_model.ARIMA have\n",
      "been deprecated in favor of statsmodels.tsa.arima.model.ARIMA (note the .\n",
      "between arima and model) and\n",
      "statsmodels.tsa.SARIMAX. These will be removed after the 0.12 release.\n",
      "\n",
      "statsmodels.tsa.arima.model.ARIMA makes use of the statespace framework and\n",
      "is both well tested and maintained.\n",
      "\n",
      "To silence this warning and continue using ARMA and ARIMA until they are\n",
      "removed, use:\n",
      "\n",
      "import warnings\n",
      "warnings.filterwarnings('ignore', 'statsmodels.tsa.arima_model.ARMA',\n",
      "                        FutureWarning)\n",
      "warnings.filterwarnings('ignore', 'statsmodels.tsa.arima_model.ARIMA',\n",
      "                        FutureWarning)\n",
      "\n",
      "  warnings.warn(ARIMA_DEPRECATION_WARN, FutureWarning)\n",
      "C:\\Users\\tejas\\Anaconda3\\lib\\site-packages\\statsmodels\\tsa\\base\\tsa_model.py:581: ValueWarning: A date index has been provided, but it has no associated frequency information and so will be ignored when e.g. forecasting.\n",
      "  warnings.warn('A date index has been provided, but it has no'\n"
     ]
    },
    {
     "data": {
      "text/html": [
       "<table class=\"simpletable\">\n",
       "<caption>ARMA Model Results</caption>\n",
       "<tr>\n",
       "  <th>Dep. Variable:</th>      <td>AvgTemp</td>     <th>  No. Observations:  </th>   <td>1456</td>   \n",
       "</tr>\n",
       "<tr>\n",
       "  <th>Model:</th>            <td>ARMA(1, 5)</td>    <th>  Log Likelihood     </th> <td>-3334.671</td>\n",
       "</tr>\n",
       "<tr>\n",
       "  <th>Method:</th>             <td>css-mle</td>     <th>  S.D. of innovations</th>   <td>2.389</td>  \n",
       "</tr>\n",
       "<tr>\n",
       "  <th>Date:</th>          <td>Fri, 23 Apr 2021</td> <th>  AIC                </th> <td>6685.343</td> \n",
       "</tr>\n",
       "<tr>\n",
       "  <th>Time:</th>              <td>12:39:45</td>     <th>  BIC                </th> <td>6727.610</td> \n",
       "</tr>\n",
       "<tr>\n",
       "  <th>Sample:</th>                <td>0</td>        <th>  HQIC               </th> <td>6701.113</td> \n",
       "</tr>\n",
       "<tr>\n",
       "  <th></th>                       <td> </td>        <th>                     </th>     <td> </td>    \n",
       "</tr>\n",
       "</table>\n",
       "<table class=\"simpletable\">\n",
       "<tr>\n",
       "        <td></td>           <th>coef</th>     <th>std err</th>      <th>z</th>      <th>P>|z|</th>  <th>[0.025</th>    <th>0.975]</th>  \n",
       "</tr>\n",
       "<tr>\n",
       "  <th>const</th>         <td>   46.5293</td> <td>    0.860</td> <td>   54.102</td> <td> 0.000</td> <td>   44.844</td> <td>   48.215</td>\n",
       "</tr>\n",
       "<tr>\n",
       "  <th>ar.L1.AvgTemp</th> <td>    0.9844</td> <td>    0.009</td> <td>  112.837</td> <td> 0.000</td> <td>    0.967</td> <td>    1.002</td>\n",
       "</tr>\n",
       "<tr>\n",
       "  <th>ma.L1.AvgTemp</th> <td>   -0.1312</td> <td>    0.028</td> <td>   -4.704</td> <td> 0.000</td> <td>   -0.186</td> <td>   -0.077</td>\n",
       "</tr>\n",
       "<tr>\n",
       "  <th>ma.L2.AvgTemp</th> <td>   -0.2444</td> <td>    0.028</td> <td>   -8.852</td> <td> 0.000</td> <td>   -0.299</td> <td>   -0.190</td>\n",
       "</tr>\n",
       "<tr>\n",
       "  <th>ma.L3.AvgTemp</th> <td>   -0.2051</td> <td>    0.029</td> <td>   -7.029</td> <td> 0.000</td> <td>   -0.262</td> <td>   -0.148</td>\n",
       "</tr>\n",
       "<tr>\n",
       "  <th>ma.L4.AvgTemp</th> <td>   -0.1476</td> <td>    0.027</td> <td>   -5.486</td> <td> 0.000</td> <td>   -0.200</td> <td>   -0.095</td>\n",
       "</tr>\n",
       "<tr>\n",
       "  <th>ma.L5.AvgTemp</th> <td>   -0.0584</td> <td>    0.028</td> <td>   -2.082</td> <td> 0.037</td> <td>   -0.113</td> <td>   -0.003</td>\n",
       "</tr>\n",
       "</table>\n",
       "<table class=\"simpletable\">\n",
       "<caption>Roots</caption>\n",
       "<tr>\n",
       "    <td></td>   <th>            Real</th>  <th>         Imaginary</th> <th>         Modulus</th>  <th>        Frequency</th>\n",
       "</tr>\n",
       "<tr>\n",
       "  <th>AR.1</th> <td>           1.0158</td> <td>          +0.0000j</td> <td>           1.0158</td> <td>           0.0000</td>\n",
       "</tr>\n",
       "<tr>\n",
       "  <th>MA.1</th> <td>           1.0910</td> <td>          -0.0000j</td> <td>           1.0910</td> <td>          -0.0000</td>\n",
       "</tr>\n",
       "<tr>\n",
       "  <th>MA.2</th> <td>           0.0718</td> <td>          -1.8558j</td> <td>           1.8572</td> <td>          -0.2438</td>\n",
       "</tr>\n",
       "<tr>\n",
       "  <th>MA.3</th> <td>           0.0718</td> <td>          +1.8558j</td> <td>           1.8572</td> <td>           0.2438</td>\n",
       "</tr>\n",
       "<tr>\n",
       "  <th>MA.4</th> <td>          -1.8803</td> <td>          -1.0060j</td> <td>           2.1324</td> <td>          -0.4218</td>\n",
       "</tr>\n",
       "<tr>\n",
       "  <th>MA.5</th> <td>          -1.8803</td> <td>          +1.0060j</td> <td>           2.1324</td> <td>           0.4218</td>\n",
       "</tr>\n",
       "</table>"
      ],
      "text/plain": [
       "<class 'statsmodels.iolib.summary.Summary'>\n",
       "\"\"\"\n",
       "                              ARMA Model Results                              \n",
       "==============================================================================\n",
       "Dep. Variable:                AvgTemp   No. Observations:                 1456\n",
       "Model:                     ARMA(1, 5)   Log Likelihood               -3334.671\n",
       "Method:                       css-mle   S.D. of innovations              2.389\n",
       "Date:                Fri, 23 Apr 2021   AIC                           6685.343\n",
       "Time:                        12:39:45   BIC                           6727.610\n",
       "Sample:                             0   HQIC                          6701.113\n",
       "                                                                              \n",
       "=================================================================================\n",
       "                    coef    std err          z      P>|z|      [0.025      0.975]\n",
       "---------------------------------------------------------------------------------\n",
       "const            46.5293      0.860     54.102      0.000      44.844      48.215\n",
       "ar.L1.AvgTemp     0.9844      0.009    112.837      0.000       0.967       1.002\n",
       "ma.L1.AvgTemp    -0.1312      0.028     -4.704      0.000      -0.186      -0.077\n",
       "ma.L2.AvgTemp    -0.2444      0.028     -8.852      0.000      -0.299      -0.190\n",
       "ma.L3.AvgTemp    -0.2051      0.029     -7.029      0.000      -0.262      -0.148\n",
       "ma.L4.AvgTemp    -0.1476      0.027     -5.486      0.000      -0.200      -0.095\n",
       "ma.L5.AvgTemp    -0.0584      0.028     -2.082      0.037      -0.113      -0.003\n",
       "                                    Roots                                    \n",
       "=============================================================================\n",
       "                  Real          Imaginary           Modulus         Frequency\n",
       "-----------------------------------------------------------------------------\n",
       "AR.1            1.0158           +0.0000j            1.0158            0.0000\n",
       "MA.1            1.0910           -0.0000j            1.0910           -0.0000\n",
       "MA.2            0.0718           -1.8558j            1.8572           -0.2438\n",
       "MA.3            0.0718           +1.8558j            1.8572            0.2438\n",
       "MA.4           -1.8803           -1.0060j            2.1324           -0.4218\n",
       "MA.5           -1.8803           +1.0060j            2.1324            0.4218\n",
       "-----------------------------------------------------------------------------\n",
       "\"\"\""
      ]
     },
     "execution_count": 20,
     "metadata": {},
     "output_type": "execute_result"
    }
   ],
   "source": [
    "from statsmodels.tsa.arima_model import ARIMA\n",
    "model=ARIMA(train,order=(1,0,5))\n",
    "model_fit=model.fit()\n",
    "model_fit.summary()"
   ]
  },
  {
   "cell_type": "code",
   "execution_count": 21,
   "metadata": {
    "id": "NDCrPbFN_H4V"
   },
   "outputs": [
    {
     "ename": "SyntaxError",
     "evalue": "invalid syntax (<ipython-input-21-887ec76fc911>, line 1)",
     "output_type": "error",
     "traceback": [
      "\u001b[1;36m  File \u001b[1;32m\"<ipython-input-21-887ec76fc911>\"\u001b[1;36m, line \u001b[1;32m1\u001b[0m\n\u001b[1;33m    ARMA(p,q) d=0\u001b[0m\n\u001b[1;37m              ^\u001b[0m\n\u001b[1;31mSyntaxError\u001b[0m\u001b[1;31m:\u001b[0m invalid syntax\n"
     ]
    }
   ],
   "source": [
    "ARMA(p,q) d=0\n",
    "ARIMA(p,d,q)\n"
   ]
  },
  {
   "cell_type": "code",
   "execution_count": 23,
   "metadata": {
    "colab": {
     "base_uri": "https://localhost:8080/",
     "height": 284
    },
    "id": "Q6TEosEd3mn3",
    "outputId": "7ba7f94d-d05f-4cc0-9700-f5e269ed6175"
   },
   "outputs": [
    {
     "data": {
      "text/plain": [
       "<matplotlib.legend.Legend at 0x132c669ac40>"
      ]
     },
     "execution_count": 23,
     "metadata": {},
     "output_type": "execute_result"
    },
    {
     "data": {
      "image/png": "[encoded data removed]",
      "text/plain": [
       "<Figure size 432x288 with 1 Axes>"
      ]
     },
     "metadata": {
      "needs_background": "light"
     },
     "output_type": "display_data"
    }
   ],
   "source": [
    "plt.plot(train,label=\"Train\")\n",
    "plt.plot(test,label=\"Test\")\n",
    "plt.legend()"
   ]
  },
  {
   "cell_type": "code",
   "execution_count": 24,
   "metadata": {
    "id": "vQhMzGnJ4IuO"
   },
   "outputs": [],
   "source": [
    "ypred_train=model_fit.predict()"
   ]
  },
  {
   "cell_type": "code",
   "execution_count": 25,
   "metadata": {
    "colab": {
     "base_uri": "https://localhost:8080/"
    },
    "id": "XIZhrebZ4TFR",
    "outputId": "830c1046-a4e7-4e81-c8e4-c3d24f824c1d"
   },
   "outputs": [
    {
     "data": {
      "text/plain": [
       "DATE\n",
       "2014-01-01    46.529325\n",
       "2014-01-02    41.196916\n",
       "2014-01-03    43.977319\n",
       "2014-01-04    41.710021\n",
       "2014-01-05    38.275594\n",
       "                ...    \n",
       "2017-12-25    44.577266\n",
       "2017-12-26    41.599460\n",
       "2017-12-27    43.747998\n",
       "2017-12-28    44.505476\n",
       "2017-12-29    42.748241\n",
       "Length: 1456, dtype: float64"
      ]
     },
     "execution_count": 25,
     "metadata": {},
     "output_type": "execute_result"
    }
   ],
   "source": [
    "ypred_train"
   ]
  },
  {
   "cell_type": "code",
   "execution_count": 26,
   "metadata": {
    "id": "O8WC8kfd4Uap"
   },
   "outputs": [],
   "source": [
    "#Predictions on Test dataset"
   ]
  },
  {
   "cell_type": "code",
   "execution_count": 27,
   "metadata": {
    "id": "dAaFDEXt4jKr"
   },
   "outputs": [],
   "source": [
    "#start->len(train) "
   ]
  },
  {
   "cell_type": "code",
   "execution_count": 28,
   "metadata": {
    "id": "MyIZUJGd4pvR"
   },
   "outputs": [],
   "source": [
    "#end->len(train)+len(test)-1\n",
    "#end->len(X)-1"
   ]
  },
  {
   "cell_type": "code",
   "execution_count": 29,
   "metadata": {
    "colab": {
     "base_uri": "https://localhost:8080/"
    },
    "id": "_m-PEg_H4dv3",
    "outputId": "7d4b6c38-221a-43b3-c275-ad5aeef1f7dd"
   },
   "outputs": [
    {
     "name": "stderr",
     "output_type": "stream",
     "text": [
      "C:\\Users\\tejas\\Anaconda3\\lib\\site-packages\\statsmodels\\tsa\\base\\tsa_model.py:376: ValueWarning: No supported index is available. Prediction results will be given with an integer index beginning at `start`.\n",
      "  warnings.warn('No supported index is available.'\n"
     ]
    }
   ],
   "source": [
    "ypred_test=model_fit.predict(start=len(train),end=len(train)+len(test)-1)"
   ]
  },
  {
   "cell_type": "code",
   "execution_count": 30,
   "metadata": {
    "colab": {
     "base_uri": "https://localhost:8080/"
    },
    "id": "AoTAonPn5Ett",
    "outputId": "686d8c02-f5b1-4f1d-cc2f-7fa7a1496ba4"
   },
   "outputs": [
    {
     "data": {
      "text/plain": [
       "(1456    42.929234\n",
       " 1457    42.907451\n",
       " 1458    43.061214\n",
       " 1459    43.165983\n",
       " 1460    43.203594\n",
       "           ...    \n",
       " 1816    46.516802\n",
       " 1817    46.516997\n",
       " 1818    46.517189\n",
       " 1819    46.517377\n",
       " 1820    46.517563\n",
       " Length: 365, dtype: float64,\n",
       " DATE\n",
       " 2017-12-30    44.0\n",
       " 2017-12-31    44.0\n",
       " 2018-01-01    44.0\n",
       " 2018-01-02    44.0\n",
       " 2018-01-03    42.0\n",
       "               ... \n",
       " 2018-12-26    40.0\n",
       " 2018-12-27    39.0\n",
       " 2018-12-28    40.0\n",
       " 2018-12-29    42.0\n",
       " 2018-12-30    46.0\n",
       " Name: AvgTemp, Length: 365, dtype: float64)"
      ]
     },
     "execution_count": 30,
     "metadata": {},
     "output_type": "execute_result"
    }
   ],
   "source": [
    "ypred_test,test"
   ]
  },
  {
   "cell_type": "code",
   "execution_count": 31,
   "metadata": {
    "colab": {
     "base_uri": "https://localhost:8080/"
    },
    "id": "jep4BB1d5LyK",
    "outputId": "42023e23-f6ee-45b6-8810-0c3fda2a1b69"
   },
   "outputs": [
    {
     "data": {
      "text/plain": [
       "DatetimeIndex(['2017-12-30', '2017-12-31', '2018-01-01', '2018-01-02',\n",
       "               '2018-01-03', '2018-01-04', '2018-01-05', '2018-01-06',\n",
       "               '2018-01-07', '2018-01-08',\n",
       "               ...\n",
       "               '2018-12-20', '2018-12-21', '2018-12-22', '2018-12-23',\n",
       "               '2018-12-24', '2018-12-25', '2018-12-26', '2018-12-27',\n",
       "               '2018-12-28', '2018-12-29'],\n",
       "              dtype='datetime64[ns]', length=365, freq='D')"
      ]
     },
     "execution_count": 31,
     "metadata": {},
     "output_type": "execute_result"
    }
   ],
   "source": [
    "date_test=pd.date_range(start='2017-12-30',end=\"2018-12-29\")\n",
    "date_test"
   ]
  },
  {
   "cell_type": "code",
   "execution_count": 32,
   "metadata": {
    "id": "2SEFDeFs5mLt"
   },
   "outputs": [],
   "source": [
    "ypred_test.index=date_test"
   ]
  },
  {
   "cell_type": "code",
   "execution_count": 33,
   "metadata": {
    "colab": {
     "base_uri": "https://localhost:8080/"
    },
    "id": "4TSK9Ab65167",
    "outputId": "7278d920-e0ac-4e01-d8ee-a4b1ecb005a9"
   },
   "outputs": [
    {
     "data": {
      "text/plain": [
       "2017-12-30    42.929234\n",
       "2017-12-31    42.907451\n",
       "2018-01-01    43.061214\n",
       "2018-01-02    43.165983\n",
       "2018-01-03    43.203594\n",
       "                ...    \n",
       "2018-12-25    46.516802\n",
       "2018-12-26    46.516997\n",
       "2018-12-27    46.517189\n",
       "2018-12-28    46.517377\n",
       "2018-12-29    46.517563\n",
       "Freq: D, Length: 365, dtype: float64"
      ]
     },
     "execution_count": 33,
     "metadata": {},
     "output_type": "execute_result"
    }
   ],
   "source": [
    "ypred_test"
   ]
  },
  {
   "cell_type": "code",
   "execution_count": 34,
   "metadata": {
    "colab": {
     "base_uri": "https://localhost:8080/",
     "height": 296
    },
    "id": "TmCyrJFh57PB",
    "outputId": "25d9045c-cc50-4799-8372-cb22a82bd176"
   },
   "outputs": [
    {
     "data": {
      "text/plain": [
       "<AxesSubplot:xlabel='DATE'>"
      ]
     },
     "execution_count": 34,
     "metadata": {},
     "output_type": "execute_result"
    },
    {
     "data": {
      "image/png": "[encoded data removed]",
      "text/plain": [
       "<Figure size 432x288 with 1 Axes>"
      ]
     },
     "metadata": {
      "needs_background": "light"
     },
     "output_type": "display_data"
    }
   ],
   "source": [
    "test.plot()\n",
    "ypred_test.plot()"
   ]
  },
  {
   "cell_type": "code",
   "execution_count": 35,
   "metadata": {
    "colab": {
     "base_uri": "https://localhost:8080/",
     "height": 287
    },
    "id": "Y7j4k9m86YUn",
    "outputId": "767da3e0-4dd5-4b23-ccec-b08071912ed2"
   },
   "outputs": [
    {
     "data": {
      "text/plain": [
       "<AxesSubplot:ylabel='Density'>"
      ]
     },
     "execution_count": 35,
     "metadata": {},
     "output_type": "execute_result"
    },
    {
     "data": {
      "image/png": "[encoded data removed]",
      "text/plain": [
       "<Figure size 432x288 with 1 Axes>"
      ]
     },
     "metadata": {
      "needs_background": "light"
     },
     "output_type": "display_data"
    }
   ],
   "source": [
    "residuals=model_fit.resid\n",
    "residuals.plot(kind=\"kde\")"
   ]
  },
  {
   "cell_type": "code",
   "execution_count": 36,
   "metadata": {
    "colab": {
     "base_uri": "https://localhost:8080/"
    },
    "id": "mtK6KFbh6Nxh",
    "outputId": "d21dad22-dd87-41bb-dd93-5289f40ca08d"
   },
   "outputs": [
    {
     "name": "stdout",
     "output_type": "stream",
     "text": [
      "MSE is : 14.341736378015487\n",
      "RMSE is : 3.7870485048406084\n"
     ]
    }
   ],
   "source": [
    "from sklearn.metrics import mean_squared_error\n",
    "mse=mean_squared_error(test,ypred_test)\n",
    "print(\"MSE is :\",mse)\n",
    "print(\"RMSE is :\",np.sqrt(mse))"
   ]
  },
  {
   "cell_type": "code",
   "execution_count": 37,
   "metadata": {
    "id": "Cfnn8LcY6pMf"
   },
   "outputs": [],
   "source": [
    "#predict 30 future values"
   ]
  },
  {
   "cell_type": "code",
   "execution_count": 38,
   "metadata": {
    "colab": {
     "base_uri": "https://localhost:8080/"
    },
    "id": "l-TbP7UI7KOc",
    "outputId": "8a35e01d-019f-4f09-b2df-0c04b50cc654"
   },
   "outputs": [
    {
     "name": "stderr",
     "output_type": "stream",
     "text": [
      "C:\\Users\\tejas\\Anaconda3\\lib\\site-packages\\statsmodels\\tsa\\arima_model.py:472: FutureWarning: \n",
      "statsmodels.tsa.arima_model.ARMA and statsmodels.tsa.arima_model.ARIMA have\n",
      "been deprecated in favor of statsmodels.tsa.arima.model.ARIMA (note the .\n",
      "between arima and model) and\n",
      "statsmodels.tsa.SARIMAX. These will be removed after the 0.12 release.\n",
      "\n",
      "statsmodels.tsa.arima.model.ARIMA makes use of the statespace framework and\n",
      "is both well tested and maintained.\n",
      "\n",
      "To silence this warning and continue using ARMA and ARIMA until they are\n",
      "removed, use:\n",
      "\n",
      "import warnings\n",
      "warnings.filterwarnings('ignore', 'statsmodels.tsa.arima_model.ARMA',\n",
      "                        FutureWarning)\n",
      "warnings.filterwarnings('ignore', 'statsmodels.tsa.arima_model.ARIMA',\n",
      "                        FutureWarning)\n",
      "\n",
      "  warnings.warn(ARIMA_DEPRECATION_WARN, FutureWarning)\n",
      "C:\\Users\\tejas\\Anaconda3\\lib\\site-packages\\statsmodels\\tsa\\base\\tsa_model.py:581: ValueWarning: A date index has been provided, but it has no associated frequency information and so will be ignored when e.g. forecasting.\n",
      "  warnings.warn('A date index has been provided, but it has no'\n"
     ]
    }
   ],
   "source": [
    "model=ARIMA(X,order=(1,0,5))\n",
    "model_fit=model.fit()"
   ]
  },
  {
   "cell_type": "code",
   "execution_count": 39,
   "metadata": {},
   "outputs": [
    {
     "data": {
      "text/plain": [
       "DATE\n",
       "2014-01-01    40.0\n",
       "2014-01-02    43.0\n",
       "2014-01-03    41.0\n",
       "2014-01-04    37.0\n",
       "2014-01-05    31.0\n",
       "              ... \n",
       "2018-12-26    40.0\n",
       "2018-12-27    39.0\n",
       "2018-12-28    40.0\n",
       "2018-12-29    42.0\n",
       "2018-12-30    46.0\n",
       "Name: AvgTemp, Length: 1821, dtype: float64"
      ]
     },
     "execution_count": 39,
     "metadata": {},
     "output_type": "execute_result"
    }
   ],
   "source": [
    "X"
   ]
  },
  {
   "cell_type": "code",
   "execution_count": 40,
   "metadata": {
    "colab": {
     "base_uri": "https://localhost:8080/"
    },
    "id": "LKYgzx9S7dp1",
    "outputId": "c6d4ff4f-22b8-40c1-df82-14e2299c1c52"
   },
   "outputs": [
    {
     "name": "stderr",
     "output_type": "stream",
     "text": [
      "C:\\Users\\tejas\\Anaconda3\\lib\\site-packages\\statsmodels\\tsa\\base\\tsa_model.py:376: ValueWarning: No supported index is available. Prediction results will be given with an integer index beginning at `start`.\n",
      "  warnings.warn('No supported index is available.'\n"
     ]
    }
   ],
   "source": [
    "forecast=model_fit.predict(start=len(X),end=len(X)+29)"
   ]
  },
  {
   "cell_type": "code",
   "execution_count": 41,
   "metadata": {
    "colab": {
     "base_uri": "https://localhost:8080/"
    },
    "id": "ewEUmKMC7wkv",
    "outputId": "a749fdaa-0327-486c-8876-c27f5c169d71"
   },
   "outputs": [
    {
     "data": {
      "text/plain": [
       "1821    46.418067\n",
       "1822    46.113788\n",
       "1823    45.617779\n",
       "1824    45.249564\n",
       "1825    45.116994\n",
       "1826    45.136781\n",
       "1827    45.156291\n",
       "1828    45.175528\n",
       "1829    45.194495\n",
       "1830    45.213196\n",
       "1831    45.231636\n",
       "1832    45.249817\n",
       "1833    45.267743\n",
       "1834    45.285418\n",
       "1835    45.302846\n",
       "1836    45.320030\n",
       "1837    45.336972\n",
       "1838    45.353678\n",
       "1839    45.370149\n",
       "1840    45.386390\n",
       "1841    45.402403\n",
       "1842    45.418191\n",
       "1843    45.433759\n",
       "1844    45.449108\n",
       "1845    45.464243\n",
       "1846    45.479165\n",
       "1847    45.493879\n",
       "1848    45.508386\n",
       "1849    45.522690\n",
       "1850    45.536793\n",
       "dtype: float64"
      ]
     },
     "execution_count": 41,
     "metadata": {},
     "output_type": "execute_result"
    }
   ],
   "source": [
    "forecast"
   ]
  },
  {
   "cell_type": "code",
   "execution_count": 42,
   "metadata": {
    "colab": {
     "base_uri": "https://localhost:8080/"
    },
    "id": "-FEeMad674cp",
    "outputId": "dfdff8f9-574a-4c63-966d-f54a5db48583"
   },
   "outputs": [
    {
     "data": {
      "text/plain": [
       "(30, 30)"
      ]
     },
     "execution_count": 42,
     "metadata": {},
     "output_type": "execute_result"
    }
   ],
   "source": [
    "forecast_date=pd.date_range(start=\"2019-01-01\",end=\"2019-01-30\")\n",
    "len(forecast_date),len(forecast)"
   ]
  },
  {
   "cell_type": "code",
   "execution_count": 43,
   "metadata": {
    "id": "gqIam9ko8aJT"
   },
   "outputs": [],
   "source": [
    "forecast.index=forecast_date"
   ]
  },
  {
   "cell_type": "code",
   "execution_count": 44,
   "metadata": {
    "colab": {
     "base_uri": "https://localhost:8080/",
     "height": 319
    },
    "id": "LLaDYt9o8ojP",
    "outputId": "d707ebab-c885-493b-806f-fa39455b5f84"
   },
   "outputs": [
    {
     "data": {
      "text/plain": [
       "<AxesSubplot:>"
      ]
     },
     "execution_count": 44,
     "metadata": {},
     "output_type": "execute_result"
    },
    {
     "data": {
      "image/png": "[encoded data removed]",
      "text/plain": [
       "<Figure size 432x288 with 1 Axes>"
      ]
     },
     "metadata": {
      "needs_background": "light"
     },
     "output_type": "display_data"
    }
   ],
   "source": [
    "forecast.plot()"
   ]
  },
  {
   "cell_type": "code",
   "execution_count": null,
   "metadata": {
    "id": "TXthzWaoUFvb"
   },
   "outputs": [],
   "source": []
  }
 ],
 "metadata": {
  "colab": {
   "name": "Temperature Forcasting Using ARMA,AutoARIMA.ipynb",
   "provenance": [],
   "toc_visible": true
  },
  "kernelspec": {
   "display_name": "Python 3",
   "language": "python",
   "name": "python3"
  },
  "language_info": {
   "codemirror_mode": {
    "name": "ipython",
    "version": 3
   },
   "file_extension": ".py",
   "mimetype": "text/x-python",
   "name": "python",
   "nbconvert_exporter": "python",
   "pygments_lexer": "ipython3",
   "version": "3.8.8"
  }
 },
 "nbformat": 4,
 "nbformat_minor": 1
}
