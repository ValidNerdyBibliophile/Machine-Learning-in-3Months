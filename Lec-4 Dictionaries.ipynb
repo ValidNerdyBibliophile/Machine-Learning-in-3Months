{
 "cells": [
  {
   "cell_type": "markdown",
   "metadata": {},
   "source": [
    "### Dictionaries\n",
    "\n",
    "##### mutable\n",
    "##### key:value pair\n",
    "    key will be unique always."
   ]
  },
  {
   "cell_type": "code",
   "execution_count": 1,
   "metadata": {},
   "outputs": [
    {
     "name": "stdout",
     "output_type": "stream",
     "text": [
      "{1: 'alex', 2: 'jason', 3: 'sean'}\n",
      "<class 'dict'>\n"
     ]
    }
   ],
   "source": [
    "d={1:\"alex\",2:\"jason\",3:\"sean\"}\n",
    "print(d)\n",
    "print(type(d))"
   ]
  },
  {
   "cell_type": "code",
   "execution_count": 2,
   "metadata": {},
   "outputs": [
    {
     "name": "stdout",
     "output_type": "stream",
     "text": [
      "jason\n"
     ]
    }
   ],
   "source": [
    "print(d[2])"
   ]
  },
  {
   "cell_type": "markdown",
   "metadata": {},
   "source": [
    "### Add"
   ]
  },
  {
   "cell_type": "code",
   "execution_count": 3,
   "metadata": {
    "scrolled": true
   },
   "outputs": [
    {
     "name": "stdout",
     "output_type": "stream",
     "text": [
      "{1: 'alex', 2: 'jason', 3: 'sean', 4: 'john'}\n"
     ]
    }
   ],
   "source": [
    "d[4]=\"john\"\n",
    "print(d)"
   ]
  },
  {
   "cell_type": "markdown",
   "metadata": {},
   "source": [
    "### Update"
   ]
  },
  {
   "cell_type": "code",
   "execution_count": 4,
   "metadata": {},
   "outputs": [
    {
     "name": "stdout",
     "output_type": "stream",
     "text": [
      "{1: 'alex', 2: 'jason', 3: 'sean jr', 4: 'john'}\n"
     ]
    }
   ],
   "source": [
    "d[3]=\"sean jr\"\n",
    "print(d)"
   ]
  },
  {
   "cell_type": "markdown",
   "metadata": {},
   "source": [
    "### d.keys()\n",
    "Returns the list of the keys! Whenever we want to traverse a dictionary we can use this method."
   ]
  },
  {
   "cell_type": "code",
   "execution_count": 5,
   "metadata": {},
   "outputs": [
    {
     "name": "stdout",
     "output_type": "stream",
     "text": [
      "1 -> alex\n",
      "2 -> jason\n",
      "3 -> sean jr\n",
      "4 -> john\n"
     ]
    }
   ],
   "source": [
    "for i in d.keys():\n",
    "    print(i,\"->\",d[i])"
   ]
  },
  {
   "cell_type": "markdown",
   "metadata": {},
   "source": [
    "### d.values()"
   ]
  },
  {
   "cell_type": "code",
   "execution_count": 6,
   "metadata": {},
   "outputs": [
    {
     "name": "stdout",
     "output_type": "stream",
     "text": [
      "alex\n",
      "jason\n",
      "sean jr\n",
      "john\n"
     ]
    }
   ],
   "source": [
    "for i in d.values():\n",
    "    print(i)"
   ]
  },
  {
   "cell_type": "markdown",
   "metadata": {},
   "source": [
    "### d.items()\n",
    "Returns tuples of key value pairs"
   ]
  },
  {
   "cell_type": "code",
   "execution_count": 7,
   "metadata": {},
   "outputs": [
    {
     "name": "stdout",
     "output_type": "stream",
     "text": [
      "(1, 'alex')\n",
      "(2, 'jason')\n",
      "(3, 'sean jr')\n",
      "(4, 'john')\n",
      "1 alex\n",
      "2 jason\n",
      "3 sean jr\n",
      "4 john\n"
     ]
    }
   ],
   "source": [
    "for item in d.items():\n",
    "    print(item)\n",
    "    \n",
    "for key,value in d.items():\n",
    "    print(key,value)\n",
    "    "
   ]
  },
  {
   "cell_type": "markdown",
   "metadata": {},
   "source": [
    "##### stud = (\"alex\":56,\"jao\":34,\"may\":54,\"doe\":87)\n",
    "\n",
    "1. max marks\n",
    "2. max marks and students name\n",
    "3. min\n",
    "4. min marks and students name\n",
    "5. Dynamic Dictionary\n",
    "    ##### n->no of products->3\n",
    "    ##### product -> input\n",
    "    ##### price -> input\n",
    "    ##### shop = (\"prod_name\":price,\"prod_name\":price,\"prod_name\":price)\n",
    "6. stud=(\"name\":[math,physics,chem])\n",
    "    ##### output=(\"name\":total_marks)\n",
    "    ##### student = [names]\n"
   ]
  },
  {
   "cell_type": "code",
   "execution_count": 8,
   "metadata": {},
   "outputs": [
    {
     "name": "stdout",
     "output_type": "stream",
     "text": [
      "Minimum Marks ['jao'] -> 34\n"
     ]
    }
   ],
   "source": [
    "stud = {\"alex\":56, \"jao\":34, \"may\":54, \"doe\":87}\n",
    "min_marks = min(stud.values())\n",
    "min_result = [key for key in stud if stud[key] == min_marks] \n",
    "print(\"Minimum Marks\", min_result, \"->\" , min_marks)\n"
   ]
  },
  {
   "cell_type": "code",
   "execution_count": 9,
   "metadata": {},
   "outputs": [
    {
     "name": "stdout",
     "output_type": "stream",
     "text": [
      "Minimum Marks ['doe'] -> 87\n"
     ]
    }
   ],
   "source": [
    "stud = {\"alex\":56, \"jao\":34, \"may\":54, \"doe\":87}\n",
    "max_marks = max(stud.values())\n",
    "max_result = [key for key in stud if stud[key] == max_marks] \n",
    "print(\"Minimum Marks\", max_result, \"->\" , max_marks)"
   ]
  },
  {
   "cell_type": "code",
   "execution_count": 5,
   "metadata": {},
   "outputs": [
    {
     "name": "stdout",
     "output_type": "stream",
     "text": [
      "[{'john': 223}, {'rhea': 257}, {'winne': 179}]\n",
      "['john', 'rhea', 'winne']\n"
     ]
    }
   ],
   "source": [
    "students = {\"john\":[56,87,80], \"sean\":[14,43,67], \"rhea\":[78,90,89],\"winne\":[78,89,12]}\n",
    "eligible_stud = []\n",
    "stud = []\n",
    "for key,value in students.items():\n",
    "    total_marks = sum(value)\n",
    "    if total_marks > 150:\n",
    "        eligible_stud.append({key:total_marks})\n",
    "        stud.append(key)\n",
    "print(eligible_stud)\n",
    "print(stud)"
   ]
  },
  {
   "cell_type": "code",
   "execution_count": 11,
   "metadata": {},
   "outputs": [
    {
     "name": "stdout",
     "output_type": "stream",
     "text": [
      "Enter the no of products: 3\n",
      "Enter The Product Name: Telescope\n",
      "Enter The Product Price: 999\n",
      "Enter The Product Name: Sugar\n",
      "Enter The Product Price: 75\n",
      "Enter The Product Name: Pencil\n",
      "Enter The Product Price: 9\n",
      "{'Telescope': '999', 'Sugar': '75', 'Pencil': '9'}\n"
     ]
    }
   ],
   "source": [
    "n = int(input(\"Enter the no of products: \"))\n",
    "shop={}\n",
    "for i in range(n):\n",
    "    prod_name = input(\"Enter The Product Name: \")\n",
    "    prod_price = input(\"Enter The Product Price: \")\n",
    "    shop[prod_name] = prod_price\n",
    "print(shop)"
   ]
  },
  {
   "cell_type": "code",
   "execution_count": null,
   "metadata": {},
   "outputs": [],
   "source": []
  },
  {
   "cell_type": "code",
   "execution_count": null,
   "metadata": {},
   "outputs": [],
   "source": []
  }
 ],
 "metadata": {
  "kernelspec": {
   "display_name": "Python 3",
   "language": "python",
   "name": "python3"
  },
  "language_info": {
   "codemirror_mode": {
    "name": "ipython",
    "version": 3
   },
   "file_extension": ".py",
   "mimetype": "text/x-python",
   "name": "python",
   "nbconvert_exporter": "python",
   "pygments_lexer": "ipython3",
   "version": "3.8.8"
  }
 },
 "nbformat": 4,
 "nbformat_minor": 4
}
