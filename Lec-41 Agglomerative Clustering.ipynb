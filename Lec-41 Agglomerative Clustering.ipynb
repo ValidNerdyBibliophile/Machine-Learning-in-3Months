{
 "cells": [
  {
   "cell_type": "markdown",
   "id": "32d33ffe",
   "metadata": {},
   "source": [
    "### What is Agglomerative clustering?\n",
    "\n",
    "The agglomerative clustering is the most common type of ***hierarchical clustering*** used to group objects in clusters based on their similarity. It’s also known as AGNES (Agglomerative Nesting). \n",
    "\n",
    "The algorithm ***starts by treating each object as a singleton cluster. Next, pairs of clusters are successively merged until all clusters have been merged into one big cluster containing all objects.*** The result is a tree-based representation of the objects, named ***dendrogram.***"
   ]
  },
  {
   "cell_type": "markdown",
   "id": "d3ad5fb2",
   "metadata": {},
   "source": [
    "### How do we calculate Agglomerative Clustering"
   ]
  },
  {
   "cell_type": "markdown",
   "id": "0b187c1b",
   "metadata": {},
   "source": [
    "Suppose we have a dataset 1,2,3,4,5 with values 8,5,15,18,20. \n",
    "#### Steps:\n",
    "- ***Calculate distance from each point.***\n",
    "\n",
    "So a matrix of 5x5 wil be created in which we'll calculate the distance from\n",
    "1,1 = 0 (8-8)\n",
    "1,2 = 3 (8-5)\n",
    "1,3 = 7 (8-15)\n",
    "1,4 = 10 (8-18)\n",
    "1,5 = 12 (8-20)\n",
    "\n",
    "- ***So after doing the abol=ve for all data points, we consider all of them as an individual cluster***\n",
    "\n",
    "1,2,3,4,5\n",
    "\n",
    "- ***Merge the points based on the distance***\n",
    "\n",
    "(1,2),3,4,5\n",
    "\n",
    "- ***Now the distance matrix will change again cause we got out first cluster.***\n",
    "\n",
    "Now we'll have four points\n",
    "(1,2),3,4,5\n",
    "\n",
    "Calculate the proximity matrix again. Where for a cluster of (1,2), it'll choose the maximum value from both.\n",
    "\n",
    "So now we have a dataset of (1,2),3,4,5 with values 8,15,18,20\n",
    "\n",
    "(1,2),(1,2) = 0\n",
    "(1,2),3 = 7 (8-15)\n",
    "(1,2),4 = 10\n",
    "(1,2),5 = 12\n",
    "\n",
    "And so on calculate for all\n",
    "- ***Now we'll merge the points again.***\n",
    "4,5 will merge together as it has lowest distance.\n",
    "\n",
    "(1,2),3,(4,5)\n",
    "- ***Continue this process untill we get the final cluster.***\n",
    "(1,2,3,4,5)"
   ]
  },
  {
   "cell_type": "markdown",
   "id": "e0b8d554",
   "metadata": {},
   "source": [
    "### How do we select number of clusters and how do we group it?\n",
    "\n",
    "To get the clusters or number of clusters, we use a dendogram. Its a tree based representation which represent's the merging process. We use a library to do so.\n",
    "Suppose we have a graph X,Y\n",
    "- ***X -> Samples or Index***\n",
    "- ***Y -> Distances***\n",
    "\n",
    "A dendogram is represented.\n",
    "#### No of clusters\n",
    "We use a threshold line.\n",
    "n_cluster = 2 (for the above eg, as (1,2,3),(4,5) were 2 clusters were formed) "
   ]
  },
  {
   "cell_type": "code",
   "execution_count": 1,
   "id": "f52b7cdc",
   "metadata": {},
   "outputs": [],
   "source": [
    "import pandas as pd\n",
    "import numpy as np\n",
    "import matplotlib.pyplot as plt\n",
    "import seaborn as sns"
   ]
  },
  {
   "cell_type": "code",
   "execution_count": 2,
   "id": "1098e199",
   "metadata": {},
   "outputs": [],
   "source": [
    "data = pd.read_csv(\"mall.csv\")"
   ]
  },
  {
   "cell_type": "code",
   "execution_count": 3,
   "id": "96d61401",
   "metadata": {},
   "outputs": [
    {
     "data": {
      "text/html": [
       "<div>\n",
       "<style scoped>\n",
       "    .dataframe tbody tr th:only-of-type {\n",
       "        vertical-align: middle;\n",
       "    }\n",
       "\n",
       "    .dataframe tbody tr th {\n",
       "        vertical-align: top;\n",
       "    }\n",
       "\n",
       "    .dataframe thead th {\n",
       "        text-align: right;\n",
       "    }\n",
       "</style>\n",
       "<table border=\"1\" class=\"dataframe\">\n",
       "  <thead>\n",
       "    <tr style=\"text-align: right;\">\n",
       "      <th></th>\n",
       "      <th>CustomerID</th>\n",
       "      <th>Genre</th>\n",
       "      <th>Age</th>\n",
       "      <th>Annual_Income_(k$)</th>\n",
       "      <th>Spending_Score</th>\n",
       "    </tr>\n",
       "  </thead>\n",
       "  <tbody>\n",
       "    <tr>\n",
       "      <th>0</th>\n",
       "      <td>1</td>\n",
       "      <td>Male</td>\n",
       "      <td>19</td>\n",
       "      <td>15</td>\n",
       "      <td>39</td>\n",
       "    </tr>\n",
       "    <tr>\n",
       "      <th>1</th>\n",
       "      <td>2</td>\n",
       "      <td>Male</td>\n",
       "      <td>21</td>\n",
       "      <td>15</td>\n",
       "      <td>81</td>\n",
       "    </tr>\n",
       "    <tr>\n",
       "      <th>2</th>\n",
       "      <td>3</td>\n",
       "      <td>Female</td>\n",
       "      <td>20</td>\n",
       "      <td>16</td>\n",
       "      <td>6</td>\n",
       "    </tr>\n",
       "    <tr>\n",
       "      <th>3</th>\n",
       "      <td>4</td>\n",
       "      <td>Female</td>\n",
       "      <td>23</td>\n",
       "      <td>16</td>\n",
       "      <td>77</td>\n",
       "    </tr>\n",
       "    <tr>\n",
       "      <th>4</th>\n",
       "      <td>5</td>\n",
       "      <td>Female</td>\n",
       "      <td>31</td>\n",
       "      <td>17</td>\n",
       "      <td>40</td>\n",
       "    </tr>\n",
       "  </tbody>\n",
       "</table>\n",
       "</div>"
      ],
      "text/plain": [
       "   CustomerID   Genre  Age  Annual_Income_(k$)  Spending_Score\n",
       "0           1    Male   19                  15              39\n",
       "1           2    Male   21                  15              81\n",
       "2           3  Female   20                  16               6\n",
       "3           4  Female   23                  16              77\n",
       "4           5  Female   31                  17              40"
      ]
     },
     "execution_count": 3,
     "metadata": {},
     "output_type": "execute_result"
    }
   ],
   "source": [
    "data.head()"
   ]
  },
  {
   "cell_type": "code",
   "execution_count": 4,
   "id": "c84b8229",
   "metadata": {},
   "outputs": [],
   "source": [
    "data[\"Genre\"] = data[\"Genre\"].map({\"Female\":0,\"Male\":1})"
   ]
  },
  {
   "cell_type": "code",
   "execution_count": 5,
   "id": "84006378",
   "metadata": {},
   "outputs": [],
   "source": [
    "x = data"
   ]
  },
  {
   "cell_type": "code",
   "execution_count": 6,
   "id": "12dca961",
   "metadata": {},
   "outputs": [
    {
     "data": {
      "image/png": "[encoded data removed]",
      "text/plain": [
       "<Figure size 720x432 with 1 Axes>"
      ]
     },
     "metadata": {
      "needs_background": "light"
     },
     "output_type": "display_data"
    }
   ],
   "source": [
    "import scipy.cluster.hierarchy as shc\n",
    "plt.figure(figsize = (10,6))\n",
    "den = shc.dendrogram(shc.linkage(x, method = \"ward\"))"
   ]
  },
  {
   "cell_type": "code",
   "execution_count": 7,
   "id": "e352ff7a",
   "metadata": {},
   "outputs": [],
   "source": [
    "from sklearn.cluster import AgglomerativeClustering"
   ]
  },
  {
   "cell_type": "code",
   "execution_count": 8,
   "id": "6338629b",
   "metadata": {},
   "outputs": [
    {
     "name": "stdout",
     "output_type": "stream",
     "text": [
      "Help on class AgglomerativeClustering in module sklearn.cluster._agglomerative:\n",
      "\n",
      "class AgglomerativeClustering(sklearn.base.ClusterMixin, sklearn.base.BaseEstimator)\n",
      " |  AgglomerativeClustering(n_clusters=2, *, affinity='euclidean', memory=None, connectivity=None, compute_full_tree='auto', linkage='ward', distance_threshold=None, compute_distances=False)\n",
      " |  \n",
      " |  Agglomerative Clustering\n",
      " |  \n",
      " |  Recursively merges the pair of clusters that minimally increases\n",
      " |  a given linkage distance.\n",
      " |  \n",
      " |  Read more in the :ref:`User Guide <hierarchical_clustering>`.\n",
      " |  \n",
      " |  Parameters\n",
      " |  ----------\n",
      " |  n_clusters : int or None, default=2\n",
      " |      The number of clusters to find. It must be ``None`` if\n",
      " |      ``distance_threshold`` is not ``None``.\n",
      " |  \n",
      " |  affinity : str or callable, default='euclidean'\n",
      " |      Metric used to compute the linkage. Can be \"euclidean\", \"l1\", \"l2\",\n",
      " |      \"manhattan\", \"cosine\", or \"precomputed\".\n",
      " |      If linkage is \"ward\", only \"euclidean\" is accepted.\n",
      " |      If \"precomputed\", a distance matrix (instead of a similarity matrix)\n",
      " |      is needed as input for the fit method.\n",
      " |  \n",
      " |  memory : str or object with the joblib.Memory interface, default=None\n",
      " |      Used to cache the output of the computation of the tree.\n",
      " |      By default, no caching is done. If a string is given, it is the\n",
      " |      path to the caching directory.\n",
      " |  \n",
      " |  connectivity : array-like or callable, default=None\n",
      " |      Connectivity matrix. Defines for each sample the neighboring\n",
      " |      samples following a given structure of the data.\n",
      " |      This can be a connectivity matrix itself or a callable that transforms\n",
      " |      the data into a connectivity matrix, such as derived from\n",
      " |      kneighbors_graph. Default is ``None``, i.e, the\n",
      " |      hierarchical clustering algorithm is unstructured.\n",
      " |  \n",
      " |  compute_full_tree : 'auto' or bool, default='auto'\n",
      " |      Stop early the construction of the tree at ``n_clusters``. This is\n",
      " |      useful to decrease computation time if the number of clusters is not\n",
      " |      small compared to the number of samples. This option is useful only\n",
      " |      when specifying a connectivity matrix. Note also that when varying the\n",
      " |      number of clusters and using caching, it may be advantageous to compute\n",
      " |      the full tree. It must be ``True`` if ``distance_threshold`` is not\n",
      " |      ``None``. By default `compute_full_tree` is \"auto\", which is equivalent\n",
      " |      to `True` when `distance_threshold` is not `None` or that `n_clusters`\n",
      " |      is inferior to the maximum between 100 or `0.02 * n_samples`.\n",
      " |      Otherwise, \"auto\" is equivalent to `False`.\n",
      " |  \n",
      " |  linkage : {'ward', 'complete', 'average', 'single'}, default='ward'\n",
      " |      Which linkage criterion to use. The linkage criterion determines which\n",
      " |      distance to use between sets of observation. The algorithm will merge\n",
      " |      the pairs of cluster that minimize this criterion.\n",
      " |  \n",
      " |      - 'ward' minimizes the variance of the clusters being merged.\n",
      " |      - 'average' uses the average of the distances of each observation of\n",
      " |        the two sets.\n",
      " |      - 'complete' or 'maximum' linkage uses the maximum distances between\n",
      " |        all observations of the two sets.\n",
      " |      - 'single' uses the minimum of the distances between all observations\n",
      " |        of the two sets.\n",
      " |  \n",
      " |      .. versionadded:: 0.20\n",
      " |          Added the 'single' option\n",
      " |  \n",
      " |  distance_threshold : float, default=None\n",
      " |      The linkage distance threshold above which, clusters will not be\n",
      " |      merged. If not ``None``, ``n_clusters`` must be ``None`` and\n",
      " |      ``compute_full_tree`` must be ``True``.\n",
      " |  \n",
      " |      .. versionadded:: 0.21\n",
      " |  \n",
      " |  compute_distances : bool, default=False\n",
      " |      Computes distances between clusters even if `distance_threshold` is not\n",
      " |      used. This can be used to make dendrogram visualization, but introduces\n",
      " |      a computational and memory overhead.\n",
      " |  \n",
      " |      .. versionadded:: 0.24\n",
      " |  \n",
      " |  Attributes\n",
      " |  ----------\n",
      " |  n_clusters_ : int\n",
      " |      The number of clusters found by the algorithm. If\n",
      " |      ``distance_threshold=None``, it will be equal to the given\n",
      " |      ``n_clusters``.\n",
      " |  \n",
      " |  labels_ : ndarray of shape (n_samples)\n",
      " |      cluster labels for each point\n",
      " |  \n",
      " |  n_leaves_ : int\n",
      " |      Number of leaves in the hierarchical tree.\n",
      " |  \n",
      " |  n_connected_components_ : int\n",
      " |      The estimated number of connected components in the graph.\n",
      " |  \n",
      " |      .. versionadded:: 0.21\n",
      " |          ``n_connected_components_`` was added to replace ``n_components_``.\n",
      " |  \n",
      " |  children_ : array-like of shape (n_samples-1, 2)\n",
      " |      The children of each non-leaf node. Values less than `n_samples`\n",
      " |      correspond to leaves of the tree which are the original samples.\n",
      " |      A node `i` greater than or equal to `n_samples` is a non-leaf\n",
      " |      node and has children `children_[i - n_samples]`. Alternatively\n",
      " |      at the i-th iteration, children[i][0] and children[i][1]\n",
      " |      are merged to form node `n_samples + i`\n",
      " |  \n",
      " |  distances_ : array-like of shape (n_nodes-1,)\n",
      " |      Distances between nodes in the corresponding place in `children_`.\n",
      " |      Only computed if `distance_threshold` is used or `compute_distances`\n",
      " |      is set to `True`.\n",
      " |  \n",
      " |  Examples\n",
      " |  --------\n",
      " |  >>> from sklearn.cluster import AgglomerativeClustering\n",
      " |  >>> import numpy as np\n",
      " |  >>> X = np.array([[1, 2], [1, 4], [1, 0],\n",
      " |  ...               [4, 2], [4, 4], [4, 0]])\n",
      " |  >>> clustering = AgglomerativeClustering().fit(X)\n",
      " |  >>> clustering\n",
      " |  AgglomerativeClustering()\n",
      " |  >>> clustering.labels_\n",
      " |  array([1, 1, 1, 0, 0, 0])\n",
      " |  \n",
      " |  Method resolution order:\n",
      " |      AgglomerativeClustering\n",
      " |      sklearn.base.ClusterMixin\n",
      " |      sklearn.base.BaseEstimator\n",
      " |      builtins.object\n",
      " |  \n",
      " |  Methods defined here:\n",
      " |  \n",
      " |  __init__(self, n_clusters=2, *, affinity='euclidean', memory=None, connectivity=None, compute_full_tree='auto', linkage='ward', distance_threshold=None, compute_distances=False)\n",
      " |      Initialize self.  See help(type(self)) for accurate signature.\n",
      " |  \n",
      " |  fit(self, X, y=None)\n",
      " |      Fit the hierarchical clustering from features, or distance matrix.\n",
      " |      \n",
      " |      Parameters\n",
      " |      ----------\n",
      " |      X : array-like, shape (n_samples, n_features) or (n_samples, n_samples)\n",
      " |          Training instances to cluster, or distances between instances if\n",
      " |          ``affinity='precomputed'``.\n",
      " |      \n",
      " |      y : Ignored\n",
      " |          Not used, present here for API consistency by convention.\n",
      " |      \n",
      " |      Returns\n",
      " |      -------\n",
      " |      self\n",
      " |  \n",
      " |  fit_predict(self, X, y=None)\n",
      " |      Fit the hierarchical clustering from features or distance matrix,\n",
      " |      and return cluster labels.\n",
      " |      \n",
      " |      Parameters\n",
      " |      ----------\n",
      " |      X : array-like of shape (n_samples, n_features) or                 (n_samples, n_samples)\n",
      " |          Training instances to cluster, or distances between instances if\n",
      " |          ``affinity='precomputed'``.\n",
      " |      \n",
      " |      y : Ignored\n",
      " |          Not used, present here for API consistency by convention.\n",
      " |      \n",
      " |      Returns\n",
      " |      -------\n",
      " |      labels : ndarray of shape (n_samples,)\n",
      " |          Cluster labels.\n",
      " |  \n",
      " |  ----------------------------------------------------------------------\n",
      " |  Data descriptors inherited from sklearn.base.ClusterMixin:\n",
      " |  \n",
      " |  __dict__\n",
      " |      dictionary for instance variables (if defined)\n",
      " |  \n",
      " |  __weakref__\n",
      " |      list of weak references to the object (if defined)\n",
      " |  \n",
      " |  ----------------------------------------------------------------------\n",
      " |  Methods inherited from sklearn.base.BaseEstimator:\n",
      " |  \n",
      " |  __getstate__(self)\n",
      " |  \n",
      " |  __repr__(self, N_CHAR_MAX=700)\n",
      " |      Return repr(self).\n",
      " |  \n",
      " |  __setstate__(self, state)\n",
      " |  \n",
      " |  get_params(self, deep=True)\n",
      " |      Get parameters for this estimator.\n",
      " |      \n",
      " |      Parameters\n",
      " |      ----------\n",
      " |      deep : bool, default=True\n",
      " |          If True, will return the parameters for this estimator and\n",
      " |          contained subobjects that are estimators.\n",
      " |      \n",
      " |      Returns\n",
      " |      -------\n",
      " |      params : dict\n",
      " |          Parameter names mapped to their values.\n",
      " |  \n",
      " |  set_params(self, **params)\n",
      " |      Set the parameters of this estimator.\n",
      " |      \n",
      " |      The method works on simple estimators as well as on nested objects\n",
      " |      (such as :class:`~sklearn.pipeline.Pipeline`). The latter have\n",
      " |      parameters of the form ``<component>__<parameter>`` so that it's\n",
      " |      possible to update each component of a nested object.\n",
      " |      \n",
      " |      Parameters\n",
      " |      ----------\n",
      " |      **params : dict\n",
      " |          Estimator parameters.\n",
      " |      \n",
      " |      Returns\n",
      " |      -------\n",
      " |      self : estimator instance\n",
      " |          Estimator instance.\n",
      "\n"
     ]
    }
   ],
   "source": [
    "help(AgglomerativeClustering)"
   ]
  },
  {
   "cell_type": "code",
   "execution_count": 9,
   "id": "0fd1a691",
   "metadata": {},
   "outputs": [
    {
     "data": {
      "text/plain": [
       "AgglomerativeClustering(n_clusters=6)"
      ]
     },
     "execution_count": 9,
     "metadata": {},
     "output_type": "execute_result"
    }
   ],
   "source": [
    "model = AgglomerativeClustering(n_clusters = 6)\n",
    "model.fit(x)"
   ]
  },
  {
   "cell_type": "code",
   "execution_count": 10,
   "id": "281cdb1b",
   "metadata": {},
   "outputs": [
    {
     "data": {
      "text/plain": [
       "array([5, 4, 5, 4, 5, 4, 5, 4, 5, 4, 5, 4, 5, 4, 5, 4, 5, 4, 5, 4, 5, 4,\n",
       "       5, 4, 5, 4, 5, 4, 5, 4, 5, 4, 5, 4, 5, 4, 5, 4, 3, 4, 3, 4, 3, 3,\n",
       "       3, 3, 3, 3, 3, 3, 3, 3, 3, 3, 3, 3, 3, 3, 3, 3, 3, 2, 3, 3, 3, 2,\n",
       "       2, 3, 2, 2, 3, 2, 3, 3, 3, 2, 2, 2, 2, 2, 3, 2, 3, 2, 2, 2, 2, 2,\n",
       "       2, 2, 2, 2, 2, 2, 2, 2, 2, 2, 2, 2, 2, 2, 2, 2, 2, 2, 2, 2, 2, 2,\n",
       "       2, 2, 2, 2, 2, 2, 2, 2, 2, 2, 2, 2, 2, 0, 1, 0, 2, 0, 1, 0, 1, 0,\n",
       "       1, 0, 1, 0, 1, 0, 1, 0, 1, 0, 1, 0, 1, 0, 1, 0, 1, 0, 1, 0, 1, 0,\n",
       "       1, 0, 1, 0, 1, 0, 1, 0, 1, 0, 1, 0, 1, 0, 1, 0, 1, 0, 1, 0, 1, 0,\n",
       "       1, 0, 1, 0, 1, 0, 1, 0, 1, 0, 1, 0, 1, 0, 1, 0, 1, 0, 1, 0, 1, 0,\n",
       "       1, 0], dtype=int64)"
      ]
     },
     "execution_count": 10,
     "metadata": {},
     "output_type": "execute_result"
    }
   ],
   "source": [
    "model.labels_"
   ]
  },
  {
   "cell_type": "code",
   "execution_count": 11,
   "id": "25aacf7c",
   "metadata": {},
   "outputs": [],
   "source": [
    "X = data [[\"Annual_Income_(k$)\",\"Spending_Score\"]]"
   ]
  },
  {
   "cell_type": "code",
   "execution_count": 12,
   "id": "cda91e8a",
   "metadata": {},
   "outputs": [
    {
     "data": {
      "image/png": "[encoded data removed]",
      "text/plain": [
       "<Figure size 720x432 with 1 Axes>"
      ]
     },
     "metadata": {
      "needs_background": "light"
     },
     "output_type": "display_data"
    }
   ],
   "source": [
    "plt.figure(figsize = (10,6))\n",
    "den = shc.dendrogram(shc.linkage(x, method = \"ward\"))"
   ]
  },
  {
   "cell_type": "code",
   "execution_count": 13,
   "id": "a64997e6",
   "metadata": {},
   "outputs": [
    {
     "data": {
      "text/plain": [
       "AgglomerativeClustering(n_clusters=5)"
      ]
     },
     "execution_count": 13,
     "metadata": {},
     "output_type": "execute_result"
    }
   ],
   "source": [
    "model = AgglomerativeClustering(n_clusters = 5)\n",
    "model.fit(X)"
   ]
  },
  {
   "cell_type": "code",
   "execution_count": 14,
   "id": "226a9f62",
   "metadata": {
    "scrolled": true
   },
   "outputs": [
    {
     "data": {
      "text/plain": [
       "<matplotlib.collections.PathCollection at 0x217cbe66eb0>"
      ]
     },
     "execution_count": 14,
     "metadata": {},
     "output_type": "execute_result"
    },
    {
     "data": {
      "image/png": "[encoded data removed]",
      "text/plain": [
       "<Figure size 720x432 with 1 Axes>"
      ]
     },
     "metadata": {
      "needs_background": "light"
     },
     "output_type": "display_data"
    }
   ],
   "source": [
    "plt.figure(figsize = (10,6))\n",
    "plt.scatter(data[\"Annual_Income_(k$)\"],data[\"Spending_Score\"], c = model.labels_)"
   ]
  }
 ],
 "metadata": {
  "kernelspec": {
   "display_name": "Python 3",
   "language": "python",
   "name": "python3"
  },
  "language_info": {
   "codemirror_mode": {
    "name": "ipython",
    "version": 3
   },
   "file_extension": ".py",
   "mimetype": "text/x-python",
   "name": "python",
   "nbconvert_exporter": "python",
   "pygments_lexer": "ipython3",
   "version": "3.8.8"
  }
 },
 "nbformat": 4,
 "nbformat_minor": 5
}
