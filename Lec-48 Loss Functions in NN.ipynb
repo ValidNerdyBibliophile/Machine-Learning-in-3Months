{
 "cells": [
  {
   "cell_type": "markdown",
   "id": "836e8c0e",
   "metadata": {},
   "source": [
    "- Regression Loss Functions\n",
    "    - Squared Error Loss\n",
    "    - Absolute Error Loss\n",
    "    - Huber Loss\n",
    "\n",
    "- Binary Classification Loss Functions\n",
    "    - Binary Cross-Entropy\n",
    "    - Hinge Loss\n",
    "\n",
    "- Multi-class Classification Loss Functions\n",
    "    - Multi-class Cross Entropy Loss\n",
    "    - Kullback Leibler Divergence Loss"
   ]
  },
  {
   "cell_type": "code",
   "execution_count": 1,
   "id": "32bc53c1",
   "metadata": {},
   "outputs": [],
   "source": [
    "import pandas as pd\n",
    "import matplotlib.pyplot as plt\n",
    "import numpy as np"
   ]
  },
  {
   "cell_type": "code",
   "execution_count": 2,
   "id": "1f6dbcbd",
   "metadata": {},
   "outputs": [],
   "source": [
    "df = pd.read_csv(\"california_housing.csv\")"
   ]
  },
  {
   "cell_type": "code",
   "execution_count": 3,
   "id": "1ad2e1d1",
   "metadata": {
    "scrolled": true
   },
   "outputs": [
    {
     "data": {
      "text/html": [
       "<div>\n",
       "<style scoped>\n",
       "    .dataframe tbody tr th:only-of-type {\n",
       "        vertical-align: middle;\n",
       "    }\n",
       "\n",
       "    .dataframe tbody tr th {\n",
       "        vertical-align: top;\n",
       "    }\n",
       "\n",
       "    .dataframe thead th {\n",
       "        text-align: right;\n",
       "    }\n",
       "</style>\n",
       "<table border=\"1\" class=\"dataframe\">\n",
       "  <thead>\n",
       "    <tr style=\"text-align: right;\">\n",
       "      <th></th>\n",
       "      <th>longitude</th>\n",
       "      <th>latitude</th>\n",
       "      <th>housing_median_age</th>\n",
       "      <th>total_rooms</th>\n",
       "      <th>total_bedrooms</th>\n",
       "      <th>population</th>\n",
       "      <th>households</th>\n",
       "      <th>median_income</th>\n",
       "      <th>median_house_value</th>\n",
       "    </tr>\n",
       "  </thead>\n",
       "  <tbody>\n",
       "    <tr>\n",
       "      <th>0</th>\n",
       "      <td>-114.31</td>\n",
       "      <td>34.19</td>\n",
       "      <td>15.0</td>\n",
       "      <td>5612.0</td>\n",
       "      <td>1283.0</td>\n",
       "      <td>1015.0</td>\n",
       "      <td>472.0</td>\n",
       "      <td>1.4936</td>\n",
       "      <td>66900.0</td>\n",
       "    </tr>\n",
       "    <tr>\n",
       "      <th>1</th>\n",
       "      <td>-114.47</td>\n",
       "      <td>34.40</td>\n",
       "      <td>19.0</td>\n",
       "      <td>7650.0</td>\n",
       "      <td>1901.0</td>\n",
       "      <td>1129.0</td>\n",
       "      <td>463.0</td>\n",
       "      <td>1.8200</td>\n",
       "      <td>80100.0</td>\n",
       "    </tr>\n",
       "    <tr>\n",
       "      <th>2</th>\n",
       "      <td>-114.56</td>\n",
       "      <td>33.69</td>\n",
       "      <td>17.0</td>\n",
       "      <td>720.0</td>\n",
       "      <td>174.0</td>\n",
       "      <td>333.0</td>\n",
       "      <td>117.0</td>\n",
       "      <td>1.6509</td>\n",
       "      <td>85700.0</td>\n",
       "    </tr>\n",
       "    <tr>\n",
       "      <th>3</th>\n",
       "      <td>-114.57</td>\n",
       "      <td>33.64</td>\n",
       "      <td>14.0</td>\n",
       "      <td>1501.0</td>\n",
       "      <td>337.0</td>\n",
       "      <td>515.0</td>\n",
       "      <td>226.0</td>\n",
       "      <td>3.1917</td>\n",
       "      <td>73400.0</td>\n",
       "    </tr>\n",
       "    <tr>\n",
       "      <th>4</th>\n",
       "      <td>-114.57</td>\n",
       "      <td>33.57</td>\n",
       "      <td>20.0</td>\n",
       "      <td>1454.0</td>\n",
       "      <td>326.0</td>\n",
       "      <td>624.0</td>\n",
       "      <td>262.0</td>\n",
       "      <td>1.9250</td>\n",
       "      <td>65500.0</td>\n",
       "    </tr>\n",
       "  </tbody>\n",
       "</table>\n",
       "</div>"
      ],
      "text/plain": [
       "   longitude  latitude  housing_median_age  total_rooms  total_bedrooms  \\\n",
       "0    -114.31     34.19                15.0       5612.0          1283.0   \n",
       "1    -114.47     34.40                19.0       7650.0          1901.0   \n",
       "2    -114.56     33.69                17.0        720.0           174.0   \n",
       "3    -114.57     33.64                14.0       1501.0           337.0   \n",
       "4    -114.57     33.57                20.0       1454.0           326.0   \n",
       "\n",
       "   population  households  median_income  median_house_value  \n",
       "0      1015.0       472.0         1.4936             66900.0  \n",
       "1      1129.0       463.0         1.8200             80100.0  \n",
       "2       333.0       117.0         1.6509             85700.0  \n",
       "3       515.0       226.0         3.1917             73400.0  \n",
       "4       624.0       262.0         1.9250             65500.0  "
      ]
     },
     "execution_count": 3,
     "metadata": {},
     "output_type": "execute_result"
    }
   ],
   "source": [
    "df.head()"
   ]
  },
  {
   "cell_type": "code",
   "execution_count": 4,
   "id": "53a774dc",
   "metadata": {},
   "outputs": [],
   "source": [
    "from sklearn.preprocessing import StandardScaler\n",
    "from sklearn.model_selection import train_test_split"
   ]
  },
  {
   "cell_type": "code",
   "execution_count": 5,
   "id": "606a41d9",
   "metadata": {},
   "outputs": [],
   "source": [
    "x = df.drop(columns = [\"median_house_value\"])\n",
    "y = df[\"median_house_value\"]"
   ]
  },
  {
   "cell_type": "code",
   "execution_count": 6,
   "id": "e570ab0a",
   "metadata": {},
   "outputs": [],
   "source": [
    "xtrain,xtest,ytrain,ytest = train_test_split(x,y, test_size = 0.2, random_state = 0)\n",
    "sc = StandardScaler()\n",
    "sc_xtrain = sc.fit_transform(xtrain)\n",
    "sc_xtest = sc.fit_transform(xtest)"
   ]
  },
  {
   "cell_type": "code",
   "execution_count": 7,
   "id": "fd815ce4",
   "metadata": {},
   "outputs": [
    {
     "data": {
      "text/plain": [
       "(13600, 8)"
      ]
     },
     "execution_count": 7,
     "metadata": {},
     "output_type": "execute_result"
    }
   ],
   "source": [
    "xtrain.shape"
   ]
  },
  {
   "cell_type": "code",
   "execution_count": 8,
   "id": "f594fcfe",
   "metadata": {},
   "outputs": [
    {
     "name": "stdout",
     "output_type": "stream",
     "text": [
      "Model: \"sequential\"\n",
      "_________________________________________________________________\n",
      "Layer (type)                 Output Shape              Param #   \n",
      "=================================================================\n",
      "dense (Dense)                (None, 15)                135       \n",
      "_________________________________________________________________\n",
      "dense_1 (Dense)              (None, 10)                160       \n",
      "_________________________________________________________________\n",
      "dense_2 (Dense)              (None, 1)                 11        \n",
      "=================================================================\n",
      "Total params: 306\n",
      "Trainable params: 306\n",
      "Non-trainable params: 0\n",
      "_________________________________________________________________\n"
     ]
    }
   ],
   "source": [
    "from keras.models import Sequential\n",
    "from keras.layers import Dense\n",
    "model = Sequential()\n",
    "model.add(Dense(15, activation=\"relu\", input_dim = 8))\n",
    "model.add(Dense(10, activation = \"relu\"))\n",
    "model.add(Dense(1, activation = \"linear\"))\n",
    "model.summary()"
   ]
  },
  {
   "cell_type": "code",
   "execution_count": 9,
   "id": "847919a0",
   "metadata": {},
   "outputs": [],
   "source": [
    "from keras.optimizers import SGD"
   ]
  },
  {
   "cell_type": "code",
   "execution_count": 10,
   "id": "88337da9",
   "metadata": {},
   "outputs": [],
   "source": [
    "model.compile(loss = \"mean_absolute_error\", optimizer = SGD(),metrics = [\"mse\"])"
   ]
  },
  {
   "cell_type": "code",
   "execution_count": 11,
   "id": "cab5cbdc",
   "metadata": {},
   "outputs": [
    {
     "name": "stdout",
     "output_type": "stream",
     "text": [
      "Epoch 1/30\n",
      "680/680 [==============================] - 1s 1ms/step - loss: 162820.7738 - mse: 40797663662.0499\n",
      "Epoch 2/30\n",
      "680/680 [==============================] - 1s 1ms/step - loss: 109510.5518 - mse: 21900683351.2129\n",
      "Epoch 3/30\n",
      "680/680 [==============================] - 1s 1ms/step - loss: 116822.5494 - mse: 24251419360.7988\n",
      "Epoch 4/30\n",
      "680/680 [==============================] - 1s 1ms/step - loss: 107053.1554 - mse: 21238553682.3260: 0s - loss: 106300.0744 - mse: 20\n",
      "Epoch 5/30\n",
      "680/680 [==============================] - 1s 960us/step - loss: 97691.2412 - mse: 18133017105.2922\n",
      "Epoch 6/30\n",
      "680/680 [==============================] - 1s 1ms/step - loss: 101057.7511 - mse: 18851994663.0954\n",
      "Epoch 7/30\n",
      "680/680 [==============================] - 1s 982us/step - loss: 97882.1822 - mse: 19040626475.2305\n",
      "Epoch 8/30\n",
      "680/680 [==============================] - 1s 1ms/step - loss: 95387.3938 - mse: 16853319499.5595\n",
      "Epoch 9/30\n",
      "680/680 [==============================] - 1s 1ms/step - loss: 92587.8247 - mse: 16026737086.5903\n",
      "Epoch 10/30\n",
      "680/680 [==============================] - 1s 1ms/step - loss: 87024.2062 - mse: 14494358817.8326\n",
      "Epoch 11/30\n",
      "680/680 [==============================] - 1s 1ms/step - loss: 90632.3119 - mse: 15267131328.8458\n",
      "Epoch 12/30\n",
      "680/680 [==============================] - 1s 1ms/step - loss: 89514.0284 - mse: 15408781148.0999\n",
      "Epoch 13/30\n",
      "680/680 [==============================] - 1s 1ms/step - loss: 83940.7016 - mse: 13755847465.7269\n",
      "Epoch 14/30\n",
      "680/680 [==============================] - 1s 1ms/step - loss: 85511.5903 - mse: 16379552455.2364\n",
      "Epoch 15/30\n",
      "680/680 [==============================] - 1s 1ms/step - loss: 81966.7391 - mse: 13830779926.5551\n",
      "Epoch 16/30\n",
      "680/680 [==============================] - 1s 1ms/step - loss: 71838.9458 - mse: 13050747394.2555\n",
      "Epoch 17/30\n",
      "680/680 [==============================] - 1s 1ms/step - loss: 70480.4620 - mse: 10599575049.7739\n",
      "Epoch 18/30\n",
      "680/680 [==============================] - 1s 1ms/step - loss: 71467.2926 - mse: 11292725926.9075\n",
      "Epoch 19/30\n",
      "680/680 [==============================] - 1s 1ms/step - loss: 75742.9626 - mse: 11068433229.0631\n",
      "Epoch 20/30\n",
      "680/680 [==============================] - 1s 1ms/step - loss: 76535.8721 - mse: 10582074003.3598\n",
      "Epoch 21/30\n",
      "680/680 [==============================] - 1s 1ms/step - loss: 79556.1977 - mse: 11373360561.0573\n",
      "Epoch 22/30\n",
      "680/680 [==============================] - 1s 994us/step - loss: 77362.2217 - mse: 10830669458.6079\n",
      "Epoch 23/30\n",
      "680/680 [==============================] - 1s 1ms/step - loss: 85769.6709 - mse: 12910547300.3700\n",
      "Epoch 24/30\n",
      "680/680 [==============================] - 1s 1ms/step - loss: 80973.1448 - mse: 12011139181.7680\n",
      "Epoch 25/30\n",
      "680/680 [==============================] - 1s 938us/step - loss: 79334.1657 - mse: 11662267395.0073\n",
      "Epoch 26/30\n",
      "680/680 [==============================] - 1s 941us/step - loss: 80220.0702 - mse: 11244646375.1894\n",
      "Epoch 27/30\n",
      "680/680 [==============================] - 1s 941us/step - loss: 77007.2480 - mse: 10778444242.1380\n",
      "Epoch 28/30\n",
      "680/680 [==============================] - 1s 927us/step - loss: 78121.9192 - mse: 10947738651.0661\n",
      "Epoch 29/30\n",
      "680/680 [==============================] - ETA: 0s - loss: 76077.6540 - mse: 10583310686.684 - 1s 935us/step - loss: 76101.4296 - mse: 10593664010.5257\n",
      "Epoch 30/30\n",
      "680/680 [==============================] - 1s 934us/step - loss: 81762.4105 - mse: 12016980765.6975\n"
     ]
    }
   ],
   "source": [
    "history = model.fit(sc_xtrain,ytrain, epochs= 30, batch_size = 20)"
   ]
  },
  {
   "cell_type": "code",
   "execution_count": 12,
   "id": "51f3b804",
   "metadata": {},
   "outputs": [
    {
     "data": {
      "text/plain": [
       "dict_keys(['loss', 'mse'])"
      ]
     },
     "execution_count": 12,
     "metadata": {},
     "output_type": "execute_result"
    }
   ],
   "source": [
    "history.history.keys()"
   ]
  },
  {
   "cell_type": "code",
   "execution_count": 13,
   "id": "bac0d7b1",
   "metadata": {},
   "outputs": [
    {
     "data": {
      "text/plain": [
       "[<matplotlib.lines.Line2D at 0x14cbfd001c0>]"
      ]
     },
     "execution_count": 13,
     "metadata": {},
     "output_type": "execute_result"
    },
    {
     "data": {
      "image/png": "[encoded data removed]",
      "text/plain": [
       "<Figure size 432x288 with 1 Axes>"
      ]
     },
     "metadata": {
      "needs_background": "light"
     },
     "output_type": "display_data"
    }
   ],
   "source": [
    "plt.plot(history.history[\"loss\"])"
   ]
  },
  {
   "cell_type": "code",
   "execution_count": 14,
   "id": "47577b14",
   "metadata": {},
   "outputs": [
    {
     "data": {
      "text/plain": [
       "[<matplotlib.lines.Line2D at 0x14cbfdd3bb0>]"
      ]
     },
     "execution_count": 14,
     "metadata": {},
     "output_type": "execute_result"
    },
    {
     "data": {
      "image/png": "[encoded data removed]",
      "text/plain": [
       "<Figure size 432x288 with 1 Axes>"
      ]
     },
     "metadata": {
      "needs_background": "light"
     },
     "output_type": "display_data"
    }
   ],
   "source": [
    "plt.plot(history.history[\"mse\"])"
   ]
  },
  {
   "cell_type": "code",
   "execution_count": 15,
   "id": "13784648",
   "metadata": {},
   "outputs": [
    {
     "name": "stdout",
     "output_type": "stream",
     "text": [
      "425/425 [==============================] - 1s 907us/step - loss: 72061.6484 - mse: 9554491392.0000\n"
     ]
    },
    {
     "data": {
      "text/plain": [
       "[72061.6484375, 9554491392.0]"
      ]
     },
     "execution_count": 15,
     "metadata": {},
     "output_type": "execute_result"
    }
   ],
   "source": [
    "model.evaluate(sc_xtrain, ytrain)"
   ]
  },
  {
   "cell_type": "code",
   "execution_count": 16,
   "id": "9e392259",
   "metadata": {},
   "outputs": [
    {
     "name": "stdout",
     "output_type": "stream",
     "text": [
      "107/107 [==============================] - 0s 2ms/step - loss: 70939.6953 - mse: 9080076288.0000\n"
     ]
    },
    {
     "data": {
      "text/plain": [
       "[70939.6953125, 9080076288.0]"
      ]
     },
     "execution_count": 16,
     "metadata": {},
     "output_type": "execute_result"
    }
   ],
   "source": [
    "model.evaluate(sc_xtest,ytest)"
   ]
  },
  {
   "cell_type": "code",
   "execution_count": 17,
   "id": "0a0e8ce5",
   "metadata": {},
   "outputs": [],
   "source": [
    "ypred = model.predict(sc_xtest)"
   ]
  },
  {
   "cell_type": "code",
   "execution_count": 19,
   "id": "143ee786",
   "metadata": {},
   "outputs": [
    {
     "data": {
      "text/html": [
       "<div>\n",
       "<style scoped>\n",
       "    .dataframe tbody tr th:only-of-type {\n",
       "        vertical-align: middle;\n",
       "    }\n",
       "\n",
       "    .dataframe tbody tr th {\n",
       "        vertical-align: top;\n",
       "    }\n",
       "\n",
       "    .dataframe thead th {\n",
       "        text-align: right;\n",
       "    }\n",
       "</style>\n",
       "<table border=\"1\" class=\"dataframe\">\n",
       "  <thead>\n",
       "    <tr style=\"text-align: right;\">\n",
       "      <th></th>\n",
       "      <th>Actual</th>\n",
       "      <th>Predicted</th>\n",
       "    </tr>\n",
       "  </thead>\n",
       "  <tbody>\n",
       "    <tr>\n",
       "      <th>0</th>\n",
       "      <td>171400.0</td>\n",
       "      <td>253392.921875</td>\n",
       "    </tr>\n",
       "    <tr>\n",
       "      <th>1</th>\n",
       "      <td>189600.0</td>\n",
       "      <td>253392.921875</td>\n",
       "    </tr>\n",
       "    <tr>\n",
       "      <th>2</th>\n",
       "      <td>500001.0</td>\n",
       "      <td>253392.921875</td>\n",
       "    </tr>\n",
       "    <tr>\n",
       "      <th>3</th>\n",
       "      <td>229400.0</td>\n",
       "      <td>253392.921875</td>\n",
       "    </tr>\n",
       "    <tr>\n",
       "      <th>4</th>\n",
       "      <td>163400.0</td>\n",
       "      <td>253392.921875</td>\n",
       "    </tr>\n",
       "    <tr>\n",
       "      <th>...</th>\n",
       "      <td>...</td>\n",
       "      <td>...</td>\n",
       "    </tr>\n",
       "    <tr>\n",
       "      <th>3395</th>\n",
       "      <td>212500.0</td>\n",
       "      <td>253392.921875</td>\n",
       "    </tr>\n",
       "    <tr>\n",
       "      <th>3396</th>\n",
       "      <td>210500.0</td>\n",
       "      <td>253392.921875</td>\n",
       "    </tr>\n",
       "    <tr>\n",
       "      <th>3397</th>\n",
       "      <td>142900.0</td>\n",
       "      <td>253392.921875</td>\n",
       "    </tr>\n",
       "    <tr>\n",
       "      <th>3398</th>\n",
       "      <td>128300.0</td>\n",
       "      <td>128039.093750</td>\n",
       "    </tr>\n",
       "    <tr>\n",
       "      <th>3399</th>\n",
       "      <td>84700.0</td>\n",
       "      <td>128164.929688</td>\n",
       "    </tr>\n",
       "  </tbody>\n",
       "</table>\n",
       "<p>3400 rows × 2 columns</p>\n",
       "</div>"
      ],
      "text/plain": [
       "        Actual      Predicted\n",
       "0     171400.0  253392.921875\n",
       "1     189600.0  253392.921875\n",
       "2     500001.0  253392.921875\n",
       "3     229400.0  253392.921875\n",
       "4     163400.0  253392.921875\n",
       "...        ...            ...\n",
       "3395  212500.0  253392.921875\n",
       "3396  210500.0  253392.921875\n",
       "3397  142900.0  253392.921875\n",
       "3398  128300.0  128039.093750\n",
       "3399   84700.0  128164.929688\n",
       "\n",
       "[3400 rows x 2 columns]"
      ]
     },
     "execution_count": 19,
     "metadata": {},
     "output_type": "execute_result"
    }
   ],
   "source": [
    "pd.DataFrame({\"Actual\":np.array(ytest).flatten(),\"Predicted\":ypred.flatten()})"
   ]
  },
  {
   "cell_type": "code",
   "execution_count": null,
   "id": "562a631c",
   "metadata": {},
   "outputs": [],
   "source": []
  }
 ],
 "metadata": {
  "kernelspec": {
   "display_name": "Python 3",
   "language": "python",
   "name": "python3"
  },
  "language_info": {
   "codemirror_mode": {
    "name": "ipython",
    "version": 3
   },
   "file_extension": ".py",
   "mimetype": "text/x-python",
   "name": "python",
   "nbconvert_exporter": "python",
   "pygments_lexer": "ipython3",
   "version": "3.8.8"
  }
 },
 "nbformat": 4,
 "nbformat_minor": 5
}
