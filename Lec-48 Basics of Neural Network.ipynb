{
 "cells": [
  {
   "cell_type": "markdown",
   "id": "9cd9fbbb",
   "metadata": {},
   "source": [
    "Keras -> Building NN\n",
    "TenserFlow and Theano -> Computation\n",
    "\n",
    "- A sequential model\n",
    "- Added The Layers\n",
    "    - Loss, Optimiser, Metrics\n",
    "- Fit\n",
    "- Predict\n",
    "- Evaluate"
   ]
  },
  {
   "cell_type": "code",
   "execution_count": 1,
   "id": "f232305c",
   "metadata": {},
   "outputs": [],
   "source": [
    "import pandas as pd\n",
    "import numpy as np\n",
    "import matplotlib.pyplot as plt\n",
    "import seaborn as sns"
   ]
  },
  {
   "cell_type": "code",
   "execution_count": 2,
   "id": "c0f2af3a",
   "metadata": {},
   "outputs": [],
   "source": [
    "df = pd.read_csv(\"diabetes.csv\")"
   ]
  },
  {
   "cell_type": "code",
   "execution_count": 3,
   "id": "60084674",
   "metadata": {},
   "outputs": [
    {
     "data": {
      "text/html": [
       "<div>\n",
       "<style scoped>\n",
       "    .dataframe tbody tr th:only-of-type {\n",
       "        vertical-align: middle;\n",
       "    }\n",
       "\n",
       "    .dataframe tbody tr th {\n",
       "        vertical-align: top;\n",
       "    }\n",
       "\n",
       "    .dataframe thead th {\n",
       "        text-align: right;\n",
       "    }\n",
       "</style>\n",
       "<table border=\"1\" class=\"dataframe\">\n",
       "  <thead>\n",
       "    <tr style=\"text-align: right;\">\n",
       "      <th></th>\n",
       "      <th>Pregnancies</th>\n",
       "      <th>Glucose</th>\n",
       "      <th>BloodPressure</th>\n",
       "      <th>SkinThickness</th>\n",
       "      <th>Insulin</th>\n",
       "      <th>BMI</th>\n",
       "      <th>DiabetesPedigreeFunction</th>\n",
       "      <th>Age</th>\n",
       "      <th>Outcome</th>\n",
       "    </tr>\n",
       "  </thead>\n",
       "  <tbody>\n",
       "    <tr>\n",
       "      <th>0</th>\n",
       "      <td>6</td>\n",
       "      <td>148</td>\n",
       "      <td>72</td>\n",
       "      <td>35</td>\n",
       "      <td>0</td>\n",
       "      <td>33.6</td>\n",
       "      <td>0.627</td>\n",
       "      <td>50</td>\n",
       "      <td>1</td>\n",
       "    </tr>\n",
       "    <tr>\n",
       "      <th>1</th>\n",
       "      <td>1</td>\n",
       "      <td>85</td>\n",
       "      <td>66</td>\n",
       "      <td>29</td>\n",
       "      <td>0</td>\n",
       "      <td>26.6</td>\n",
       "      <td>0.351</td>\n",
       "      <td>31</td>\n",
       "      <td>0</td>\n",
       "    </tr>\n",
       "    <tr>\n",
       "      <th>2</th>\n",
       "      <td>8</td>\n",
       "      <td>183</td>\n",
       "      <td>64</td>\n",
       "      <td>0</td>\n",
       "      <td>0</td>\n",
       "      <td>23.3</td>\n",
       "      <td>0.672</td>\n",
       "      <td>32</td>\n",
       "      <td>1</td>\n",
       "    </tr>\n",
       "    <tr>\n",
       "      <th>3</th>\n",
       "      <td>1</td>\n",
       "      <td>89</td>\n",
       "      <td>66</td>\n",
       "      <td>23</td>\n",
       "      <td>94</td>\n",
       "      <td>28.1</td>\n",
       "      <td>0.167</td>\n",
       "      <td>21</td>\n",
       "      <td>0</td>\n",
       "    </tr>\n",
       "    <tr>\n",
       "      <th>4</th>\n",
       "      <td>0</td>\n",
       "      <td>137</td>\n",
       "      <td>40</td>\n",
       "      <td>35</td>\n",
       "      <td>168</td>\n",
       "      <td>43.1</td>\n",
       "      <td>2.288</td>\n",
       "      <td>33</td>\n",
       "      <td>1</td>\n",
       "    </tr>\n",
       "  </tbody>\n",
       "</table>\n",
       "</div>"
      ],
      "text/plain": [
       "   Pregnancies  Glucose  BloodPressure  SkinThickness  Insulin   BMI  \\\n",
       "0            6      148             72             35        0  33.6   \n",
       "1            1       85             66             29        0  26.6   \n",
       "2            8      183             64              0        0  23.3   \n",
       "3            1       89             66             23       94  28.1   \n",
       "4            0      137             40             35      168  43.1   \n",
       "\n",
       "   DiabetesPedigreeFunction  Age  Outcome  \n",
       "0                     0.627   50        1  \n",
       "1                     0.351   31        0  \n",
       "2                     0.672   32        1  \n",
       "3                     0.167   21        0  \n",
       "4                     2.288   33        1  "
      ]
     },
     "execution_count": 3,
     "metadata": {},
     "output_type": "execute_result"
    }
   ],
   "source": [
    "df.head()"
   ]
  },
  {
   "cell_type": "code",
   "execution_count": 4,
   "id": "ed81f5e7",
   "metadata": {},
   "outputs": [],
   "source": [
    "x = df.drop(columns = [\"Outcome\"])\n",
    "y = df[\"Outcome\"]"
   ]
  },
  {
   "cell_type": "code",
   "execution_count": 5,
   "id": "dd831ab3",
   "metadata": {},
   "outputs": [
    {
     "name": "stdout",
     "output_type": "stream",
     "text": [
      "Model: \"sequential\"\n",
      "_________________________________________________________________\n",
      "Layer (type)                 Output Shape              Param #   \n",
      "=================================================================\n",
      "dense (Dense)                (None, 15)                135       \n",
      "_________________________________________________________________\n",
      "dense_1 (Dense)              (None, 10)                160       \n",
      "_________________________________________________________________\n",
      "dense_2 (Dense)              (None, 1)                 11        \n",
      "=================================================================\n",
      "Total params: 306\n",
      "Trainable params: 306\n",
      "Non-trainable params: 0\n",
      "_________________________________________________________________\n"
     ]
    }
   ],
   "source": [
    "from keras.models import Sequential\n",
    "from keras.layers import Dense\n",
    "\n",
    "model = Sequential()\n",
    "\n",
    "# 3 Layers\n",
    "#unit - no. of nuerons\n",
    "#input_dim - dimension of the data, we have 8 in our case\n",
    "model.add(Dense(15, activation=\"relu\", input_dim = 8))\n",
    "model.add(Dense(10, activation=\"relu\"))\n",
    "model.add(Dense(1, activation=\"sigmoid\")) #output layer\n",
    "model.summary()"
   ]
  },
  {
   "cell_type": "code",
   "execution_count": 6,
   "id": "9adc8baa",
   "metadata": {},
   "outputs": [],
   "source": [
    "#binary entropy hinge, squared hinge loss\n",
    "model.compile(loss = \"binary_crossentropy\",optimizer = \"adam\",metrics = \"accuracy\")"
   ]
  },
  {
   "cell_type": "code",
   "execution_count": 7,
   "id": "2c9dc681",
   "metadata": {
    "scrolled": false
   },
   "outputs": [
    {
     "name": "stdout",
     "output_type": "stream",
     "text": [
      "Epoch 1/50\n",
      "77/77 [==============================] - 1s 1ms/step - loss: 2.3418 - accuracy: 0.5921\n",
      "Epoch 2/50\n",
      "77/77 [==============================] - 0s 1ms/step - loss: 1.6501 - accuracy: 0.5805\n",
      "Epoch 3/50\n",
      "77/77 [==============================] - 0s 1ms/step - loss: 0.9921 - accuracy: 0.6181\n",
      "Epoch 4/50\n",
      "77/77 [==============================] - 0s 1ms/step - loss: 0.7516 - accuracy: 0.6441\n",
      "Epoch 5/50\n",
      "77/77 [==============================] - 0s 1ms/step - loss: 0.7131 - accuracy: 0.6247\n",
      "Epoch 6/50\n",
      "77/77 [==============================] - 0s 1ms/step - loss: 0.7022 - accuracy: 0.6554\n",
      "Epoch 7/50\n",
      "77/77 [==============================] - 0s 1ms/step - loss: 0.7015 - accuracy: 0.6566\n",
      "Epoch 8/50\n",
      "77/77 [==============================] - 0s 1ms/step - loss: 0.6496 - accuracy: 0.6387\n",
      "Epoch 9/50\n",
      "77/77 [==============================] - 0s 1ms/step - loss: 0.6225 - accuracy: 0.6560\n",
      "Epoch 10/50\n",
      "77/77 [==============================] - 0s 1ms/step - loss: 0.6538 - accuracy: 0.6486\n",
      "Epoch 11/50\n",
      "77/77 [==============================] - 0s 1ms/step - loss: 0.6452 - accuracy: 0.6486\n",
      "Epoch 12/50\n",
      "77/77 [==============================] - 0s 1ms/step - loss: 0.5903 - accuracy: 0.6881\n",
      "Epoch 13/50\n",
      "77/77 [==============================] - 0s 1ms/step - loss: 0.6380 - accuracy: 0.6198\n",
      "Epoch 14/50\n",
      "77/77 [==============================] - 0s 1ms/step - loss: 0.6081 - accuracy: 0.6757\n",
      "Epoch 15/50\n",
      "77/77 [==============================] - 0s 1ms/step - loss: 0.5581 - accuracy: 0.7297\n",
      "Epoch 16/50\n",
      "77/77 [==============================] - 0s 1ms/step - loss: 0.6127 - accuracy: 0.6787\n",
      "Epoch 17/50\n",
      "77/77 [==============================] - 0s 1ms/step - loss: 0.6070 - accuracy: 0.7103\n",
      "Epoch 18/50\n",
      "77/77 [==============================] - 0s 1ms/step - loss: 0.5879 - accuracy: 0.6755\n",
      "Epoch 19/50\n",
      "77/77 [==============================] - 0s 1ms/step - loss: 0.6130 - accuracy: 0.6708\n",
      "Epoch 20/50\n",
      "77/77 [==============================] - 0s 1ms/step - loss: 0.5727 - accuracy: 0.6900\n",
      "Epoch 21/50\n",
      "77/77 [==============================] - 0s 1ms/step - loss: 0.6006 - accuracy: 0.6634\n",
      "Epoch 22/50\n",
      "77/77 [==============================] - 0s 1ms/step - loss: 0.5951 - accuracy: 0.7045\n",
      "Epoch 23/50\n",
      "77/77 [==============================] - 0s 1ms/step - loss: 0.5846 - accuracy: 0.7031\n",
      "Epoch 24/50\n",
      "77/77 [==============================] - 0s 1ms/step - loss: 0.5865 - accuracy: 0.6926\n",
      "Epoch 25/50\n",
      "77/77 [==============================] - 0s 1ms/step - loss: 0.6089 - accuracy: 0.7013\n",
      "Epoch 26/50\n",
      "77/77 [==============================] - 0s 1ms/step - loss: 0.5439 - accuracy: 0.7159\n",
      "Epoch 27/50\n",
      "77/77 [==============================] - 0s 1ms/step - loss: 0.5628 - accuracy: 0.7072\n",
      "Epoch 28/50\n",
      "77/77 [==============================] - 0s 1ms/step - loss: 0.5869 - accuracy: 0.6935\n",
      "Epoch 29/50\n",
      "77/77 [==============================] - 0s 1ms/step - loss: 0.5680 - accuracy: 0.7109\n",
      "Epoch 30/50\n",
      "77/77 [==============================] - 0s 1ms/step - loss: 0.5848 - accuracy: 0.6920\n",
      "Epoch 31/50\n",
      "77/77 [==============================] - 0s 1ms/step - loss: 0.5598 - accuracy: 0.7099\n",
      "Epoch 32/50\n",
      "77/77 [==============================] - 0s 1ms/step - loss: 0.5466 - accuracy: 0.7130\n",
      "Epoch 33/50\n",
      "77/77 [==============================] - 0s 1ms/step - loss: 0.5505 - accuracy: 0.7260\n",
      "Epoch 34/50\n",
      "77/77 [==============================] - 0s 1ms/step - loss: 0.5719 - accuracy: 0.7251\n",
      "Epoch 35/50\n",
      "77/77 [==============================] - 0s 1ms/step - loss: 0.5484 - accuracy: 0.7130\n",
      "Epoch 36/50\n",
      "77/77 [==============================] - 0s 1ms/step - loss: 0.5801 - accuracy: 0.7215\n",
      "Epoch 37/50\n",
      "77/77 [==============================] - 0s 1ms/step - loss: 0.5680 - accuracy: 0.6867\n",
      "Epoch 38/50\n",
      "77/77 [==============================] - 0s 1ms/step - loss: 0.5583 - accuracy: 0.7040\n",
      "Epoch 39/50\n",
      "77/77 [==============================] - 0s 1ms/step - loss: 0.5527 - accuracy: 0.7191\n",
      "Epoch 40/50\n",
      "77/77 [==============================] - 0s 1ms/step - loss: 0.6089 - accuracy: 0.7005\n",
      "Epoch 41/50\n",
      "77/77 [==============================] - 0s 1ms/step - loss: 0.5563 - accuracy: 0.7356\n",
      "Epoch 42/50\n",
      "77/77 [==============================] - 0s 1ms/step - loss: 0.5534 - accuracy: 0.6902\n",
      "Epoch 43/50\n",
      "77/77 [==============================] - 0s 1ms/step - loss: 0.5602 - accuracy: 0.7205\n",
      "Epoch 44/50\n",
      "77/77 [==============================] - 0s 1ms/step - loss: 0.5404 - accuracy: 0.7506\n",
      "Epoch 45/50\n",
      "77/77 [==============================] - 0s 1ms/step - loss: 0.5902 - accuracy: 0.6942\n",
      "Epoch 46/50\n",
      "77/77 [==============================] - 0s 1ms/step - loss: 0.5441 - accuracy: 0.7224\n",
      "Epoch 47/50\n",
      "77/77 [==============================] - 0s 1ms/step - loss: 0.5253 - accuracy: 0.7545\n",
      "Epoch 48/50\n",
      "77/77 [==============================] - 0s 1ms/step - loss: 0.5234 - accuracy: 0.7447\n",
      "Epoch 49/50\n",
      "77/77 [==============================] - 0s 1ms/step - loss: 0.5453 - accuracy: 0.7159\n",
      "Epoch 50/50\n",
      "77/77 [==============================] - 0s 1ms/step - loss: 0.5380 - accuracy: 0.7452\n"
     ]
    }
   ],
   "source": [
    "#epochs 50\n",
    "#batch 10\n",
    "history = model.fit(x,y, epochs = 50, batch_size = 10)"
   ]
  },
  {
   "cell_type": "code",
   "execution_count": 15,
   "id": "0bd5d0a3",
   "metadata": {},
   "outputs": [
    {
     "name": "stdout",
     "output_type": "stream",
     "text": [
      "24/24 [==============================] - 0s 1ms/step - loss: 0.5307 - accuracy: 0.7383\n"
     ]
    }
   ],
   "source": [
    "# Evaluation\n",
    "loss, acc = model.evaluate(x,y)"
   ]
  },
  {
   "cell_type": "code",
   "execution_count": 16,
   "id": "522f912e",
   "metadata": {},
   "outputs": [
    {
     "data": {
      "text/plain": [
       "0.73828125"
      ]
     },
     "execution_count": 16,
     "metadata": {},
     "output_type": "execute_result"
    }
   ],
   "source": [
    "acc"
   ]
  },
  {
   "cell_type": "code",
   "execution_count": 17,
   "id": "8a5c6a4f",
   "metadata": {},
   "outputs": [
    {
     "data": {
      "text/plain": [
       "0.530745267868042"
      ]
     },
     "execution_count": 17,
     "metadata": {},
     "output_type": "execute_result"
    }
   ],
   "source": [
    "loss"
   ]
  },
  {
   "cell_type": "code",
   "execution_count": 11,
   "id": "e2d61227",
   "metadata": {},
   "outputs": [
    {
     "data": {
      "text/plain": [
       "[<matplotlib.lines.Line2D at 0x28d15ac13d0>]"
      ]
     },
     "execution_count": 11,
     "metadata": {},
     "output_type": "execute_result"
    },
    {
     "data": {
      "image/png": "[encoded data removed]",
      "text/plain": [
       "<Figure size 432x288 with 1 Axes>"
      ]
     },
     "metadata": {
      "needs_background": "light"
     },
     "output_type": "display_data"
    }
   ],
   "source": [
    "plt.plot(range(1,51),history.history[\"accuracy\"])"
   ]
  },
  {
   "cell_type": "code",
   "execution_count": 12,
   "id": "4e2ecddc",
   "metadata": {},
   "outputs": [
    {
     "data": {
      "text/plain": [
       "[<matplotlib.lines.Line2D at 0x28d16b60ee0>]"
      ]
     },
     "execution_count": 12,
     "metadata": {},
     "output_type": "execute_result"
    },
    {
     "data": {
      "image/png": "[encoded data removed]",
      "text/plain": [
       "<Figure size 432x288 with 1 Axes>"
      ]
     },
     "metadata": {
      "needs_background": "light"
     },
     "output_type": "display_data"
    }
   ],
   "source": [
    "plt.plot(range(1,51),history.history[\"loss\"])"
   ]
  },
  {
   "cell_type": "code",
   "execution_count": 13,
   "id": "e5c2fecf",
   "metadata": {},
   "outputs": [
    {
     "name": "stderr",
     "output_type": "stream",
     "text": [
      "C:\\Users\\tejas\\Anaconda3\\lib\\site-packages\\tensorflow\\python\\keras\\engine\\sequential.py:450: UserWarning: `model.predict_classes()` is deprecated and will be removed after 2021-01-01. Please use instead:* `np.argmax(model.predict(x), axis=-1)`,   if your model does multi-class classification   (e.g. if it uses a `softmax` last-layer activation).* `(model.predict(x) > 0.5).astype(\"int32\")`,   if your model does binary classification   (e.g. if it uses a `sigmoid` last-layer activation).\n",
      "  warnings.warn('`model.predict_classes()` is deprecated and '\n"
     ]
    }
   ],
   "source": [
    "ypred = model.predict_classes(x)"
   ]
  },
  {
   "cell_type": "code",
   "execution_count": 14,
   "id": "d95edcda",
   "metadata": {},
   "outputs": [
    {
     "data": {
      "text/plain": [
       "array([1, 0, 1, 0, 1, 0, 0, 1, 1, 0, 0, 1, 1, 1, 1, 1, 0, 0, 0, 0, 0, 0,\n",
       "       1, 1, 0, 0, 1, 0, 0, 0, 0, 1, 0, 0, 1, 0, 1, 0, 0, 0, 1, 1, 0, 0,\n",
       "       1, 1, 1, 0, 1, 1, 0, 0, 0, 1, 1, 0, 1, 0, 0, 0, 0, 1, 0, 1, 0, 0,\n",
       "       0, 0, 0, 0, 0, 1, 1, 0, 0, 0, 0, 0, 1, 0, 1, 0, 0, 0, 0, 0, 1, 0,\n",
       "       1, 0, 0, 0, 0, 0, 0, 1, 0, 0, 0, 0, 1, 1, 0, 0, 0, 1, 0, 1, 0, 0,\n",
       "       1, 1, 0, 0, 1, 0, 0, 0, 0, 0, 1, 1, 0, 0, 0, 0, 0, 0, 0, 0, 1, 1,\n",
       "       1, 0, 0, 0, 0, 0, 0, 0, 0, 0, 0, 1, 0, 0, 0, 0, 0, 0, 1, 0, 1, 0,\n",
       "       1, 1, 0, 0, 0, 1, 1, 0, 0, 0, 0, 0, 1, 0, 0, 0, 0, 0, 1, 0, 0, 1,\n",
       "       0, 0, 1, 0, 0, 0, 0, 0, 0, 1, 1, 0, 0, 1, 0, 0, 1, 1, 0, 1, 0, 0,\n",
       "       0, 0, 0, 0, 0, 0, 0, 0, 1, 0, 0, 1, 0, 1, 1, 0, 0, 1, 0, 0, 0, 0,\n",
       "       0, 0, 1, 1, 0, 0, 0, 1, 0, 0, 1, 0, 0, 0, 0, 1, 1, 1, 1, 0, 0, 0,\n",
       "       1, 1, 0, 1, 1, 0, 0, 0, 1, 0, 0, 0, 0, 0, 0, 0, 0, 1, 1, 1, 0, 0,\n",
       "       0, 0, 1, 1, 0, 1, 1, 0, 0, 0, 1, 0, 0, 0, 0, 0, 1, 0, 0, 1, 0, 0,\n",
       "       0, 0, 0, 0, 0, 0, 0, 1, 0, 1, 0, 0, 0, 0, 1, 1, 0, 0, 0, 0, 1, 0,\n",
       "       0, 0, 0, 0, 0, 0, 0, 0, 0, 1, 0, 1, 0, 0, 0, 1, 0, 0, 0, 1, 0, 0,\n",
       "       0, 0, 1, 0, 0, 0, 1, 0, 1, 1, 0, 0, 0, 0, 0, 0, 1, 1, 0, 0, 0, 0,\n",
       "       0, 0, 0, 1, 1, 1, 0, 1, 1, 0, 0, 0, 0, 0, 0, 0, 0, 0, 0, 0, 0, 0,\n",
       "       1, 1, 0, 0, 1, 0, 0, 0, 0, 0, 0, 0, 0, 0, 0, 0, 0, 1, 0, 0, 1, 0,\n",
       "       0, 1, 0, 1, 0, 0, 0, 0, 1, 1, 0, 0, 1, 0, 0, 0, 0, 0, 1, 0, 0, 1,\n",
       "       0, 0, 0, 0, 0, 0, 1, 1, 0, 1, 0, 0, 1, 0, 0, 0, 0, 1, 1, 1, 0, 0,\n",
       "       1, 0, 0, 0, 0, 1, 0, 0, 0, 0, 0, 1, 0, 1, 0, 1, 0, 0, 1, 0, 0, 0,\n",
       "       0, 0, 0, 0, 0, 0, 1, 1, 1, 1, 0, 0, 0, 0, 0, 0, 0, 0, 0, 0, 0, 0,\n",
       "       1, 0, 0, 1, 0, 1, 0, 0, 0, 0, 0, 1, 0, 0, 1, 1, 0, 0, 0, 0, 0, 0,\n",
       "       0, 0, 0, 0, 0, 0, 0, 0, 0, 1, 0, 0, 1, 0, 0, 0, 1, 1, 1, 0, 0, 0,\n",
       "       0, 0, 0, 0, 0, 1, 0, 1, 0, 0, 0, 0, 0, 0, 0, 0, 0, 1, 1, 0, 0, 1,\n",
       "       0, 0, 0, 0, 0, 0, 0, 0, 1, 0, 0, 1, 0, 0, 0, 0, 0, 0, 0, 0, 0, 0,\n",
       "       0, 0, 0, 0, 1, 0, 1, 1, 1, 0, 1, 0, 1, 0, 1, 0, 0, 0, 1, 0, 0, 0,\n",
       "       1, 0, 0, 0, 1, 0, 0, 1, 0, 0, 1, 1, 1, 0, 0, 0, 0, 1, 1, 0, 1, 0,\n",
       "       0, 0, 0, 1, 0, 0, 1, 0, 0, 0, 0, 0, 0, 0, 0, 0, 0, 0, 0, 1, 0, 0,\n",
       "       0, 0, 0, 1, 0, 1, 0, 0, 1, 1, 0, 0, 0, 0, 0, 0, 0, 0, 0, 0, 1, 0,\n",
       "       1, 1, 1, 1, 1, 0, 0, 0, 0, 0, 1, 0, 0, 0, 0, 1, 1, 0, 1, 0, 0, 1,\n",
       "       0, 0, 0, 0, 1, 0, 0, 0, 0, 1, 0, 0, 0, 0, 1, 1, 0, 1, 0, 0, 1, 1,\n",
       "       0, 0, 1, 0, 1, 0, 0, 0, 1, 0, 0, 1, 1, 0, 0, 0, 0, 0, 0, 0, 0, 0,\n",
       "       0, 0, 1, 0, 0, 0, 1, 0, 0, 0, 0, 0, 0, 0, 1, 0, 0, 1, 1, 0, 1, 0,\n",
       "       1, 1, 1, 0, 0, 0, 1, 0, 1, 0, 0, 1, 0, 1, 0, 0, 0, 0, 0, 0])"
      ]
     },
     "execution_count": 14,
     "metadata": {},
     "output_type": "execute_result"
    }
   ],
   "source": [
    "ypred.flatten()"
   ]
  }
 ],
 "metadata": {
  "kernelspec": {
   "display_name": "Python 3",
   "language": "python",
   "name": "python3"
  },
  "language_info": {
   "codemirror_mode": {
    "name": "ipython",
    "version": 3
   },
   "file_extension": ".py",
   "mimetype": "text/x-python",
   "name": "python",
   "nbconvert_exporter": "python",
   "pygments_lexer": "ipython3",
   "version": "3.8.8"
  }
 },
 "nbformat": 4,
 "nbformat_minor": 5
}
