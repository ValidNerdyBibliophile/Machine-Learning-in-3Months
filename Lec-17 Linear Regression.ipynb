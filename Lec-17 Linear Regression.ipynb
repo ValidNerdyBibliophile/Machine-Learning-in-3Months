{
 "cells": [
  {
   "cell_type": "markdown",
   "id": "front-dictionary",
   "metadata": {},
   "source": [
    "Using Linear Regression we predict continuous values on basis on X and Y. And can use it on continuous values. With X and Y having some kind of relationship within them. FOR EG: Study hours and Scores: As long you study, the more better understanding of the concept and the more better score. The same way, Years of Experience and Salary:  The more experience, the more salary you get. These are the eg of positive relation.\n",
    "\n",
    "##### x -> independent variable\n",
    "##### y -> dependent variable\n",
    "\n",
    "### If X increases with Y -> Positive Relation\n",
    "### If Y decreases with X-> Negative Relation"
   ]
  },
  {
   "cell_type": "markdown",
   "id": "clinical-coating",
   "metadata": {},
   "source": [
    "### Steps\n",
    "- Find out Observations \n",
    "- Calculate the slope (B1)\n",
    "- Calculate Y intercept (B0)\n",
    "- Predict Y for every X sample"
   ]
  },
  {
   "cell_type": "code",
   "execution_count": 1,
   "id": "congressional-bhutan",
   "metadata": {},
   "outputs": [],
   "source": [
    "from sklearn.linear_model import LinearRegression\n",
    "import numpy as np"
   ]
  },
  {
   "cell_type": "code",
   "execution_count": 2,
   "id": "undefined-wallet",
   "metadata": {},
   "outputs": [],
   "source": [
    "# step 1\n",
    "\n",
    "x = np.array([1,2,3,4,5]).reshape(-1,1)\n",
    "y = np.array([2,4,5,4,5])"
   ]
  },
  {
   "cell_type": "code",
   "execution_count": 3,
   "id": "brutal-juice",
   "metadata": {},
   "outputs": [],
   "source": [
    "# step 2\n",
    "model=LinearRegression()"
   ]
  },
  {
   "cell_type": "code",
   "execution_count": 4,
   "id": "demanding-affiliation",
   "metadata": {},
   "outputs": [
    {
     "data": {
      "text/plain": [
       "LinearRegression()"
      ]
     },
     "execution_count": 4,
     "metadata": {},
     "output_type": "execute_result"
    }
   ],
   "source": [
    "# step 3\n",
    "model.fit(x,y)"
   ]
  },
  {
   "cell_type": "code",
   "execution_count": 5,
   "id": "acknowledged-illness",
   "metadata": {},
   "outputs": [
    {
     "data": {
      "text/plain": [
       "array([2.8, 3.4, 4. , 4.6, 5.2])"
      ]
     },
     "execution_count": 5,
     "metadata": {},
     "output_type": "execute_result"
    }
   ],
   "source": [
    "# step 4\n",
    "ypred = model.predict(x)\n",
    "ypred"
   ]
  },
  {
   "cell_type": "code",
   "execution_count": 6,
   "id": "educated-palestinian",
   "metadata": {},
   "outputs": [
    {
     "name": "stdout",
     "output_type": "stream",
     "text": [
      "Y intercept\n"
     ]
    },
    {
     "data": {
      "text/plain": [
       "2.1999999999999993"
      ]
     },
     "execution_count": 6,
     "metadata": {},
     "output_type": "execute_result"
    }
   ],
   "source": [
    "print(\"Y intercept\")\n",
    "model.intercept_"
   ]
  },
  {
   "cell_type": "code",
   "execution_count": 7,
   "id": "australian-orientation",
   "metadata": {},
   "outputs": [
    {
     "name": "stdout",
     "output_type": "stream",
     "text": [
      "slope\n"
     ]
    },
    {
     "data": {
      "text/plain": [
       "array([0.6])"
      ]
     },
     "execution_count": 7,
     "metadata": {},
     "output_type": "execute_result"
    }
   ],
   "source": [
    "print(\"slope\")\n",
    "model.coef_"
   ]
  },
  {
   "cell_type": "code",
   "execution_count": 8,
   "id": "fifty-bones",
   "metadata": {},
   "outputs": [
    {
     "data": {
      "text/plain": [
       "array([4.12])"
      ]
     },
     "execution_count": 8,
     "metadata": {},
     "output_type": "execute_result"
    }
   ],
   "source": [
    "# seperately predicting value of y for a particular X\n",
    "model.predict(([[3.2]]))"
   ]
  },
  {
   "cell_type": "code",
   "execution_count": 9,
   "id": "tight-spelling",
   "metadata": {},
   "outputs": [],
   "source": [
    "import matplotlib.pyplot as plt"
   ]
  },
  {
   "cell_type": "code",
   "execution_count": 10,
   "id": "twenty-equity",
   "metadata": {},
   "outputs": [
    {
     "data": {
      "text/plain": [
       "[<matplotlib.lines.Line2D at 0x258a8618ac0>]"
      ]
     },
     "execution_count": 10,
     "metadata": {},
     "output_type": "execute_result"
    },
    {
     "data": {
      "image/png": "[encoded data removed]",
      "text/plain": [
       "<Figure size 432x288 with 1 Axes>"
      ]
     },
     "metadata": {
      "needs_background": "light"
     },
     "output_type": "display_data"
    }
   ],
   "source": [
    "plt.scatter(x,y)\n",
    "plt.plot(x,ypred,color = \"r\",marker = \"o\")\n",
    "\n",
    "# blue : actual value\n",
    "# red : predicted value"
   ]
  },
  {
   "cell_type": "markdown",
   "id": "mexican-logic",
   "metadata": {},
   "source": [
    "#### The difference between predicted value and the actual value is called as Residual. "
   ]
  },
  {
   "cell_type": "markdown",
   "id": "virgin-measure",
   "metadata": {},
   "source": [
    "### R square"
   ]
  },
  {
   "cell_type": "code",
   "execution_count": 11,
   "id": "royal-musical",
   "metadata": {},
   "outputs": [
    {
     "name": "stdout",
     "output_type": "stream",
     "text": [
      "Value of R square:  0.6000000000000001\n"
     ]
    }
   ],
   "source": [
    "#R square -> Sum of squared residuals. Its basically a way to evaluate whether the predicted values are good fit or no.\n",
    "#R square should be higher for a good fit. \n",
    "print(\"Value of R square: \", model.score(x,y))"
   ]
  },
  {
   "cell_type": "code",
   "execution_count": null,
   "id": "relevant-commercial",
   "metadata": {},
   "outputs": [],
   "source": []
  }
 ],
 "metadata": {
  "kernelspec": {
   "display_name": "Python 3",
   "language": "python",
   "name": "python3"
  },
  "language_info": {
   "codemirror_mode": {
    "name": "ipython",
    "version": 3
   },
   "file_extension": ".py",
   "mimetype": "text/x-python",
   "name": "python",
   "nbconvert_exporter": "python",
   "pygments_lexer": "ipython3",
   "version": "3.8.8"
  }
 },
 "nbformat": 4,
 "nbformat_minor": 5
}
