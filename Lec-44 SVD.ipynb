{
 "cells": [
  {
   "cell_type": "markdown",
   "id": "df0ffaf5",
   "metadata": {},
   "source": [
    "### SVD (Singular Value Decomposition)\n",
    "\n",
    "***Matrix Decomposition Method.****\n",
    "\n",
    "Suppose we have a matrix of 2x2 [(d1,d2),(d3,d4)] ->  we going to get decomposed/subsequent matrix. \n",
    "\n",
    "```We'll get U, V, S```\n",
    "\n",
    "SVD -> returns 3 matrixes:\n",
    "- ***U:*** Eigen Vector\n",
    "- ***Sigma:*** diagonal matrix of singular values (root of the eigen values)\n",
    "- ***V:*** Eigen Vector\n",
    "\n",
    "- Normally used in Image Compression.\n",
    "\n",
    "##### Mathematical Representation / Steps:\n",
    "SVD Formula:\n",
    "\n",
    "data (which is a matrix of any dimension) = USV^T\n",
    "***A = USV^T***\n",
    "\n",
    "##### Calculating U:\n",
    "U = A x $A^T$ (T is the transpose)\n",
    "\n",
    "##### Calculating V:\n",
    "V = $A^T$ x A \n",
    "\n",
    "##### Calculating S:\n",
    "S = $\\sqrt \\lambda$ (Lamda is Eigen Values)\n",
    "\n",
    "##### Eg:\n",
    "Let's say A is a matrix of m rows and n columns:\n",
    "\n",
    "$A_{mxn}$ = $U_{mxm}$ * $S_{mxn}$ * $V^T$$_{nxn}$"
   ]
  },
  {
   "cell_type": "markdown",
   "id": "0dcb6876",
   "metadata": {},
   "source": [
    "### SVD for Dimension Reduction"
   ]
  },
  {
   "cell_type": "markdown",
   "id": "6238cf4f",
   "metadata": {},
   "source": [
    "A = U x Sigma x $V^T$\n",
    "\n",
    "T = U x Sigma\n",
    "\n",
    "***T = data x ($V^T$ x T)***\n",
    "\n",
    "This transforms the data in lower dimensions. "
   ]
  },
  {
   "cell_type": "code",
   "execution_count": 1,
   "id": "a4eda156",
   "metadata": {},
   "outputs": [],
   "source": [
    "import numpy as np"
   ]
  },
  {
   "cell_type": "code",
   "execution_count": 2,
   "id": "38df826c",
   "metadata": {},
   "outputs": [
    {
     "data": {
      "text/plain": [
       "array([[-1,  2,  0],\n",
       "       [ 2,  0,  1],\n",
       "       [ 0, -2,  1]])"
      ]
     },
     "execution_count": 2,
     "metadata": {},
     "output_type": "execute_result"
    }
   ],
   "source": [
    "A = np.array([[-1,2,0],[2,0,1],[0,-2,1]])\n",
    "A"
   ]
  },
  {
   "cell_type": "markdown",
   "id": "89c0690a",
   "metadata": {},
   "source": [
    "### Calculate U, S and VT"
   ]
  },
  {
   "cell_type": "code",
   "execution_count": 3,
   "id": "31bde5cd",
   "metadata": {},
   "outputs": [],
   "source": [
    "from numpy.linalg import svd\n",
    "\n",
    "U,S,VT = svd(A)"
   ]
  },
  {
   "cell_type": "code",
   "execution_count": 4,
   "id": "21674c8a",
   "metadata": {},
   "outputs": [
    {
     "data": {
      "text/plain": [
       "array([[-0.67028426, -0.14157742,  0.72847433],\n",
       "       [ 0.39926415, -0.89625169,  0.19318659],\n",
       "       [ 0.62554549,  0.42034361,  0.65727018]])"
      ]
     },
     "execution_count": 4,
     "metadata": {},
     "output_type": "execute_result"
    }
   ],
   "source": [
    "U"
   ]
  },
  {
   "cell_type": "code",
   "execution_count": 5,
   "id": "acfc55d1",
   "metadata": {},
   "outputs": [
    {
     "data": {
      "text/plain": [
       "array([3.15029268, 2.05306258, 0.92767992])"
      ]
     },
     "execution_count": 5,
     "metadata": {},
     "output_type": "execute_result"
    }
   ],
   "source": [
    "S #sigma not in diagonal form"
   ]
  },
  {
   "cell_type": "code",
   "execution_count": 6,
   "id": "522886db",
   "metadata": {},
   "outputs": [
    {
     "data": {
      "text/plain": [
       "array([[ 0.46624638, -0.8226726 ,  0.32530617],\n",
       "       [-0.80412841, -0.54739786, -0.23180398],\n",
       "       [-0.36877068,  0.15351016,  0.91675668]])"
      ]
     },
     "execution_count": 6,
     "metadata": {},
     "output_type": "execute_result"
    }
   ],
   "source": [
    "VT"
   ]
  },
  {
   "cell_type": "code",
   "execution_count": 7,
   "id": "0c3d8e64",
   "metadata": {},
   "outputs": [
    {
     "data": {
      "text/plain": [
       "array([[0., 0., 0.],\n",
       "       [0., 0., 0.],\n",
       "       [0., 0., 0.]])"
      ]
     },
     "execution_count": 7,
     "metadata": {},
     "output_type": "execute_result"
    }
   ],
   "source": [
    "sigma = np.zeros(A.shape)\n",
    "sigma"
   ]
  },
  {
   "cell_type": "code",
   "execution_count": 8,
   "id": "2c793a9c",
   "metadata": {},
   "outputs": [],
   "source": [
    "# now put the value of S diagonally. For that we'll have to slice it.\n",
    "\n",
    "sigma[:A.shape[0],:A.shape[0]] = np.diag (S)"
   ]
  },
  {
   "cell_type": "code",
   "execution_count": 9,
   "id": "c9368ad7",
   "metadata": {},
   "outputs": [
    {
     "data": {
      "text/plain": [
       "array([[3.15029268, 0.        , 0.        ],\n",
       "       [0.        , 2.05306258, 0.        ],\n",
       "       [0.        , 0.        , 0.92767992]])"
      ]
     },
     "execution_count": 9,
     "metadata": {},
     "output_type": "execute_result"
    }
   ],
   "source": [
    "sigma"
   ]
  },
  {
   "cell_type": "code",
   "execution_count": 10,
   "id": "96134075",
   "metadata": {},
   "outputs": [],
   "source": [
    "T = U.dot(sigma)"
   ]
  },
  {
   "cell_type": "code",
   "execution_count": 11,
   "id": "7de44627",
   "metadata": {},
   "outputs": [
    {
     "data": {
      "text/plain": [
       "array([[-2.11159159, -0.2906673 ,  0.67579101],\n",
       "       [ 1.25779892, -1.8400608 ,  0.17921532],\n",
       "       [ 1.97065138,  0.86299174,  0.60973635]])"
      ]
     },
     "execution_count": 11,
     "metadata": {},
     "output_type": "execute_result"
    }
   ],
   "source": [
    "T"
   ]
  },
  {
   "cell_type": "code",
   "execution_count": 12,
   "id": "e4daefc1",
   "metadata": {},
   "outputs": [],
   "source": [
    "T = A.dot(VT.T)"
   ]
  },
  {
   "cell_type": "code",
   "execution_count": 13,
   "id": "01a92346",
   "metadata": {
    "scrolled": true
   },
   "outputs": [
    {
     "data": {
      "text/plain": [
       "array([[-2.11159159, -0.2906673 ,  0.67579101],\n",
       "       [ 1.25779892, -1.8400608 ,  0.17921532],\n",
       "       [ 1.97065138,  0.86299174,  0.60973635]])"
      ]
     },
     "execution_count": 13,
     "metadata": {},
     "output_type": "execute_result"
    }
   ],
   "source": [
    "# data After Transformation\n",
    "\n",
    "T"
   ]
  },
  {
   "cell_type": "markdown",
   "id": "1f6490dd",
   "metadata": {},
   "source": [
    "### SVD using Scikit-Learn"
   ]
  },
  {
   "cell_type": "markdown",
   "id": "1a649432",
   "metadata": {},
   "source": [
    "### Truncated SVD"
   ]
  },
  {
   "cell_type": "code",
   "execution_count": 14,
   "id": "7f1d9444",
   "metadata": {},
   "outputs": [],
   "source": [
    "from sklearn.decomposition import TruncatedSVD"
   ]
  },
  {
   "cell_type": "code",
   "execution_count": 15,
   "id": "3f93087a",
   "metadata": {},
   "outputs": [
    {
     "data": {
      "text/plain": [
       "array([[ 2.11159159,  0.2906673 ],\n",
       "       [-1.25779892,  1.8400608 ],\n",
       "       [-1.97065138, -0.86299174]])"
      ]
     },
     "execution_count": 15,
     "metadata": {},
     "output_type": "execute_result"
    }
   ],
   "source": [
    "svd = TruncatedSVD()\n",
    "svd.fit(A)\n",
    "T = svd.transform(A)\n",
    "T"
   ]
  },
  {
   "cell_type": "code",
   "execution_count": 16,
   "id": "c65ec651",
   "metadata": {},
   "outputs": [
    {
     "data": {
      "text/plain": [
       "array([3.15029268, 2.05306258])"
      ]
     },
     "execution_count": 16,
     "metadata": {},
     "output_type": "execute_result"
    }
   ],
   "source": [
    "svd.singular_values_"
   ]
  },
  {
   "cell_type": "markdown",
   "id": "cbf0a491",
   "metadata": {},
   "source": [
    "### Randomized SVD"
   ]
  },
  {
   "cell_type": "code",
   "execution_count": 17,
   "id": "eb0ee595",
   "metadata": {},
   "outputs": [],
   "source": [
    "from sklearn.utils.extmath import randomized_svd"
   ]
  },
  {
   "cell_type": "code",
   "execution_count": 18,
   "id": "1135e6fd",
   "metadata": {
    "scrolled": true
   },
   "outputs": [],
   "source": [
    "U, S, VT =  randomized_svd(A, n_components = 2)"
   ]
  },
  {
   "cell_type": "code",
   "execution_count": 19,
   "id": "70a860e1",
   "metadata": {},
   "outputs": [
    {
     "data": {
      "text/plain": [
       "array([[ 0.67028426,  0.14157742],\n",
       "       [-0.39926415,  0.89625169],\n",
       "       [-0.62554549, -0.42034361]])"
      ]
     },
     "execution_count": 19,
     "metadata": {},
     "output_type": "execute_result"
    }
   ],
   "source": [
    "U"
   ]
  },
  {
   "cell_type": "code",
   "execution_count": 20,
   "id": "bd76b0ad",
   "metadata": {},
   "outputs": [
    {
     "data": {
      "text/plain": [
       "array([[3.15029268, 0.        ],\n",
       "       [0.        , 2.05306258]])"
      ]
     },
     "execution_count": 20,
     "metadata": {},
     "output_type": "execute_result"
    }
   ],
   "source": [
    "np.diag(S)"
   ]
  },
  {
   "cell_type": "code",
   "execution_count": 21,
   "id": "7df5d207",
   "metadata": {},
   "outputs": [
    {
     "data": {
      "text/plain": [
       "array([[-0.46624638,  0.8226726 , -0.32530617],\n",
       "       [ 0.80412841,  0.54739786,  0.23180398]])"
      ]
     },
     "execution_count": 21,
     "metadata": {},
     "output_type": "execute_result"
    }
   ],
   "source": [
    "VT"
   ]
  },
  {
   "cell_type": "code",
   "execution_count": null,
   "id": "fe96b6b5",
   "metadata": {},
   "outputs": [],
   "source": []
  }
 ],
 "metadata": {
  "kernelspec": {
   "display_name": "Python 3",
   "language": "python",
   "name": "python3"
  },
  "language_info": {
   "codemirror_mode": {
    "name": "ipython",
    "version": 3
   },
   "file_extension": ".py",
   "mimetype": "text/x-python",
   "name": "python",
   "nbconvert_exporter": "python",
   "pygments_lexer": "ipython3",
   "version": "3.8.8"
  }
 },
 "nbformat": 4,
 "nbformat_minor": 5
}
