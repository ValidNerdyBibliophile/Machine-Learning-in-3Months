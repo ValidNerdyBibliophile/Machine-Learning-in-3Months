{
 "cells": [
  {
   "cell_type": "markdown",
   "id": "2ddf04a2",
   "metadata": {},
   "source": [
    "### Principle Component Analysis\n",
    "\n",
    "#### Dimensionality Reduction Method\n",
    "Converts High Dimension data to Low Dimension data\n",
    "- Feature Extraction (Finding only Important Features)\n",
    "- For Visualization (As we know, we cant use visulization for more than 2-3 data)\n"
   ]
  },
  {
   "cell_type": "markdown",
   "id": "b16ed9ad",
   "metadata": {},
   "source": [
    "### Statistical Components\n",
    "- Mean\n",
    "- Standard Deviation\n",
    "- Covariance (The variance of 1 column against 2 column)\n",
    "- Covariance Matrix \n",
    "For eg we have x1,x2 then well have 2x2 matrix as [(x1,x1)(x1,x2)(x2,x1)(x2,x2)]. If 1 value changes the 2nd value will also change if the value is high.\n",
    "\n",
    "### Eigen Values / Eigen Vectors \n",
    "- Doesn't change the direction when it's transformed.\n",
    "- Its is used in PCA for Linear Transformation of the Data.\n",
    "Let's say, \n",
    "\n",
    "A-> matrix\n",
    "then A v = lambda v\n",
    "where v is Eigen Vector\n",
    "and lambda is Eigen Value"
   ]
  },
  {
   "cell_type": "markdown",
   "id": "7d52cb73",
   "metadata": {},
   "source": [
    "#### Steps\n",
    "\n",
    "data(with multiple/n features)-> [x1,x2,x3,x4...xn]\n",
    "\n",
    "- 1. Calculate the mean for each columns \n",
    "Let's say M = mean(data)\n",
    "- 2. Subratracting each column by it's mean value.\n",
    "Now, data - M\n",
    "- 3. Calculate the covariance matrix. \n",
    "V = cov(data)\n",
    "- 4. Calculate Eigen Values and Eigen Vectors \n",
    "eig(V)\n",
    "- 5. Sort the values and pick the k largest eigen values\n",
    "    - -> Select (values, vector)\n",
    "    - -> k can be size of the transformed data ie, dimension that we want to transform. \n",
    "    - Suppose we have 30 columns, and we want a data with 15 features/columns then 15 will be the k- value.\n",
    "    - -> ***B = (values, vectors) These are the princpal components***\n",
    "- 6. Matrix Multiplication of Transpose of Principal Component with Original data.\n",
    "\n",
    "    B.T * data -> ***Final Transformed Data***"
   ]
  },
  {
   "cell_type": "markdown",
   "id": "1a3628ed",
   "metadata": {},
   "source": [
    "## PCA using Numpy"
   ]
  },
  {
   "cell_type": "code",
   "execution_count": 1,
   "id": "03b3d0ec",
   "metadata": {},
   "outputs": [],
   "source": [
    "import numpy as np"
   ]
  },
  {
   "cell_type": "markdown",
   "id": "192bb354",
   "metadata": {},
   "source": [
    "###### Data Matrix for PCA"
   ]
  },
  {
   "cell_type": "code",
   "execution_count": 2,
   "id": "d5387bb4",
   "metadata": {},
   "outputs": [
    {
     "data": {
      "text/plain": [
       "array([[1, 2],\n",
       "       [3, 4],\n",
       "       [5, 6]])"
      ]
     },
     "execution_count": 2,
     "metadata": {},
     "output_type": "execute_result"
    }
   ],
   "source": [
    "data = np.array([[1,2],[3,4],[5,6]])\n",
    "data"
   ]
  },
  {
   "cell_type": "markdown",
   "id": "e7077a8c",
   "metadata": {},
   "source": [
    "##### Calculate Mean of Each Col"
   ]
  },
  {
   "cell_type": "code",
   "execution_count": 3,
   "id": "0349549b",
   "metadata": {},
   "outputs": [
    {
     "data": {
      "text/plain": [
       "array([3., 4.])"
      ]
     },
     "execution_count": 3,
     "metadata": {},
     "output_type": "execute_result"
    }
   ],
   "source": [
    "M = np.mean(data.T, axis = 1)\n",
    "M"
   ]
  },
  {
   "cell_type": "markdown",
   "id": "061d57a6",
   "metadata": {},
   "source": [
    "##### Subratract the mean value from data"
   ]
  },
  {
   "cell_type": "code",
   "execution_count": 4,
   "id": "e5903a72",
   "metadata": {},
   "outputs": [
    {
     "data": {
      "text/plain": [
       "array([[-2., -2.],\n",
       "       [ 0.,  0.],\n",
       "       [ 2.,  2.]])"
      ]
     },
     "execution_count": 4,
     "metadata": {},
     "output_type": "execute_result"
    }
   ],
   "source": [
    "#scale the data before the PCA\n",
    "scaled_data = data - M\n",
    "scaled_data"
   ]
  },
  {
   "cell_type": "markdown",
   "id": "9cf06ba4",
   "metadata": {},
   "source": [
    "##### Calculate CoVariance Matrix on Scaled Data"
   ]
  },
  {
   "cell_type": "code",
   "execution_count": 5,
   "id": "c000a5c5",
   "metadata": {},
   "outputs": [
    {
     "data": {
      "text/plain": [
       "array([[4., 4.],\n",
       "       [4., 4.]])"
      ]
     },
     "execution_count": 5,
     "metadata": {},
     "output_type": "execute_result"
    }
   ],
   "source": [
    "V = np.cov(scaled_data.T)\n",
    "V"
   ]
  },
  {
   "cell_type": "markdown",
   "id": "5e11a11f",
   "metadata": {},
   "source": [
    "##### Eigen Values and Eigen Vectors\n"
   ]
  },
  {
   "cell_type": "code",
   "execution_count": 6,
   "id": "3ea58117",
   "metadata": {},
   "outputs": [],
   "source": [
    "values,vectors = np.linalg.eig(V)"
   ]
  },
  {
   "cell_type": "code",
   "execution_count": 7,
   "id": "df4cadda",
   "metadata": {},
   "outputs": [
    {
     "data": {
      "text/plain": [
       "(2,)"
      ]
     },
     "execution_count": 7,
     "metadata": {},
     "output_type": "execute_result"
    }
   ],
   "source": [
    "values.shape"
   ]
  },
  {
   "cell_type": "code",
   "execution_count": 8,
   "id": "2c3e7cb9",
   "metadata": {},
   "outputs": [
    {
     "data": {
      "text/plain": [
       "array([8., 0.])"
      ]
     },
     "execution_count": 8,
     "metadata": {},
     "output_type": "execute_result"
    }
   ],
   "source": [
    "values"
   ]
  },
  {
   "cell_type": "code",
   "execution_count": 9,
   "id": "7d248713",
   "metadata": {},
   "outputs": [
    {
     "data": {
      "text/plain": [
       "(2, 2)"
      ]
     },
     "execution_count": 9,
     "metadata": {},
     "output_type": "execute_result"
    }
   ],
   "source": [
    "vectors.shape"
   ]
  },
  {
   "cell_type": "code",
   "execution_count": 10,
   "id": "41e9c138",
   "metadata": {},
   "outputs": [
    {
     "data": {
      "text/plain": [
       "array([[ 0.70710678, -0.70710678],\n",
       "       [ 0.70710678,  0.70710678]])"
      ]
     },
     "execution_count": 10,
     "metadata": {},
     "output_type": "execute_result"
    }
   ],
   "source": [
    "vectors"
   ]
  },
  {
   "cell_type": "markdown",
   "id": "3bbc45b9",
   "metadata": {},
   "source": [
    "##### Project the data/ Trannsform The Data"
   ]
  },
  {
   "cell_type": "code",
   "execution_count": 11,
   "id": "a8411451",
   "metadata": {},
   "outputs": [],
   "source": [
    "p = vectors.T.dot(scaled_data.T)"
   ]
  },
  {
   "cell_type": "code",
   "execution_count": 12,
   "id": "c215cedc",
   "metadata": {},
   "outputs": [
    {
     "data": {
      "text/plain": [
       "array([[-2.82842712,  0.        ],\n",
       "       [ 0.        ,  0.        ],\n",
       "       [ 2.82842712,  0.        ]])"
      ]
     },
     "execution_count": 12,
     "metadata": {},
     "output_type": "execute_result"
    }
   ],
   "source": [
    "p.T"
   ]
  },
  {
   "cell_type": "markdown",
   "id": "6aabebba",
   "metadata": {},
   "source": [
    "## PCA with SKLearn"
   ]
  },
  {
   "cell_type": "code",
   "execution_count": 13,
   "id": "fd765447",
   "metadata": {},
   "outputs": [],
   "source": [
    "from sklearn.decomposition import PCA"
   ]
  },
  {
   "cell_type": "code",
   "execution_count": 14,
   "id": "3875ad6d",
   "metadata": {},
   "outputs": [
    {
     "data": {
      "text/plain": [
       "PCA()"
      ]
     },
     "execution_count": 14,
     "metadata": {},
     "output_type": "execute_result"
    }
   ],
   "source": [
    "pca = PCA()\n",
    "pca.fit(data)"
   ]
  },
  {
   "cell_type": "code",
   "execution_count": 15,
   "id": "03707d12",
   "metadata": {},
   "outputs": [
    {
     "data": {
      "text/plain": [
       "array([[ 0.70710678,  0.70710678],\n",
       "       [ 0.70710678, -0.70710678]])"
      ]
     },
     "execution_count": 15,
     "metadata": {},
     "output_type": "execute_result"
    }
   ],
   "source": [
    "pca.components_"
   ]
  },
  {
   "cell_type": "code",
   "execution_count": 16,
   "id": "fcf2d7ea",
   "metadata": {},
   "outputs": [
    {
     "data": {
      "text/plain": [
       "array([8.00000000e+00, 2.25080839e-33])"
      ]
     },
     "execution_count": 16,
     "metadata": {},
     "output_type": "execute_result"
    }
   ],
   "source": [
    "pca.explained_variance_"
   ]
  },
  {
   "cell_type": "code",
   "execution_count": 17,
   "id": "a9a37639",
   "metadata": {},
   "outputs": [
    {
     "data": {
      "text/plain": [
       "array([[-2.82842712e+00,  2.22044605e-16],\n",
       "       [ 0.00000000e+00,  0.00000000e+00],\n",
       "       [ 2.82842712e+00, -2.22044605e-16]])"
      ]
     },
     "execution_count": 17,
     "metadata": {},
     "output_type": "execute_result"
    }
   ],
   "source": [
    "p = pca.transform(data)\n",
    "p"
   ]
  },
  {
   "cell_type": "code",
   "execution_count": null,
   "id": "d176e383",
   "metadata": {},
   "outputs": [],
   "source": []
  }
 ],
 "metadata": {
  "kernelspec": {
   "display_name": "Python 3",
   "language": "python",
   "name": "python3"
  },
  "language_info": {
   "codemirror_mode": {
    "name": "ipython",
    "version": 3
   },
   "file_extension": ".py",
   "mimetype": "text/x-python",
   "name": "python",
   "nbconvert_exporter": "python",
   "pygments_lexer": "ipython3",
   "version": "3.8.8"
  }
 },
 "nbformat": 4,
 "nbformat_minor": 5
}
