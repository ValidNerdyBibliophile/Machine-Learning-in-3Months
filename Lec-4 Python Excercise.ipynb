{
 "cells": [
  {
   "cell_type": "code",
   "execution_count": null,
   "metadata": {},
   "outputs": [
    {
     "name": "stdout",
     "output_type": "stream",
     "text": [
      "1. Add Items to the List\n",
      "2. Remove Items\n",
      "3. Bag\n",
      "4. Billing\n",
      "Enter Your Choice: 1\n",
      "[['oil', 90], ['milk', 45], ['sugar', 35]]\n",
      "Enter Product to buy: sugar\n",
      "Item Added Successfully!\n",
      "Enter Your Choice: 1\n",
      "[['oil', 90], ['milk', 45], ['sugar', 35]]\n",
      "Enter Product to buy: oil\n",
      "Item Added Successfully!\n",
      "Enter Your Choice: 1\n",
      "[['oil', 90], ['milk', 45], ['sugar', 35]]\n",
      "Enter Product to buy: milk\n",
      "Item Added Successfully!\n",
      "Enter Your Choice: 3\n",
      "['sugar', 'oil', 'milk']\n",
      "Enter Your Choice: 4\n",
      "Total 170\n",
      "Enter Your Choice: 2\n",
      "['sugar', 'oil', 'milk']\n",
      "Enter the key you want to remove: oil\n",
      "Item Removed\n",
      "Enter Your Choice: 3\n",
      "['sugar', 'milk']\n",
      "Enter Your Choice: 4\n",
      "Total 80\n"
     ]
    }
   ],
   "source": [
    "shop = [[\"oil\",90],[\"milk\",45],[\"sugar\",35]]\n",
    "print(\"1. Add Items to the List\")\n",
    "print(\"2. Remove Items\")\n",
    "print(\"3. Bag\")\n",
    "print(\"4. Billing\")\n",
    "bag = []\n",
    "bill = []\n",
    "choice = 0\n",
    "flag = 0\n",
    "while(choice <= 4):\n",
    "    choice = int(input(\"Enter Your Choice: \"))\n",
    "    if(choice==1):\n",
    "        print(shop)\n",
    "        prod = input(\"Enter Product to buy: \")\n",
    "        for item in shop:\n",
    "            if prod == item[0]:\n",
    "                bag.append(item[0])\n",
    "                bill.append(item[1])\n",
    "                flag=1\n",
    "                break\n",
    "        if(flag==1):\n",
    "            print(\"Item Added Successfully!\")\n",
    "        else:\n",
    "            print(\"Item Out Of Stock Currently\")\n",
    "            print(bag)\n",
    "            print(bill)\n",
    "    elif(choice==2):\n",
    "        print(bag)\n",
    "        prod = input(\"Enter the key you want to remove: \")\n",
    "        flagg = 0\n",
    "        for i in range(len(bag)):\n",
    "            if bag[i]==prod:\n",
    "                bag.remove(prod)\n",
    "                bill.remove(bill[i])\n",
    "                flagg = 1\n",
    "                break\n",
    "            if(flag == 1):\n",
    "                print(\"Item Removed\")\n",
    "            else:\n",
    "                print(\"Item Not Found!!!\")  \n",
    "    elif(choice==3):\n",
    "        print(bag)\n",
    "    elif(choice==4):\n",
    "        total = 0\n",
    "        for i in bill:\n",
    "            total = total+i\n",
    "        print(\"Total\", total)\n",
    "    else:\n",
    "        print(\"Invalid Choice!!\")"
   ]
  },
  {
   "cell_type": "code",
   "execution_count": null,
   "metadata": {},
   "outputs": [],
   "source": []
  },
  {
   "cell_type": "code",
   "execution_count": null,
   "metadata": {},
   "outputs": [],
   "source": []
  },
  {
   "cell_type": "code",
   "execution_count": null,
   "metadata": {},
   "outputs": [],
   "source": []
  }
 ],
 "metadata": {
  "kernelspec": {
   "display_name": "Python 3",
   "language": "python",
   "name": "python3"
  },
  "language_info": {
   "codemirror_mode": {
    "name": "ipython",
    "version": 3
   },
   "file_extension": ".py",
   "mimetype": "text/x-python",
   "name": "python",
   "nbconvert_exporter": "python",
   "pygments_lexer": "ipython3",
   "version": "3.8.8"
  }
 },
 "nbformat": 4,
 "nbformat_minor": 4
}
