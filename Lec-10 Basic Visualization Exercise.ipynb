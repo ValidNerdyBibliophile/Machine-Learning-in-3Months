{
 "cells": [
  {
   "cell_type": "code",
   "execution_count": 1,
   "id": "governmental-pierce",
   "metadata": {},
   "outputs": [],
   "source": [
    "import matplotlib.pyplot as plt\n",
    "import pandas as pd\n",
    "import numpy as np"
   ]
  },
  {
   "cell_type": "code",
   "execution_count": 2,
   "id": "harmful-translation",
   "metadata": {},
   "outputs": [],
   "source": [
    "data = pd.read_csv(\"Teams.csv\")"
   ]
  },
  {
   "cell_type": "code",
   "execution_count": 3,
   "id": "pleasant-punch",
   "metadata": {},
   "outputs": [
    {
     "data": {
      "text/html": [
       "<div>\n",
       "<style scoped>\n",
       "    .dataframe tbody tr th:only-of-type {\n",
       "        vertical-align: middle;\n",
       "    }\n",
       "\n",
       "    .dataframe tbody tr th {\n",
       "        vertical-align: top;\n",
       "    }\n",
       "\n",
       "    .dataframe thead th {\n",
       "        text-align: right;\n",
       "    }\n",
       "</style>\n",
       "<table border=\"1\" class=\"dataframe\">\n",
       "  <thead>\n",
       "    <tr style=\"text-align: right;\">\n",
       "      <th></th>\n",
       "      <th>Points</th>\n",
       "      <th>Rank</th>\n",
       "      <th>Team</th>\n",
       "      <th>Year</th>\n",
       "    </tr>\n",
       "  </thead>\n",
       "  <tbody>\n",
       "    <tr>\n",
       "      <th>0</th>\n",
       "      <td>876</td>\n",
       "      <td>1</td>\n",
       "      <td>Riders</td>\n",
       "      <td>2014</td>\n",
       "    </tr>\n",
       "    <tr>\n",
       "      <th>1</th>\n",
       "      <td>789</td>\n",
       "      <td>2</td>\n",
       "      <td>Riders</td>\n",
       "      <td>2015</td>\n",
       "    </tr>\n",
       "    <tr>\n",
       "      <th>2</th>\n",
       "      <td>863</td>\n",
       "      <td>2</td>\n",
       "      <td>Devils</td>\n",
       "      <td>2014</td>\n",
       "    </tr>\n",
       "    <tr>\n",
       "      <th>3</th>\n",
       "      <td>673</td>\n",
       "      <td>3</td>\n",
       "      <td>Devils</td>\n",
       "      <td>2015</td>\n",
       "    </tr>\n",
       "    <tr>\n",
       "      <th>4</th>\n",
       "      <td>741</td>\n",
       "      <td>3</td>\n",
       "      <td>Kings</td>\n",
       "      <td>2014</td>\n",
       "    </tr>\n",
       "    <tr>\n",
       "      <th>5</th>\n",
       "      <td>812</td>\n",
       "      <td>4</td>\n",
       "      <td>Kings</td>\n",
       "      <td>2015</td>\n",
       "    </tr>\n",
       "    <tr>\n",
       "      <th>6</th>\n",
       "      <td>756</td>\n",
       "      <td>1</td>\n",
       "      <td>Kings</td>\n",
       "      <td>2016</td>\n",
       "    </tr>\n",
       "    <tr>\n",
       "      <th>7</th>\n",
       "      <td>788</td>\n",
       "      <td>1</td>\n",
       "      <td>Kings</td>\n",
       "      <td>2017</td>\n",
       "    </tr>\n",
       "    <tr>\n",
       "      <th>8</th>\n",
       "      <td>694</td>\n",
       "      <td>2</td>\n",
       "      <td>Riders</td>\n",
       "      <td>2016</td>\n",
       "    </tr>\n",
       "    <tr>\n",
       "      <th>9</th>\n",
       "      <td>701</td>\n",
       "      <td>4</td>\n",
       "      <td>Royals</td>\n",
       "      <td>2014</td>\n",
       "    </tr>\n",
       "    <tr>\n",
       "      <th>10</th>\n",
       "      <td>804</td>\n",
       "      <td>1</td>\n",
       "      <td>Royals</td>\n",
       "      <td>2015</td>\n",
       "    </tr>\n",
       "    <tr>\n",
       "      <th>11</th>\n",
       "      <td>690</td>\n",
       "      <td>2</td>\n",
       "      <td>Riders</td>\n",
       "      <td>2017</td>\n",
       "    </tr>\n",
       "  </tbody>\n",
       "</table>\n",
       "</div>"
      ],
      "text/plain": [
       "    Points  Rank    Team  Year\n",
       "0      876     1  Riders  2014\n",
       "1      789     2  Riders  2015\n",
       "2      863     2  Devils  2014\n",
       "3      673     3  Devils  2015\n",
       "4      741     3   Kings  2014\n",
       "5      812     4   Kings  2015\n",
       "6      756     1   Kings  2016\n",
       "7      788     1   Kings  2017\n",
       "8      694     2  Riders  2016\n",
       "9      701     4  Royals  2014\n",
       "10     804     1  Royals  2015\n",
       "11     690     2  Riders  2017"
      ]
     },
     "execution_count": 3,
     "metadata": {},
     "output_type": "execute_result"
    }
   ],
   "source": [
    "data"
   ]
  },
  {
   "cell_type": "markdown",
   "id": "fiscal-trance",
   "metadata": {},
   "source": [
    "- Plot all Teams Points Total. x->team name, y->total\n",
    "- Line plot of all Team points with labels(legends). x->year,y->points\n",
    "- Line plot of all Team Rank with Labels(legend). x->year, y->rank\n",
    "- scatter plot of rank nd points, rank vs points."
   ]
  },
  {
   "cell_type": "markdown",
   "id": "direct-priest",
   "metadata": {},
   "source": [
    "#### 1. Plot all Teams Points Total. x->team name, y->total"
   ]
  },
  {
   "cell_type": "code",
   "execution_count": 4,
   "id": "juvenile-junction",
   "metadata": {
    "scrolled": true
   },
   "outputs": [
    {
     "data": {
      "text/plain": [
       "Team\n",
       "Devils    1536\n",
       "Kings     3097\n",
       "Riders    3049\n",
       "Royals    1505\n",
       "Name: Points, dtype: int64"
      ]
     },
     "execution_count": 4,
     "metadata": {},
     "output_type": "execute_result"
    }
   ],
   "source": [
    "#Print each teams total points\n",
    "\n",
    "total_points = data.groupby(\"Team\")\n",
    "y = total_points.Points.sum()\n",
    "y"
   ]
  },
  {
   "cell_type": "code",
   "execution_count": 12,
   "id": "generic-emission",
   "metadata": {},
   "outputs": [
    {
     "data": {
      "text/plain": [
       "Text(0, 0.5, 'Total Points')"
      ]
     },
     "execution_count": 12,
     "metadata": {},
     "output_type": "execute_result"
    },
    {
     "data": {
      "image/png": "[encoded data removed]",
      "text/plain": [
       "<Figure size 432x288 with 1 Axes>"
      ]
     },
     "metadata": {
      "needs_background": "light"
     },
     "output_type": "display_data"
    }
   ],
   "source": [
    "plt.xticks([1,2,3,4],[\"Devils\",\"Kings\",\"Riders\",\"Royals\"])\n",
    "plt.bar([1,2,3,4],y)\n",
    "plt.xlabel(\"Teams\")\n",
    "plt.ylabel(\"Total Points\")"
   ]
  },
  {
   "cell_type": "markdown",
   "id": "earned-consent",
   "metadata": {},
   "source": [
    "### Maam's Code For First.\n",
    "\n",
    "teams = data.groupby(\"Team\")[\"Points\"].sum()\n",
    "plt.bar(range(4),teams)\n",
    "plt.xticks(range(4),teams.index)\n"
   ]
  },
  {
   "cell_type": "markdown",
   "id": "spectacular-treatment",
   "metadata": {},
   "source": [
    "#### 2. Line plot of all Team points with labels(legends). x->year,y->points"
   ]
  },
  {
   "cell_type": "code",
   "execution_count": 14,
   "id": "adult-currency",
   "metadata": {},
   "outputs": [
    {
     "data": {
      "text/plain": [
       "Text(0, 0.5, 'Points')"
      ]
     },
     "execution_count": 14,
     "metadata": {},
     "output_type": "execute_result"
    },
    {
     "data": {
      "image/png": "[encoded data removed]",
      "text/plain": [
       "<Figure size 432x288 with 1 Axes>"
      ]
     },
     "metadata": {
      "needs_background": "light"
     },
     "output_type": "display_data"
    }
   ],
   "source": [
    "team=data.groupby(\"Team\")\n",
    "rider=team.get_group(\"Riders\")\n",
    "kings=team.get_group(\"Kings\")\n",
    "devils = team.get_group(\"Devils\")\n",
    "royals = team.get_group(\"Royals\")\n",
    "plt.plot(rider.Team,rider.Points, label = \"Riders\")\n",
    "plt.plot(kings.Team,kings.Points, label = \"Kings\")\n",
    "plt.plot(devils.Team,devils.Points, label= \"Devils\")\n",
    "plt.plot(royals.Team,royals.Points, label = \"Royals\")\n",
    "plt.legend()\n",
    "plt.xlabel(\"Teams\")\n",
    "plt.ylabel(\"Points\")"
   ]
  },
  {
   "cell_type": "code",
   "execution_count": 15,
   "id": "daily-laundry",
   "metadata": {},
   "outputs": [
    {
     "data": {
      "text/plain": [
       "Text(0, 0.5, 'Points')"
      ]
     },
     "execution_count": 15,
     "metadata": {},
     "output_type": "execute_result"
    },
    {
     "data": {
      "image/png": "[encoded data removed]",
      "text/plain": [
       "<Figure size 432x288 with 1 Axes>"
      ]
     },
     "metadata": {
      "needs_background": "light"
     },
     "output_type": "display_data"
    }
   ],
   "source": [
    "team=data.groupby(\"Team\")\n",
    "rider=team.get_group(\"Riders\")\n",
    "kings=team.get_group(\"Kings\")\n",
    "devils = team.get_group(\"Devils\")\n",
    "royals = team.get_group(\"Royals\")\n",
    "plt.plot(rider.Year,rider.Points, label = \"Riders\")\n",
    "plt.plot(kings.Year,kings.Points, label = \"Kings\")\n",
    "plt.plot(devils.Year,devils.Points, label= \"Devils\")\n",
    "plt.plot(royals.Year,royals.Points, label = \"Royals\")\n",
    "plt.legend()\n",
    "\n",
    "plt.xlabel(\"Year\")\n",
    "plt.ylabel(\"Points\")"
   ]
  },
  {
   "cell_type": "markdown",
   "id": "humanitarian-intro",
   "metadata": {},
   "source": [
    "#### Line plot of all Team Rank with Labels(legend). x->year, y->rank"
   ]
  },
  {
   "cell_type": "code",
   "execution_count": 16,
   "id": "meaning-missouri",
   "metadata": {},
   "outputs": [
    {
     "data": {
      "text/plain": [
       "Text(0, 0.5, 'Rank')"
      ]
     },
     "execution_count": 16,
     "metadata": {},
     "output_type": "execute_result"
    },
    {
     "data": {
      "image/png": "[encoded data removed]",
      "text/plain": [
       "<Figure size 432x288 with 1 Axes>"
      ]
     },
     "metadata": {
      "needs_background": "light"
     },
     "output_type": "display_data"
    }
   ],
   "source": [
    "team=data.groupby(\"Team\")\n",
    "rider=team.get_group(\"Riders\")\n",
    "kings=team.get_group(\"Kings\")\n",
    "devils = team.get_group(\"Devils\")\n",
    "royals = team.get_group(\"Royals\")\n",
    "plt.plot(rider.Year,rider.Rank, label = \"Riders\")\n",
    "plt.plot(kings.Year,kings.Rank, label = \"Kings\")\n",
    "plt.plot(devils.Year,devils.Rank, label= \"Devils\")\n",
    "plt.plot(royals.Year,royals.Rank, label = \"Royals\")\n",
    "plt.legend()\n",
    "\n",
    "plt.xlabel(\"Year\")\n",
    "plt.ylabel(\"Rank\")"
   ]
  },
  {
   "cell_type": "markdown",
   "id": "speaking-aberdeen",
   "metadata": {},
   "source": [
    "#### 4. Scatter plot of rank nd points, rank vs points."
   ]
  },
  {
   "cell_type": "code",
   "execution_count": 18,
   "id": "caring-gothic",
   "metadata": {},
   "outputs": [
    {
     "data": {
      "text/plain": [
       "Text(0, 0.5, 'Points')"
      ]
     },
     "execution_count": 18,
     "metadata": {},
     "output_type": "execute_result"
    },
    {
     "data": {
      "image/png": "[encoded data removed]",
      "text/plain": [
       "<Figure size 432x288 with 1 Axes>"
      ]
     },
     "metadata": {
      "needs_background": "light"
     },
     "output_type": "display_data"
    }
   ],
   "source": [
    "teams = data.groupby(\"Team\")\n",
    "riders = teams.get_group(\"Riders\")\n",
    "devils = teams.get_group(\"Devils\")\n",
    "kings = teams.get_group(\"Kings\")\n",
    "royals = teams.get_group(\"Royals\")\n",
    "plt.scatter(rider.Rank,rider.Points, label = \"Riders\")\n",
    "plt.scatter(kings.Rank,kings.Points, label = \"Kings\")\n",
    "plt.scatter(devils.Rank,devils.Points, label= \"Devils\")\n",
    "plt.scatter(royals.Rank,royals.Points, label = \"Royals\")\n",
    "plt.xlabel(\"Ranks\")\n",
    "plt.ylabel(\"Points\")"
   ]
  },
  {
   "cell_type": "code",
   "execution_count": null,
   "id": "convenient-afternoon",
   "metadata": {},
   "outputs": [],
   "source": []
  }
 ],
 "metadata": {
  "kernelspec": {
   "display_name": "Python 3",
   "language": "python",
   "name": "python3"
  },
  "language_info": {
   "codemirror_mode": {
    "name": "ipython",
    "version": 3
   },
   "file_extension": ".py",
   "mimetype": "text/x-python",
   "name": "python",
   "nbconvert_exporter": "python",
   "pygments_lexer": "ipython3",
   "version": "3.8.8"
  }
 },
 "nbformat": 4,
 "nbformat_minor": 5
}
