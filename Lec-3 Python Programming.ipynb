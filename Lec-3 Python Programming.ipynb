{
 "cells": [
  {
   "cell_type": "code",
   "execution_count": 1,
   "metadata": {},
   "outputs": [
    {
     "name": "stdout",
     "output_type": "stream",
     "text": [
      "*\n",
      "**\n",
      "***\n",
      "**\n",
      "*\n"
     ]
    }
   ],
   "source": [
    "n=5\n",
    "mid=int(n/2)\n",
    "for i in range(n):\n",
    "    if i<=mid:\n",
    "        for j in range(i+1):\n",
    "            print(\"*\",end=\"\")\n",
    "    else:\n",
    "        for j in range(n-i):\n",
    "            print(\"*\",end=\"\")\n",
    "    print()\n",
    "        "
   ]
  },
  {
   "cell_type": "markdown",
   "metadata": {},
   "source": [
    "### While Loop"
   ]
  },
  {
   "cell_type": "markdown",
   "metadata": {},
   "source": [
    "#### Checks the condition when it comes to execute the tasks.\n",
    "\n",
    "#### initialization\n",
    "\n",
    "##### while(condition):\n",
    "   ###### task to be performed\n",
    "   ###### incrementation"
   ]
  },
  {
   "cell_type": "code",
   "execution_count": 2,
   "metadata": {},
   "outputs": [
    {
     "name": "stdout",
     "output_type": "stream",
     "text": [
      "Hello World\n",
      "Hello World\n",
      "Hello World\n",
      "Hello World\n",
      "Hello World\n"
     ]
    }
   ],
   "source": [
    "i =0\n",
    "while(i<5):\n",
    "    print(\"Hello World\")\n",
    "    i=i+1"
   ]
  },
  {
   "cell_type": "code",
   "execution_count": 3,
   "metadata": {},
   "outputs": [
    {
     "name": "stdout",
     "output_type": "stream",
     "text": [
      "Enter number 1: 5\n",
      "Enter number 2: 4\n",
      "Enter Your Choie from 1-4 1\n",
      "Addition: 9\n",
      "Enter Your Choie from 1-4 5\n",
      "Invalid Choice\n"
     ]
    }
   ],
   "source": [
    "a = int(input(\"Enter number 1: \"))\n",
    "b = int(input(\"Enter number 2: \"))\n",
    "choice = 0\n",
    "while(choice < 5):\n",
    "    choice = int(input(\"Enter Your Choie from 1-4 \"))\n",
    "    if(choice==1):\n",
    "        print(\"Addition:\", a+b)\n",
    "    elif(choice==2):\n",
    "        print(\"Subtraction: \", a-b)\n",
    "    elif(choice==3):\n",
    "        print(\"Multiplcation:\", a*b)\n",
    "    elif(choice==4):\n",
    "        print(\"Division: \", a/b)\n",
    "    else:\n",
    "        print(\"Invalid Choice\")\n",
    "        "
   ]
  },
  {
   "cell_type": "markdown",
   "metadata": {},
   "source": [
    "### Break Statement\n",
    "\n",
    "##### To avoid unecessary execution of a particular loop, we use break statement"
   ]
  },
  {
   "cell_type": "code",
   "execution_count": 4,
   "metadata": {},
   "outputs": [
    {
     "name": "stdout",
     "output_type": "stream",
     "text": [
      "0\n",
      "1\n",
      "2\n"
     ]
    }
   ],
   "source": [
    "for i in range(5):\n",
    "    if i==3:\n",
    "        break\n",
    "    print(i)"
   ]
  },
  {
   "cell_type": "code",
   "execution_count": 5,
   "metadata": {},
   "outputs": [
    {
     "name": "stdout",
     "output_type": "stream",
     "text": [
      "0\n",
      "1\n",
      "2\n",
      "3 is found!!\n",
      "0\n",
      "1\n",
      "2\n",
      "3 is found!!\n"
     ]
    }
   ],
   "source": [
    "for i in range(5):\n",
    "    if i==3:\n",
    "        print(\"3 is found!!\")\n",
    "        break\n",
    "    print(i)\n",
    "\n",
    "i=0\n",
    "while(i<5):\n",
    "    if i==3:\n",
    "        print(\"3 is found!!\")\n",
    "        break\n",
    "    print(i)\n",
    "    i=i+1\n",
    "        "
   ]
  },
  {
   "cell_type": "markdown",
   "metadata": {},
   "source": [
    "### Continue \n",
    "\n",
    "##### It skips that particular condition "
   ]
  },
  {
   "cell_type": "code",
   "execution_count": 6,
   "metadata": {},
   "outputs": [
    {
     "name": "stdout",
     "output_type": "stream",
     "text": [
      "0\n",
      "1\n",
      "2\n",
      "3 is found!!\n",
      "3\n",
      "4\n"
     ]
    }
   ],
   "source": [
    "#without continue statement\n",
    "for i in range(5):\n",
    "    if i==3:\n",
    "        print(\"3 is found!!\")\n",
    "    print(i)"
   ]
  },
  {
   "cell_type": "code",
   "execution_count": 7,
   "metadata": {},
   "outputs": [
    {
     "name": "stdout",
     "output_type": "stream",
     "text": [
      "0\n",
      "1\n",
      "2\n",
      "3 is found!!\n",
      "4\n"
     ]
    }
   ],
   "source": [
    "# with continue statement\n",
    "\n",
    "for i in range(5):\n",
    "    if i==3:\n",
    "        print(\"3 is found!!\")\n",
    "        continue\n",
    "    print(i)"
   ]
  },
  {
   "cell_type": "markdown",
   "metadata": {},
   "source": [
    "# Data Structures"
   ]
  },
  {
   "cell_type": "markdown",
   "metadata": {},
   "source": [
    "### Tuples"
   ]
  },
  {
   "cell_type": "code",
   "execution_count": 8,
   "metadata": {},
   "outputs": [],
   "source": [
    "t = 1,2,3,4,5,6"
   ]
  },
  {
   "cell_type": "code",
   "execution_count": 9,
   "metadata": {},
   "outputs": [
    {
     "name": "stdout",
     "output_type": "stream",
     "text": [
      "(1, 2, 3, 4, 5, 6)\n"
     ]
    }
   ],
   "source": [
    "print(t)"
   ]
  },
  {
   "cell_type": "code",
   "execution_count": 10,
   "metadata": {},
   "outputs": [
    {
     "data": {
      "text/plain": [
       "tuple"
      ]
     },
     "execution_count": 10,
     "metadata": {},
     "output_type": "execute_result"
    }
   ],
   "source": [
    "type(t)"
   ]
  },
  {
   "cell_type": "code",
   "execution_count": 11,
   "metadata": {},
   "outputs": [],
   "source": [
    "t = (\"pi\",3.14,73,True)"
   ]
  },
  {
   "cell_type": "code",
   "execution_count": 12,
   "metadata": {},
   "outputs": [
    {
     "name": "stdout",
     "output_type": "stream",
     "text": [
      "('pi', 3.14, 73, True)\n"
     ]
    }
   ],
   "source": [
    "print(t)"
   ]
  },
  {
   "cell_type": "markdown",
   "metadata": {},
   "source": [
    "##### index always starts from 0.\n",
    "###### to access it, tuple_name[index]\n",
    "#### It cant be modified, ie the data can be deleted or added in a tuple and hence its immutable."
   ]
  },
  {
   "cell_type": "code",
   "execution_count": 13,
   "metadata": {},
   "outputs": [
    {
     "data": {
      "text/plain": [
       "True"
      ]
     },
     "execution_count": 13,
     "metadata": {},
     "output_type": "execute_result"
    }
   ],
   "source": [
    "t[3]"
   ]
  },
  {
   "cell_type": "code",
   "execution_count": 14,
   "metadata": {},
   "outputs": [
    {
     "data": {
      "text/plain": [
       "3.14"
      ]
     },
     "execution_count": 14,
     "metadata": {},
     "output_type": "execute_result"
    }
   ],
   "source": [
    "t[1]"
   ]
  },
  {
   "cell_type": "code",
   "execution_count": 15,
   "metadata": {},
   "outputs": [
    {
     "data": {
      "text/plain": [
       "'pi'"
      ]
     },
     "execution_count": 15,
     "metadata": {},
     "output_type": "execute_result"
    }
   ],
   "source": [
    "t[0]"
   ]
  },
  {
   "cell_type": "code",
   "execution_count": 16,
   "metadata": {},
   "outputs": [
    {
     "data": {
      "text/plain": [
       "73"
      ]
     },
     "execution_count": 16,
     "metadata": {},
     "output_type": "execute_result"
    }
   ],
   "source": [
    "t[2]"
   ]
  },
  {
   "cell_type": "code",
   "execution_count": 17,
   "metadata": {},
   "outputs": [],
   "source": [
    "t= (1,2,3,4,(5,6,7))"
   ]
  },
  {
   "cell_type": "code",
   "execution_count": 18,
   "metadata": {},
   "outputs": [
    {
     "data": {
      "text/plain": [
       "7"
      ]
     },
     "execution_count": 18,
     "metadata": {},
     "output_type": "execute_result"
    }
   ],
   "source": [
    "#nested index/nested tuple\n",
    "\n",
    "t[4][2]"
   ]
  },
  {
   "cell_type": "code",
   "execution_count": 19,
   "metadata": {},
   "outputs": [],
   "source": [
    "t= (1,2,3,4,(5,6,7,(8,9,10,(11,12,13))))"
   ]
  },
  {
   "cell_type": "code",
   "execution_count": 20,
   "metadata": {},
   "outputs": [
    {
     "data": {
      "text/plain": [
       "6"
      ]
     },
     "execution_count": 20,
     "metadata": {},
     "output_type": "execute_result"
    }
   ],
   "source": [
    "t[4][1]"
   ]
  },
  {
   "cell_type": "code",
   "execution_count": 21,
   "metadata": {},
   "outputs": [
    {
     "data": {
      "text/plain": [
       "9"
      ]
     },
     "execution_count": 21,
     "metadata": {},
     "output_type": "execute_result"
    }
   ],
   "source": [
    "t[4][3][1]"
   ]
  },
  {
   "cell_type": "code",
   "execution_count": 22,
   "metadata": {},
   "outputs": [
    {
     "data": {
      "text/plain": [
       "11"
      ]
     },
     "execution_count": 22,
     "metadata": {},
     "output_type": "execute_result"
    }
   ],
   "source": [
    "t[4][3][3][0]"
   ]
  },
  {
   "cell_type": "code",
   "execution_count": 23,
   "metadata": {},
   "outputs": [
    {
     "data": {
      "text/plain": [
       "13"
      ]
     },
     "execution_count": 23,
     "metadata": {},
     "output_type": "execute_result"
    }
   ],
   "source": [
    "t[4][3][3][2]"
   ]
  },
  {
   "cell_type": "markdown",
   "metadata": {},
   "source": [
    "### Tuple Slicing\n",
    "\n",
    "#### t(start:stop:step)"
   ]
  },
  {
   "cell_type": "code",
   "execution_count": 24,
   "metadata": {},
   "outputs": [
    {
     "data": {
      "text/plain": [
       "(1, 2, 3, 4, 5, 6, 7, 8, 9)"
      ]
     },
     "execution_count": 24,
     "metadata": {},
     "output_type": "execute_result"
    }
   ],
   "source": [
    "t=(1,2,3,4,5,6,7,8,9,10)\n",
    "t[:-1]"
   ]
  },
  {
   "cell_type": "code",
   "execution_count": 25,
   "metadata": {},
   "outputs": [
    {
     "data": {
      "text/plain": [
       "(2, 3, 4, 5)"
      ]
     },
     "execution_count": 25,
     "metadata": {},
     "output_type": "execute_result"
    }
   ],
   "source": [
    "t[1:5]"
   ]
  },
  {
   "cell_type": "code",
   "execution_count": 26,
   "metadata": {},
   "outputs": [
    {
     "data": {
      "text/plain": [
       "(1, 2, 3, 4, 5, 6, 7)"
      ]
     },
     "execution_count": 26,
     "metadata": {},
     "output_type": "execute_result"
    }
   ],
   "source": [
    "t[:7]"
   ]
  },
  {
   "cell_type": "code",
   "execution_count": 27,
   "metadata": {},
   "outputs": [
    {
     "data": {
      "text/plain": [
       "(2, 5, 8)"
      ]
     },
     "execution_count": 27,
     "metadata": {},
     "output_type": "execute_result"
    }
   ],
   "source": [
    "t[1::3]"
   ]
  },
  {
   "cell_type": "code",
   "execution_count": 28,
   "metadata": {},
   "outputs": [
    {
     "data": {
      "text/plain": [
       "(10, 9, 8, 7, 6, 5, 4, 3, 2, 1)"
      ]
     },
     "execution_count": 28,
     "metadata": {},
     "output_type": "execute_result"
    }
   ],
   "source": [
    "t[::-1]"
   ]
  },
  {
   "cell_type": "code",
   "execution_count": 29,
   "metadata": {},
   "outputs": [
    {
     "data": {
      "text/plain": [
       "(1, 3, 5, 7, 9)"
      ]
     },
     "execution_count": 29,
     "metadata": {},
     "output_type": "execute_result"
    }
   ],
   "source": [
    "#odd values\n",
    "t[0:9:2]"
   ]
  },
  {
   "cell_type": "code",
   "execution_count": 30,
   "metadata": {},
   "outputs": [
    {
     "name": "stdout",
     "output_type": "stream",
     "text": [
      "(1, 2, 3, 4, 5, 6, 7, 8, 9, 10)\n"
     ]
    }
   ],
   "source": [
    "print(t)"
   ]
  },
  {
   "cell_type": "code",
   "execution_count": 31,
   "metadata": {},
   "outputs": [
    {
     "data": {
      "text/plain": [
       "(9, 7, 5, 3, 1)"
      ]
     },
     "execution_count": 31,
     "metadata": {},
     "output_type": "execute_result"
    }
   ],
   "source": [
    "#reverse odd values\n",
    "t[8::-2]"
   ]
  },
  {
   "cell_type": "code",
   "execution_count": 32,
   "metadata": {},
   "outputs": [
    {
     "data": {
      "text/plain": [
       "(2, 4, 6, 8, 10)"
      ]
     },
     "execution_count": 32,
     "metadata": {},
     "output_type": "execute_result"
    }
   ],
   "source": [
    "#even numbers\n",
    "t[1:10:2]"
   ]
  },
  {
   "cell_type": "code",
   "execution_count": 33,
   "metadata": {},
   "outputs": [
    {
     "data": {
      "text/plain": [
       "(10, 8, 6, 4, 2)"
      ]
     },
     "execution_count": 33,
     "metadata": {},
     "output_type": "execute_result"
    }
   ],
   "source": [
    "#even reverse\n",
    "t[9:0:-2]"
   ]
  },
  {
   "cell_type": "code",
   "execution_count": 34,
   "metadata": {},
   "outputs": [
    {
     "name": "stdout",
     "output_type": "stream",
     "text": [
      "1\n",
      "2\n",
      "3\n",
      "4\n",
      "5\n",
      "6\n",
      "7\n",
      "8\n",
      "9\n",
      "10\n"
     ]
    }
   ],
   "source": [
    "t=1,2,3,4,5,6,7,8,9,10\n",
    "for i in t:\n",
    "    print(i)"
   ]
  },
  {
   "cell_type": "code",
   "execution_count": 35,
   "metadata": {},
   "outputs": [
    {
     "name": "stdout",
     "output_type": "stream",
     "text": [
      "Highest Marks:  67\n"
     ]
    }
   ],
   "source": [
    "marks = (23,21,56,20,67,12)\n",
    "high = marks[0]\n",
    "for i in marks:\n",
    "    if i> high:\n",
    "        high = i\n",
    "print(\"Highest Marks: \",high)"
   ]
  },
  {
   "cell_type": "code",
   "execution_count": 36,
   "metadata": {},
   "outputs": [
    {
     "name": "stdout",
     "output_type": "stream",
     "text": [
      "Lowest Marks:  12\n"
     ]
    }
   ],
   "source": [
    "marks = (23,21,56,20,67,12)\n",
    "low = marks[0]\n",
    "for i in marks:\n",
    "    if i< low:\n",
    "        low = i\n",
    "print(\"Lowest Marks: \",low)"
   ]
  },
  {
   "cell_type": "code",
   "execution_count": 37,
   "metadata": {},
   "outputs": [
    {
     "name": "stdout",
     "output_type": "stream",
     "text": [
      "0 => 23\n",
      "1 => 21\n",
      "2 => 56\n",
      "3 => 20\n",
      "4 => 67\n",
      "5 => 12\n"
     ]
    }
   ],
   "source": [
    "marks = (23,21,56,20,67,12)\n",
    "high = marks[0]\n",
    "for i in range(len(marks)):\n",
    "    print(i,\"=>\",marks[i])"
   ]
  },
  {
   "cell_type": "code",
   "execution_count": 38,
   "metadata": {},
   "outputs": [
    {
     "name": "stdout",
     "output_type": "stream",
     "text": [
      "Highest Marks is 67 Found at position  4\n"
     ]
    }
   ],
   "source": [
    "marks = (23,21,56,20,67,12)\n",
    "high = marks[0]\n",
    "for i in range(len(marks)):\n",
    "    if marks[i]> high:\n",
    "        pos=i\n",
    "        high = marks[i]\n",
    "print(\"Highest Marks is\",high, \"Found at position \",pos)"
   ]
  },
  {
   "cell_type": "code",
   "execution_count": 39,
   "metadata": {},
   "outputs": [
    {
     "name": "stdout",
     "output_type": "stream",
     "text": [
      "Lowest Marks is 12 Found at position  5\n"
     ]
    }
   ],
   "source": [
    "marks = (23,21,56,20,67,12)\n",
    "low = marks[0]\n",
    "for i in range(len(marks)):\n",
    "    if marks[i]< low:\n",
    "        pos=i\n",
    "        low = marks[i]\n",
    "print(\"Lowest Marks is\",low, \"Found at position \",pos)"
   ]
  },
  {
   "cell_type": "markdown",
   "metadata": {},
   "source": [
    "### Lists"
   ]
  },
  {
   "cell_type": "code",
   "execution_count": 40,
   "metadata": {},
   "outputs": [
    {
     "name": "stdout",
     "output_type": "stream",
     "text": [
      "[1, 3, 4, 'lol', 34.666]\n"
     ]
    },
    {
     "data": {
      "text/plain": [
       "list"
      ]
     },
     "execution_count": 40,
     "metadata": {},
     "output_type": "execute_result"
    }
   ],
   "source": [
    "l=[1,3,4,\"lol\",34.666]\n",
    "print(l)\n",
    "type(l)"
   ]
  },
  {
   "cell_type": "markdown",
   "metadata": {},
   "source": [
    "#### List Operations"
   ]
  },
  {
   "cell_type": "markdown",
   "metadata": {},
   "source": [
    "##### append\n",
    "adds the data at the end of the list\n",
    "\n",
    "#### list.append(new_data)"
   ]
  },
  {
   "cell_type": "code",
   "execution_count": 41,
   "metadata": {},
   "outputs": [
    {
     "name": "stdout",
     "output_type": "stream",
     "text": [
      "[1, 2, 3]\n",
      "[1, 2, 3, 4]\n"
     ]
    }
   ],
   "source": [
    "l = [1,2,3]\n",
    "print(l)\n",
    "l.append(4)\n",
    "print(l)"
   ]
  },
  {
   "cell_type": "markdown",
   "metadata": {},
   "source": [
    "##### remove\n",
    "\n",
    "removes the data\n",
    "\n",
    "##### list.remove(\"value\")"
   ]
  },
  {
   "cell_type": "code",
   "execution_count": 42,
   "metadata": {},
   "outputs": [
    {
     "name": "stdout",
     "output_type": "stream",
     "text": [
      "['oil', 'eggs', 'bread', 'sugar']\n",
      "['oil', 'bread', 'sugar']\n"
     ]
    }
   ],
   "source": [
    "l = [\"oil\",\"eggs\",\"bread\",\"sugar\"]\n",
    "print(l)\n",
    "l.remove(\"eggs\")\n",
    "print(l)"
   ]
  },
  {
   "cell_type": "markdown",
   "metadata": {},
   "source": [
    "#### pop\n",
    "\n",
    "##### list.pop(index)  => returns values"
   ]
  },
  {
   "cell_type": "code",
   "execution_count": 43,
   "metadata": {},
   "outputs": [
    {
     "name": "stdout",
     "output_type": "stream",
     "text": [
      "['oil', 'eggs', 'bread', 'sugar']\n",
      "eggs\n",
      "['oil', 'bread', 'sugar']\n"
     ]
    }
   ],
   "source": [
    "l = [\"oil\",\"eggs\",\"bread\",\"sugar\"]\n",
    "print(l)\n",
    "print(l.pop(1))\n",
    "print(l)"
   ]
  },
  {
   "cell_type": "markdown",
   "metadata": {},
   "source": [
    "#### insert\n",
    "\n",
    "##### list.insert(pos,value)"
   ]
  },
  {
   "cell_type": "code",
   "execution_count": 44,
   "metadata": {},
   "outputs": [
    {
     "name": "stdout",
     "output_type": "stream",
     "text": [
      "['oil', 'eggs', 'bread', 'sugar']\n",
      "['oil', 'eggs', 'milk', 'bread', 'sugar']\n"
     ]
    }
   ],
   "source": [
    "l = [\"oil\",\"eggs\",\"bread\",\"sugar\"]\n",
    "print(l)\n",
    "l.insert(2,\"milk\")\n",
    "print(l)"
   ]
  },
  {
   "cell_type": "markdown",
   "metadata": {},
   "source": [
    "### Dynamic List Creation"
   ]
  },
  {
   "cell_type": "code",
   "execution_count": 46,
   "metadata": {},
   "outputs": [
    {
     "name": "stdout",
     "output_type": "stream",
     "text": [
      "Enter the no of students: 1\n",
      "Enter The Name: Sagar\n",
      "['Sagar']\n"
     ]
    }
   ],
   "source": [
    "n = int(input(\"Enter the no of students: \"))\n",
    "stud=[]\n",
    "for i in range(n):\n",
    "    name = input(\"Enter The Name: \")\n",
    "    stud.append(name)\n",
    "print(stud)"
   ]
  },
  {
   "cell_type": "code",
   "execution_count": 47,
   "metadata": {},
   "outputs": [
    {
     "name": "stdout",
     "output_type": "stream",
     "text": [
      "Enter the no of students: 1\n",
      "Enter The Name: Priya\n",
      "Enter The Marks: 21\n",
      "[['Priya', '21']]\n"
     ]
    }
   ],
   "source": [
    "n = int(input(\"Enter the no of students: \"))\n",
    "stud=[]\n",
    "for i in range(n):\n",
    "    name = input(\"Enter The Name: \")\n",
    "    marks = input(\"Enter The Marks: \")\n",
    "    stud.append([name,marks])\n",
    "print(stud)"
   ]
  },
  {
   "cell_type": "code",
   "execution_count": 48,
   "metadata": {},
   "outputs": [
    {
     "name": "stdout",
     "output_type": "stream",
     "text": [
      "Enter the no of product you wanna buy: 1\n",
      "Enter Product: Milk\n",
      "Enter Price: 32\n",
      "[['Milk', 32]]\n"
     ]
    }
   ],
   "source": [
    "n = int(input(\"Enter the no of product you wanna buy: \"))\n",
    "prod=[]\n",
    "for i in range(n):\n",
    "    product = input(\"Enter Product: \")\n",
    "    price = int(input(\"Enter Price: \"))\n",
    "    prod.append([product,price])\n",
    "print(prod)"
   ]
  },
  {
   "cell_type": "markdown",
   "metadata": {},
   "source": [
    "### Membership Operator in Lec 1"
   ]
  },
  {
   "cell_type": "code",
   "execution_count": null,
   "metadata": {},
   "outputs": [
    {
     "name": "stdout",
     "output_type": "stream",
     "text": [
      "1. Add Items to the List\n",
      "2. Remove Items\n",
      "3. Bag\n",
      "4. Billing\n",
      "Enter Your Choie: 1\n",
      "Enter the no of product you wanna add: 3\n",
      "Enter Product: Sabzi\n",
      "Enter Price: 40\n",
      "Enter Product: Watermelon\n",
      "Enter Price: 60\n",
      "Enter Product: Pen\n",
      "Enter Price: 40\n",
      "[['Sabzi', 40], ['Watermelon', 60], ['Pen', 40]] Added\n",
      "[['Sabzi', 40], ['Watermelon', 60], ['Pen', 40]]\n",
      "Enter Your Choie: 2\n",
      "[['Sabzi', 40], ['Watermelon', 60], ['Pen', 40]]\n",
      "Enter the key you want to remove: Sabzi\n",
      "Item Not Found!!!\n",
      "Item Not Found!!!\n",
      "Item Not Found!!!\n"
     ]
    }
   ],
   "source": [
    "shop = [[\"oil\",90],[\"milk\",45],[\"suagr\",35]]\n",
    "print(\"1. Add Items to the List\")\n",
    "print(\"2. Remove Items\")\n",
    "print(\"3. Bag\")\n",
    "print(\"4. Billing\")\n",
    "choice = 0\n",
    "while(choice < 3):\n",
    "    choice = int(input(\"Enter Your Choie: \"))\n",
    "    if(choice==1):\n",
    "        print(shop)\n",
    "        n = int(input(\"Enter the no of product you wanna add: \"))\n",
    "        prod=[]\n",
    "        for i in range(n):\n",
    "            product = input(\"Enter Product: \")\n",
    "            price = int(input(\"Enter Price: \"))\n",
    "            prod.append([product,price])\n",
    "        print(prod, \"Added\")\n",
    "        print(prod)\n",
    "    elif(choice==2):\n",
    "        print(prod)\n",
    "        k = input(\"Enter the key you want to remove: \")\n",
    "        flag = 0\n",
    "        for i in range(len(prod)):\n",
    "            if prod[i]==k:\n",
    "                flag = 1\n",
    "                pos = i\n",
    "                break\n",
    "            if flag == 1:\n",
    "                print(\"Item Found at position\",pos)\n",
    "                prod.remove(k)\n",
    "            else:\n",
    "                print(\"Item Not Found!!!\")\n",
    "    elif(choice==3):\n",
    "        print(prod)\n",
    "        \n",
    "    else:\n",
    "        print(\"Invalid Choice\")"
   ]
  },
  {
   "cell_type": "code",
   "execution_count": null,
   "metadata": {},
   "outputs": [],
   "source": []
  },
  {
   "cell_type": "code",
   "execution_count": null,
   "metadata": {},
   "outputs": [],
   "source": [
    "shop = [[\"oil\",90],[\"milk\",45],[\"suagr\",35]]\n",
    "print(\"1. Add Items to the List\")\n",
    "print(\"2. Remove Items\")\n",
    "print(\"3. Bag\")\n",
    "print(\"4. Billing\")\n",
    "bag = []\n",
    "bill = []\n",
    "choice = 0\n",
    "while(choice < 3):\n",
    "    choice = int(input(\"Enter Your Choie: \"))\n",
    "    if(choice==1):\n",
    "        print(shop)\n",
    "        prod = input(\"Enter Product to buy: \")\n",
    "        for item in shop:\n",
    "            if prod == item[0]:\n",
    "                bag.append(item[0])\n",
    "                bill.append(item[1])\n",
    "                print(\"Item Added Successfully!\")\n",
    "                break\n",
    "            else:\n",
    "                print(\"Item Out Of Stock Currently\")\n",
    "    print(bag)\n",
    "    print(bill)\n",
    "    elif(choice== 2):\n",
    "        print(bag)\n",
    "        k = input(\"Enter the key you want to remove: \")\n",
    "        flag = 0\n",
    "        for i in range(len(bag)):\n",
    "            if bag[i]==k:\n",
    "                flag = 1\n",
    "                pos = i\n",
    "                break\n",
    "            if flag == 1:\n",
    "                print(\"Item Found at position\",pos)\n",
    "                bag.remove(k)\n",
    "                print(\"Item Removed\")\n",
    "            else:\n",
    "                print(\"Item Not Found!!!\")\n",
    "    elif(choice==3):\n",
    "        print(bag)\n",
    "    elif(choice==4):\n",
    "        print(bill)\n",
    "    else:\n",
    "        print(\"Invalid Choice!!\")\n",
    "        "
   ]
  },
  {
   "cell_type": "code",
   "execution_count": null,
   "metadata": {},
   "outputs": [],
   "source": []
  }
 ],
 "metadata": {
  "kernelspec": {
   "display_name": "Python 3",
   "language": "python",
   "name": "python3"
  },
  "language_info": {
   "codemirror_mode": {
    "name": "ipython",
    "version": 3
   },
   "file_extension": ".py",
   "mimetype": "text/x-python",
   "name": "python",
   "nbconvert_exporter": "python",
   "pygments_lexer": "ipython3",
   "version": "3.8.8"
  }
 },
 "nbformat": 4,
 "nbformat_minor": 4
}
