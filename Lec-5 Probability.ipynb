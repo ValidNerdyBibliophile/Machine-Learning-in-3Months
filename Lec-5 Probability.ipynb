{
 "cells": [
  {
   "cell_type": "markdown",
   "metadata": {},
   "source": [
    "## Probability\n",
    "\n",
    "- How likely an event will occur or happen"
   ]
  },
  {
   "cell_type": "markdown",
   "metadata": {},
   "source": [
    "### Terminologies\n",
    "\n",
    "- Experiment:\n",
    "    A repeatable procedure with a set of possible result. Eg: Throwing a dice\n",
    "- Sample Space:\n",
    "    All possible outcomes of an eperiment. Eg: choosing a card from a deck\n",
    "- Outcome:\n",
    "    A possible result of an experiment. Eg: Getting a 6\n",
    "- Sample Point:\n",
    "   Just one of the possible outcomes. Eg: The king of hearts is a sample point.\n",
    "- Event:\n",
    "    One or more outcomes of an experimnt. "
   ]
  },
  {
   "cell_type": "markdown",
   "metadata": {},
   "source": [
    "### Depedent Event\n",
    "    where what happens depends on what happened before, such as taking cards from a deck makes less cards each time\n",
    "    \n",
    "### Independent Event\n",
    "    these are not affected by previous events, such as each coin toss.\n",
    "    Probability of Independent Event can be calculated as _P = P(A) * P(B)_"
   ]
  },
  {
   "cell_type": "markdown",
   "metadata": {},
   "source": [
    "P(Flight Delay) = 0.2\n",
    "P(Flight Not Delay) = 1-0.2 =0.8\n",
    "\n",
    "P(Round Trip With  No Delay): 1st Trip = 0.8\n",
    "                            : 2nd Trip = 0.8\n",
    "                            = 0.64"
   ]
  },
  {
   "cell_type": "markdown",
   "metadata": {},
   "source": [
    "Ex 1: A coin is thrown 3 times. What is the probability that atleast on head is obtained?\n"
   ]
  },
  {
   "cell_type": "markdown",
   "metadata": {},
   "source": [
    "Ex 2: Find the probability of getting a numbered card when a card is drawn from the pack of 52 cards."
   ]
  },
  {
   "cell_type": "markdown",
   "metadata": {},
   "source": [
    "EX 3: There are 5 green balls and 7 red balls. Two balls are selected one by one without replacement. Find the probability that first is green and second is red"
   ]
  },
  {
   "cell_type": "markdown",
   "metadata": {},
   "source": [
    "Ex 4: What is the probability of getting a sum of 7 when two dice are thrown."
   ]
  },
  {
   "cell_type": "markdown",
   "metadata": {},
   "source": [
    "## Set\n",
    "  - Collection of unique elements\n",
    "  - Ordered Collection of Unique Elements\n",
    "  - Mutable object but elements are immutable.\n",
    "  - Can store string, int, bool, float and tuple\n",
    "  - Cant store list and dictionaries or even set either cause elements of sets are immutable"
   ]
  },
  {
   "cell_type": "markdown",
   "metadata": {},
   "source": [
    "to create an empty set\n",
    "\n",
    "we use the set method\n",
    "\n",
    "s = set()"
   ]
  },
  {
   "cell_type": "code",
   "execution_count": 1,
   "metadata": {},
   "outputs": [
    {
     "name": "stdout",
     "output_type": "stream",
     "text": [
      "{}\n",
      "<class 'dict'>\n",
      "set()\n",
      "<class 'set'>\n"
     ]
    }
   ],
   "source": [
    "s = {}\n",
    "print(s)\n",
    "print(type(s))\n",
    "\n",
    "s = set()\n",
    "print(s)\n",
    "print(type(s))"
   ]
  },
  {
   "cell_type": "code",
   "execution_count": 2,
   "metadata": {},
   "outputs": [
    {
     "name": "stdout",
     "output_type": "stream",
     "text": [
      "{1, 2, 3, 4, 5}\n"
     ]
    }
   ],
   "source": [
    "s = {1,2, 3, 4, 5, 5}\n",
    "print(s)"
   ]
  },
  {
   "cell_type": "code",
   "execution_count": 3,
   "metadata": {
    "scrolled": true
   },
   "outputs": [
    {
     "name": "stdout",
     "output_type": "stream",
     "text": [
      "{1, 2, 3, 4, 5, (6, 7, 8)}\n"
     ]
    }
   ],
   "source": [
    "s = {1,2, 3, 4, 5, 5,(6,7,8)}\n",
    "print(s)"
   ]
  },
  {
   "cell_type": "markdown",
   "metadata": {},
   "source": [
    "### Set Methods"
   ]
  },
  {
   "cell_type": "code",
   "execution_count": 4,
   "metadata": {},
   "outputs": [
    {
     "name": "stdout",
     "output_type": "stream",
     "text": [
      "{1, 2, 3, 4, 5, 9, (6, 7, 8)}\n"
     ]
    }
   ],
   "source": [
    "#add\n",
    "\n",
    "s.add(9)\n",
    "print(s)"
   ]
  },
  {
   "cell_type": "code",
   "execution_count": 6,
   "metadata": {},
   "outputs": [
    {
     "name": "stdout",
     "output_type": "stream",
     "text": [
      "{1, 2, 3, 4, 5, 6, 8, 9, 10, (6, 7, 8), 17}\n"
     ]
    }
   ],
   "source": [
    "#update - adds multiple elements\n",
    "\n",
    "s.update((6,17),[8,10])\n",
    "print(s)"
   ]
  },
  {
   "cell_type": "code",
   "execution_count": 7,
   "metadata": {},
   "outputs": [
    {
     "name": "stdout",
     "output_type": "stream",
     "text": [
      "{'b', 1, 2, 3, 4, 5, 6, 8, 9, 10, (6, 7, 8), 17, 'c', 'a'}\n"
     ]
    }
   ],
   "source": [
    "#update - adds multiple elements\n",
    "\n",
    "s.update(\"abc\")\n",
    "print(s)"
   ]
  },
  {
   "cell_type": "code",
   "execution_count": 8,
   "metadata": {},
   "outputs": [
    {
     "name": "stdout",
     "output_type": "stream",
     "text": [
      "{'b', 2, 3, 4, 5, 6, 8, 9, 10, (6, 7, 8), 17, 'c', 'a'}\n"
     ]
    }
   ],
   "source": [
    "#remove\n",
    "\n",
    "s.remove(1)\n",
    "print(s)"
   ]
  },
  {
   "cell_type": "code",
   "execution_count": 9,
   "metadata": {},
   "outputs": [
    {
     "name": "stdout",
     "output_type": "stream",
     "text": [
      "{'b', 2, 3, 4, 5, 6, 8, 9, (6, 7, 8), 17, 'c', 'a'}\n"
     ]
    }
   ],
   "source": [
    "#discard\n",
    "\n",
    "s.discard(10)\n",
    "print(s)"
   ]
  },
  {
   "cell_type": "markdown",
   "metadata": {},
   "source": [
    "### Set Operations"
   ]
  },
  {
   "cell_type": "code",
   "execution_count": 10,
   "metadata": {},
   "outputs": [],
   "source": [
    "A = {1,2,3,4,5}\n",
    "B = {4,5,6,7,8}"
   ]
  },
  {
   "cell_type": "markdown",
   "metadata": {},
   "source": [
    "### Union\n",
    " all elements are displayed, discarding the common elements if they are repeated."
   ]
  },
  {
   "cell_type": "code",
   "execution_count": 11,
   "metadata": {},
   "outputs": [
    {
     "name": "stdout",
     "output_type": "stream",
     "text": [
      "{1, 2, 3, 4, 5, 6, 7, 8}\n"
     ]
    }
   ],
   "source": [
    "print(A.union(B))"
   ]
  },
  {
   "cell_type": "markdown",
   "metadata": {},
   "source": [
    "### Intersection\n"
   ]
  },
  {
   "cell_type": "code",
   "execution_count": 12,
   "metadata": {},
   "outputs": [
    {
     "name": "stdout",
     "output_type": "stream",
     "text": [
      "{4, 5}\n"
     ]
    }
   ],
   "source": [
    "print(A.intersection(B))"
   ]
  },
  {
   "cell_type": "markdown",
   "metadata": {},
   "source": [
    "### Difference"
   ]
  },
  {
   "cell_type": "code",
   "execution_count": 13,
   "metadata": {},
   "outputs": [
    {
     "name": "stdout",
     "output_type": "stream",
     "text": [
      "{1, 2, 3}\n",
      "{8, 6, 7}\n"
     ]
    }
   ],
   "source": [
    "print(A.difference(B))\n",
    "print(B.difference(A))"
   ]
  },
  {
   "cell_type": "markdown",
   "metadata": {},
   "source": [
    "### Symmetric Difference\n",
    " - discards the common elements from both the sets."
   ]
  },
  {
   "cell_type": "code",
   "execution_count": 14,
   "metadata": {},
   "outputs": [
    {
     "name": "stdout",
     "output_type": "stream",
     "text": [
      "{1, 2, 3, 6, 7, 8}\n"
     ]
    }
   ],
   "source": [
    "print(A.symmetric_difference(B))"
   ]
  },
  {
   "cell_type": "code",
   "execution_count": null,
   "metadata": {},
   "outputs": [],
   "source": []
  }
 ],
 "metadata": {
  "kernelspec": {
   "display_name": "Python 3",
   "language": "python",
   "name": "python3"
  },
  "language_info": {
   "codemirror_mode": {
    "name": "ipython",
    "version": 3
   },
   "file_extension": ".py",
   "mimetype": "text/x-python",
   "name": "python",
   "nbconvert_exporter": "python",
   "pygments_lexer": "ipython3",
   "version": "3.8.5"
  }
 },
 "nbformat": 4,
 "nbformat_minor": 4
}
