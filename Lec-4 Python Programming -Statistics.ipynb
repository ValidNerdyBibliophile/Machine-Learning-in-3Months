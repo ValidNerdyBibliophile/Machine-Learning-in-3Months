{
 "cells": [
  {
   "cell_type": "markdown",
   "metadata": {},
   "source": [
    "# Statistics"
   ]
  },
  {
   "cell_type": "markdown",
   "metadata": {},
   "source": [
    "## Measure of Dispersion\n",
    "\n",
    "##### A way of describing how data is spread around an average value\n",
    "#### Eg: 55,57,55,58,56  -> Widely scattered Data (large difference between data values)\n",
    "#### Eg: 10,31,45,27,22 -> Tightly Clustered Data "
   ]
  },
  {
   "cell_type": "markdown",
   "metadata": {},
   "source": [
    "### Range"
   ]
  },
  {
   "cell_type": "markdown",
   "metadata": {},
   "source": [
    "##### The difference between the largest and the smallest value  in the data set\n",
    "\n",
    "###### Eg: 1,3,4,5,7,8,12,6 -> Range = 12-1 = 11"
   ]
  },
  {
   "cell_type": "markdown",
   "metadata": {},
   "source": [
    "### Mean Deviation\n",
    "\n",
    "##### Average of absolute difference from the mean is known as mean deviation \n",
    "1. Calculate the mean for the given data set\n",
    "2. Find out the absolute difference of each data value from mean\n",
    "3. Add all the values you calculated in second step and divide by total number of the data values\n"
   ]
  },
  {
   "cell_type": "markdown",
   "metadata": {},
   "source": [
    "### Variance\n",
    "\n",
    "##### The variance is the average of squared differences from the mean.\n",
    "1. Calculate the mean of data values\n",
    "2. Find out the abs diff of each data values from mean\n",
    "3. Square each abs diff you find\n",
    "4. Take the mean of all squared values from step 3"
   ]
  },
  {
   "cell_type": "markdown",
   "metadata": {},
   "source": [
    "### Standard Deviation\n",
    "\n",
    "##### The Standard Deviation is the square root of variance."
   ]
  },
  {
   "cell_type": "markdown",
   "metadata": {},
   "source": [
    "## Measures of Central Tendency"
   ]
  },
  {
   "cell_type": "markdown",
   "metadata": {},
   "source": [
    "### Mean\n",
    "\n",
    "#### Mean is the average of some data points. "
   ]
  },
  {
   "cell_type": "markdown",
   "metadata": {},
   "source": [
    "### Median\n",
    "\n",
    "#### Median is the numbebr at the center of a series after they are ordered in ascending or descending order"
   ]
  },
  {
   "cell_type": "markdown",
   "metadata": {},
   "source": [
    "### Mode\n",
    "\n",
    "#### Mode is the number with the most frequency or frequently occuring one. \n",
    "\n",
    "1. A distribution can have more than 1 mode as in the list [2,2,3,4,4], It's called bimodal ditribution\n",
    "2. A distribution can have more than 2 modes as in the list are called multimodal ditribution\n"
   ]
  },
  {
   "cell_type": "markdown",
   "metadata": {},
   "source": [
    "### Skewness\n",
    "\n",
    "#### Measures the symmetry or asymmetry of data.\n",
    "\n",
    "A distribution or data set is said to be symmetric if it looks the same to the left and right points of the center\n",
    "###### Types:\n",
    "1. Right skewness or Positive Skewness\n",
    "2. Left skewness or Negative Skewness\n",
    "\n",
    "##### Right Skewness\n",
    "A right skewed will have a long tail in the right direction  on the number line such that the mean of the total value of all data points will eventually go up\n",
    "\n",
    "##### Left Skewness\n",
    "A left skewed will have a long tail in the left direction  on the number line such that the mean of the total value of all data points will eventually go down\n"
   ]
  },
  {
   "cell_type": "code",
   "execution_count": null,
   "metadata": {},
   "outputs": [],
   "source": []
  }
 ],
 "metadata": {
  "kernelspec": {
   "display_name": "Python 3",
   "language": "python",
   "name": "python3"
  },
  "language_info": {
   "codemirror_mode": {
    "name": "ipython",
    "version": 3
   },
   "file_extension": ".py",
   "mimetype": "text/x-python",
   "name": "python",
   "nbconvert_exporter": "python",
   "pygments_lexer": "ipython3",
   "version": "3.8.5"
  }
 },
 "nbformat": 4,
 "nbformat_minor": 4
}
