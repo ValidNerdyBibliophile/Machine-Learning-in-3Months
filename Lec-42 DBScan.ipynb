{
 "cells": [
  {
   "cell_type": "markdown",
   "id": "38dde59d",
   "metadata": {},
   "source": [
    "### DBSCAN  (Density Based Spatial Clustering of  Application with Noise)"
   ]
  },
  {
   "cell_type": "markdown",
   "id": "f9af49ba",
   "metadata": {},
   "source": [
    "#### Drawbacks\n",
    "***KMean:*** Considers the outliers. So there is no mechanism to detect the outliers in KMeans.\n",
    "\n",
    "##### DBSCAN has the mechanism to detect the outliers.\n",
    "DBSCAN requires 2 parameters:\n",
    "- Epsilon\n",
    "- Minipoints\n",
    "\n",
    "***Epsilon:*** Radius of the circles which is created or drawn for every data points\n",
    "\n",
    "***Minipoints:*** Identifies core points, Border/Boundary Points, Noise.\n",
    "   \n",
    "- ```Core Points:``` A circle in which the data points should have atleast mini points or more than mini points in it\n",
    "    - If two core points say C1 and C2 comes in the same epsilon neighborhood, then we have a `density edge` connecting those and its called, ***Density Connected***\n",
    "    - If suppose, C1,C2,C3,C4 are conected, ie, C1 is connected to C2, C2 to C3, C3 to C4 then we can say C1 and C2 are directly Density Connected and C1 and C4 is indirectly reachable and hence density connected points.\n",
    "\n",
    "- ```Border Points:``` Has less points than the core point, contains atleast 1 Core Point and should be > 1\n",
    "\n",
    "- ```Noise Points:``` No core or border points in the circle\n",
    "\n",
    "### Steps\n",
    "- Give Epsilon and Minpoints\n",
    "- Find out core points and border points and Noise Points.\n",
    "- After identifying the points, we have to connect the core points to form the clusters. (checks if its in the epsilon neighborhood and if it is, then its connected by the density edge)\n",
    "- After forming the clusters, it assigns labels to the density clusters. (Based on the nearest core point's label, the border points are also labelled."
   ]
  },
  {
   "cell_type": "code",
   "execution_count": 1,
   "id": "d221eb0b",
   "metadata": {},
   "outputs": [],
   "source": [
    "import pandas as pd\n",
    "import numpy as np\n",
    "import seaborn as sns\n",
    "import matplotlib.pyplot as plt"
   ]
  },
  {
   "cell_type": "code",
   "execution_count": 4,
   "id": "dfe537ae",
   "metadata": {},
   "outputs": [],
   "source": [
    "df = pd.read_csv(\"mall.csv\", index_col = \"CustomerID\")"
   ]
  },
  {
   "cell_type": "code",
   "execution_count": 5,
   "id": "63d2362c",
   "metadata": {},
   "outputs": [
    {
     "data": {
      "text/html": [
       "<div>\n",
       "<style scoped>\n",
       "    .dataframe tbody tr th:only-of-type {\n",
       "        vertical-align: middle;\n",
       "    }\n",
       "\n",
       "    .dataframe tbody tr th {\n",
       "        vertical-align: top;\n",
       "    }\n",
       "\n",
       "    .dataframe thead th {\n",
       "        text-align: right;\n",
       "    }\n",
       "</style>\n",
       "<table border=\"1\" class=\"dataframe\">\n",
       "  <thead>\n",
       "    <tr style=\"text-align: right;\">\n",
       "      <th></th>\n",
       "      <th>Genre</th>\n",
       "      <th>Age</th>\n",
       "      <th>Annual_Income_(k$)</th>\n",
       "      <th>Spending_Score</th>\n",
       "    </tr>\n",
       "    <tr>\n",
       "      <th>CustomerID</th>\n",
       "      <th></th>\n",
       "      <th></th>\n",
       "      <th></th>\n",
       "      <th></th>\n",
       "    </tr>\n",
       "  </thead>\n",
       "  <tbody>\n",
       "    <tr>\n",
       "      <th>1</th>\n",
       "      <td>Male</td>\n",
       "      <td>19</td>\n",
       "      <td>15</td>\n",
       "      <td>39</td>\n",
       "    </tr>\n",
       "    <tr>\n",
       "      <th>2</th>\n",
       "      <td>Male</td>\n",
       "      <td>21</td>\n",
       "      <td>15</td>\n",
       "      <td>81</td>\n",
       "    </tr>\n",
       "    <tr>\n",
       "      <th>3</th>\n",
       "      <td>Female</td>\n",
       "      <td>20</td>\n",
       "      <td>16</td>\n",
       "      <td>6</td>\n",
       "    </tr>\n",
       "    <tr>\n",
       "      <th>4</th>\n",
       "      <td>Female</td>\n",
       "      <td>23</td>\n",
       "      <td>16</td>\n",
       "      <td>77</td>\n",
       "    </tr>\n",
       "    <tr>\n",
       "      <th>5</th>\n",
       "      <td>Female</td>\n",
       "      <td>31</td>\n",
       "      <td>17</td>\n",
       "      <td>40</td>\n",
       "    </tr>\n",
       "  </tbody>\n",
       "</table>\n",
       "</div>"
      ],
      "text/plain": [
       "             Genre  Age  Annual_Income_(k$)  Spending_Score\n",
       "CustomerID                                                 \n",
       "1             Male   19                  15              39\n",
       "2             Male   21                  15              81\n",
       "3           Female   20                  16               6\n",
       "4           Female   23                  16              77\n",
       "5           Female   31                  17              40"
      ]
     },
     "execution_count": 5,
     "metadata": {},
     "output_type": "execute_result"
    }
   ],
   "source": [
    "df.head()"
   ]
  },
  {
   "cell_type": "code",
   "execution_count": 6,
   "id": "9b7a73da",
   "metadata": {},
   "outputs": [],
   "source": [
    "df[\"Genre\"] = df[\"Genre\"].map({\"Male\":1, \"Female\":0})"
   ]
  },
  {
   "cell_type": "code",
   "execution_count": 7,
   "id": "dfd43aa6",
   "metadata": {},
   "outputs": [
    {
     "data": {
      "text/html": [
       "<div>\n",
       "<style scoped>\n",
       "    .dataframe tbody tr th:only-of-type {\n",
       "        vertical-align: middle;\n",
       "    }\n",
       "\n",
       "    .dataframe tbody tr th {\n",
       "        vertical-align: top;\n",
       "    }\n",
       "\n",
       "    .dataframe thead th {\n",
       "        text-align: right;\n",
       "    }\n",
       "</style>\n",
       "<table border=\"1\" class=\"dataframe\">\n",
       "  <thead>\n",
       "    <tr style=\"text-align: right;\">\n",
       "      <th></th>\n",
       "      <th>Genre</th>\n",
       "      <th>Age</th>\n",
       "      <th>Annual_Income_(k$)</th>\n",
       "      <th>Spending_Score</th>\n",
       "    </tr>\n",
       "    <tr>\n",
       "      <th>CustomerID</th>\n",
       "      <th></th>\n",
       "      <th></th>\n",
       "      <th></th>\n",
       "      <th></th>\n",
       "    </tr>\n",
       "  </thead>\n",
       "  <tbody>\n",
       "    <tr>\n",
       "      <th>1</th>\n",
       "      <td>1</td>\n",
       "      <td>19</td>\n",
       "      <td>15</td>\n",
       "      <td>39</td>\n",
       "    </tr>\n",
       "    <tr>\n",
       "      <th>2</th>\n",
       "      <td>1</td>\n",
       "      <td>21</td>\n",
       "      <td>15</td>\n",
       "      <td>81</td>\n",
       "    </tr>\n",
       "    <tr>\n",
       "      <th>3</th>\n",
       "      <td>0</td>\n",
       "      <td>20</td>\n",
       "      <td>16</td>\n",
       "      <td>6</td>\n",
       "    </tr>\n",
       "    <tr>\n",
       "      <th>4</th>\n",
       "      <td>0</td>\n",
       "      <td>23</td>\n",
       "      <td>16</td>\n",
       "      <td>77</td>\n",
       "    </tr>\n",
       "    <tr>\n",
       "      <th>5</th>\n",
       "      <td>0</td>\n",
       "      <td>31</td>\n",
       "      <td>17</td>\n",
       "      <td>40</td>\n",
       "    </tr>\n",
       "  </tbody>\n",
       "</table>\n",
       "</div>"
      ],
      "text/plain": [
       "            Genre  Age  Annual_Income_(k$)  Spending_Score\n",
       "CustomerID                                                \n",
       "1               1   19                  15              39\n",
       "2               1   21                  15              81\n",
       "3               0   20                  16               6\n",
       "4               0   23                  16              77\n",
       "5               0   31                  17              40"
      ]
     },
     "execution_count": 7,
     "metadata": {},
     "output_type": "execute_result"
    }
   ],
   "source": [
    "df.head()"
   ]
  },
  {
   "cell_type": "markdown",
   "id": "2387cd40",
   "metadata": {},
   "source": [
    "##### Minimum Points/Sample  = Dimension + 1 = 4+1 = 5"
   ]
  },
  {
   "cell_type": "code",
   "execution_count": 8,
   "id": "b439161e",
   "metadata": {},
   "outputs": [],
   "source": [
    "# kdsitance plot for epsilon\n",
    "from sklearn.neighbors import NearestNeighbors"
   ]
  },
  {
   "cell_type": "code",
   "execution_count": 9,
   "id": "1ba9d5bf",
   "metadata": {},
   "outputs": [],
   "source": [
    "n = NearestNeighbors(n_neighbors = 2) #taking two neighbors as we want distance between 2 neighbors.\n",
    "n_fit = n.fit(df)\n",
    "distance,index = n_fit.kneighbors(df)"
   ]
  },
  {
   "cell_type": "code",
   "execution_count": 12,
   "id": "84a9d68d",
   "metadata": {},
   "outputs": [],
   "source": [
    "distance = np.sort(distance, axis = 0)"
   ]
  },
  {
   "cell_type": "code",
   "execution_count": 13,
   "id": "f4f24ac0",
   "metadata": {},
   "outputs": [],
   "source": [
    "distance = distance[:,1]"
   ]
  },
  {
   "cell_type": "code",
   "execution_count": 16,
   "id": "d9a336ca",
   "metadata": {},
   "outputs": [
    {
     "data": {
      "text/plain": [
       "array([ 1.        ,  1.        ,  1.        ,  1.        ,  1.73205081,\n",
       "        1.73205081,  2.        ,  2.        ,  2.23606798,  2.23606798,\n",
       "        2.23606798,  2.23606798,  2.23606798,  2.23606798,  2.44948974,\n",
       "        2.44948974,  2.44948974,  2.44948974,  2.44948974,  2.64575131,\n",
       "        2.64575131,  2.64575131,  2.64575131,  3.        ,  3.        ,\n",
       "        3.        ,  3.        ,  3.        ,  3.        ,  3.        ,\n",
       "        3.        ,  3.16227766,  3.16227766,  3.16227766,  3.16227766,\n",
       "        3.31662479,  3.31662479,  3.46410162,  3.46410162,  3.46410162,\n",
       "        3.60555128,  3.60555128,  3.60555128,  3.74165739,  3.74165739,\n",
       "        3.74165739,  3.74165739,  3.74165739,  3.74165739,  3.74165739,\n",
       "        3.74165739,  3.74165739,  3.74165739,  3.87298335,  3.87298335,\n",
       "        4.12310563,  4.12310563,  4.12310563,  4.24264069,  4.24264069,\n",
       "        4.24264069,  4.24264069,  4.24264069,  4.24264069,  4.24264069,\n",
       "        4.24264069,  4.24264069,  4.35889894,  4.35889894,  4.35889894,\n",
       "        4.47213595,  4.47213595,  4.47213595,  4.47213595,  4.47213595,\n",
       "        4.47213595,  4.47213595,  4.47213595,  4.47213595,  4.58257569,\n",
       "        4.58257569,  4.58257569,  4.69041576,  4.69041576,  4.69041576,\n",
       "        4.69041576,  4.69041576,  4.89897949,  5.        ,  5.        ,\n",
       "        5.09901951,  5.19615242,  5.19615242,  5.19615242,  5.19615242,\n",
       "        5.19615242,  5.19615242,  5.19615242,  5.19615242,  5.19615242,\n",
       "        5.19615242,  5.19615242,  5.29150262,  5.29150262,  5.38516481,\n",
       "        5.38516481,  5.38516481,  5.38516481,  5.47722558,  5.47722558,\n",
       "        5.56776436,  5.74456265,  5.74456265,  5.83095189,  5.83095189,\n",
       "        5.83095189,  5.91607978,  6.        ,  6.08276253,  6.164414  ,\n",
       "        6.164414  ,  6.244998  ,  6.244998  ,  6.40312424,  6.40312424,\n",
       "        6.40312424,  6.4807407 ,  6.55743852,  6.55743852,  6.70820393,\n",
       "        7.        ,  7.        ,  7.        ,  7.07106781,  7.07106781,\n",
       "        7.07106781,  7.21110255,  7.28010989,  7.28010989,  7.28010989,\n",
       "        7.28010989,  7.28010989,  7.34846923,  7.34846923,  7.41619849,\n",
       "        7.41619849,  7.48331477,  7.54983444,  7.54983444,  7.54983444,\n",
       "        7.61577311,  7.61577311,  7.61577311,  7.61577311,  7.61577311,\n",
       "        7.68114575,  7.81024968,  7.81024968,  7.81024968,  7.87400787,\n",
       "        7.87400787,  7.87400787,  7.93725393,  7.93725393,  8.06225775,\n",
       "        8.06225775,  8.1240384 ,  8.18535277,  8.30662386,  8.30662386,\n",
       "        8.36660027,  8.42614977,  8.42614977,  9.        ,  9.11043358,\n",
       "        9.11043358,  9.16515139,  9.16515139,  9.16515139,  9.21954446,\n",
       "        9.2736185 ,  9.32737905,  9.89949494, 10.04987562, 10.19803903,\n",
       "       10.24695077, 10.72380529, 11.40175425, 11.74734012, 11.83215957,\n",
       "       12.24744871, 12.4498996 , 13.03840481, 13.19090596, 13.56465997,\n",
       "       13.56465997, 14.35270009, 15.13274595, 15.68438714, 19.77371993])"
      ]
     },
     "execution_count": 16,
     "metadata": {},
     "output_type": "execute_result"
    }
   ],
   "source": [
    "distance"
   ]
  },
  {
   "cell_type": "code",
   "execution_count": 19,
   "id": "3d7ea371",
   "metadata": {},
   "outputs": [
    {
     "data": {
      "text/plain": [
       "Text(0.5, 0, 'Distance')"
      ]
     },
     "execution_count": 19,
     "metadata": {},
     "output_type": "execute_result"
    },
    {
     "data": {
      "image/png": "[encoded data removed]",
      "text/plain": [
       "<Figure size 432x288 with 1 Axes>"
      ]
     },
     "metadata": {
      "needs_background": "light"
     },
     "output_type": "display_data"
    }
   ],
   "source": [
    "plt.plot(distance)\n",
    "plt.ylabel(\"Epsilon\")\n",
    "plt.xlabel(\"Distance\")"
   ]
  },
  {
   "cell_type": "code",
   "execution_count": 21,
   "id": "ca375622",
   "metadata": {},
   "outputs": [
    {
     "data": {
      "text/plain": [
       "DBSCAN(eps=9)"
      ]
     },
     "execution_count": 21,
     "metadata": {},
     "output_type": "execute_result"
    }
   ],
   "source": [
    "# The point we getting the elbow is taken as epsilon value. In our case, let's  take it as 9. Epsilon = 9\n",
    "\n",
    "from sklearn.cluster import DBSCAN\n",
    "model = DBSCAN(eps = 9, min_samples = 5)\n",
    "model.fit(df)\n"
   ]
  },
  {
   "cell_type": "code",
   "execution_count": 23,
   "id": "acf10942",
   "metadata": {},
   "outputs": [
    {
     "data": {
      "text/plain": [
       "array([-1,  0, -1,  0, -1,  0, -1, -1, -1,  0, -1, -1, -1,  0, -1,  0, -1,\n",
       "       -1, -1, -1, -1,  0, -1,  0, -1, -1, -1, -1, -1, -1, -1,  0, -1, -1,\n",
       "       -1, -1, -1, -1, -1, -1, -1, -1,  2,  1, -1, -1,  2,  1,  1,  1,  2,\n",
       "        1,  1,  2,  2,  2,  2,  2,  1,  2,  2,  1,  2,  2,  2,  1,  2,  2,\n",
       "        1,  1,  2,  2,  2,  2,  2,  1,  2,  2,  1,  2,  2,  2, -1,  2,  1,\n",
       "        2,  2,  1, -1,  2,  3,  1,  2,  2,  2,  1,  2,  1,  2,  1,  1,  2,\n",
       "        3,  1,  2,  1,  3,  2,  3,  3,  3,  1,  2,  1,  1,  1,  3,  2,  2,\n",
       "        2,  1,  2, -1, -1, -1,  4, -1, -1, -1,  4, -1,  4, -1,  4, -1,  4,\n",
       "       -1,  4, -1,  4, -1,  4, -1,  4, -1,  4, -1,  4, -1,  4, -1,  4, -1,\n",
       "        4, -1,  4, -1,  4, -1,  4, -1,  4, -1,  4, -1,  4, -1,  4, -1, -1,\n",
       "       -1, -1, -1,  4, -1,  4, -1, -1, -1,  4, -1,  4, -1,  4, -1, -1, -1,\n",
       "       -1, -1, -1, -1, -1, -1, -1, -1, -1, -1, -1, -1, -1], dtype=int64)"
      ]
     },
     "execution_count": 23,
     "metadata": {},
     "output_type": "execute_result"
    }
   ],
   "source": [
    "model.labels_"
   ]
  },
  {
   "cell_type": "code",
   "execution_count": 25,
   "id": "8f3e0e05",
   "metadata": {},
   "outputs": [],
   "source": [
    "x = df[[\"Annual_Income_(k$)\",\"Spending_Score\"]]"
   ]
  },
  {
   "cell_type": "code",
   "execution_count": 28,
   "id": "64919927",
   "metadata": {},
   "outputs": [
    {
     "data": {
      "text/plain": [
       "Text(0.5, 0, 'Distance')"
      ]
     },
     "execution_count": 28,
     "metadata": {},
     "output_type": "execute_result"
    },
    {
     "data": {
      "image/png": "[encoded data removed]",
      "text/plain": [
       "<Figure size 432x288 with 1 Axes>"
      ]
     },
     "metadata": {
      "needs_background": "light"
     },
     "output_type": "display_data"
    }
   ],
   "source": [
    "n = NearestNeighbors(n_neighbors = 2)\n",
    "n_fit = n.fit(x)\n",
    "distance,index = n_fit.kneighbors(x)\n",
    "distance = np.sort(distance, axis = 0)\n",
    "distance = distance[:,1]\n",
    "plt.plot(distance)\n",
    "plt.ylabel(\"Epsilon\")\n",
    "plt.xlabel(\"Distance\")"
   ]
  },
  {
   "cell_type": "code",
   "execution_count": 33,
   "id": "2752697a",
   "metadata": {},
   "outputs": [
    {
     "data": {
      "text/plain": [
       "array([-1,  1,  0,  1, -1,  1,  0, -1,  0,  1,  2, -1,  2,  1,  2,  1,  3,\n",
       "       -1, -1, -1,  3,  4, -1,  4,  5, -1,  3, -1,  3, -1, -1,  4, -1, -1,\n",
       "        5, -1,  5,  4, -1,  4, -1, -1, -1,  6, -1,  6,  6,  6,  6,  6,  6,\n",
       "        6,  6,  6,  6,  6,  6,  6,  6,  6,  6,  6,  6,  6,  6,  6,  6,  6,\n",
       "        6,  6,  6,  6,  6,  6,  6,  6,  6,  6,  6,  6,  6,  6,  6,  6,  6,\n",
       "        6,  6,  6,  6,  6,  6,  6,  6,  6,  6,  6,  6,  6,  6,  6,  6,  6,\n",
       "        6,  6,  6,  6,  6,  6,  6,  6,  6,  6,  6,  6,  6,  6,  6,  6,  6,\n",
       "        6,  6,  6,  6,  7, -1,  8, -1,  7,  9,  8,  9,  8, -1,  8,  9,  7,\n",
       "        9,  8,  9,  8,  9,  7, 10,  7,  9,  7, 10,  8,  9,  7,  9,  7,  9,\n",
       "        8,  9,  7,  9,  8,  9,  8, 10,  7,  9,  7, -1, -1, -1, -1, -1, -1,\n",
       "       11, -1, 11, -1, 11, -1, 11, -1, -1, -1, -1, -1, -1, -1, -1, -1, -1,\n",
       "       -1, -1, -1, -1, -1, -1, -1, -1, -1, -1, -1, -1, -1], dtype=int64)"
      ]
     },
     "execution_count": 33,
     "metadata": {},
     "output_type": "execute_result"
    }
   ],
   "source": [
    "from sklearn.cluster import DBSCAN\n",
    "model = DBSCAN(eps =5, min_samples = 3)\n",
    "model.fit(x)\n",
    "model.labels_"
   ]
  },
  {
   "cell_type": "code",
   "execution_count": 34,
   "id": "6b80eb1c",
   "metadata": {},
   "outputs": [
    {
     "data": {
      "text/plain": [
       "<matplotlib.collections.PathCollection at 0x266fbcd5250>"
      ]
     },
     "execution_count": 34,
     "metadata": {},
     "output_type": "execute_result"
    },
    {
     "data": {
      "image/png": "[encoded data removed]",
      "text/plain": [
       "<Figure size 432x288 with 1 Axes>"
      ]
     },
     "metadata": {
      "needs_background": "light"
     },
     "output_type": "display_data"
    }
   ],
   "source": [
    "plt.scatter(df[\"Annual_Income_(k$)\"],df[\"Spending_Score\"])"
   ]
  },
  {
   "cell_type": "code",
   "execution_count": 35,
   "id": "8fc01a1a",
   "metadata": {},
   "outputs": [
    {
     "data": {
      "text/plain": [
       "<matplotlib.collections.PathCollection at 0x266fbd23f70>"
      ]
     },
     "execution_count": 35,
     "metadata": {},
     "output_type": "execute_result"
    },
    {
     "data": {
      "image/png": "[encoded data removed]",
      "text/plain": [
       "<Figure size 432x288 with 1 Axes>"
      ]
     },
     "metadata": {
      "needs_background": "light"
     },
     "output_type": "display_data"
    }
   ],
   "source": [
    "plt.scatter(df[\"Annual_Income_(k$)\"],df[\"Spending_Score\"], c =  model.labels_)"
   ]
  },
  {
   "cell_type": "code",
   "execution_count": null,
   "id": "42dea21b",
   "metadata": {},
   "outputs": [],
   "source": []
  },
  {
   "cell_type": "code",
   "execution_count": null,
   "id": "206e80a2",
   "metadata": {},
   "outputs": [],
   "source": []
  }
 ],
 "metadata": {
  "kernelspec": {
   "display_name": "Python 3",
   "language": "python",
   "name": "python3"
  },
  "language_info": {
   "codemirror_mode": {
    "name": "ipython",
    "version": 3
   },
   "file_extension": ".py",
   "mimetype": "text/x-python",
   "name": "python",
   "nbconvert_exporter": "python",
   "pygments_lexer": "ipython3",
   "version": "3.8.8"
  }
 },
 "nbformat": 4,
 "nbformat_minor": 5
}
