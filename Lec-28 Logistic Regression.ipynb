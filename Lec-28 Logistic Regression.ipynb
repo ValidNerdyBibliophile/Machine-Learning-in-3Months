{
 "cells": [
  {
   "cell_type": "markdown",
   "id": "processed-globe",
   "metadata": {},
   "source": [
    "So we basially know ***Supervised Learning*** and ***Unsupervised Learning*** \n",
    "\n",
    "In ***Supervised Learning*** \n",
    "- Regression (Predict contiuous values on basis on independent and dependent) \n",
    "    - Linear Regression\n",
    "    - Lasso Regression\n",
    "    - Ridge Regression\n",
    "- Classification (Classify data type in similar category)\n",
    "    - Binary Logistic Regression"
   ]
  },
  {
   "cell_type": "markdown",
   "id": "inappropriate-programmer",
   "metadata": {},
   "source": [
    "#### Classification\n",
    "\n",
    "- Suppose we have StudentMarks and on basis on that, we classify them into Pass and Fail\n",
    "\n",
    "- Suppose we have weight, we can classify that into obese and not obese\n"
   ]
  },
  {
   "cell_type": "markdown",
   "id": "freelance-column",
   "metadata": {},
   "source": [
    "#### Why do we need Logistic Regression??\n",
    "\n",
    "On the basis of the data, it is gonna change a best fit line everytime and if there is any outlier, there'll be no efficiency in the o/p.\n",
    "\n",
    "To deal with this Outlier issue, we are going to use Stigmoid function = 1/1+e^-x. \n",
    "Sigmoid Function takes any real values between 0 and 1 and gives us an output in 0 and 1, And when we plot it, it gives us S shape curve."
   ]
  },
  {
   "cell_type": "markdown",
   "id": "public-polls",
   "metadata": {},
   "source": [
    "### Logistic Regression  \n",
    "- x-> Independent variable -> continuous\n",
    "- y-> dependent variable -> categorical or binary categories (0,1)\n",
    "\n",
    "P(X) = 1/ 1+e^-(B0 + B1X)"
   ]
  },
  {
   "cell_type": "code",
   "execution_count": 1,
   "id": "indian-aaron",
   "metadata": {},
   "outputs": [],
   "source": [
    "import pandas as pd\n",
    "import numpy as np\n",
    "import matplotlib.pyplot as plt\n",
    "import seaborn as sns"
   ]
  },
  {
   "cell_type": "code",
   "execution_count": 2,
   "id": "practical-ethiopia",
   "metadata": {},
   "outputs": [],
   "source": [
    "data = pd.read_csv(\"diabetes.csv\")"
   ]
  },
  {
   "cell_type": "code",
   "execution_count": 3,
   "id": "royal-catholic",
   "metadata": {},
   "outputs": [
    {
     "data": {
      "text/html": [
       "<div>\n",
       "<style scoped>\n",
       "    .dataframe tbody tr th:only-of-type {\n",
       "        vertical-align: middle;\n",
       "    }\n",
       "\n",
       "    .dataframe tbody tr th {\n",
       "        vertical-align: top;\n",
       "    }\n",
       "\n",
       "    .dataframe thead th {\n",
       "        text-align: right;\n",
       "    }\n",
       "</style>\n",
       "<table border=\"1\" class=\"dataframe\">\n",
       "  <thead>\n",
       "    <tr style=\"text-align: right;\">\n",
       "      <th></th>\n",
       "      <th>Pregnancies</th>\n",
       "      <th>Glucose</th>\n",
       "      <th>BloodPressure</th>\n",
       "      <th>SkinThickness</th>\n",
       "      <th>Insulin</th>\n",
       "      <th>BMI</th>\n",
       "      <th>DiabetesPedigreeFunction</th>\n",
       "      <th>Age</th>\n",
       "      <th>Outcome</th>\n",
       "    </tr>\n",
       "  </thead>\n",
       "  <tbody>\n",
       "    <tr>\n",
       "      <th>0</th>\n",
       "      <td>6</td>\n",
       "      <td>148</td>\n",
       "      <td>72</td>\n",
       "      <td>35</td>\n",
       "      <td>0</td>\n",
       "      <td>33.6</td>\n",
       "      <td>0.627</td>\n",
       "      <td>50</td>\n",
       "      <td>1</td>\n",
       "    </tr>\n",
       "    <tr>\n",
       "      <th>1</th>\n",
       "      <td>1</td>\n",
       "      <td>85</td>\n",
       "      <td>66</td>\n",
       "      <td>29</td>\n",
       "      <td>0</td>\n",
       "      <td>26.6</td>\n",
       "      <td>0.351</td>\n",
       "      <td>31</td>\n",
       "      <td>0</td>\n",
       "    </tr>\n",
       "    <tr>\n",
       "      <th>2</th>\n",
       "      <td>8</td>\n",
       "      <td>183</td>\n",
       "      <td>64</td>\n",
       "      <td>0</td>\n",
       "      <td>0</td>\n",
       "      <td>23.3</td>\n",
       "      <td>0.672</td>\n",
       "      <td>32</td>\n",
       "      <td>1</td>\n",
       "    </tr>\n",
       "    <tr>\n",
       "      <th>3</th>\n",
       "      <td>1</td>\n",
       "      <td>89</td>\n",
       "      <td>66</td>\n",
       "      <td>23</td>\n",
       "      <td>94</td>\n",
       "      <td>28.1</td>\n",
       "      <td>0.167</td>\n",
       "      <td>21</td>\n",
       "      <td>0</td>\n",
       "    </tr>\n",
       "    <tr>\n",
       "      <th>4</th>\n",
       "      <td>0</td>\n",
       "      <td>137</td>\n",
       "      <td>40</td>\n",
       "      <td>35</td>\n",
       "      <td>168</td>\n",
       "      <td>43.1</td>\n",
       "      <td>2.288</td>\n",
       "      <td>33</td>\n",
       "      <td>1</td>\n",
       "    </tr>\n",
       "  </tbody>\n",
       "</table>\n",
       "</div>"
      ],
      "text/plain": [
       "   Pregnancies  Glucose  BloodPressure  SkinThickness  Insulin   BMI  \\\n",
       "0            6      148             72             35        0  33.6   \n",
       "1            1       85             66             29        0  26.6   \n",
       "2            8      183             64              0        0  23.3   \n",
       "3            1       89             66             23       94  28.1   \n",
       "4            0      137             40             35      168  43.1   \n",
       "\n",
       "   DiabetesPedigreeFunction  Age  Outcome  \n",
       "0                     0.627   50        1  \n",
       "1                     0.351   31        0  \n",
       "2                     0.672   32        1  \n",
       "3                     0.167   21        0  \n",
       "4                     2.288   33        1  "
      ]
     },
     "execution_count": 3,
     "metadata": {},
     "output_type": "execute_result"
    }
   ],
   "source": [
    "data.head()"
   ]
  },
  {
   "cell_type": "code",
   "execution_count": 4,
   "id": "danish-freedom",
   "metadata": {},
   "outputs": [
    {
     "name": "stdout",
     "output_type": "stream",
     "text": [
      "<class 'pandas.core.frame.DataFrame'>\n",
      "RangeIndex: 768 entries, 0 to 767\n",
      "Data columns (total 9 columns):\n",
      " #   Column                    Non-Null Count  Dtype  \n",
      "---  ------                    --------------  -----  \n",
      " 0   Pregnancies               768 non-null    int64  \n",
      " 1   Glucose                   768 non-null    int64  \n",
      " 2   BloodPressure             768 non-null    int64  \n",
      " 3   SkinThickness             768 non-null    int64  \n",
      " 4   Insulin                   768 non-null    int64  \n",
      " 5   BMI                       768 non-null    float64\n",
      " 6   DiabetesPedigreeFunction  768 non-null    float64\n",
      " 7   Age                       768 non-null    int64  \n",
      " 8   Outcome                   768 non-null    int64  \n",
      "dtypes: float64(2), int64(7)\n",
      "memory usage: 54.1 KB\n"
     ]
    }
   ],
   "source": [
    "data.info()"
   ]
  },
  {
   "cell_type": "code",
   "execution_count": 5,
   "id": "unusual-piano",
   "metadata": {},
   "outputs": [
    {
     "data": {
      "text/plain": [
       "Pregnancies                 0\n",
       "Glucose                     0\n",
       "BloodPressure               0\n",
       "SkinThickness               0\n",
       "Insulin                     0\n",
       "BMI                         0\n",
       "DiabetesPedigreeFunction    0\n",
       "Age                         0\n",
       "Outcome                     0\n",
       "dtype: int64"
      ]
     },
     "execution_count": 5,
     "metadata": {},
     "output_type": "execute_result"
    }
   ],
   "source": [
    "data.isnull().sum()"
   ]
  },
  {
   "cell_type": "code",
   "execution_count": 6,
   "id": "focal-peter",
   "metadata": {
    "scrolled": true
   },
   "outputs": [
    {
     "data": {
      "text/html": [
       "<div>\n",
       "<style scoped>\n",
       "    .dataframe tbody tr th:only-of-type {\n",
       "        vertical-align: middle;\n",
       "    }\n",
       "\n",
       "    .dataframe tbody tr th {\n",
       "        vertical-align: top;\n",
       "    }\n",
       "\n",
       "    .dataframe thead th {\n",
       "        text-align: right;\n",
       "    }\n",
       "</style>\n",
       "<table border=\"1\" class=\"dataframe\">\n",
       "  <thead>\n",
       "    <tr style=\"text-align: right;\">\n",
       "      <th></th>\n",
       "      <th>Pregnancies</th>\n",
       "      <th>Glucose</th>\n",
       "      <th>BloodPressure</th>\n",
       "      <th>SkinThickness</th>\n",
       "      <th>Insulin</th>\n",
       "      <th>BMI</th>\n",
       "      <th>DiabetesPedigreeFunction</th>\n",
       "      <th>Age</th>\n",
       "      <th>Outcome</th>\n",
       "    </tr>\n",
       "  </thead>\n",
       "  <tbody>\n",
       "    <tr>\n",
       "      <th>count</th>\n",
       "      <td>768.000000</td>\n",
       "      <td>768.000000</td>\n",
       "      <td>768.000000</td>\n",
       "      <td>768.000000</td>\n",
       "      <td>768.000000</td>\n",
       "      <td>768.000000</td>\n",
       "      <td>768.000000</td>\n",
       "      <td>768.000000</td>\n",
       "      <td>768.000000</td>\n",
       "    </tr>\n",
       "    <tr>\n",
       "      <th>mean</th>\n",
       "      <td>3.845052</td>\n",
       "      <td>120.894531</td>\n",
       "      <td>69.105469</td>\n",
       "      <td>20.536458</td>\n",
       "      <td>79.799479</td>\n",
       "      <td>31.992578</td>\n",
       "      <td>0.471876</td>\n",
       "      <td>33.240885</td>\n",
       "      <td>0.348958</td>\n",
       "    </tr>\n",
       "    <tr>\n",
       "      <th>std</th>\n",
       "      <td>3.369578</td>\n",
       "      <td>31.972618</td>\n",
       "      <td>19.355807</td>\n",
       "      <td>15.952218</td>\n",
       "      <td>115.244002</td>\n",
       "      <td>7.884160</td>\n",
       "      <td>0.331329</td>\n",
       "      <td>11.760232</td>\n",
       "      <td>0.476951</td>\n",
       "    </tr>\n",
       "    <tr>\n",
       "      <th>min</th>\n",
       "      <td>0.000000</td>\n",
       "      <td>0.000000</td>\n",
       "      <td>0.000000</td>\n",
       "      <td>0.000000</td>\n",
       "      <td>0.000000</td>\n",
       "      <td>0.000000</td>\n",
       "      <td>0.078000</td>\n",
       "      <td>21.000000</td>\n",
       "      <td>0.000000</td>\n",
       "    </tr>\n",
       "    <tr>\n",
       "      <th>25%</th>\n",
       "      <td>1.000000</td>\n",
       "      <td>99.000000</td>\n",
       "      <td>62.000000</td>\n",
       "      <td>0.000000</td>\n",
       "      <td>0.000000</td>\n",
       "      <td>27.300000</td>\n",
       "      <td>0.243750</td>\n",
       "      <td>24.000000</td>\n",
       "      <td>0.000000</td>\n",
       "    </tr>\n",
       "    <tr>\n",
       "      <th>50%</th>\n",
       "      <td>3.000000</td>\n",
       "      <td>117.000000</td>\n",
       "      <td>72.000000</td>\n",
       "      <td>23.000000</td>\n",
       "      <td>30.500000</td>\n",
       "      <td>32.000000</td>\n",
       "      <td>0.372500</td>\n",
       "      <td>29.000000</td>\n",
       "      <td>0.000000</td>\n",
       "    </tr>\n",
       "    <tr>\n",
       "      <th>75%</th>\n",
       "      <td>6.000000</td>\n",
       "      <td>140.250000</td>\n",
       "      <td>80.000000</td>\n",
       "      <td>32.000000</td>\n",
       "      <td>127.250000</td>\n",
       "      <td>36.600000</td>\n",
       "      <td>0.626250</td>\n",
       "      <td>41.000000</td>\n",
       "      <td>1.000000</td>\n",
       "    </tr>\n",
       "    <tr>\n",
       "      <th>max</th>\n",
       "      <td>17.000000</td>\n",
       "      <td>199.000000</td>\n",
       "      <td>122.000000</td>\n",
       "      <td>99.000000</td>\n",
       "      <td>846.000000</td>\n",
       "      <td>67.100000</td>\n",
       "      <td>2.420000</td>\n",
       "      <td>81.000000</td>\n",
       "      <td>1.000000</td>\n",
       "    </tr>\n",
       "  </tbody>\n",
       "</table>\n",
       "</div>"
      ],
      "text/plain": [
       "       Pregnancies     Glucose  BloodPressure  SkinThickness     Insulin  \\\n",
       "count   768.000000  768.000000     768.000000     768.000000  768.000000   \n",
       "mean      3.845052  120.894531      69.105469      20.536458   79.799479   \n",
       "std       3.369578   31.972618      19.355807      15.952218  115.244002   \n",
       "min       0.000000    0.000000       0.000000       0.000000    0.000000   \n",
       "25%       1.000000   99.000000      62.000000       0.000000    0.000000   \n",
       "50%       3.000000  117.000000      72.000000      23.000000   30.500000   \n",
       "75%       6.000000  140.250000      80.000000      32.000000  127.250000   \n",
       "max      17.000000  199.000000     122.000000      99.000000  846.000000   \n",
       "\n",
       "              BMI  DiabetesPedigreeFunction         Age     Outcome  \n",
       "count  768.000000                768.000000  768.000000  768.000000  \n",
       "mean    31.992578                  0.471876   33.240885    0.348958  \n",
       "std      7.884160                  0.331329   11.760232    0.476951  \n",
       "min      0.000000                  0.078000   21.000000    0.000000  \n",
       "25%     27.300000                  0.243750   24.000000    0.000000  \n",
       "50%     32.000000                  0.372500   29.000000    0.000000  \n",
       "75%     36.600000                  0.626250   41.000000    1.000000  \n",
       "max     67.100000                  2.420000   81.000000    1.000000  "
      ]
     },
     "execution_count": 6,
     "metadata": {},
     "output_type": "execute_result"
    }
   ],
   "source": [
    "data.describe()"
   ]
  },
  {
   "cell_type": "markdown",
   "id": "natural-louis",
   "metadata": {},
   "source": [
    "### Visualization"
   ]
  },
  {
   "cell_type": "code",
   "execution_count": 7,
   "id": "behavioral-extension",
   "metadata": {},
   "outputs": [
    {
     "data": {
      "text/plain": [
       "<AxesSubplot:xlabel='Pregnancies', ylabel='count'>"
      ]
     },
     "execution_count": 7,
     "metadata": {},
     "output_type": "execute_result"
    },
    {
     "data": {
      "image/png": "[encoded data removed]",
      "text/plain": [
       "<Figure size 432x288 with 1 Axes>"
      ]
     },
     "metadata": {
      "needs_background": "light"
     },
     "output_type": "display_data"
    }
   ],
   "source": [
    "sns.countplot(x= \"Pregnancies\", data=data)"
   ]
  },
  {
   "cell_type": "code",
   "execution_count": 8,
   "id": "noble-might",
   "metadata": {},
   "outputs": [
    {
     "data": {
      "text/plain": [
       "<seaborn.axisgrid.FacetGrid at 0x260657dce50>"
      ]
     },
     "execution_count": 8,
     "metadata": {},
     "output_type": "execute_result"
    },
    {
     "data": {
      "image/png": "[encoded data removed]",
      "text/plain": [
       "<Figure size 360x360 with 1 Axes>"
      ]
     },
     "metadata": {
      "needs_background": "light"
     },
     "output_type": "display_data"
    }
   ],
   "source": [
    "sns.catplot(data = data, x =\"Outcome\", kind = \"count\")"
   ]
  },
  {
   "cell_type": "code",
   "execution_count": 9,
   "id": "innovative-excitement",
   "metadata": {},
   "outputs": [
    {
     "data": {
      "text/plain": [
       "<AxesSubplot:>"
      ]
     },
     "execution_count": 9,
     "metadata": {},
     "output_type": "execute_result"
    },
    {
     "data": {
      "image/png": "[encoded data removed]",
      "text/plain": [
       "<Figure size 432x288 with 2 Axes>"
      ]
     },
     "metadata": {
      "needs_background": "light"
     },
     "output_type": "display_data"
    }
   ],
   "source": [
    "sns.heatmap(data.corr(), annot = True)"
   ]
  },
  {
   "cell_type": "markdown",
   "id": "faced-function",
   "metadata": {},
   "source": [
    "The Insulin and SkinThickness measurements are not highly correlated with any given outcome."
   ]
  },
  {
   "cell_type": "markdown",
   "id": "soviet-ability",
   "metadata": {},
   "source": [
    "- 1  -> positive corrrelation\n",
    "- 0  -> No correlation\n",
    "- -1 -> Negtive Correlation"
   ]
  },
  {
   "cell_type": "code",
   "execution_count": 10,
   "id": "forced-growth",
   "metadata": {},
   "outputs": [],
   "source": [
    "x = data.drop(columns =[\"Outcome\"])\n",
    "y = data[\"Outcome\"]"
   ]
  },
  {
   "cell_type": "code",
   "execution_count": 11,
   "id": "instant-movement",
   "metadata": {},
   "outputs": [],
   "source": [
    "from sklearn.model_selection import train_test_split"
   ]
  },
  {
   "cell_type": "code",
   "execution_count": 12,
   "id": "reported-haven",
   "metadata": {},
   "outputs": [],
   "source": [
    "xtrain,xtest,ytrain,ytest = train_test_split(x,y, test_size = 0.2, random_state = 0)"
   ]
  },
  {
   "cell_type": "code",
   "execution_count": 13,
   "id": "organized-playing",
   "metadata": {},
   "outputs": [],
   "source": [
    "#0 -> not diabetic\n",
    "#1 -> is diabetic\n",
    "\n",
    "from sklearn.linear_model import LogisticRegression"
   ]
  },
  {
   "cell_type": "code",
   "execution_count": 14,
   "id": "optical-decrease",
   "metadata": {},
   "outputs": [],
   "source": [
    "model = LogisticRegression()"
   ]
  },
  {
   "cell_type": "code",
   "execution_count": 15,
   "id": "foreign-subscriber",
   "metadata": {},
   "outputs": [
    {
     "name": "stderr",
     "output_type": "stream",
     "text": [
      "C:\\Users\\tejas\\anaconda3\\lib\\site-packages\\sklearn\\linear_model\\_logistic.py:763: ConvergenceWarning: lbfgs failed to converge (status=1):\n",
      "STOP: TOTAL NO. of ITERATIONS REACHED LIMIT.\n",
      "\n",
      "Increase the number of iterations (max_iter) or scale the data as shown in:\n",
      "    https://scikit-learn.org/stable/modules/preprocessing.html\n",
      "Please also refer to the documentation for alternative solver options:\n",
      "    https://scikit-learn.org/stable/modules/linear_model.html#logistic-regression\n",
      "  n_iter_i = _check_optimize_result(\n"
     ]
    },
    {
     "data": {
      "text/plain": [
       "LogisticRegression()"
      ]
     },
     "execution_count": 15,
     "metadata": {},
     "output_type": "execute_result"
    }
   ],
   "source": [
    "model.fit(xtrain,ytrain)"
   ]
  },
  {
   "cell_type": "code",
   "execution_count": 16,
   "id": "known-annual",
   "metadata": {},
   "outputs": [],
   "source": [
    "ypred = model.predict(xtest)"
   ]
  },
  {
   "cell_type": "code",
   "execution_count": 17,
   "id": "greatest-colors",
   "metadata": {},
   "outputs": [
    {
     "data": {
      "text/plain": [
       "array([1, 0, 0, 1, 0, 0, 1, 1, 0, 0, 1, 1, 0, 0, 0, 0, 1, 0, 0, 0, 1, 0,\n",
       "       0, 0, 0, 0, 0, 1, 0, 0, 0, 0, 0, 0, 0, 1, 0, 0, 0, 1, 0, 0, 0, 1,\n",
       "       1, 0, 0, 0, 0, 0, 0, 0, 1, 0, 0, 0, 0, 1, 0, 0, 1, 0, 0, 1, 1, 1,\n",
       "       1, 0, 0, 0, 0, 0, 0, 1, 1, 0, 0, 1, 0, 0, 0, 0, 0, 0, 0, 0, 0, 0,\n",
       "       1, 0, 0, 0, 0, 0, 1, 0, 0, 1, 1, 0, 0, 0, 0, 0, 1, 0, 0, 0, 0, 1,\n",
       "       0, 0, 1, 0, 1, 1, 0, 1, 0, 1, 0, 0, 0, 0, 0, 0, 0, 0, 0, 0, 0, 0,\n",
       "       0, 1, 0, 0, 0, 0, 1, 0, 0, 1, 0, 0, 0, 0, 0, 0, 0, 0, 0, 1, 0, 0],\n",
       "      dtype=int64)"
      ]
     },
     "execution_count": 17,
     "metadata": {},
     "output_type": "execute_result"
    }
   ],
   "source": [
    "ypred"
   ]
  },
  {
   "cell_type": "code",
   "execution_count": 18,
   "id": "geological-wisconsin",
   "metadata": {},
   "outputs": [
    {
     "data": {
      "text/plain": [
       "0.8246753246753247"
      ]
     },
     "execution_count": 18,
     "metadata": {},
     "output_type": "execute_result"
    }
   ],
   "source": [
    "from sklearn.metrics import accuracy_score\n",
    "\n",
    "acs = accuracy_score(ytest,ypred)\n",
    "acs"
   ]
  },
  {
   "cell_type": "markdown",
   "id": "requested-boston",
   "metadata": {},
   "source": [
    "### Confusion Matrix\n",
    "- ***true positives (TP)***: These are cases in which we predicted having diabetes, and the test showed the patient is diabetes.\n",
    "- ***false positives (FP)***: We predicted diabetes hai, but they don't actually have diabetes (Also known as a \"Type I error.\")\n",
    "- ***false negatives (FN)***: We predicted diabetes nahi hai, but they actually do have the diabetes (Also known as a \"Type II error.\")\n",
    "- ***true negatives (TN)***: We predicted non diabetic, and they are non diabetic."
   ]
  },
  {
   "cell_type": "code",
   "execution_count": 19,
   "id": "modified-fence",
   "metadata": {},
   "outputs": [
    {
     "data": {
      "text/plain": [
       "<AxesSubplot:>"
      ]
     },
     "execution_count": 19,
     "metadata": {},
     "output_type": "execute_result"
    },
    {
     "data": {
      "image/png": "[encoded data removed]",
      "text/plain": [
       "<Figure size 432x288 with 2 Axes>"
      ]
     },
     "metadata": {
      "needs_background": "light"
     },
     "output_type": "display_data"
    }
   ],
   "source": [
    "from sklearn.metrics import confusion_matrix\n",
    "\n",
    "cnm = confusion_matrix(ytest,ypred)\n",
    "sns.heatmap(cnm,annot = True)"
   ]
  },
  {
   "cell_type": "markdown",
   "id": "seasonal-briefs",
   "metadata": {},
   "source": [
    "- Calculating Accuracy : Overall Performace of a Model \n",
    "    - TP + TN / TP + FN + FP + TN = TP + TN / Total\n",
    "    \n",
    "- Recall: How accurate possitive predictions were? \n",
    "    - TP / TP + FN   (Value should be high)\n",
    "    \n",
    "- Precision: How many are actual positive values\n",
    "    - TP / TP + FP\n",
    "    \n",
    "- F-measure: To get precision recall measure at same time\n",
    "    - 2 x Recall x Precision / Recall + Precision"
   ]
  },
  {
   "cell_type": "code",
   "execution_count": 20,
   "id": "divided-muscle",
   "metadata": {},
   "outputs": [
    {
     "data": {
      "text/plain": [
       "'              precision    recall  f1-score   support\\n\\n           0       0.84      0.92      0.88       107\\n           1       0.76      0.62      0.68        47\\n\\n    accuracy                           0.82       154\\n   macro avg       0.80      0.77      0.78       154\\nweighted avg       0.82      0.82      0.82       154\\n'"
      ]
     },
     "execution_count": 20,
     "metadata": {},
     "output_type": "execute_result"
    }
   ],
   "source": [
    "from sklearn.metrics import classification_report\n",
    "classification_report(ytest, ypred)"
   ]
  },
  {
   "cell_type": "markdown",
   "id": "premium-trading",
   "metadata": {},
   "source": [
    "### AUC-ROC\n",
    "\n",
    "#### ROC: Curve of Probabillity\n",
    "False Positive Rate vs True Positive Rate\n",
    "#### AUC: Degree of Seperability\n",
    "Used to tell the performance how good your model can classify your data point.\n",
    "\n",
    "ROC -> FPR, TPR\n",
    "\n",
    "- ***AUC SHOULD BE HIGH*** :  curve should be a curve\n",
    "    - AUC = 1 -> Model is good\n",
    "    - AUC = 0 -> Model cant classify the data points. \n",
    "\n",
    "- **AUC IS NOT GOOD** if the curve is a slant line or straight line."
   ]
  },
  {
   "cell_type": "code",
   "execution_count": 21,
   "id": "confidential-clause",
   "metadata": {},
   "outputs": [],
   "source": [
    "from sklearn import metrics"
   ]
  },
  {
   "cell_type": "code",
   "execution_count": 22,
   "id": "constant-workplace",
   "metadata": {},
   "outputs": [],
   "source": [
    "#Here we are finding the probability of the o/p coming 0 and 1 for xtest So the first columns is probabaility of 0, and second value is probablity of getting 1\n",
    "ypred_prob = model.predict_proba(xtest)  \n",
    "#ypred_prob"
   ]
  },
  {
   "cell_type": "code",
   "execution_count": 23,
   "id": "monthly-prediction",
   "metadata": {},
   "outputs": [
    {
     "data": {
      "text/plain": [
       "array([0.96299168, 0.17073293, 0.10176827, 0.62083858, 0.12917603,\n",
       "       0.03957535, 0.74301387, 0.84021768, 0.38880301, 0.34334566,\n",
       "       0.57536927, 0.9576819 , 0.27423769, 0.17793259, 0.11883378,\n",
       "       0.16326408, 0.86182123, 0.0288031 , 0.39566321, 0.25732157,\n",
       "       0.66496398, 0.45160238, 0.23295357, 0.06081031, 0.05328301,\n",
       "       0.38014436, 0.04828824, 0.90630857, 0.11840735, 0.15138527,\n",
       "       0.44167842, 0.25974035, 0.0973934 , 0.46086763, 0.10771667,\n",
       "       0.72609413, 0.44227726, 0.09056167, 0.34501231, 0.75945202,\n",
       "       0.29841178, 0.23838359, 0.16242653, 0.84141718, 0.72120094,\n",
       "       0.00890452, 0.08971137, 0.20788318, 0.35840712, 0.32010158,\n",
       "       0.41632724, 0.20070159, 0.87176089, 0.48762432, 0.14129356,\n",
       "       0.00278531, 0.06218446, 0.58114118, 0.29974208, 0.07634903,\n",
       "       0.71130499, 0.47183145, 0.11995454, 0.74964902, 0.71163135,\n",
       "       0.91005018, 0.71927396, 0.14472665, 0.36598585, 0.10783938,\n",
       "       0.13794143, 0.42192075, 0.1037552 , 0.95343925, 0.8672858 ,\n",
       "       0.33548512, 0.10590929, 0.61974755, 0.07193223, 0.19359913,\n",
       "       0.33886971, 0.39626099, 0.21099809, 0.03322601, 0.2101894 ,\n",
       "       0.22891105, 0.31249919, 0.42390263, 0.87007515, 0.20149317,\n",
       "       0.16995303, 0.19077356, 0.2429256 , 0.04184909, 0.63468161,\n",
       "       0.1969296 , 0.42538151, 0.5250905 , 0.57498254, 0.24585968,\n",
       "       0.25941943, 0.09764649, 0.23174601, 0.03899873, 0.649469  ,\n",
       "       0.36512117, 0.1406478 , 0.31935049, 0.04253341, 0.76956664,\n",
       "       0.1111706 , 0.29975925, 0.63127621, 0.39500405, 0.53735069,\n",
       "       0.62386125, 0.11344598, 0.66928246, 0.10750611, 0.73655389,\n",
       "       0.37838626, 0.33659502, 0.29620364, 0.4298012 , 0.22802279,\n",
       "       0.0495691 , 0.32619418, 0.35996953, 0.46326871, 0.39519235,\n",
       "       0.37527391, 0.04047833, 0.06053683, 0.75190699, 0.29217923,\n",
       "       0.3856313 , 0.14356422, 0.39298442, 0.68997929, 0.21410093,\n",
       "       0.09471272, 0.53917013, 0.07599939, 0.07717576, 0.35188911,\n",
       "       0.09307686, 0.07428075, 0.08807583, 0.13838185, 0.18773067,\n",
       "       0.08339905, 0.6898052 , 0.10794866, 0.18122552])"
      ]
     },
     "execution_count": 23,
     "metadata": {},
     "output_type": "execute_result"
    }
   ],
   "source": [
    " #to get all the probabilities of 1, we slice the ypred_prob, by saying we need all rows (:) nd only 1st column(that has probabilty of getting 1)\n",
    "ypred_prob = model.predict_proba(xtest)[:,1] \n",
    "ypred_prob"
   ]
  },
  {
   "cell_type": "code",
   "execution_count": 24,
   "id": "continental-circus",
   "metadata": {},
   "outputs": [],
   "source": [
    "fpr,tpr,_= metrics.roc_curve(ytest,ypred_prob)"
   ]
  },
  {
   "cell_type": "code",
   "execution_count": 25,
   "id": "accurate-pearl",
   "metadata": {},
   "outputs": [
    {
     "data": {
      "text/plain": [
       "<matplotlib.legend.Legend at 0x260679c7ca0>"
      ]
     },
     "execution_count": 25,
     "metadata": {},
     "output_type": "execute_result"
    },
    {
     "data": {
      "image/png": "[encoded data removed]",
      "text/plain": [
       "<Figure size 432x288 with 1 Axes>"
      ]
     },
     "metadata": {
      "needs_background": "light"
     },
     "output_type": "display_data"
    }
   ],
   "source": [
    "auc = metrics.roc_auc_score(ytest,ypred_prob)\n",
    "plt.plot(fpr,tpr, label = \"roc_curve\")\n",
    "plt.xlabel(\"FPR\")\n",
    "plt.ylabel(\"TPR\")\n",
    "plt.legend()"
   ]
  },
  {
   "cell_type": "code",
   "execution_count": 26,
   "id": "balanced-peeing",
   "metadata": {},
   "outputs": [
    {
     "data": {
      "text/plain": [
       "0.8665738715450388"
      ]
     },
     "execution_count": 26,
     "metadata": {},
     "output_type": "execute_result"
    }
   ],
   "source": [
    "auc"
   ]
  },
  {
   "cell_type": "code",
   "execution_count": null,
   "id": "every-notebook",
   "metadata": {},
   "outputs": [],
   "source": []
  }
 ],
 "metadata": {
  "kernelspec": {
   "display_name": "Python 3",
   "language": "python",
   "name": "python3"
  },
  "language_info": {
   "codemirror_mode": {
    "name": "ipython",
    "version": 3
   },
   "file_extension": ".py",
   "mimetype": "text/x-python",
   "name": "python",
   "nbconvert_exporter": "python",
   "pygments_lexer": "ipython3",
   "version": "3.8.8"
  }
 },
 "nbformat": 4,
 "nbformat_minor": 5
}
