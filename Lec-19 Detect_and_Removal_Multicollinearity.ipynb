{
 "cells": [
  {
   "cell_type": "markdown",
   "metadata": {
    "id": "w6vHU8lr2HYt"
   },
   "source": [
    "### The Problem with having Multicollinearity\n",
    "\n",
    "Multicollinearity can be a problem in a regression model because we would not be able to distinguish between the individual effects of the independent variables on the dependent variable. For example, let’s assume that in the following linear equation:\n",
    "\n",
    "Y = W0+W1*X1+W2*X2\n",
    "\n",
    "Coefficient W1 is the increase in Y for a unit increase in X1 while keeping X2 constant. But since X1 and X2 are highly correlated, changes in X1 would also cause changes in X2 and we would not be able to see their individual effect on Y.\n",
    "\n",
    "\n",
    "What causes Multicollinearity?\n",
    "\n",
    "Multicollinearity could occur due to the following problems:\n",
    "\n",
    "    Multicollinearity could exist because of the problems in the dataset at the time of creation. These problems could be because of poorly designed experiments, highly observational data, or the inability to manipulate the data:\n",
    "        For example, determining the electricity consumption of a household from the household income and the number of electrical appliances. Here, we know that the number of electrical appliances in a household will increase with household income. However, this cannot be removed from the dataset\n",
    "\n",
    "    Multicollinearity could also occur when new variables are created which are dependent on other variables:\n",
    "        For example, creating a variable for BMI from the height and weight variables would include redundant information in the model\n",
    "\n",
    "    Including identical variables in the dataset:\n",
    "        For example, including variables for temperature in Fahrenheit and temperature in Celsius\n",
    "\n",
    "    Inaccurate use of dummy variables can also cause a multicollinearity problem. This is called the Dummy variable trap:\n",
    "        For example, in a dataset containing the status of marriage variable with two unique values: ‘married’, ’single’. Creating dummy variables for both of them would include redundant information. We can make do with only one variable containing 0/1 for ‘married’/’single’ status.\n",
    "\n",
    "    Insufficient data in some cases can also cause multicollinearity problems\n"
   ]
  },
  {
   "cell_type": "code",
   "execution_count": null,
   "metadata": {
    "id": "__BkTe2R2HZB"
   },
   "outputs": [],
   "source": [
    "import pandas as pd\n",
    "import numpy as np\n",
    "import matplotlib.pyplot as plt\n",
    "import seaborn as sns"
   ]
  },
  {
   "cell_type": "code",
   "execution_count": null,
   "metadata": {
    "id": "fljetVIv2HZD"
   },
   "outputs": [],
   "source": [
    "df=pd.read_csv(\"Data/housing.csv\")"
   ]
  },
  {
   "cell_type": "code",
   "execution_count": null,
   "metadata": {
    "id": "bgYQj70G2HZE"
   },
   "outputs": [],
   "source": [
    "#df[\"Close\"]=df[\"Close\"].apply(lambda x:float(x.replace(\",\",\"\")))\n",
    "#df[\"Volume\"]=df[\"Volume\"].apply(lambda x:float(x.replace(\",\",\"\")))"
   ]
  },
  {
   "cell_type": "code",
   "execution_count": null,
   "metadata": {
    "id": "-6QvsVWM2HZE",
    "outputId": "1c34674f-2c6e-4f9c-aa7c-6c1e5da35f69"
   },
   "outputs": [
    {
     "data": {
      "text/html": [
       "<div>\n",
       "<style scoped>\n",
       "    .dataframe tbody tr th:only-of-type {\n",
       "        vertical-align: middle;\n",
       "    }\n",
       "\n",
       "    .dataframe tbody tr th {\n",
       "        vertical-align: top;\n",
       "    }\n",
       "\n",
       "    .dataframe thead th {\n",
       "        text-align: right;\n",
       "    }\n",
       "</style>\n",
       "<table border=\"1\" class=\"dataframe\">\n",
       "  <thead>\n",
       "    <tr style=\"text-align: right;\">\n",
       "      <th></th>\n",
       "      <th>RM</th>\n",
       "      <th>LSTAT</th>\n",
       "      <th>PTRATIO</th>\n",
       "      <th>MEDV</th>\n",
       "    </tr>\n",
       "  </thead>\n",
       "  <tbody>\n",
       "    <tr>\n",
       "      <th>0</th>\n",
       "      <td>6.575</td>\n",
       "      <td>4.98</td>\n",
       "      <td>15.3</td>\n",
       "      <td>504000.0</td>\n",
       "    </tr>\n",
       "    <tr>\n",
       "      <th>1</th>\n",
       "      <td>6.421</td>\n",
       "      <td>9.14</td>\n",
       "      <td>17.8</td>\n",
       "      <td>453600.0</td>\n",
       "    </tr>\n",
       "    <tr>\n",
       "      <th>2</th>\n",
       "      <td>7.185</td>\n",
       "      <td>4.03</td>\n",
       "      <td>17.8</td>\n",
       "      <td>728700.0</td>\n",
       "    </tr>\n",
       "    <tr>\n",
       "      <th>3</th>\n",
       "      <td>6.998</td>\n",
       "      <td>2.94</td>\n",
       "      <td>18.7</td>\n",
       "      <td>701400.0</td>\n",
       "    </tr>\n",
       "    <tr>\n",
       "      <th>4</th>\n",
       "      <td>7.147</td>\n",
       "      <td>5.33</td>\n",
       "      <td>18.7</td>\n",
       "      <td>760200.0</td>\n",
       "    </tr>\n",
       "  </tbody>\n",
       "</table>\n",
       "</div>"
      ],
      "text/plain": [
       "      RM  LSTAT  PTRATIO      MEDV\n",
       "0  6.575   4.98     15.3  504000.0\n",
       "1  6.421   9.14     17.8  453600.0\n",
       "2  7.185   4.03     17.8  728700.0\n",
       "3  6.998   2.94     18.7  701400.0\n",
       "4  7.147   5.33     18.7  760200.0"
      ]
     },
     "execution_count": 4,
     "metadata": {
      "tags": []
     },
     "output_type": "execute_result"
    }
   ],
   "source": [
    "df.head()"
   ]
  },
  {
   "cell_type": "markdown",
   "metadata": {
    "id": "K6s-8dhC2HZG"
   },
   "source": [
    "Multicollinearity can be detected via various methods. In this article, we will focus on the most common one – VIF (Variable Inflation Factors).\n",
    "\n",
    "R^2 value is determined to find out how well an independent variable is described by the other independent variables. A high value of R^2 means that the variable is highly correlated with the other variables. This is captured by the VIF which is denoted below:\n",
    "![image.png](attachment:image.png)\n",
    "\n",
    "So, the closer the R^2 value to 1, the higher the value of VIF and the higher the multicollinearity with the particular independent variable"
   ]
  },
  {
   "cell_type": "code",
   "execution_count": null,
   "metadata": {
    "id": "0fJW7KFs2HZH"
   },
   "outputs": [],
   "source": [
    "from statsmodels.stats.outliers_influence import variance_inflation_factor\n",
    "\n",
    "def get_vif(df):\n",
    "    d={}\n",
    "    for i in range(df.shape[1]):\n",
    "        d[df.columns[i]]=variance_inflation_factor(df.values,i)\n",
    "    return d"
   ]
  },
  {
   "cell_type": "code",
   "execution_count": null,
   "metadata": {
    "id": "dyxWgKhG2HZI",
    "outputId": "2df5fa82-0cee-4af2-e1e2-67a06e028cb1"
   },
   "outputs": [
    {
     "data": {
      "text/plain": [
       "{'RM': 118.38808961936905,\n",
       " 'LSTAT': 8.209014631871819,\n",
       " 'PTRATIO': 64.57550325995534,\n",
       " 'MEDV': 28.218939396203833}"
      ]
     },
     "execution_count": 6,
     "metadata": {
      "tags": []
     },
     "output_type": "execute_result"
    }
   ],
   "source": [
    "\n",
    "X=df\n",
    "get_vif(X)"
   ]
  },
  {
   "cell_type": "markdown",
   "metadata": {
    "id": "XodNeRyO2HZJ"
   },
   "source": [
    "\n",
    "    VIF starts at 1 and has no upper limit\n",
    "    VIF = 1, no correlation between the independent variable and the other variables\n",
    "    VIF exceeding 5 or 10 indicates high multicollinearity between this independent variable and the others\n"
   ]
  },
  {
   "cell_type": "markdown",
   "metadata": {
    "id": "jH8PU8042HZK"
   },
   "source": [
    "### Fixing Multicollinearity\n",
    "\n",
    "Dropping one of the correlated features will help in bringing down the multicollinearity between correlated features:"
   ]
  },
  {
   "cell_type": "code",
   "execution_count": null,
   "metadata": {
    "id": "dcHJlSRE2HZK",
    "outputId": "0ff02ef6-f4bf-466c-9fbb-40f1b23e939a"
   },
   "outputs": [
    {
     "data": {
      "text/plain": [
       "{'LSTAT': 1.9604587582843342, 'MEDV': 1.9604587582843342}"
      ]
     },
     "execution_count": 7,
     "metadata": {
      "tags": []
     },
     "output_type": "execute_result"
    }
   ],
   "source": [
    "X = df.drop(columns=[\"RM\",\"PTRATIO\"])\n",
    "get_vif(X)"
   ]
  }
 ],
 "metadata": {
  "colab": {
   "name": "Detect and Removal Multicollinearity.ipynb",
   "provenance": []
  },
  "kernelspec": {
   "display_name": "Python 3",
   "language": "python",
   "name": "python3"
  },
  "language_info": {
   "codemirror_mode": {
    "name": "ipython",
    "version": 3
   },
   "file_extension": ".py",
   "mimetype": "text/x-python",
   "name": "python",
   "nbconvert_exporter": "python",
   "pygments_lexer": "ipython3",
   "version": "3.8.8"
  }
 },
 "nbformat": 4,
 "nbformat_minor": 1
}
